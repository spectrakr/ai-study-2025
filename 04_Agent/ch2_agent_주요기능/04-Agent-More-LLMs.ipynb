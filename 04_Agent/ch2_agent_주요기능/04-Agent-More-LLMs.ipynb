{
 "cells": [
  {
   "cell_type": "markdown",
   "metadata": {},
   "source": [
    "# OpenAI 외 도구 호출 에이전트(Tool Calling Agent)\n",
    "\n",
    "OpenAI 외에도 `Anthropic`, `Google Gemini`, `Together.ai`, `Ollama`, `Mistral`과 같은 더 광범위한 공급자 구현을 지원합니다.\n",
    "\n",
    "이번 챕터에서는 다양한 LLM 을 사용하여 도구 호출 에이전트를 생성하고 실행하는 방법을 살펴보겠습니다.\n",
    "\n",
    "**참고 링크**\n",
    "\n",
    "- [LangChain 공식 도큐먼트](https://python.langchain.com/v0.1/docs/modules/agents/agent_types/tool_calling/)"
   ]
  },
  {
   "cell_type": "code",
   "metadata": {
    "ExecuteTime": {
     "end_time": "2025-03-27T21:40:01.515440Z",
     "start_time": "2025-03-27T21:40:01.504824Z"
    }
   },
   "source": [
    "# API 키를 환경변수로 관리하기 위한 설정 파일\n",
    "from dotenv import load_dotenv\n",
    "\n",
    "# API 키 정보 로드\n",
    "load_dotenv()"
   ],
   "outputs": [
    {
     "data": {
      "text/plain": [
       "True"
      ]
     },
     "execution_count": 47,
     "metadata": {},
     "output_type": "execute_result"
    }
   ],
   "execution_count": 47
  },
  {
   "metadata": {
    "ExecuteTime": {
     "end_time": "2025-03-27T21:46:39.571673Z",
     "start_time": "2025-03-27T21:46:39.555539Z"
    }
   },
   "cell_type": "code",
   "source": [
    "from datetime import datetime\n",
    "import requests\n",
    "from langchain.tools import tool\n",
    "\n",
    "\n",
    "# 도구 정의\n",
    "@tool\n",
    "def get_current_time():\n",
    "    \"\"\"Use this to get current date or time\"\"\"\n",
    "    return datetime.now()\n",
    "\n",
    "@tool\n",
    "def search_dayoff(start_date: str, end_date: str) -> str:\n",
    "    \"\"\"\n",
    "    특정 날짜의 휴가 일정을 조회합니다.\n",
    "\n",
    "    Args:\n",
    "        start_date (str): 시작일, YYYY-MM-DD 형식의 날짜 (예: 2024-01-01)\n",
    "        end_date (str): 종료일, YYYY-MM-DD 형식의 날짜 (예: 2024-01-01)\n",
    "\n",
    "    Returns:\n",
    "        str: 해당 날짜의 휴가 일정 정보\n",
    "    \"\"\"\n",
    "    try:\n",
    "        url = \"http://172.16.120.203:9201/flex_dayoff_calendar/_search\"\n",
    "        body = {\"query\": {\"range\": {\"date\": {\"gte\": start_date, \"lte\": end_date}}}}\n",
    "        response = requests.post(url, json=body)\n",
    "\n",
    "        if response.status_code == 200:\n",
    "            data = response.json()\n",
    "            hits = data.get(\"hits\", {}).get(\"hits\", [])\n",
    "            \n",
    "            if hits:\n",
    "                result = []\n",
    "                for hit in hits:\n",
    "                    source = hit.get(\"_source\", {})\n",
    "                    result.append(\n",
    "                        f\"[날짜] {source.get('date', '정보 없음')}\\n \"\n",
    "                        f\"[휴가자] {source.get('text', '정보 없음')}, \"\n",
    "                    )\n",
    "                return \"\\n\".join(result)\n",
    "            else:\n",
    "                return f\"해당하는 휴가 일정이 없습니다.\"\n",
    "        else:\n",
    "            return f\"API 호출 실패: HTTP {response.status_code}\"\n",
    "\n",
    "    except ValueError:\n",
    "        return \"잘못된 날짜 형식입니다. YYYY-MM-DD 형식으로 입력해주세요.\"\n",
    "    except Exception as e:\n",
    "        return f\"오류가 발생했습니다: {str(e)}\""
   ],
   "outputs": [],
   "execution_count": 58
  },
  {
   "metadata": {
    "ExecuteTime": {
     "end_time": "2025-03-27T21:50:22.551919Z",
     "start_time": "2025-03-27T21:50:22.530237Z"
    }
   },
   "cell_type": "code",
   "source": "search_dayoff.invoke({\"start_date\": \"2025-03-28\", \"end_date\": \"2025-03-28\"})",
   "outputs": [
    {
     "data": {
      "text/plain": [
       "\"[날짜] 2025-03-28\\n [휴가자] ['🌴 [정지훈] 휴가', '🌴 [김재윤] 휴가', '🌴 [서정현] 휴가', '🌴 [허광일] 휴가', '🌴 [이승엽] 휴가 - 4:00\\\\u202fPM ~ 6:00\\\\u202fPM', '🌴 [박정균] 휴가 - 4:00\\\\u202fPM ~ 6:00\\\\u202fPM', '🌴 [유희서] 휴가', '🌴 [이준희] 휴가 - 11:30\\\\u202fAM ~ 4:30\\\\u202fPM', '🌴 [노용주] 휴가', '🌴 [천규리] 휴가', '🌴 [윤현상] 휴가 - 4:00\\\\u202fPM ~ 6:00\\\\u202fPM', '🌴 [김선숙] 휴가 - 2:30\\\\u202fPM ~ 4:30\\\\u202fPM', '🌴 [최봉근] 휴가 - 2:30\\\\u202fPM ~ 4:30\\\\u202fPM'], \""
      ]
     },
     "execution_count": 66,
     "metadata": {},
     "output_type": "execute_result"
    }
   ],
   "execution_count": 66
  },
  {
   "cell_type": "code",
   "metadata": {
    "ExecuteTime": {
     "end_time": "2025-03-27T21:40:06.848567Z",
     "start_time": "2025-03-27T21:40:06.846332Z"
    }
   },
   "source": [
    "# tools 정의\n",
    "tools = [get_current_time, search_dayoff]"
   ],
   "outputs": [],
   "execution_count": 50
  },
  {
   "cell_type": "markdown",
   "metadata": {},
   "source": [
    "## Agent 용 프롬프트 생성\n",
    "\n",
    "- `chat_history` : 이전 대화 내용을 저장하는 변수 (멀티턴을 지원하지 않는다면, 생략 가능합니다.)\n",
    "- `agent_scratchpad` : 에이전트가 임시로 저장하는 변수\n",
    "- `input` : 사용자의 입력"
   ]
  },
  {
   "cell_type": "code",
   "metadata": {
    "ExecuteTime": {
     "end_time": "2025-03-27T22:02:58.005398Z",
     "start_time": "2025-03-27T22:02:57.999604Z"
    }
   },
   "source": [
    "from langchain_core.prompts import ChatPromptTemplate\n",
    "\n",
    "# 프롬프트 생성\n",
    "# 프롬프트는 에이전트에게 모델이 수행할 작업을 설명하는 텍스트를 제공합니다. (도구의 이름과 역할을 입력)\n",
    "prompt = ChatPromptTemplate.from_messages(\n",
    "    [\n",
    "        (\n",
    "            \"system\",\n",
    "            \"You are a helpful assistant. \"\n",
    "            \"use the `get_current_time` tool to find out today's date.\"\n",
    "            \"Make sure to use the `search_dayoff` tool for searching 연차, 휴가.\"\n",
    "            \"\",\n",
    "        ),\n",
    "        (\"placeholder\", \"{chat_history}\"),\n",
    "        (\"human\", \"{input}\"),\n",
    "        (\"placeholder\", \"{agent_scratchpad}\"),\n",
    "    ]\n",
    ")"
   ],
   "outputs": [],
   "execution_count": 92
  },
  {
   "cell_type": "markdown",
   "metadata": {},
   "source": [
    "## Tool Calling 을 지원하는 다양한 LLM 목록\n",
    "\n",
    "실습 진행을 위해서는 아래 내용을 설정해야 합니다.\n",
    "\n",
    "**Anthropic**\n",
    "\n",
    "- [Anthropic API 키 발급 관련](https://console.anthropic.com/settings/keys)\n",
    "- `.env` 파일 내 `ANTHROPIC_API_KEY` 에 발급받은 키를 설정하세요\n",
    "\n",
    "**Gemini**\n",
    "\n",
    "- [Gemini API 키 발급 관련](https://aistudio.google.com/app/apikey?hl=ko)\n",
    "- `.env` 파일 내 `GOOGLE_API_KEY` 에 발급받은 키를 설정하세요\n",
    "\n",
    "**Together AI**\n",
    "\n",
    "- [Together AI API 키 발급 관련](https://api.together.ai/)\n",
    "- `.env` 파일 내 `TOGETHER_API_KEY` 에 발급받은 키를 설정하세요\n",
    "\n",
    "**Ollama**\n",
    "\n",
    "- [Ollama Tool Calling 지원 모델 리스트](https://ollama.com/search?c=tools)\n",
    "- [이번 실습에 사용할 llama3.1 모델](https://ollama.com/library/llama3.1)\n",
    "- 터미널 창에 `ollama pull llama3.1` 명령어를 입력하여 모델을 다운로드 받습니다.\n",
    "- 이전에 Ollama 를 사용하지 않았다면, [Ollama](https://wikidocs.net/233805) 를 참고해 주세요."
   ]
  },
  {
   "cell_type": "markdown",
   "metadata": {},
   "source": [
    "langchain-ollama 설치를 한 뒤 진행해 주세요."
   ]
  },
  {
   "cell_type": "code",
   "metadata": {},
   "source": [
    "# !pip install -qU langchain-ollama==0.1.3"
   ],
   "outputs": [],
   "execution_count": null
  },
  {
   "cell_type": "code",
   "metadata": {
    "ExecuteTime": {
     "end_time": "2025-03-27T22:01:10.869436Z",
     "start_time": "2025-03-27T22:01:10.713290Z"
    }
   },
   "source": [
    "from langchain_anthropic import ChatAnthropic\n",
    "from langchain_google_genai import ChatGoogleGenerativeAI\n",
    "from langchain_openai import ChatOpenAI\n",
    "from langchain_ollama import ChatOllama\n",
    "import os\n",
    "\n",
    "# GPT-4o-mini\n",
    "gpt = ChatOpenAI(model=\"gpt-4o-mini\")\n",
    "\n",
    "# Claude-3-5-sonnet\n",
    "claude = ChatAnthropic(model=\"claude-3-5-sonnet-20240620\", temperature=0)\n",
    "\n",
    "# Gemini-1.5-pro-latest\n",
    "gemini = ChatGoogleGenerativeAI(model=\"gemini-1.5-pro\", temperature=0)\n",
    "\n",
    "# Llama-3.1-70B-Instruct-Turbo\n",
    "llama = ChatOpenAI(\n",
    "    base_url=\"https://api.together.xyz/v1\",\n",
    "    api_key=os.environ[\"TOGETHER_API_KEY\"],\n",
    "    model=\"meta-llama/Meta-Llama-3.1-70B-Instruct-Turbo\",\n",
    ")\n",
    "\n",
    "gemma3 = ChatOllama(model=\"gemma-3:latest\", temperature=0)\n",
    "\n",
    "qwen = ChatOllama(model=\"qwen-2.5:latest\") \n"
   ],
   "outputs": [],
   "execution_count": 89
  },
  {
   "cell_type": "markdown",
   "metadata": {},
   "source": [
    "LLM 기반으로 Agent 를 생성합니다."
   ]
  },
  {
   "cell_type": "code",
   "metadata": {
    "ExecuteTime": {
     "end_time": "2025-03-27T21:59:37.702341Z",
     "start_time": "2025-03-27T21:59:37.668911Z"
    }
   },
   "source": [
    "from langchain.agents import create_tool_calling_agent\n",
    "\n",
    "# Agent 생성\n",
    "gpt_agent = create_tool_calling_agent(gpt, tools, prompt)\n",
    "claude_agent = create_tool_calling_agent(claude, tools, prompt)\n",
    "gemini_agent = create_tool_calling_agent(gemini, tools, prompt)\n",
    "llama_agent = create_tool_calling_agent(llama, tools, prompt)\n",
    "gemma_agent = create_tool_calling_agent(gemma3, tools, prompt)\n",
    "qwen_agent = create_tool_calling_agent(qwen, tools, prompt)"
   ],
   "outputs": [],
   "execution_count": 87
  },
  {
   "cell_type": "markdown",
   "metadata": {},
   "source": [
    "## AgentExecutor 생성 후 실행 및 결과 확인\n",
    "\n"
   ]
  },
  {
   "cell_type": "code",
   "metadata": {
    "ExecuteTime": {
     "end_time": "2025-03-27T21:50:48.941549Z",
     "start_time": "2025-03-27T21:50:43.693634Z"
    }
   },
   "source": [
    "from langchain.agents import AgentExecutor\n",
    "\n",
    "# gpt_agent 실행\n",
    "agent_executor = AgentExecutor(\n",
    "    agent=gpt_agent,\n",
    "    tools=tools,\n",
    "    verbose=True,\n",
    "    handle_parsing_errors=True,\n",
    ")\n",
    "\n",
    "result = agent_executor.invoke({\"input\": \"오늘 휴가자 누구야?\"})\n",
    "# result = agent_executor.invoke({\"input\": \"이번주 휴가자 모두 말해줘\"})\n",
    "\n",
    "print(\"Agent 실행 결과:\")\n",
    "print(result[\"output\"])"
   ],
   "outputs": [
    {
     "name": "stdout",
     "output_type": "stream",
     "text": [
      "\n",
      "\n",
      "\u001B[1m> Entering new AgentExecutor chain...\u001B[0m\n",
      "\u001B[32;1m\u001B[1;3m\n",
      "Invoking: `get_current_time` with `{}`\n",
      "\n",
      "\n",
      "\u001B[0m\u001B[36;1m\u001B[1;3m2025-03-28 06:50:44.455359\u001B[0m\u001B[32;1m\u001B[1;3m\n",
      "Invoking: `search_dayoff` with `{'date': '2025-03-28'}`\n",
      "\n",
      "\n",
      "\u001B[0m\u001B[33;1m\u001B[1;3m[날짜] 2025-03-28\n",
      " [휴가자] ['🌴 [정지훈] 휴가', '🌴 [김재윤] 휴가', '🌴 [서정현] 휴가', '🌴 [허광일] 휴가', '🌴 [이승엽] 휴가 - 4:00\\u202fPM ~ 6:00\\u202fPM', '🌴 [박정균] 휴가 - 4:00\\u202fPM ~ 6:00\\u202fPM', '🌴 [유희서] 휴가', '🌴 [이준희] 휴가 - 11:30\\u202fAM ~ 4:30\\u202fPM', '🌴 [노용주] 휴가', '🌴 [천규리] 휴가', '🌴 [윤현상] 휴가 - 4:00\\u202fPM ~ 6:00\\u202fPM', '🌴 [김선숙] 휴가 - 2:30\\u202fPM ~ 4:30\\u202fPM', '🌴 [최봉근] 휴가 - 2:30\\u202fPM ~ 4:30\\u202fPM'], \u001B[0m\u001B[32;1m\u001B[1;3m오늘 휴가자는 다음과 같습니다:\n",
      "\n",
      "- 🌴 정지훈 휴가\n",
      "- 🌴 김재윤 휴가\n",
      "- 🌴 서정현 휴가\n",
      "- 🌴 허광일 휴가\n",
      "- 🌴 이승엽 휴가 (4:00 PM ~ 6:00 PM)\n",
      "- 🌴 박정균 휴가 (4:00 PM ~ 6:00 PM)\n",
      "- 🌴 유희서 휴가\n",
      "- 🌴 이준희 휴가 (11:30 AM ~ 4:30 PM)\n",
      "- 🌴 노용주 휴가\n",
      "- 🌴 천규리 휴가\n",
      "- 🌴 윤현상 휴가 (4:00 PM ~ 6:00 PM)\n",
      "- 🌴 김선숙 휴가 (2:30 PM ~ 4:30 PM)\n",
      "- 🌴 최봉근 휴가 (2:30 PM ~ 4:30 PM)\u001B[0m\n",
      "\n",
      "\u001B[1m> Finished chain.\u001B[0m\n",
      "Agent 실행 결과:\n",
      "오늘 휴가자는 다음과 같습니다:\n",
      "\n",
      "- 🌴 정지훈 휴가\n",
      "- 🌴 김재윤 휴가\n",
      "- 🌴 서정현 휴가\n",
      "- 🌴 허광일 휴가\n",
      "- 🌴 이승엽 휴가 (4:00 PM ~ 6:00 PM)\n",
      "- 🌴 박정균 휴가 (4:00 PM ~ 6:00 PM)\n",
      "- 🌴 유희서 휴가\n",
      "- 🌴 이준희 휴가 (11:30 AM ~ 4:30 PM)\n",
      "- 🌴 노용주 휴가\n",
      "- 🌴 천규리 휴가\n",
      "- 🌴 윤현상 휴가 (4:00 PM ~ 6:00 PM)\n",
      "- 🌴 김선숙 휴가 (2:30 PM ~ 4:30 PM)\n",
      "- 🌴 최봉근 휴가 (2:30 PM ~ 4:30 PM)\n"
     ]
    }
   ],
   "execution_count": 67
  },
  {
   "cell_type": "markdown",
   "metadata": {},
   "source": [
    "다양한 llm을 사용하여 에이전트를 실행합니다.\n",
    "\n",
    "다음은 입력받은 llm을 사용하여 Agent 를 생성하고 실행하여 결과를 출력하는 함수입니다."
   ]
  },
  {
   "cell_type": "code",
   "metadata": {
    "ExecuteTime": {
     "end_time": "2025-03-27T21:51:06.695015Z",
     "start_time": "2025-03-27T21:51:06.691139Z"
    }
   },
   "source": [
    "def execute_agent(llm, tools, input_text, label):\n",
    "    agent = create_tool_calling_agent(llm, tools, prompt)\n",
    "    executor = AgentExecutor(agent=agent, tools=tools, verbose=False)\n",
    "    result = executor.invoke({\"input\": input_text})\n",
    "    print(f\"[{label}] 결과입니다.\")\n",
    "    if isinstance(result[\"output\"], list) and len(result[\"output\"]) > 0:\n",
    "        for item in result[\"output\"]:\n",
    "            if \"text\" in item:\n",
    "                print(item[\"text\"])\n",
    "    elif isinstance(result[\"output\"], str):\n",
    "        print(result[\"output\"])\n",
    "    else:\n",
    "        print(result[\"output\"])"
   ],
   "outputs": [],
   "execution_count": 68
  },
  {
   "cell_type": "markdown",
   "metadata": {},
   "source": [
    "각 llm 별로 에이전트를 생성하고 실행하여 결과를 출력합니다."
   ]
  },
  {
   "cell_type": "code",
   "metadata": {
    "ExecuteTime": {
     "end_time": "2025-03-27T21:51:17.474912Z",
     "start_time": "2025-03-27T21:51:17.471723Z"
    }
   },
   "source": [
    "query = (\n",
    "    \"오늘 휴가자 누구야?\"\n",
    ")"
   ],
   "outputs": [],
   "execution_count": 69
  },
  {
   "cell_type": "code",
   "metadata": {
    "ExecuteTime": {
     "end_time": "2025-03-27T21:51:24.789004Z",
     "start_time": "2025-03-27T21:51:18.636925Z"
    }
   },
   "source": [
    "# gpt\n",
    "execute_agent(gpt, tools, query, \"gpt\")"
   ],
   "outputs": [
    {
     "name": "stdout",
     "output_type": "stream",
     "text": [
      "[gpt] 결과입니다.\n",
      "오늘 휴가자는 다음과 같습니다:\n",
      "\n",
      "- 🌴 정지훈 휴가\n",
      "- 🌴 김재윤 휴가\n",
      "- 🌴 서정현 휴가\n",
      "- 🌴 허광일 휴가\n",
      "- 🌴 이승엽 휴가 (4:00 PM ~ 6:00 PM)\n",
      "- 🌴 박정균 휴가 (4:00 PM ~ 6:00 PM)\n",
      "- 🌴 유희서 휴가\n",
      "- 🌴 이준희 휴가 (11:30 AM ~ 4:30 PM)\n",
      "- 🌴 노용주 휴가\n",
      "- 🌴 천규리 휴가\n",
      "- 🌴 윤현상 휴가 (4:00 PM ~ 6:00 PM)\n",
      "- 🌴 김선숙 휴가 (2:30 PM ~ 4:30 PM)\n",
      "- 🌴 최봉근 휴가 (2:30 PM ~ 4:30 PM)\n",
      "- 🌴 김혜선 휴가 (12:30 PM ~ 3:30 PM)\n",
      "\n",
      "이렇게 많은 분들이 오늘 휴가를 사용하고 계십니다!\n"
     ]
    }
   ],
   "execution_count": 70
  },
  {
   "cell_type": "code",
   "metadata": {
    "ExecuteTime": {
     "end_time": "2025-03-27T21:51:39.057745Z",
     "start_time": "2025-03-27T21:51:30.570113Z"
    }
   },
   "source": [
    "# claude\n",
    "execute_agent(claude, tools, query, \"claude\")"
   ],
   "outputs": [
    {
     "name": "stdout",
     "output_type": "stream",
     "text": [
      "[claude] 결과입니다.\n",
      "2025년 3월 28일의 휴가자 목록은 다음과 같습니다:\n",
      "\n",
      "1. 정지훈 (종일)\n",
      "2. 김재윤 (종일)\n",
      "3. 서정현 (종일)\n",
      "4. 허광일 (종일)\n",
      "5. 이승엽 (오후 4:00 ~ 6:00)\n",
      "6. 박정균 (오후 4:00 ~ 6:00)\n",
      "7. 유희서 (종일)\n",
      "8. 이준희 (오전 11:30 ~ 오후 4:30)\n",
      "9. 노용주 (종일)\n",
      "10. 천규리 (종일)\n",
      "11. 윤현상 (오후 4:00 ~ 6:00)\n",
      "12. 김선숙 (오후 2:30 ~ 4:30)\n",
      "13. 최봉근 (오후 2:30 ~ 4:30)\n",
      "14. 김혜선 (오후 12:30 ~ 3:30)\n",
      "\n",
      "총 14명이 오늘 휴가를 사용하고 있습니다. 일부는 종일 휴가이고, 일부는 부분 휴가를 사용하고 있습니다.\n"
     ]
    }
   ],
   "execution_count": 71
  },
  {
   "cell_type": "code",
   "metadata": {
    "ExecuteTime": {
     "end_time": "2025-03-27T22:03:11.681356Z",
     "start_time": "2025-03-27T22:03:06.637503Z"
    }
   },
   "source": [
    "# gemini\n",
    "execute_agent(gemini, tools, query, \"gemini\")"
   ],
   "outputs": [
    {
     "name": "stdout",
     "output_type": "stream",
     "text": [
      "[gemini] 결과입니다.\n",
      "오늘(2025-03-28) 휴가자는 다음과 같습니다.\n",
      "\n",
      "* 정지훈\n",
      "* 김재윤\n",
      "* 서정현\n",
      "* 허광일\n",
      "* 이승엽 (4:00 PM ~ 6:00 PM)\n",
      "* 박정균 (4:00 PM ~ 6:00 PM)\n",
      "* 유희서\n",
      "* 이준희 (11:30 AM ~ 4:30 PM)\n",
      "* 노용주\n",
      "* 천규리\n",
      "* 윤현상 (4:00 PM ~ 6:00 PM)\n",
      "* 김선숙 (2:30 PM ~ 4:30 PM)\n",
      "* 최봉근 (2:30 PM ~ 4:30 PM)\n",
      "* 김혜선 (12:30 PM ~ 3:30 PM)\n"
     ]
    }
   ],
   "execution_count": 93
  },
  {
   "cell_type": "code",
   "metadata": {
    "ExecuteTime": {
     "end_time": "2025-03-27T21:53:44.771158Z",
     "start_time": "2025-03-27T21:53:22.924606Z"
    }
   },
   "source": [
    "# llama3.1 70B (Together.ai)\n",
    "execute_agent(\n",
    "    llama,\n",
    "    tools,\n",
    "    \"오늘 휴가자 누구야?\",\n",
    "    \"llama3.1 70B\",\n",
    ")"
   ],
   "outputs": [
    {
     "name": "stdout",
     "output_type": "stream",
     "text": [
      "[llama3.1 70B] 결과입니다.\n",
      "The following people are on vacation today:\n",
      "\n",
      "1. 정지훈\n",
      "2. 김재윤\n",
      "3. 서정현\n",
      "4. 허광일\n",
      "5. 이승엽 (4:00 PM ~ 6:00 PM)\n",
      "6. 박정균 (4:00 PM ~ 6:00 PM)\n",
      "7. 유희서\n",
      "8. 이준희 (11:30 AM ~ 4:30 PM)\n",
      "9. 노용주\n",
      "10. 천규리\n",
      "11. 윤현상 (4:00 PM ~ 6:00 PM)\n",
      "12. 김선숙 (2:30 PM ~ 4:30 PM)\n",
      "13. 최봉근 (2:30 PM ~ 4:30 PM)\n",
      "14. 김혜선 (12:30 PM ~ 3:30 PM)\n"
     ]
    }
   ],
   "execution_count": 74
  },
  {
   "cell_type": "code",
   "metadata": {
    "ExecuteTime": {
     "end_time": "2025-03-27T22:03:32.793799Z",
     "start_time": "2025-03-27T22:03:11.762250Z"
    }
   },
   "source": [
    "# llama3.1 8B (ollama)\n",
    "execute_agent(gemma3, tools, query, \"gemma3\")"
   ],
   "outputs": [
    {
     "name": "stdout",
     "output_type": "stream",
     "text": [
      "[gemma3] 결과입니다.\n",
      "오늘(2025년 3월 28일) 휴가자는 다음과 같습니다: 정지훈, 김재윤, 서정현, 허광일, 이승엽, 박정균, 유희서, 이준희, 노용주, 천규리, 윤현상, 김선숙, 최봉근, 김혜선 님 입니다. 이승엽, 박정균, 윤현상, 김선숙, 최봉근, 김혜선 님은 오후 시간대에 휴가를 사용합니다.\n"
     ]
    }
   ],
   "execution_count": 94
  },
  {
   "cell_type": "code",
   "metadata": {
    "ExecuteTime": {
     "end_time": "2025-03-27T22:03:43.433742Z",
     "start_time": "2025-03-27T22:03:43.173585Z"
    }
   },
   "source": [
    "# qwen2.5 7B (ollama)\n",
    "query = \"오늘 휴가자 누구야?\"\n",
    "\n",
    "execute_agent(qwen, tools, query, \"qwen2.5(Ollama)\")"
   ],
   "outputs": [
    {
     "ename": "ResponseError",
     "evalue": "registry.ollama.ai/library/qwen-2.5:latest does not support tools (status code: 400)",
     "output_type": "error",
     "traceback": [
      "\u001B[31m---------------------------------------------------------------------------\u001B[39m",
      "\u001B[31mResponseError\u001B[39m                             Traceback (most recent call last)",
      "\u001B[36mCell\u001B[39m\u001B[36m \u001B[39m\u001B[32mIn[95]\u001B[39m\u001B[32m, line 4\u001B[39m\n\u001B[32m      1\u001B[39m \u001B[38;5;66;03m# qwen2.5 7B (ollama)\u001B[39;00m\n\u001B[32m      2\u001B[39m query = \u001B[33m\"\u001B[39m\u001B[33m오늘 휴가자 누구야?\u001B[39m\u001B[33m\"\u001B[39m\n\u001B[32m----> \u001B[39m\u001B[32m4\u001B[39m \u001B[43mexecute_agent\u001B[49m\u001B[43m(\u001B[49m\u001B[43mqwen\u001B[49m\u001B[43m,\u001B[49m\u001B[43m \u001B[49m\u001B[43mtools\u001B[49m\u001B[43m,\u001B[49m\u001B[43m \u001B[49m\u001B[43mquery\u001B[49m\u001B[43m,\u001B[49m\u001B[43m \u001B[49m\u001B[33;43m\"\u001B[39;49m\u001B[33;43mqwen2.5(Ollama)\u001B[39;49m\u001B[33;43m\"\u001B[39;49m\u001B[43m)\u001B[49m\n",
      "\u001B[36mCell\u001B[39m\u001B[36m \u001B[39m\u001B[32mIn[68]\u001B[39m\u001B[32m, line 4\u001B[39m, in \u001B[36mexecute_agent\u001B[39m\u001B[34m(llm, tools, input_text, label)\u001B[39m\n\u001B[32m      2\u001B[39m agent = create_tool_calling_agent(llm, tools, prompt)\n\u001B[32m      3\u001B[39m executor = AgentExecutor(agent=agent, tools=tools, verbose=\u001B[38;5;28;01mFalse\u001B[39;00m)\n\u001B[32m----> \u001B[39m\u001B[32m4\u001B[39m result = \u001B[43mexecutor\u001B[49m\u001B[43m.\u001B[49m\u001B[43minvoke\u001B[49m\u001B[43m(\u001B[49m\u001B[43m{\u001B[49m\u001B[33;43m\"\u001B[39;49m\u001B[33;43minput\u001B[39;49m\u001B[33;43m\"\u001B[39;49m\u001B[43m:\u001B[49m\u001B[43m \u001B[49m\u001B[43minput_text\u001B[49m\u001B[43m}\u001B[49m\u001B[43m)\u001B[49m\n\u001B[32m      5\u001B[39m \u001B[38;5;28mprint\u001B[39m(\u001B[33mf\u001B[39m\u001B[33m\"\u001B[39m\u001B[33m[\u001B[39m\u001B[38;5;132;01m{\u001B[39;00mlabel\u001B[38;5;132;01m}\u001B[39;00m\u001B[33m] 결과입니다.\u001B[39m\u001B[33m\"\u001B[39m)\n\u001B[32m      6\u001B[39m \u001B[38;5;28;01mif\u001B[39;00m \u001B[38;5;28misinstance\u001B[39m(result[\u001B[33m\"\u001B[39m\u001B[33moutput\u001B[39m\u001B[33m\"\u001B[39m], \u001B[38;5;28mlist\u001B[39m) \u001B[38;5;129;01mand\u001B[39;00m \u001B[38;5;28mlen\u001B[39m(result[\u001B[33m\"\u001B[39m\u001B[33moutput\u001B[39m\u001B[33m\"\u001B[39m]) > \u001B[32m0\u001B[39m:\n",
      "\u001B[36mFile \u001B[39m\u001B[32m~/Library/Caches/pypoetry/virtualenvs/langchain-kr-uLcZw9jp-py3.11/lib/python3.11/site-packages/langchain/chains/base.py:170\u001B[39m, in \u001B[36mChain.invoke\u001B[39m\u001B[34m(self, input, config, **kwargs)\u001B[39m\n\u001B[32m    168\u001B[39m \u001B[38;5;28;01mexcept\u001B[39;00m \u001B[38;5;167;01mBaseException\u001B[39;00m \u001B[38;5;28;01mas\u001B[39;00m e:\n\u001B[32m    169\u001B[39m     run_manager.on_chain_error(e)\n\u001B[32m--> \u001B[39m\u001B[32m170\u001B[39m     \u001B[38;5;28;01mraise\u001B[39;00m e\n\u001B[32m    171\u001B[39m run_manager.on_chain_end(outputs)\n\u001B[32m    173\u001B[39m \u001B[38;5;28;01mif\u001B[39;00m include_run_info:\n",
      "\u001B[36mFile \u001B[39m\u001B[32m~/Library/Caches/pypoetry/virtualenvs/langchain-kr-uLcZw9jp-py3.11/lib/python3.11/site-packages/langchain/chains/base.py:160\u001B[39m, in \u001B[36mChain.invoke\u001B[39m\u001B[34m(self, input, config, **kwargs)\u001B[39m\n\u001B[32m    157\u001B[39m \u001B[38;5;28;01mtry\u001B[39;00m:\n\u001B[32m    158\u001B[39m     \u001B[38;5;28mself\u001B[39m._validate_inputs(inputs)\n\u001B[32m    159\u001B[39m     outputs = (\n\u001B[32m--> \u001B[39m\u001B[32m160\u001B[39m         \u001B[38;5;28;43mself\u001B[39;49m\u001B[43m.\u001B[49m\u001B[43m_call\u001B[49m\u001B[43m(\u001B[49m\u001B[43minputs\u001B[49m\u001B[43m,\u001B[49m\u001B[43m \u001B[49m\u001B[43mrun_manager\u001B[49m\u001B[43m=\u001B[49m\u001B[43mrun_manager\u001B[49m\u001B[43m)\u001B[49m\n\u001B[32m    161\u001B[39m         \u001B[38;5;28;01mif\u001B[39;00m new_arg_supported\n\u001B[32m    162\u001B[39m         \u001B[38;5;28;01melse\u001B[39;00m \u001B[38;5;28mself\u001B[39m._call(inputs)\n\u001B[32m    163\u001B[39m     )\n\u001B[32m    165\u001B[39m     final_outputs: Dict[\u001B[38;5;28mstr\u001B[39m, Any] = \u001B[38;5;28mself\u001B[39m.prep_outputs(\n\u001B[32m    166\u001B[39m         inputs, outputs, return_only_outputs\n\u001B[32m    167\u001B[39m     )\n\u001B[32m    168\u001B[39m \u001B[38;5;28;01mexcept\u001B[39;00m \u001B[38;5;167;01mBaseException\u001B[39;00m \u001B[38;5;28;01mas\u001B[39;00m e:\n",
      "\u001B[36mFile \u001B[39m\u001B[32m~/Library/Caches/pypoetry/virtualenvs/langchain-kr-uLcZw9jp-py3.11/lib/python3.11/site-packages/langchain/agents/agent.py:1624\u001B[39m, in \u001B[36mAgentExecutor._call\u001B[39m\u001B[34m(self, inputs, run_manager)\u001B[39m\n\u001B[32m   1622\u001B[39m \u001B[38;5;66;03m# We now enter the agent loop (until it returns something).\u001B[39;00m\n\u001B[32m   1623\u001B[39m \u001B[38;5;28;01mwhile\u001B[39;00m \u001B[38;5;28mself\u001B[39m._should_continue(iterations, time_elapsed):\n\u001B[32m-> \u001B[39m\u001B[32m1624\u001B[39m     next_step_output = \u001B[38;5;28;43mself\u001B[39;49m\u001B[43m.\u001B[49m\u001B[43m_take_next_step\u001B[49m\u001B[43m(\u001B[49m\n\u001B[32m   1625\u001B[39m \u001B[43m        \u001B[49m\u001B[43mname_to_tool_map\u001B[49m\u001B[43m,\u001B[49m\n\u001B[32m   1626\u001B[39m \u001B[43m        \u001B[49m\u001B[43mcolor_mapping\u001B[49m\u001B[43m,\u001B[49m\n\u001B[32m   1627\u001B[39m \u001B[43m        \u001B[49m\u001B[43minputs\u001B[49m\u001B[43m,\u001B[49m\n\u001B[32m   1628\u001B[39m \u001B[43m        \u001B[49m\u001B[43mintermediate_steps\u001B[49m\u001B[43m,\u001B[49m\n\u001B[32m   1629\u001B[39m \u001B[43m        \u001B[49m\u001B[43mrun_manager\u001B[49m\u001B[43m=\u001B[49m\u001B[43mrun_manager\u001B[49m\u001B[43m,\u001B[49m\n\u001B[32m   1630\u001B[39m \u001B[43m    \u001B[49m\u001B[43m)\u001B[49m\n\u001B[32m   1631\u001B[39m     \u001B[38;5;28;01mif\u001B[39;00m \u001B[38;5;28misinstance\u001B[39m(next_step_output, AgentFinish):\n\u001B[32m   1632\u001B[39m         \u001B[38;5;28;01mreturn\u001B[39;00m \u001B[38;5;28mself\u001B[39m._return(\n\u001B[32m   1633\u001B[39m             next_step_output, intermediate_steps, run_manager=run_manager\n\u001B[32m   1634\u001B[39m         )\n",
      "\u001B[36mFile \u001B[39m\u001B[32m~/Library/Caches/pypoetry/virtualenvs/langchain-kr-uLcZw9jp-py3.11/lib/python3.11/site-packages/langchain/agents/agent.py:1330\u001B[39m, in \u001B[36mAgentExecutor._take_next_step\u001B[39m\u001B[34m(self, name_to_tool_map, color_mapping, inputs, intermediate_steps, run_manager)\u001B[39m\n\u001B[32m   1321\u001B[39m \u001B[38;5;28;01mdef\u001B[39;00m\u001B[38;5;250m \u001B[39m\u001B[34m_take_next_step\u001B[39m(\n\u001B[32m   1322\u001B[39m     \u001B[38;5;28mself\u001B[39m,\n\u001B[32m   1323\u001B[39m     name_to_tool_map: Dict[\u001B[38;5;28mstr\u001B[39m, BaseTool],\n\u001B[32m   (...)\u001B[39m\u001B[32m   1327\u001B[39m     run_manager: Optional[CallbackManagerForChainRun] = \u001B[38;5;28;01mNone\u001B[39;00m,\n\u001B[32m   1328\u001B[39m ) -> Union[AgentFinish, List[Tuple[AgentAction, \u001B[38;5;28mstr\u001B[39m]]]:\n\u001B[32m   1329\u001B[39m     \u001B[38;5;28;01mreturn\u001B[39;00m \u001B[38;5;28mself\u001B[39m._consume_next_step(\n\u001B[32m-> \u001B[39m\u001B[32m1330\u001B[39m         \u001B[43m[\u001B[49m\n\u001B[32m   1331\u001B[39m \u001B[43m            \u001B[49m\u001B[43ma\u001B[49m\n\u001B[32m   1332\u001B[39m \u001B[43m            \u001B[49m\u001B[38;5;28;43;01mfor\u001B[39;49;00m\u001B[43m \u001B[49m\u001B[43ma\u001B[49m\u001B[43m \u001B[49m\u001B[38;5;129;43;01min\u001B[39;49;00m\u001B[43m \u001B[49m\u001B[38;5;28;43mself\u001B[39;49m\u001B[43m.\u001B[49m\u001B[43m_iter_next_step\u001B[49m\u001B[43m(\u001B[49m\n\u001B[32m   1333\u001B[39m \u001B[43m                \u001B[49m\u001B[43mname_to_tool_map\u001B[49m\u001B[43m,\u001B[49m\n\u001B[32m   1334\u001B[39m \u001B[43m                \u001B[49m\u001B[43mcolor_mapping\u001B[49m\u001B[43m,\u001B[49m\n\u001B[32m   1335\u001B[39m \u001B[43m                \u001B[49m\u001B[43minputs\u001B[49m\u001B[43m,\u001B[49m\n\u001B[32m   1336\u001B[39m \u001B[43m                \u001B[49m\u001B[43mintermediate_steps\u001B[49m\u001B[43m,\u001B[49m\n\u001B[32m   1337\u001B[39m \u001B[43m                \u001B[49m\u001B[43mrun_manager\u001B[49m\u001B[43m,\u001B[49m\n\u001B[32m   1338\u001B[39m \u001B[43m            \u001B[49m\u001B[43m)\u001B[49m\n\u001B[32m   1339\u001B[39m \u001B[43m        \u001B[49m\u001B[43m]\u001B[49m\n\u001B[32m   1340\u001B[39m     )\n",
      "\u001B[36mFile \u001B[39m\u001B[32m~/Library/Caches/pypoetry/virtualenvs/langchain-kr-uLcZw9jp-py3.11/lib/python3.11/site-packages/langchain/agents/agent.py:1330\u001B[39m, in \u001B[36m<listcomp>\u001B[39m\u001B[34m(.0)\u001B[39m\n\u001B[32m   1321\u001B[39m \u001B[38;5;28;01mdef\u001B[39;00m\u001B[38;5;250m \u001B[39m\u001B[34m_take_next_step\u001B[39m(\n\u001B[32m   1322\u001B[39m     \u001B[38;5;28mself\u001B[39m,\n\u001B[32m   1323\u001B[39m     name_to_tool_map: Dict[\u001B[38;5;28mstr\u001B[39m, BaseTool],\n\u001B[32m   (...)\u001B[39m\u001B[32m   1327\u001B[39m     run_manager: Optional[CallbackManagerForChainRun] = \u001B[38;5;28;01mNone\u001B[39;00m,\n\u001B[32m   1328\u001B[39m ) -> Union[AgentFinish, List[Tuple[AgentAction, \u001B[38;5;28mstr\u001B[39m]]]:\n\u001B[32m   1329\u001B[39m     \u001B[38;5;28;01mreturn\u001B[39;00m \u001B[38;5;28mself\u001B[39m._consume_next_step(\n\u001B[32m-> \u001B[39m\u001B[32m1330\u001B[39m         \u001B[43m[\u001B[49m\n\u001B[32m   1331\u001B[39m \u001B[43m            \u001B[49m\u001B[43ma\u001B[49m\n\u001B[32m   1332\u001B[39m \u001B[43m            \u001B[49m\u001B[38;5;28;43;01mfor\u001B[39;49;00m\u001B[43m \u001B[49m\u001B[43ma\u001B[49m\u001B[43m \u001B[49m\u001B[38;5;129;43;01min\u001B[39;49;00m\u001B[43m \u001B[49m\u001B[38;5;28;43mself\u001B[39;49m\u001B[43m.\u001B[49m\u001B[43m_iter_next_step\u001B[49m\u001B[43m(\u001B[49m\n\u001B[32m   1333\u001B[39m \u001B[43m                \u001B[49m\u001B[43mname_to_tool_map\u001B[49m\u001B[43m,\u001B[49m\n\u001B[32m   1334\u001B[39m \u001B[43m                \u001B[49m\u001B[43mcolor_mapping\u001B[49m\u001B[43m,\u001B[49m\n\u001B[32m   1335\u001B[39m \u001B[43m                \u001B[49m\u001B[43minputs\u001B[49m\u001B[43m,\u001B[49m\n\u001B[32m   1336\u001B[39m \u001B[43m                \u001B[49m\u001B[43mintermediate_steps\u001B[49m\u001B[43m,\u001B[49m\n\u001B[32m   1337\u001B[39m \u001B[43m                \u001B[49m\u001B[43mrun_manager\u001B[49m\u001B[43m,\u001B[49m\n\u001B[32m   1338\u001B[39m \u001B[43m            \u001B[49m\u001B[43m)\u001B[49m\n\u001B[32m   1339\u001B[39m \u001B[43m        \u001B[49m\u001B[43m]\u001B[49m\n\u001B[32m   1340\u001B[39m     )\n",
      "\u001B[36mFile \u001B[39m\u001B[32m~/Library/Caches/pypoetry/virtualenvs/langchain-kr-uLcZw9jp-py3.11/lib/python3.11/site-packages/langchain/agents/agent.py:1358\u001B[39m, in \u001B[36mAgentExecutor._iter_next_step\u001B[39m\u001B[34m(self, name_to_tool_map, color_mapping, inputs, intermediate_steps, run_manager)\u001B[39m\n\u001B[32m   1355\u001B[39m     intermediate_steps = \u001B[38;5;28mself\u001B[39m._prepare_intermediate_steps(intermediate_steps)\n\u001B[32m   1357\u001B[39m     \u001B[38;5;66;03m# Call the LLM to see what to do.\u001B[39;00m\n\u001B[32m-> \u001B[39m\u001B[32m1358\u001B[39m     output = \u001B[38;5;28;43mself\u001B[39;49m\u001B[43m.\u001B[49m\u001B[43m_action_agent\u001B[49m\u001B[43m.\u001B[49m\u001B[43mplan\u001B[49m\u001B[43m(\u001B[49m\n\u001B[32m   1359\u001B[39m \u001B[43m        \u001B[49m\u001B[43mintermediate_steps\u001B[49m\u001B[43m,\u001B[49m\n\u001B[32m   1360\u001B[39m \u001B[43m        \u001B[49m\u001B[43mcallbacks\u001B[49m\u001B[43m=\u001B[49m\u001B[43mrun_manager\u001B[49m\u001B[43m.\u001B[49m\u001B[43mget_child\u001B[49m\u001B[43m(\u001B[49m\u001B[43m)\u001B[49m\u001B[43m \u001B[49m\u001B[38;5;28;43;01mif\u001B[39;49;00m\u001B[43m \u001B[49m\u001B[43mrun_manager\u001B[49m\u001B[43m \u001B[49m\u001B[38;5;28;43;01melse\u001B[39;49;00m\u001B[43m \u001B[49m\u001B[38;5;28;43;01mNone\u001B[39;49;00m\u001B[43m,\u001B[49m\n\u001B[32m   1361\u001B[39m \u001B[43m        \u001B[49m\u001B[43m*\u001B[49m\u001B[43m*\u001B[49m\u001B[43minputs\u001B[49m\u001B[43m,\u001B[49m\n\u001B[32m   1362\u001B[39m \u001B[43m    \u001B[49m\u001B[43m)\u001B[49m\n\u001B[32m   1363\u001B[39m \u001B[38;5;28;01mexcept\u001B[39;00m OutputParserException \u001B[38;5;28;01mas\u001B[39;00m e:\n\u001B[32m   1364\u001B[39m     \u001B[38;5;28;01mif\u001B[39;00m \u001B[38;5;28misinstance\u001B[39m(\u001B[38;5;28mself\u001B[39m.handle_parsing_errors, \u001B[38;5;28mbool\u001B[39m):\n",
      "\u001B[36mFile \u001B[39m\u001B[32m~/Library/Caches/pypoetry/virtualenvs/langchain-kr-uLcZw9jp-py3.11/lib/python3.11/site-packages/langchain/agents/agent.py:581\u001B[39m, in \u001B[36mRunnableMultiActionAgent.plan\u001B[39m\u001B[34m(self, intermediate_steps, callbacks, **kwargs)\u001B[39m\n\u001B[32m    573\u001B[39m final_output: Any = \u001B[38;5;28;01mNone\u001B[39;00m\n\u001B[32m    574\u001B[39m \u001B[38;5;28;01mif\u001B[39;00m \u001B[38;5;28mself\u001B[39m.stream_runnable:\n\u001B[32m    575\u001B[39m     \u001B[38;5;66;03m# Use streaming to make sure that the underlying LLM is invoked in a\u001B[39;00m\n\u001B[32m    576\u001B[39m     \u001B[38;5;66;03m# streaming\u001B[39;00m\n\u001B[32m   (...)\u001B[39m\u001B[32m    579\u001B[39m     \u001B[38;5;66;03m# Because the response from the plan is not a generator, we need to\u001B[39;00m\n\u001B[32m    580\u001B[39m     \u001B[38;5;66;03m# accumulate the output into final output and return that.\u001B[39;00m\n\u001B[32m--> \u001B[39m\u001B[32m581\u001B[39m \u001B[43m    \u001B[49m\u001B[38;5;28;43;01mfor\u001B[39;49;00m\u001B[43m \u001B[49m\u001B[43mchunk\u001B[49m\u001B[43m \u001B[49m\u001B[38;5;129;43;01min\u001B[39;49;00m\u001B[43m \u001B[49m\u001B[38;5;28;43mself\u001B[39;49m\u001B[43m.\u001B[49m\u001B[43mrunnable\u001B[49m\u001B[43m.\u001B[49m\u001B[43mstream\u001B[49m\u001B[43m(\u001B[49m\u001B[43minputs\u001B[49m\u001B[43m,\u001B[49m\u001B[43m \u001B[49m\u001B[43mconfig\u001B[49m\u001B[43m=\u001B[49m\u001B[43m{\u001B[49m\u001B[33;43m\"\u001B[39;49m\u001B[33;43mcallbacks\u001B[39;49m\u001B[33;43m\"\u001B[39;49m\u001B[43m:\u001B[49m\u001B[43m \u001B[49m\u001B[43mcallbacks\u001B[49m\u001B[43m}\u001B[49m\u001B[43m)\u001B[49m\u001B[43m:\u001B[49m\n\u001B[32m    582\u001B[39m \u001B[43m        \u001B[49m\u001B[38;5;28;43;01mif\u001B[39;49;00m\u001B[43m \u001B[49m\u001B[43mfinal_output\u001B[49m\u001B[43m \u001B[49m\u001B[38;5;129;43;01mis\u001B[39;49;00m\u001B[43m \u001B[49m\u001B[38;5;28;43;01mNone\u001B[39;49;00m\u001B[43m:\u001B[49m\n\u001B[32m    583\u001B[39m \u001B[43m            \u001B[49m\u001B[43mfinal_output\u001B[49m\u001B[43m \u001B[49m\u001B[43m=\u001B[49m\u001B[43m \u001B[49m\u001B[43mchunk\u001B[49m\n",
      "\u001B[36mFile \u001B[39m\u001B[32m~/Library/Caches/pypoetry/virtualenvs/langchain-kr-uLcZw9jp-py3.11/lib/python3.11/site-packages/langchain_core/runnables/base.py:3414\u001B[39m, in \u001B[36mRunnableSequence.stream\u001B[39m\u001B[34m(self, input, config, **kwargs)\u001B[39m\n\u001B[32m   3408\u001B[39m \u001B[38;5;28;01mdef\u001B[39;00m\u001B[38;5;250m \u001B[39m\u001B[34mstream\u001B[39m(\n\u001B[32m   3409\u001B[39m     \u001B[38;5;28mself\u001B[39m,\n\u001B[32m   3410\u001B[39m     \u001B[38;5;28minput\u001B[39m: Input,\n\u001B[32m   3411\u001B[39m     config: Optional[RunnableConfig] = \u001B[38;5;28;01mNone\u001B[39;00m,\n\u001B[32m   3412\u001B[39m     **kwargs: Optional[Any],\n\u001B[32m   3413\u001B[39m ) -> Iterator[Output]:\n\u001B[32m-> \u001B[39m\u001B[32m3414\u001B[39m     \u001B[38;5;28;01myield from\u001B[39;00m \u001B[38;5;28mself\u001B[39m.transform(\u001B[38;5;28miter\u001B[39m([\u001B[38;5;28minput\u001B[39m]), config, **kwargs)\n",
      "\u001B[36mFile \u001B[39m\u001B[32m~/Library/Caches/pypoetry/virtualenvs/langchain-kr-uLcZw9jp-py3.11/lib/python3.11/site-packages/langchain_core/runnables/base.py:3401\u001B[39m, in \u001B[36mRunnableSequence.transform\u001B[39m\u001B[34m(self, input, config, **kwargs)\u001B[39m\n\u001B[32m   3395\u001B[39m \u001B[38;5;28;01mdef\u001B[39;00m\u001B[38;5;250m \u001B[39m\u001B[34mtransform\u001B[39m(\n\u001B[32m   3396\u001B[39m     \u001B[38;5;28mself\u001B[39m,\n\u001B[32m   3397\u001B[39m     \u001B[38;5;28minput\u001B[39m: Iterator[Input],\n\u001B[32m   3398\u001B[39m     config: Optional[RunnableConfig] = \u001B[38;5;28;01mNone\u001B[39;00m,\n\u001B[32m   3399\u001B[39m     **kwargs: Optional[Any],\n\u001B[32m   3400\u001B[39m ) -> Iterator[Output]:\n\u001B[32m-> \u001B[39m\u001B[32m3401\u001B[39m     \u001B[38;5;28;01myield from\u001B[39;00m \u001B[38;5;28mself\u001B[39m._transform_stream_with_config(\n\u001B[32m   3402\u001B[39m         \u001B[38;5;28minput\u001B[39m,\n\u001B[32m   3403\u001B[39m         \u001B[38;5;28mself\u001B[39m._transform,\n\u001B[32m   3404\u001B[39m         patch_config(config, run_name=(config \u001B[38;5;129;01mor\u001B[39;00m {}).get(\u001B[33m\"\u001B[39m\u001B[33mrun_name\u001B[39m\u001B[33m\"\u001B[39m) \u001B[38;5;129;01mor\u001B[39;00m \u001B[38;5;28mself\u001B[39m.name),\n\u001B[32m   3405\u001B[39m         **kwargs,\n\u001B[32m   3406\u001B[39m     )\n",
      "\u001B[36mFile \u001B[39m\u001B[32m~/Library/Caches/pypoetry/virtualenvs/langchain-kr-uLcZw9jp-py3.11/lib/python3.11/site-packages/langchain_core/runnables/base.py:2201\u001B[39m, in \u001B[36mRunnable._transform_stream_with_config\u001B[39m\u001B[34m(self, input, transformer, config, run_type, **kwargs)\u001B[39m\n\u001B[32m   2199\u001B[39m \u001B[38;5;28;01mtry\u001B[39;00m:\n\u001B[32m   2200\u001B[39m     \u001B[38;5;28;01mwhile\u001B[39;00m \u001B[38;5;28;01mTrue\u001B[39;00m:\n\u001B[32m-> \u001B[39m\u001B[32m2201\u001B[39m         chunk: Output = context.run(\u001B[38;5;28mnext\u001B[39m, iterator)  \u001B[38;5;66;03m# type: ignore\u001B[39;00m\n\u001B[32m   2202\u001B[39m         \u001B[38;5;28;01myield\u001B[39;00m chunk\n\u001B[32m   2203\u001B[39m         \u001B[38;5;28;01mif\u001B[39;00m final_output_supported:\n",
      "\u001B[36mFile \u001B[39m\u001B[32m~/Library/Caches/pypoetry/virtualenvs/langchain-kr-uLcZw9jp-py3.11/lib/python3.11/site-packages/langchain_core/runnables/base.py:3364\u001B[39m, in \u001B[36mRunnableSequence._transform\u001B[39m\u001B[34m(self, input, run_manager, config, **kwargs)\u001B[39m\n\u001B[32m   3361\u001B[39m     \u001B[38;5;28;01melse\u001B[39;00m:\n\u001B[32m   3362\u001B[39m         final_pipeline = step.transform(final_pipeline, config)\n\u001B[32m-> \u001B[39m\u001B[32m3364\u001B[39m \u001B[38;5;28;01myield from\u001B[39;00m final_pipeline\n",
      "\u001B[36mFile \u001B[39m\u001B[32m~/Library/Caches/pypoetry/virtualenvs/langchain-kr-uLcZw9jp-py3.11/lib/python3.11/site-packages/langchain_core/runnables/base.py:1414\u001B[39m, in \u001B[36mRunnable.transform\u001B[39m\u001B[34m(self, input, config, **kwargs)\u001B[39m\n\u001B[32m   1411\u001B[39m final: Input\n\u001B[32m   1412\u001B[39m got_first_val = \u001B[38;5;28;01mFalse\u001B[39;00m\n\u001B[32m-> \u001B[39m\u001B[32m1414\u001B[39m \u001B[43m\u001B[49m\u001B[38;5;28;43;01mfor\u001B[39;49;00m\u001B[43m \u001B[49m\u001B[43michunk\u001B[49m\u001B[43m \u001B[49m\u001B[38;5;129;43;01min\u001B[39;49;00m\u001B[43m \u001B[49m\u001B[38;5;28;43minput\u001B[39;49m\u001B[43m:\u001B[49m\n\u001B[32m   1415\u001B[39m \u001B[43m    \u001B[49m\u001B[38;5;66;43;03m# The default implementation of transform is to buffer input and\u001B[39;49;00m\n\u001B[32m   1416\u001B[39m \u001B[43m    \u001B[49m\u001B[38;5;66;43;03m# then call stream.\u001B[39;49;00m\n\u001B[32m   1417\u001B[39m \u001B[43m    \u001B[49m\u001B[38;5;66;43;03m# It'll attempt to gather all input into a single chunk using\u001B[39;49;00m\n\u001B[32m   1418\u001B[39m \u001B[43m    \u001B[49m\u001B[38;5;66;43;03m# the `+` operator.\u001B[39;49;00m\n\u001B[32m   1419\u001B[39m \u001B[43m    \u001B[49m\u001B[38;5;66;43;03m# If the input is not addable, then we'll assume that we can\u001B[39;49;00m\n\u001B[32m   1420\u001B[39m \u001B[43m    \u001B[49m\u001B[38;5;66;43;03m# only operate on the last chunk,\u001B[39;49;00m\n\u001B[32m   1421\u001B[39m \u001B[43m    \u001B[49m\u001B[38;5;66;43;03m# and we'll iterate until we get to the last chunk.\u001B[39;49;00m\n\u001B[32m   1422\u001B[39m \u001B[43m    \u001B[49m\u001B[38;5;28;43;01mif\u001B[39;49;00m\u001B[43m \u001B[49m\u001B[38;5;129;43;01mnot\u001B[39;49;00m\u001B[43m \u001B[49m\u001B[43mgot_first_val\u001B[49m\u001B[43m:\u001B[49m\n\u001B[32m   1423\u001B[39m \u001B[43m        \u001B[49m\u001B[43mfinal\u001B[49m\u001B[43m \u001B[49m\u001B[43m=\u001B[49m\u001B[43m \u001B[49m\u001B[43michunk\u001B[49m\n",
      "\u001B[36mFile \u001B[39m\u001B[32m~/Library/Caches/pypoetry/virtualenvs/langchain-kr-uLcZw9jp-py3.11/lib/python3.11/site-packages/langchain_core/runnables/base.py:5572\u001B[39m, in \u001B[36mRunnableBindingBase.transform\u001B[39m\u001B[34m(self, input, config, **kwargs)\u001B[39m\n\u001B[32m   5566\u001B[39m \u001B[38;5;28;01mdef\u001B[39;00m\u001B[38;5;250m \u001B[39m\u001B[34mtransform\u001B[39m(\n\u001B[32m   5567\u001B[39m     \u001B[38;5;28mself\u001B[39m,\n\u001B[32m   5568\u001B[39m     \u001B[38;5;28minput\u001B[39m: Iterator[Input],\n\u001B[32m   5569\u001B[39m     config: Optional[RunnableConfig] = \u001B[38;5;28;01mNone\u001B[39;00m,\n\u001B[32m   5570\u001B[39m     **kwargs: Any,\n\u001B[32m   5571\u001B[39m ) -> Iterator[Output]:\n\u001B[32m-> \u001B[39m\u001B[32m5572\u001B[39m     \u001B[38;5;28;01myield from\u001B[39;00m \u001B[38;5;28mself\u001B[39m.bound.transform(\n\u001B[32m   5573\u001B[39m         \u001B[38;5;28minput\u001B[39m,\n\u001B[32m   5574\u001B[39m         \u001B[38;5;28mself\u001B[39m._merge_configs(config),\n\u001B[32m   5575\u001B[39m         **{**\u001B[38;5;28mself\u001B[39m.kwargs, **kwargs},\n\u001B[32m   5576\u001B[39m     )\n",
      "\u001B[36mFile \u001B[39m\u001B[32m~/Library/Caches/pypoetry/virtualenvs/langchain-kr-uLcZw9jp-py3.11/lib/python3.11/site-packages/langchain_core/runnables/base.py:1432\u001B[39m, in \u001B[36mRunnable.transform\u001B[39m\u001B[34m(self, input, config, **kwargs)\u001B[39m\n\u001B[32m   1429\u001B[39m             final = ichunk\n\u001B[32m   1431\u001B[39m \u001B[38;5;28;01mif\u001B[39;00m got_first_val:\n\u001B[32m-> \u001B[39m\u001B[32m1432\u001B[39m     \u001B[38;5;28;01myield from\u001B[39;00m \u001B[38;5;28mself\u001B[39m.stream(final, config, **kwargs)\n",
      "\u001B[36mFile \u001B[39m\u001B[32m~/Library/Caches/pypoetry/virtualenvs/langchain-kr-uLcZw9jp-py3.11/lib/python3.11/site-packages/langchain_core/language_models/chat_models.py:428\u001B[39m, in \u001B[36mBaseChatModel.stream\u001B[39m\u001B[34m(self, input, config, stop, **kwargs)\u001B[39m\n\u001B[32m    425\u001B[39m     \u001B[38;5;28mself\u001B[39m.rate_limiter.acquire(blocking=\u001B[38;5;28;01mTrue\u001B[39;00m)\n\u001B[32m    427\u001B[39m \u001B[38;5;28;01mtry\u001B[39;00m:\n\u001B[32m--> \u001B[39m\u001B[32m428\u001B[39m \u001B[43m    \u001B[49m\u001B[38;5;28;43;01mfor\u001B[39;49;00m\u001B[43m \u001B[49m\u001B[43mchunk\u001B[49m\u001B[43m \u001B[49m\u001B[38;5;129;43;01min\u001B[39;49;00m\u001B[43m \u001B[49m\u001B[38;5;28;43mself\u001B[39;49m\u001B[43m.\u001B[49m\u001B[43m_stream\u001B[49m\u001B[43m(\u001B[49m\u001B[43mmessages\u001B[49m\u001B[43m,\u001B[49m\u001B[43m \u001B[49m\u001B[43mstop\u001B[49m\u001B[43m=\u001B[49m\u001B[43mstop\u001B[49m\u001B[43m,\u001B[49m\u001B[43m \u001B[49m\u001B[43m*\u001B[49m\u001B[43m*\u001B[49m\u001B[43mkwargs\u001B[49m\u001B[43m)\u001B[49m\u001B[43m:\u001B[49m\n\u001B[32m    429\u001B[39m \u001B[43m        \u001B[49m\u001B[38;5;28;43;01mif\u001B[39;49;00m\u001B[43m \u001B[49m\u001B[43mchunk\u001B[49m\u001B[43m.\u001B[49m\u001B[43mmessage\u001B[49m\u001B[43m.\u001B[49m\u001B[43mid\u001B[49m\u001B[43m \u001B[49m\u001B[38;5;129;43;01mis\u001B[39;49;00m\u001B[43m \u001B[49m\u001B[38;5;28;43;01mNone\u001B[39;49;00m\u001B[43m:\u001B[49m\n\u001B[32m    430\u001B[39m \u001B[43m            \u001B[49m\u001B[43mchunk\u001B[49m\u001B[43m.\u001B[49m\u001B[43mmessage\u001B[49m\u001B[43m.\u001B[49m\u001B[43mid\u001B[49m\u001B[43m \u001B[49m\u001B[43m=\u001B[49m\u001B[43m \u001B[49m\u001B[33;43mf\u001B[39;49m\u001B[33;43m\"\u001B[39;49m\u001B[33;43mrun-\u001B[39;49m\u001B[38;5;132;43;01m{\u001B[39;49;00m\u001B[43mrun_manager\u001B[49m\u001B[43m.\u001B[49m\u001B[43mrun_id\u001B[49m\u001B[38;5;132;43;01m}\u001B[39;49;00m\u001B[33;43m\"\u001B[39;49m\n",
      "\u001B[36mFile \u001B[39m\u001B[32m~/Library/Caches/pypoetry/virtualenvs/langchain-kr-uLcZw9jp-py3.11/lib/python3.11/site-packages/langchain_ollama/chat_models.py:722\u001B[39m, in \u001B[36mChatOllama._stream\u001B[39m\u001B[34m(self, messages, stop, run_manager, **kwargs)\u001B[39m\n\u001B[32m    715\u001B[39m \u001B[38;5;28;01mdef\u001B[39;00m\u001B[38;5;250m \u001B[39m\u001B[34m_stream\u001B[39m(\n\u001B[32m    716\u001B[39m     \u001B[38;5;28mself\u001B[39m,\n\u001B[32m    717\u001B[39m     messages: List[BaseMessage],\n\u001B[32m   (...)\u001B[39m\u001B[32m    720\u001B[39m     **kwargs: Any,\n\u001B[32m    721\u001B[39m ) -> Iterator[ChatGenerationChunk]:\n\u001B[32m--> \u001B[39m\u001B[32m722\u001B[39m \u001B[43m    \u001B[49m\u001B[38;5;28;43;01mfor\u001B[39;49;00m\u001B[43m \u001B[49m\u001B[43mstream_resp\u001B[49m\u001B[43m \u001B[49m\u001B[38;5;129;43;01min\u001B[39;49;00m\u001B[43m \u001B[49m\u001B[38;5;28;43mself\u001B[39;49m\u001B[43m.\u001B[49m\u001B[43m_create_chat_stream\u001B[49m\u001B[43m(\u001B[49m\u001B[43mmessages\u001B[49m\u001B[43m,\u001B[49m\u001B[43m \u001B[49m\u001B[43mstop\u001B[49m\u001B[43m,\u001B[49m\u001B[43m \u001B[49m\u001B[43m*\u001B[49m\u001B[43m*\u001B[49m\u001B[43mkwargs\u001B[49m\u001B[43m)\u001B[49m\u001B[43m:\u001B[49m\n\u001B[32m    723\u001B[39m \u001B[43m        \u001B[49m\u001B[38;5;28;43;01mif\u001B[39;49;00m\u001B[43m \u001B[49m\u001B[38;5;129;43;01mnot\u001B[39;49;00m\u001B[43m \u001B[49m\u001B[38;5;28;43misinstance\u001B[39;49m\u001B[43m(\u001B[49m\u001B[43mstream_resp\u001B[49m\u001B[43m,\u001B[49m\u001B[43m \u001B[49m\u001B[38;5;28;43mstr\u001B[39;49m\u001B[43m)\u001B[49m\u001B[43m:\u001B[49m\n\u001B[32m    724\u001B[39m \u001B[43m            \u001B[49m\u001B[43mchunk\u001B[49m\u001B[43m \u001B[49m\u001B[43m=\u001B[49m\u001B[43m \u001B[49m\u001B[43mChatGenerationChunk\u001B[49m\u001B[43m(\u001B[49m\n\u001B[32m    725\u001B[39m \u001B[43m                \u001B[49m\u001B[43mmessage\u001B[49m\u001B[43m=\u001B[49m\u001B[43mAIMessageChunk\u001B[49m\u001B[43m(\u001B[49m\n\u001B[32m    726\u001B[39m \u001B[43m                    \u001B[49m\u001B[43mcontent\u001B[49m\u001B[43m=\u001B[49m\u001B[43m(\u001B[49m\n\u001B[32m   (...)\u001B[39m\u001B[32m    739\u001B[39m \u001B[43m                \u001B[49m\u001B[43m)\u001B[49m\u001B[43m,\u001B[49m\n\u001B[32m    740\u001B[39m \u001B[43m            \u001B[49m\u001B[43m)\u001B[49m\n",
      "\u001B[36mFile \u001B[39m\u001B[32m~/Library/Caches/pypoetry/virtualenvs/langchain-kr-uLcZw9jp-py3.11/lib/python3.11/site-packages/langchain_ollama/chat_models.py:589\u001B[39m, in \u001B[36mChatOllama._create_chat_stream\u001B[39m\u001B[34m(self, messages, stop, **kwargs)\u001B[39m\n\u001B[32m    586\u001B[39m chat_params = \u001B[38;5;28mself\u001B[39m._chat_params(messages, stop, **kwargs)\n\u001B[32m    588\u001B[39m \u001B[38;5;28;01mif\u001B[39;00m chat_params[\u001B[33m\"\u001B[39m\u001B[33mstream\u001B[39m\u001B[33m\"\u001B[39m]:\n\u001B[32m--> \u001B[39m\u001B[32m589\u001B[39m     \u001B[38;5;28;01myield from\u001B[39;00m \u001B[38;5;28mself\u001B[39m._client.chat(**chat_params)\n\u001B[32m    590\u001B[39m \u001B[38;5;28;01melse\u001B[39;00m:\n\u001B[32m    591\u001B[39m     \u001B[38;5;28;01myield\u001B[39;00m \u001B[38;5;28mself\u001B[39m._client.chat(**chat_params)\n",
      "\u001B[36mFile \u001B[39m\u001B[32m~/Library/Caches/pypoetry/virtualenvs/langchain-kr-uLcZw9jp-py3.11/lib/python3.11/site-packages/ollama/_client.py:168\u001B[39m, in \u001B[36mClient._request.<locals>.inner\u001B[39m\u001B[34m()\u001B[39m\n\u001B[32m    166\u001B[39m \u001B[38;5;28;01mexcept\u001B[39;00m httpx.HTTPStatusError \u001B[38;5;28;01mas\u001B[39;00m e:\n\u001B[32m    167\u001B[39m   e.response.read()\n\u001B[32m--> \u001B[39m\u001B[32m168\u001B[39m   \u001B[38;5;28;01mraise\u001B[39;00m ResponseError(e.response.text, e.response.status_code) \u001B[38;5;28;01mfrom\u001B[39;00m\u001B[38;5;250m \u001B[39m\u001B[38;5;28;01mNone\u001B[39;00m\n\u001B[32m    170\u001B[39m \u001B[38;5;28;01mfor\u001B[39;00m line \u001B[38;5;129;01min\u001B[39;00m r.iter_lines():\n\u001B[32m    171\u001B[39m   part = json.loads(line)\n",
      "\u001B[31mResponseError\u001B[39m: registry.ollama.ai/library/qwen-2.5:latest does not support tools (status code: 400)"
     ]
    }
   ],
   "execution_count": 95
  },
  {
   "metadata": {},
   "cell_type": "code",
   "outputs": [],
   "execution_count": null,
   "source": ""
  },
  {
   "metadata": {},
   "cell_type": "code",
   "outputs": [],
   "execution_count": null,
   "source": ""
  }
 ],
 "metadata": {
  "kernelspec": {
   "display_name": "langchain-kr-lwwSZlnu-py3.11",
   "language": "python",
   "name": "python3"
  },
  "language_info": {
   "codemirror_mode": {
    "name": "ipython",
    "version": 3
   },
   "file_extension": ".py",
   "mimetype": "text/x-python",
   "name": "python",
   "nbconvert_exporter": "python",
   "pygments_lexer": "ipython3",
   "version": "3.11.9"
  }
 },
 "nbformat": 4,
 "nbformat_minor": 2
}
