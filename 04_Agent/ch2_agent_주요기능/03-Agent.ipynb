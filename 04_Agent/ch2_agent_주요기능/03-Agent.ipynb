{
 "cells": [
  {
   "cell_type": "markdown",
   "metadata": {},
   "source": [
    "# 도구 호출 에이전트(Tool Calling Agent)\n",
    "\n",
    "도구 호출을 사용하면 모델이 하나 이상의 **도구(tool)** 가 **호출되어야 하는 시기를 감지하고 해당 도구에 전달해야 하는 입력** 으로 전달할 수 있습니다. \n",
    "\n",
    "API 호출에서 도구를 설명하고 모델이 이러한 도구를 호출하기 위한 인수가 포함된 JSON과 같은 구조화된 객체를 출력하도록 지능적으로 선택할 수 있습니다. \n",
    "\n",
    "도구 API 의 목표는 일반 텍스트 완성이나 채팅 API를 사용하여 수행할 수 있는 것보다 더 안정적으로 유효하고 유용한 **도구 호출(tool call)** 을 반환하는 것입니다.\n",
    "\n",
    "이러한 구조화된 출력을 도구 호출 채팅 모델에 여러 도구를 바인딩하고 모델이 호출할 도구를 선택할 수 있다는 사실과 결합하여 쿼리가 해결될 때까지 반복적으로 도구를 호출하고 결과를 수신하는 에이전트를 만들 수 있습니다.\n",
    "\n",
    "이것은 OpenAI 의 특정 도구 호출 스타일에 맞게 설계된 OpenAI 도구 에이전트의 보다 **일반화된 버전** 입니다.\n",
    "\n",
    " 이 에이전트는 LangChain의 ToolCall 인터페이스를 사용하여 OpenAI 외에도 `Anthropic`, `Google Gemini`, `Mistral`과 같은 더 광범위한 공급자 구현을 지원합니다.\n",
    "\n",
    "**참고 링크**\n",
    "\n",
    "- [LangChain 공식 도큐먼트](https://python.langchain.com/v0.1/docs/modules/agents/agent_types/tool_calling/)\n",
    "\n",
    "![](./assets/agent-concept.png)"
   ]
  },
  {
   "cell_type": "code",
   "metadata": {
    "ExecuteTime": {
     "end_time": "2025-03-25T08:58:16.951137Z",
     "start_time": "2025-03-25T08:58:16.826350Z"
    }
   },
   "source": [
    "# API 키를 환경변수로 관리하기 위한 설정 파일\n",
    "from dotenv import load_dotenv\n",
    "\n",
    "# API 키 정보 로드\n",
    "load_dotenv()"
   ],
   "outputs": [
    {
     "data": {
      "text/plain": [
       "True"
      ]
     },
     "execution_count": 15,
     "metadata": {},
     "output_type": "execute_result"
    }
   ],
   "execution_count": 15
  },
  {
   "cell_type": "code",
   "metadata": {
    "ExecuteTime": {
     "end_time": "2025-03-25T08:58:18.063657Z",
     "start_time": "2025-03-25T08:58:17.775615Z"
    }
   },
   "source": [
    "from datetime import datetime\n",
    "from langchain.tools import tool\n",
    "from typing import List, Dict, Annotated\n",
    "from langchain_teddynote.tools import GoogleNews\n",
    "from langchain_experimental.utilities import PythonREPL\n",
    "\n",
    "\n",
    "# 도구 생성\n",
    "@tool\n",
    "def search_news(query: str) -> List[Dict[str, str]]:\n",
    "    \"\"\"Search Google News by input keyword\"\"\"\n",
    "    news_tool = GoogleNews()\n",
    "    return news_tool.search_by_keyword(query, k=5)\n",
    "\n",
    "\n",
    "# 도구 생성\n",
    "@tool\n",
    "def python_repl_tool(\n",
    "    code: Annotated[str, \"The python code to execute to generate your chart.\"],\n",
    "):\n",
    "    \"\"\"Use this to execute python code. If you want to see the output of a value,\n",
    "    you should print it out with `print(...)`. This is visible to the user.\"\"\"\n",
    "    result = \"\"\n",
    "    try:\n",
    "        result = PythonREPL().run(code)\n",
    "    except BaseException as e:\n",
    "        print(f\"Failed to execute. Error: {repr(e)}\")\n",
    "    finally:\n",
    "        return result\n",
    "\n",
    "@tool\n",
    "def get_current_time():\n",
    "    \"\"\"Use this to get current date or time\"\"\"\n",
    "    return datetime.now()\n",
    "\n",
    "print(f\"도구 이름: {search_news.name}\")\n",
    "print(f\"도구 설명: {search_news.description}\")\n",
    "print(f\"도구 이름: {python_repl_tool.name}\")\n",
    "print(f\"도구 설명: {python_repl_tool.description}\")"
   ],
   "outputs": [
    {
     "name": "stdout",
     "output_type": "stream",
     "text": [
      "도구 이름: search_news\n",
      "도구 설명: Search Google News by input keyword\n",
      "도구 이름: python_repl_tool\n",
      "도구 설명: Use this to execute python code. If you want to see the output of a value,\n",
      "    you should print it out with `print(...)`. This is visible to the user.\n"
     ]
    }
   ],
   "execution_count": 16
  },
  {
   "cell_type": "code",
   "metadata": {},
   "source": [
    "# tools 정의\n",
    "tools = [search_news, python_repl_tool, get_current_time]"
   ],
   "outputs": [],
   "execution_count": null
  },
  {
   "cell_type": "markdown",
   "metadata": {},
   "source": [
    "## Agent 프롬프트 생성\n",
    "\n",
    "- `chat_history` : 이전 대화 내용을 저장하는 변수 (멀티턴을 지원하지 않는다면, 생략 가능합니다.)\n",
    "- `agent_scratchpad` : 에이전트가 임시로 저장하는 변수\n",
    "- `input` : 사용자의 입력"
   ]
  },
  {
   "cell_type": "code",
   "metadata": {
    "ExecuteTime": {
     "end_time": "2025-03-25T08:58:56.175119Z",
     "start_time": "2025-03-25T08:58:56.167253Z"
    }
   },
   "source": [
    "from langchain_core.prompts import ChatPromptTemplate, MessagesPlaceholder\n",
    "\n",
    "# 프롬프트 생성\n",
    "# 프롬프트는 에이전트에게 모델이 수행할 작업을 설명하는 텍스트를 제공합니다. (도구의 이름과 역할을 입력)\n",
    "prompt = ChatPromptTemplate.from_messages(\n",
    "    [\n",
    "        (\n",
    "            \"system\",\n",
    "            \"You are a helpful assistant. \"\n",
    "            \"Make sure to use the `search_news` tool for searching keyword related news.\",\n",
    "        ),\n",
    "        (\"placeholder\", \"{chat_history}\"),\n",
    "        (\"human\", \"{input}\"),\n",
    "        (\"placeholder\", \"{agent_scratchpad}\"),\n",
    "    ]\n",
    ")"
   ],
   "outputs": [],
   "execution_count": 17
  },
  {
   "cell_type": "markdown",
   "metadata": {},
   "source": [
    "## Agent 생성"
   ]
  },
  {
   "cell_type": "code",
   "metadata": {
    "ExecuteTime": {
     "end_time": "2025-03-25T08:59:00.788328Z",
     "start_time": "2025-03-25T08:59:00.602035Z"
    }
   },
   "source": [
    "from langchain_openai import ChatOpenAI\n",
    "from langchain.agents import create_tool_calling_agent\n",
    "\n",
    "# LLM 정의\n",
    "llm = ChatOpenAI(model=\"gpt-4o-mini\", temperature=0)\n",
    "\n",
    "# Agent 생성\n",
    "agent = create_tool_calling_agent(llm, tools, prompt)"
   ],
   "outputs": [],
   "execution_count": 18
  },
  {
   "cell_type": "markdown",
   "metadata": {},
   "source": [
    "## AgentExecutor\n",
    "\n",
    "AgentExecutor는 도구를 사용하는 에이전트를 실행하는 클래스입니다.\n",
    "\n",
    "**주요 속성**\n",
    "- `agent`: 실행 루프의 각 단계에서 계획을 생성하고 행동을 결정하는 에이전트\n",
    "- `tools`: 에이전트가 사용할 수 있는 유효한 도구 목록\n",
    "- `return_intermediate_steps`: 최종 출력과 함께 에이전트의 중간 단계 경로를 반환할지 여부\n",
    "- `max_iterations`: 실행 루프를 종료하기 전 최대 단계 수\n",
    "- `max_execution_time`: 실행 루프에 소요될 수 있는 최대 시간\n",
    "- `early_stopping_method`: 에이전트가 `AgentFinish`를 반환하지 않을 때 사용할 조기 종료 방법. (\"force\" or \"generate\")\n",
    "  - `\"force\"` 는 시간 또는 반복 제한에 도달하여 중지되었다는 문자열을 반환합니다.\n",
    "  - `\"generate\"` 는 에이전트의 LLM 체인을 마지막으로 한 번 호출하여 이전 단계에 따라 최종 답변을 생성합니다.\n",
    "- `handle_parsing_errors`: 에이전트의 출력 파서에서 발생한 오류 처리 방법. (True, False, 또는 오류 처리 함수)\n",
    "- `trim_intermediate_steps`: 중간 단계를 트리밍하는 방법. (-1 trim 하지 않음, 또는 트리밍 함수)\n",
    "\n",
    "**주요 메서드**\n",
    "1. `invoke`: 에이전트 실행\n",
    "2. `stream`: 최종 출력에 도달하는 데 필요한 단계를 스트리밍\n",
    "\n",
    "**주요 기능**\n",
    "1. **도구 검증**: 에이전트와 호환되는 도구인지 확인\n",
    "2. **실행 제어**: 최대 반복 횟수 및 실행 시간 제한 설정 가능\n",
    "3. **오류 처리**: 출력 파싱 오류에 대한 다양한 처리 옵션 제공\n",
    "4. **중간 단계 관리**: 중간 단계 트리밍 및 반환 옵션\n",
    "5. **비동기 지원**: 비동기 실행 및 스트리밍 지원\n",
    "\n",
    "**최적화 팁**\n",
    "- `max_iterations`와 `max_execution_time`을 적절히 설정하여 실행 시간 관리\n",
    "- `trim_intermediate_steps`를 활용하여 메모리 사용량 최적화\n",
    "- 복잡한 작업의 경우 `stream` 메서드를 사용하여 단계별 결과 모니터링"
   ]
  },
  {
   "cell_type": "code",
   "metadata": {
    "ExecuteTime": {
     "end_time": "2025-03-25T08:59:30.147099Z",
     "start_time": "2025-03-25T08:59:26.840717Z"
    }
   },
   "source": [
    "import langchain\n",
    "langchain.debug = False\n",
    "from langchain.agents import AgentExecutor\n",
    "\n",
    "# AgentExecutor 생성\n",
    "agent_executor = AgentExecutor(\n",
    "    agent=agent,\n",
    "    tools=tools,\n",
    "    verbose=True,\n",
    "    max_iterations=10,\n",
    "    max_execution_time=10,\n",
    "    handle_parsing_errors=True,\n",
    ")\n",
    "\n",
    "# AgentExecutor 실행\n",
    "result = agent_executor.invoke({\"input\": \"현재 시간은?\"})\n",
    "\n",
    "print(\"Agent 실행 결과:\")\n",
    "print(result[\"output\"])"
   ],
   "outputs": [
    {
     "name": "stdout",
     "output_type": "stream",
     "text": [
      "\n",
      "\n",
      "\u001B[1m> Entering new AgentExecutor chain...\u001B[0m\n",
      "\u001B[32;1m\u001B[1;3m\n",
      "Invoking: `get_current_time` with `{}`\n",
      "\n",
      "\n",
      "\u001B[0m\u001B[38;5;200m\u001B[1;3m2025-03-25 17:59:28.268962\u001B[0m\u001B[32;1m\u001B[1;3m현재 시간은 2025년 3월 25일 17시 59분입니다.\u001B[0m\n",
      "\n",
      "\u001B[1m> Finished chain.\u001B[0m\n",
      "Agent 실행 결과:\n",
      "현재 시간은 2025년 3월 25일 17시 59분입니다.\n"
     ]
    }
   ],
   "execution_count": 19
  },
  {
   "metadata": {},
   "cell_type": "markdown",
   "source": [
    "현재 시간에 대한 LangSmith 로그\n",
    "\n",
    "https://smith.langchain.com/public/899bba2c-0d98-4036-8d23-2921e3fa5959/r\n"
   ]
  },
  {
   "metadata": {
    "ExecuteTime": {
     "end_time": "2025-03-25T09:00:24.561685Z",
     "start_time": "2025-03-25T08:59:59.560962Z"
    }
   },
   "cell_type": "code",
   "source": [
    "result = agent_executor.invoke({\"input\": \"어제 주요 뉴스 알려줘\"})\n",
    "\n",
    "print(\"Agent 실행 결과:\")\n",
    "print(result[\"output\"])"
   ],
   "outputs": [
    {
     "name": "stdout",
     "output_type": "stream",
     "text": [
      "\n",
      "\n",
      "\u001B[1m> Entering new AgentExecutor chain...\u001B[0m\n",
      "\u001B[32;1m\u001B[1;3m\n",
      "Invoking: `get_current_time` with `{}`\n",
      "\n",
      "\n",
      "\u001B[0m\u001B[38;5;200m\u001B[1;3m2025-03-25 18:00:00.730731\u001B[0m\u001B[32;1m\u001B[1;3m\n",
      "Invoking: `search_news` with `{'query': '2025-03-24'}`\n",
      "\n",
      "\n",
      "\u001B[0m\u001B[36;1m\u001B[1;3m[{'url': 'https://news.google.com/rss/articles/CBMiUEFVX3lxTFBfM3R5MlFPMGdBb2FuYlJrMTBhWXU3RURPTUR6TF9LbnU1X1F6eDVfNVdScVF3VUs0WWhtdVhzbW9fckE5czJoVlBLazJGU2I2?oc=5', 'content': 'SPC 인사이트 토크: 프랑스어 일타 강사 정일영 편🇫🇷🥖 - SPC매거진'}, {'url': 'https://news.google.com/rss/articles/CBMi2wNBVV95cUxPNThQQnh5UFh4dkY4SlN1X3d3LURjeDFRQWU5Sjdwai0wb3NvTGdBWmFKMWJnMThoMkFaOUQ3NF9aSElucGxnR3RRaUtuVHpXaXl4RGVoemc5bFMzNWdFVHVLQnZxaWxzWUNXYW9QZkJHdDNZNUxQWEVPNGMwNl8ySGE3TE5teU9vMDE5aVlzODQ2RTRsVnFsVHlRZF9tSjdnVGNBTURuaU1rRVhLOWFxSGo2UmZZNXV4alhrZ0dST2I1RURzS1RDeFNYS2o5QW11eURWbTJmQV9UQXhmUVEtaFd5b3NVX2ZVdU5ROUdzdjhpSDNrb2UwRHJfRS1KSzNnYm9HUkVnZjl3V3Rjb1ZyM2JhVFhRT2dwRlJzUUE5WmdPRkptV2FpaXRxMTNmcmhEZ0hZenVYRlZOWjhmSk1uTl9TLWRiY0toQUh5eWFmNU00MTVmSlNRczE2eTBFZk9MUDA5am9oYWVvSG81QUVoVGtBN1ZILW4zTVNTZkNtTk1fb2ctel9RTkZaQ2VVSEdaYmxIU0FVTnR5Z0JaUTlSRXJHX0ZkZGJPY3pZWVA2bjdBV2dSbXJjMDVaWVh2bUM0UjlzU0RoaVVkTWI5clZqRWVZWmxkcTVvSXk0?oc=5', 'content': '부경대 학칙 논란 끝 삭제..\"학내 민주주의 보장\" 목소리 (2025-03-24,월/뉴스데스크/부산MBC) - MSN'}, {'url': 'https://news.google.com/rss/articles/CBMiT0FVX3lxTE5oZTI5b3RuX0NOZk9HVXVxUUF6M0RRSTBMRnpTeW84UGZnM3NCX0ZLejdXOGxhT2NYX25GS3YzaDY2N1RBdjFhV2toZlhUc1k?oc=5', 'content': '[업데이트 노트] 그리드 AI 자동주문 및 커뮤니티 이동 기능 추가 - 코인원'}, {'url': 'https://news.google.com/rss/articles/CBMikAFBVV95cUxPN3hITncyWlBOZktma1RSRnYwVC13MnhuWkliZmpvbXdNREJ2X0drU1VYd0pORVBnSGNQWmNyTnA4eFVEM1dHYi1pVmoyZFVfMGpiTVZ0aWRnRkZmNGtSSVdPd0ExS3VZdFVmUi1WdzdPQWhUbi1hWHJDWHIzbGcyQ0wxZnlidkt1dFFVUFFIemLSAaQBQVVfeXFMT05jNlRCOFVVaWxOQkxDc0U2aUo2eTdMY3NWa3pTVUpidEVSUElEQTBmalQ5d1MtLXV2Mmh5ajVvaUY3S0dFMWxmRWlWVGlaNWtYUF9YMktza3czNGpOcTUzaGVkZFhjLWZRRUxsNklGQTlRNXRUMHVHYzVORExUSEZXYktobE96Qm5pOTF2ajJubGlFblhfallMSmZraUkyUEhvVWU?oc=5', 'content': '[단독] 민노총이 6년간 공짜로 쓴 경기노동복지센터, 다른 민간기관에 개방 - 조선일보'}, {'url': 'https://news.google.com/rss/articles/CBMiW0FVX3lxTE44eWY5R2tFOWZHTF9rVXdXMC1nMG5HSWhoWkxmNWQ1MnNHd01XcE80S1AzUkt6QVBMMXloa0kzdl9TZjEtUEQ1MnFmd3hFa2JzWldfaFFKdkYyNk0?oc=5', 'content': '[속보] 美당국자 \"현대車, 24일 29조원 규모 대미 투자 발표\" - 연합뉴스'}]\u001B[0m\u001B[32;1m\u001B[1;3m어제인 2025년 3월 24일의 주요 뉴스는 다음과 같습니다:\n",
      "\n",
      "1. **프랑스어 일타 강사 정일영 편** - SPC 인사이트 토크에서 프랑스어 강사 정일영에 대한 이야기가 다뤄졌습니다. [자세히 보기](https://news.google.com/rss/articles/CBMiUEFVX3lxTFBfM3R5MlFPMGdBb2FuYlJrMTBhWXU3RURPTUR6TF9LbnU1X1F6eDVfNVdScVF3VUs0WWhtdVhzbW9fckE5czJoVlBLazJGU2I2?oc=5)\n",
      "\n",
      "2. **부경대 학칙 논란** - 부경대학교의 학칙이 삭제되었으며, 학내 민주주의 보장에 대한 목소리가 커지고 있습니다. [자세히 보기](https://news.google.com/rss/articles/CBMi2wNBVV95cUxPNThQQnh5UFh4dkY4SlN1X3d3LURjeDFRQWU5Sjdwai0wb3NvTGdBWmFKMWJnMThoMkFaOUQ3NF9aSElucGxnR3RRaUtuVHpXaXl4RGVoemc5bFMzNWdFVHVLQnZxaWxzWUNXYW9QZkJHdDNZNUxQWEVPNGMwNl8ySGE3TE5teU9vMDE5aVlzODQ2RTRsVnFsVHlRZF9tSjdnVGNBTURuaU1rRVhLOWFxSGo2UmZZNXV4alhrZ0dST2I1RURzS1RDeFNYS2o5QW11eURWbTJmQV9UQXhmUVEtaFd5b3NVX2ZVdU5ROUdzdjhpSDNrb2UwRHJfRS1KSzNnYm9HUkVnZjl3V3Rjb1ZyM2JhVFhRT2dwRlJzUUE5WmdPRkptV2FpaXRxMTNmcmhEZ0hZenVYRlZOWjhmSk1uTl9TLWRiY0toQUh5eWFmNU00MTVmSlNRczE2eTBFZk9MUDA5am9oYWVvSG81QUVoVGtBN1ZILW4zTVNTZkNtTk1fb2ctel9RTkZaQ2VVSEdaYmxIU0FVTnR5Z0JaUTlSRXJHX0ZkZGJPY3pZWVA2bjdBV2dSbXJjMDVaWVh2bUM0UjlzU0RoaVVkTWI5clZqRWVZWmxkcTVvSXk0?oc=5)\n",
      "\n",
      "3. **그리드 AI 자동주문 및 커뮤니티 이동 기능 추가** - 코인원에서 업데이트 노트를 발표했습니다. [자세히 보기](https://news.google.com/rss/articles/CBMiT0FVX3lxTE5oZTI5b3RuX0NOZk9HVXVxUUF6M0RRSTBMRnpTeW84UGZnM3NCX0ZLejdXOGxhT2NYX25GS3YzaDY2N1RBdjFhV2toZlhUc1k?oc=5)\n",
      "\n",
      "4. **민노총이 6년간 공짜로 쓴 경기노동복지센터** - 민노총이 경기노동복지센터를 무료로 사용한 사실이 보도되었습니다. [자세히 보기](https://news.google.com/rss/articles/CBMikAFBVV95cUxPN3hITncyWlBOZktma1RSRnYwVC13MnhuWkliZmpvbXdNREJ2X0drU1VYd0pORVBnSGNQWmNyTnA4eFVEM1dHYi1pVmoyZFVfMGpiTVZ0aWRnRkZmNGtSSVdPd0ExS3VZdFVmUi1WdzdPQWhUbi1hWHJDWHIzbGcyQ0wxZnlidkt1dFFVUFFIemLSAaQBQVVfeXFMT05jNlRCOFVVaWxOQkxDc0U2aUo2eTdMY3NWa3pTVUpidEVSUElEQTBmalQ5d1MtLXV2Mmh5ajVvaUY3S0dFMWxmRWlWVGlaNWtYUF9YMktza3czNGpOcTUzaGVkZFhjLWZRRUxsNklGQTlRNXRUMHVHYzVORExUSEZXYktobE96Qm5pOTF2ajJubGlFblhfallMSmZraUkyUEhvVWU?oc=5)\n",
      "\n",
      "5. **현대차, 24일 29조원 규모 대미 투자 발표** - 미국 당국자가 현대차의 대미 투자 발표에 대해 언급했습니다. [자세히 보기](https://news.google.com/rss/articles/CBMiW0FVX3lxTE44eWY5R2tFOWZHTF9rVXdXMC1nMG5HSWhoWkxmNWQ1MnNHd01XcE80S1AzUkt6QVBMMXloa0kzdl9TZjEtUEQ1MnFmd3hFa2JzWldfaFFKdkYyNk0?oc=5)\n",
      "\n",
      "이 뉴스들은 어제의 주요 이슈들을 반영하고 있습니다.\u001B[0m\n",
      "\n",
      "\u001B[1m> Finished chain.\u001B[0m\n",
      "Agent 실행 결과:\n",
      "어제인 2025년 3월 24일의 주요 뉴스는 다음과 같습니다:\n",
      "\n",
      "1. **프랑스어 일타 강사 정일영 편** - SPC 인사이트 토크에서 프랑스어 강사 정일영에 대한 이야기가 다뤄졌습니다. [자세히 보기](https://news.google.com/rss/articles/CBMiUEFVX3lxTFBfM3R5MlFPMGdBb2FuYlJrMTBhWXU3RURPTUR6TF9LbnU1X1F6eDVfNVdScVF3VUs0WWhtdVhzbW9fckE5czJoVlBLazJGU2I2?oc=5)\n",
      "\n",
      "2. **부경대 학칙 논란** - 부경대학교의 학칙이 삭제되었으며, 학내 민주주의 보장에 대한 목소리가 커지고 있습니다. [자세히 보기](https://news.google.com/rss/articles/CBMi2wNBVV95cUxPNThQQnh5UFh4dkY4SlN1X3d3LURjeDFRQWU5Sjdwai0wb3NvTGdBWmFKMWJnMThoMkFaOUQ3NF9aSElucGxnR3RRaUtuVHpXaXl4RGVoemc5bFMzNWdFVHVLQnZxaWxzWUNXYW9QZkJHdDNZNUxQWEVPNGMwNl8ySGE3TE5teU9vMDE5aVlzODQ2RTRsVnFsVHlRZF9tSjdnVGNBTURuaU1rRVhLOWFxSGo2UmZZNXV4alhrZ0dST2I1RURzS1RDeFNYS2o5QW11eURWbTJmQV9UQXhmUVEtaFd5b3NVX2ZVdU5ROUdzdjhpSDNrb2UwRHJfRS1KSzNnYm9HUkVnZjl3V3Rjb1ZyM2JhVFhRT2dwRlJzUUE5WmdPRkptV2FpaXRxMTNmcmhEZ0hZenVYRlZOWjhmSk1uTl9TLWRiY0toQUh5eWFmNU00MTVmSlNRczE2eTBFZk9MUDA5am9oYWVvSG81QUVoVGtBN1ZILW4zTVNTZkNtTk1fb2ctel9RTkZaQ2VVSEdaYmxIU0FVTnR5Z0JaUTlSRXJHX0ZkZGJPY3pZWVA2bjdBV2dSbXJjMDVaWVh2bUM0UjlzU0RoaVVkTWI5clZqRWVZWmxkcTVvSXk0?oc=5)\n",
      "\n",
      "3. **그리드 AI 자동주문 및 커뮤니티 이동 기능 추가** - 코인원에서 업데이트 노트를 발표했습니다. [자세히 보기](https://news.google.com/rss/articles/CBMiT0FVX3lxTE5oZTI5b3RuX0NOZk9HVXVxUUF6M0RRSTBMRnpTeW84UGZnM3NCX0ZLejdXOGxhT2NYX25GS3YzaDY2N1RBdjFhV2toZlhUc1k?oc=5)\n",
      "\n",
      "4. **민노총이 6년간 공짜로 쓴 경기노동복지센터** - 민노총이 경기노동복지센터를 무료로 사용한 사실이 보도되었습니다. [자세히 보기](https://news.google.com/rss/articles/CBMikAFBVV95cUxPN3hITncyWlBOZktma1RSRnYwVC13MnhuWkliZmpvbXdNREJ2X0drU1VYd0pORVBnSGNQWmNyTnA4eFVEM1dHYi1pVmoyZFVfMGpiTVZ0aWRnRkZmNGtSSVdPd0ExS3VZdFVmUi1WdzdPQWhUbi1hWHJDWHIzbGcyQ0wxZnlidkt1dFFVUFFIemLSAaQBQVVfeXFMT05jNlRCOFVVaWxOQkxDc0U2aUo2eTdMY3NWa3pTVUpidEVSUElEQTBmalQ5d1MtLXV2Mmh5ajVvaUY3S0dFMWxmRWlWVGlaNWtYUF9YMktza3czNGpOcTUzaGVkZFhjLWZRRUxsNklGQTlRNXRUMHVHYzVORExUSEZXYktobE96Qm5pOTF2ajJubGlFblhfallMSmZraUkyUEhvVWU?oc=5)\n",
      "\n",
      "5. **현대차, 24일 29조원 규모 대미 투자 발표** - 미국 당국자가 현대차의 대미 투자 발표에 대해 언급했습니다. [자세히 보기](https://news.google.com/rss/articles/CBMiW0FVX3lxTE44eWY5R2tFOWZHTF9rVXdXMC1nMG5HSWhoWkxmNWQ1MnNHd01XcE80S1AzUkt6QVBMMXloa0kzdl9TZjEtUEQ1MnFmd3hFa2JzWldfaFFKdkYyNk0?oc=5)\n",
      "\n",
      "이 뉴스들은 어제의 주요 이슈들을 반영하고 있습니다.\n"
     ]
    }
   ],
   "execution_count": 20
  },
  {
   "metadata": {},
   "cell_type": "markdown",
   "source": "LangSmith: https://smith.langchain.com/public/a3f7eadd-61cb-4aea-aaf5-4bf001436306/r"
  },
  {
   "cell_type": "markdown",
   "metadata": {},
   "source": [
    "## Stream 출력으로 단계별 결과 확인\n",
    "\n",
    "AgentExecutor의 `stream()` 메소드를 사용하여 에이전트의 중간 단계를 스트리밍할 것입니다.\n",
    "\n",
    "`stream()`의 출력은 (Action, Observation) 쌍 사이에서 번갈아 나타나며, 최종적으로 에이전트가 목표를 달성했다면 답변으로 마무리됩니다.\n",
    "\n",
    "다음과 같은 형태로 보일 것입니다.\n",
    "\n",
    "1. Action 출력\n",
    "2. Observation 출력\n",
    "3. Action 출력\n",
    "4. Observation 출력\n",
    "\n",
    "... (목표 달성까지 계속) ...\n",
    "\n",
    "그 다음, 최종 목표가 달성되면 에이전트는 최종 답변을 출력할 것입니다.\n",
    "\n",
    "이러한 출력의 내용은 다음과 같이 요약됩니다.\n",
    "\n",
    "| 출력 | 내용 |\n",
    "|--------|----------|\n",
    "| Action | `actions`: AgentAction 또는 그 하위 클래스<br>`messages`: 액션 호출에 해당하는 채팅 메시지 |\n",
    "| Observation | `steps`: 현재 액션과 그 관찰을 포함한 에이전트가 지금까지 수행한 작업의 기록<br>`messages`: 함수 호출 결과(즉, 관찰)를 포함한 채팅 메시지 |\n",
    "| Final Answer | `output`: AgentFinish<br>`messages`: 최종 출력을 포함한 채팅 메시지 |\n",
    "```"
   ]
  },
  {
   "cell_type": "code",
   "metadata": {
    "ExecuteTime": {
     "end_time": "2025-03-25T09:04:39.438268Z",
     "start_time": "2025-03-25T09:04:39.434927Z"
    }
   },
   "source": [
    "from langchain.agents import AgentExecutor\n",
    "\n",
    "# AgentExecutor 생성\n",
    "agent_executor = AgentExecutor(\n",
    "    agent=agent,\n",
    "    tools=tools,\n",
    "    verbose=False,\n",
    "    handle_parsing_errors=True,\n",
    ")"
   ],
   "outputs": [],
   "execution_count": 21
  },
  {
   "cell_type": "code",
   "metadata": {
    "ExecuteTime": {
     "end_time": "2025-03-25T09:05:10.813969Z",
     "start_time": "2025-03-25T09:04:48.022254Z"
    }
   },
   "source": [
    "# 스트리밍 모드로 실행합니다\n",
    "result = agent_executor.stream({\"input\": \"AI 투자와 관련된 뉴스를 검색해 주세요.\"})\n",
    "\n",
    "for step in result:\n",
    "    # 중간 단계 출력\n",
    "    print(step)\n",
    "    print(\"===\" * 20)"
   ],
   "outputs": [
    {
     "name": "stdout",
     "output_type": "stream",
     "text": [
      "{'actions': [ToolAgentAction(tool='search_news', tool_input={'query': 'AI 투자'}, log=\"\\nInvoking: `search_news` with `{'query': 'AI 투자'}`\\n\\n\\n\", message_log=[AIMessageChunk(content='', additional_kwargs={'tool_calls': [{'index': 0, 'id': 'call_7QqvZksF9HRMnbsjCrst9Z9Y', 'function': {'arguments': '{\"query\":\"AI 투자\"}', 'name': 'search_news'}, 'type': 'function'}]}, response_metadata={'finish_reason': 'tool_calls', 'model_name': 'gpt-4o-mini-2024-07-18', 'system_fingerprint': 'fp_b8bc95a0ac'}, id='run-ca651ba8-ad3b-490d-9add-d0191bfce767', tool_calls=[{'name': 'search_news', 'args': {'query': 'AI 투자'}, 'id': 'call_7QqvZksF9HRMnbsjCrst9Z9Y', 'type': 'tool_call'}], tool_call_chunks=[{'name': 'search_news', 'args': '{\"query\":\"AI 투자\"}', 'id': 'call_7QqvZksF9HRMnbsjCrst9Z9Y', 'index': 0, 'type': 'tool_call_chunk'}])], tool_call_id='call_7QqvZksF9HRMnbsjCrst9Z9Y')], 'messages': [AIMessageChunk(content='', additional_kwargs={'tool_calls': [{'index': 0, 'id': 'call_7QqvZksF9HRMnbsjCrst9Z9Y', 'function': {'arguments': '{\"query\":\"AI 투자\"}', 'name': 'search_news'}, 'type': 'function'}]}, response_metadata={'finish_reason': 'tool_calls', 'model_name': 'gpt-4o-mini-2024-07-18', 'system_fingerprint': 'fp_b8bc95a0ac'}, id='run-ca651ba8-ad3b-490d-9add-d0191bfce767', tool_calls=[{'name': 'search_news', 'args': {'query': 'AI 투자'}, 'id': 'call_7QqvZksF9HRMnbsjCrst9Z9Y', 'type': 'tool_call'}], tool_call_chunks=[{'name': 'search_news', 'args': '{\"query\":\"AI 투자\"}', 'id': 'call_7QqvZksF9HRMnbsjCrst9Z9Y', 'index': 0, 'type': 'tool_call_chunk'}])]}\n",
      "============================================================\n",
      "{'steps': [AgentStep(action=ToolAgentAction(tool='search_news', tool_input={'query': 'AI 투자'}, log=\"\\nInvoking: `search_news` with `{'query': 'AI 투자'}`\\n\\n\\n\", message_log=[AIMessageChunk(content='', additional_kwargs={'tool_calls': [{'index': 0, 'id': 'call_7QqvZksF9HRMnbsjCrst9Z9Y', 'function': {'arguments': '{\"query\":\"AI 투자\"}', 'name': 'search_news'}, 'type': 'function'}]}, response_metadata={'finish_reason': 'tool_calls', 'model_name': 'gpt-4o-mini-2024-07-18', 'system_fingerprint': 'fp_b8bc95a0ac'}, id='run-ca651ba8-ad3b-490d-9add-d0191bfce767', tool_calls=[{'name': 'search_news', 'args': {'query': 'AI 투자'}, 'id': 'call_7QqvZksF9HRMnbsjCrst9Z9Y', 'type': 'tool_call'}], tool_call_chunks=[{'name': 'search_news', 'args': '{\"query\":\"AI 투자\"}', 'id': 'call_7QqvZksF9HRMnbsjCrst9Z9Y', 'index': 0, 'type': 'tool_call_chunk'}])], tool_call_id='call_7QqvZksF9HRMnbsjCrst9Z9Y'), observation=[{'url': 'https://news.google.com/rss/articles/CBMiWkFVX3lxTE1hSmg1YXE0Wl9tc0FDN0dvaG9Sd1JDRE9iY2l1ejhsQ19NNVZkUVRKUWlOamtCeTFjTHFRazJ4SFVuTm1GVkk5ekktWHhaczNfRE9CMG1PaWJRUdIBXEFVX3lxTE9MS2Q0NWZuYW95R3kwNWdrcC1BeC1JMG41R05BeVJGcmtxd3U3WWgzZUJHYzlKV0FZVDI4LXlyTmtKVXJyZGl6dWRtczd6OU00bzY2VlpmSE9QMXMz?oc=5', 'content': 'SKT, AI 스타트업 투자 통한 우군 확보…‘투게더 AI’ 협력 - 경향신문'}, {'url': 'https://news.google.com/rss/articles/CBMiU0FVX3lxTE1TU29IbjUtZ1VBM3E3ZjEyODZYNm04R2I1aVJoOGsxZHktUElOYU1XWHJ5bVA0VWI0ZWVlVnRxMlVHOGNDaFJsSHFtX00takh6R1NN?oc=5', 'content': '퓨리오사AI, 메타 인수 제안 거절…\"투자 유치해 독자적 AI 칩 개발\" - 네이트 뉴스'}, {'url': 'https://news.google.com/rss/articles/CBMihgFBVV95cUxPNWhPdm9OdDcyQ0cxNlJQLTY4SGNReEhpWmcwOXd2ME8wTV9qUVJMTTU0VHJSZ184Q0tQamR4eTZkZENQVGpzdHBiOEowRG15X0plUFE3ejFQU1dMMzdBOVZGV3l6Y0lTcmo2TFJBdHJVU0xhaTd1YkJEVm5SdFZsc3BRZUo1d9IBmgFBVV95cUxOUkozLWs4Y3JlWFloanhoZ1huanNDTnVOSm1pRTlvWF9sRlZnNG1qNlJfQUloU0JnLWczMUZWVGFCVjJLaFdDdFpZZnUwb3V4LVJPdU1mRHJoUExEWDZrSGZhaEU0VG9WRldNWWpTX19DTXFoNDFiTkxnTGhDcEY0dGVQRFhydWRHOUlpbTBjc0N5RjNVVmpiSUln?oc=5', 'content': '유발 하라리 만난 이재명 “K엔비디아처럼... 국가가 AI투자, 이익 나눠야” - 조선일보'}, {'url': 'https://news.google.com/rss/articles/CBMiakFVX3lxTE9BYnFneXhETW1OdHEwelk5dmJVWUROODZoQkFIanlzVUZsSVo2R0pvN3VYQU1QWUhNVklyc0lrTC1VVTVjdFdvRFVQdS1zSHRHRjlXVGZKSy1QMURJN1BIdDMwdS14THRYTWfSAWZBVV95cUxPTU4ySC1KV1Z3cWlSRU11WTk5WnNNazBLRlZzMFNrLW1VRlg5MHBXNjlzeFlLdkRoTDAyV2ZJNU5wSlZ0V3VFNG5mcUd2SHBkdDk0clU1X3dUNXNmcnNIQlk3OWpxbWc?oc=5', 'content': '[D리포트] 이재명-유발 하라리 대담…\"국가가 AI 투자, 이익 나눠야\" - SBS 뉴스'}, {'url': 'https://news.google.com/rss/articles/CBMicEFVX3lxTE9ranF4ZFdEZzdIaVZ6UC1tQ2pKSXhqUE9hd2xRaFdpN2RtaVNzU3VwYlZ2VjBOeVRlT1ltcHZ4YnJyNlllZnhLUW9EUndBR21iUE1Yb2pTblBXUUpaR1Z3VG1ZUkxLOExZWnpHd2lmU1Y?oc=5', 'content': '유발 하라리 만난 이재명 \"AI 투자, 국부펀드로 국민과 성과 나눠야\" - 연합인포맥스'}])], 'messages': [FunctionMessage(content='[{\"url\": \"https://news.google.com/rss/articles/CBMiWkFVX3lxTE1hSmg1YXE0Wl9tc0FDN0dvaG9Sd1JDRE9iY2l1ejhsQ19NNVZkUVRKUWlOamtCeTFjTHFRazJ4SFVuTm1GVkk5ekktWHhaczNfRE9CMG1PaWJRUdIBXEFVX3lxTE9MS2Q0NWZuYW95R3kwNWdrcC1BeC1JMG41R05BeVJGcmtxd3U3WWgzZUJHYzlKV0FZVDI4LXlyTmtKVXJyZGl6dWRtczd6OU00bzY2VlpmSE9QMXMz?oc=5\", \"content\": \"SKT, AI 스타트업 투자 통한 우군 확보…‘투게더 AI’ 협력 - 경향신문\"}, {\"url\": \"https://news.google.com/rss/articles/CBMiU0FVX3lxTE1TU29IbjUtZ1VBM3E3ZjEyODZYNm04R2I1aVJoOGsxZHktUElOYU1XWHJ5bVA0VWI0ZWVlVnRxMlVHOGNDaFJsSHFtX00takh6R1NN?oc=5\", \"content\": \"퓨리오사AI, 메타 인수 제안 거절…\\\\\"투자 유치해 독자적 AI 칩 개발\\\\\" - 네이트 뉴스\"}, {\"url\": \"https://news.google.com/rss/articles/CBMihgFBVV95cUxPNWhPdm9OdDcyQ0cxNlJQLTY4SGNReEhpWmcwOXd2ME8wTV9qUVJMTTU0VHJSZ184Q0tQamR4eTZkZENQVGpzdHBiOEowRG15X0plUFE3ejFQU1dMMzdBOVZGV3l6Y0lTcmo2TFJBdHJVU0xhaTd1YkJEVm5SdFZsc3BRZUo1d9IBmgFBVV95cUxOUkozLWs4Y3JlWFloanhoZ1huanNDTnVOSm1pRTlvWF9sRlZnNG1qNlJfQUloU0JnLWczMUZWVGFCVjJLaFdDdFpZZnUwb3V4LVJPdU1mRHJoUExEWDZrSGZhaEU0VG9WRldNWWpTX19DTXFoNDFiTkxnTGhDcEY0dGVQRFhydWRHOUlpbTBjc0N5RjNVVmpiSUln?oc=5\", \"content\": \"유발 하라리 만난 이재명 “K엔비디아처럼... 국가가 AI투자, 이익 나눠야” - 조선일보\"}, {\"url\": \"https://news.google.com/rss/articles/CBMiakFVX3lxTE9BYnFneXhETW1OdHEwelk5dmJVWUROODZoQkFIanlzVUZsSVo2R0pvN3VYQU1QWUhNVklyc0lrTC1VVTVjdFdvRFVQdS1zSHRHRjlXVGZKSy1QMURJN1BIdDMwdS14THRYTWfSAWZBVV95cUxPTU4ySC1KV1Z3cWlSRU11WTk5WnNNazBLRlZzMFNrLW1VRlg5MHBXNjlzeFlLdkRoTDAyV2ZJNU5wSlZ0V3VFNG5mcUd2SHBkdDk0clU1X3dUNXNmcnNIQlk3OWpxbWc?oc=5\", \"content\": \"[D리포트] 이재명-유발 하라리 대담…\\\\\"국가가 AI 투자, 이익 나눠야\\\\\" - SBS 뉴스\"}, {\"url\": \"https://news.google.com/rss/articles/CBMicEFVX3lxTE9ranF4ZFdEZzdIaVZ6UC1tQ2pKSXhqUE9hd2xRaFdpN2RtaVNzU3VwYlZ2VjBOeVRlT1ltcHZ4YnJyNlllZnhLUW9EUndBR21iUE1Yb2pTblBXUUpaR1Z3VG1ZUkxLOExZWnpHd2lmU1Y?oc=5\", \"content\": \"유발 하라리 만난 이재명 \\\\\"AI 투자, 국부펀드로 국민과 성과 나눠야\\\\\" - 연합인포맥스\"}]', additional_kwargs={}, response_metadata={}, name='search_news')]}\n",
      "============================================================\n",
      "{'output': '다음은 AI 투자와 관련된 최근 뉴스입니다:\\n\\n1. **[SKT, AI 스타트업 투자 통한 우군 확보…‘투게더 AI’ 협력 - 경향신문](https://news.google.com/rss/articles/CBMiWkFVX3lxTE1hSmg1YXE0Wl9tc0FDN0dvaG9Sd1JDRE9iY2l1ejhsQ19NNVZkUVRKUWlOamtCeTFjTHFRazJ4SFVuTm1GVkk5ekktWHhaczNfRE9CMG1PaWJRUdIBXEFVX3lxTE9MS2Q0NWZuYW95R3kwNWdrcC1BeC1JMG41R05BeVJGcmtxd3U3WWgzZUJHYzlKV0FZVDI4LXlyTmtKVXJyZGl6dWRtczd6OU00bzY2VlpmSE9QMXMz?oc=5)**  \\n   SKT가 AI 스타트업에 투자하여 협력 관계를 구축하고 있습니다.\\n\\n2. **[퓨리오사AI, 메타 인수 제안 거절…\\\\\"투자 유치해 독자적 AI 칩 개발\\\\\" - 네이트 뉴스](https://news.google.com/rss/articles/CBMiU0FVX3lxTE1TU29IbjUtZ1VBM3E3ZjEyODZYNm04R2I1aVJoOGsxZHktUElOYU1XWHJ5bVA0VWI0ZWVlVnRxMlVHOGNDaFJsSHFtX00takh6R1NN?oc=5)**  \\n   퓨리오사AI가 메타의 인수 제안을 거절하고 독자적인 AI 칩 개발을 위한 투자 유치를 계획하고 있습니다.\\n\\n3. **[유발 하라리 만난 이재명 “K엔비디아처럼... 국가가 AI투자, 이익 나눠야” - 조선일보](https://news.google.com/rss/articles/CBMihgFBVV95cUxPNWhPdm9OdDcyQ0cxNlJQLTY4SGNReEhpWmcwOXd2ME8wTV9qUVJMTTU0VHJSZ184Q0tQamR4eTZkZENQVGpzdHBiOEowRG15X0plUFE3ejFQU1dMMzdBOVZGV3l6Y0lTcmo2TFJBdHJVU0xhaTd1YkJEVm5SdFZsc3BRZUo1d9IBmgFBVV95cUxOUkozLWs4Y3JlWFloanhoZ1huanNDTnVOSm1pRTlvWF9sRlZnNG1qNlJfQUloU0JnLWczMUZWVGFCVjJLaFdDdFpZZnUwb3V4LVJPdU1mRHJoUExEWDZrSGZhaEU0VG9WRldNWWpTX19DTXFoNDFiTkxnTGhDcEY0dGVQRFhydWRHOUlpbTBjc0N5RjNVVmpiSUln?oc=5)**  \\n   이재명과 유발 하라리의 대담에서 국가가 AI에 투자하고 그 이익을 국민과 나누어야 한다는 주장이 제기되었습니다.\\n\\n4. **[이재명-유발 하라리 대담…\\\\\"국가가 AI 투자, 이익 나눠야\\\\\" - SBS 뉴스](https://news.google.com/rss/articles/CBMiakFVX3lxTE9BYnFneXhETW1OdHEwelk5dmJVWUROODZoQkFIanlzVUZsSVo2R0pvN3VYQU1QWUhNVklyc0lrTC1VVTVjdFdvRFVQdS1zSHRHRjlXVGZKSy1QMURJN1BIdDMwdS14THRYTWfSAWZBVV95cUxPTU4ySC1KV1Z3cWlSRU11WTk5WnNNazBLRlZzMFNrLW1VRlg5MHBXNjlzeFlLdkRoTDAyV2ZJNU5wSlZ0V3VFNG5mcUd2SHBkdDk0clU1X3dUNXNmcnNIQlk3OWpxbWc?oc=5)**  \\n   이재명과 유발 하라리의 대담에서 AI 투자와 관련된 국가의 역할에 대한 논의가 있었습니다.\\n\\n5. **[유발 하라리 만난 이재명 \\\\\"AI 투자, 국부펀드로 국민과 성과 나눠야\\\\\" - 연합인포맥스](https://news.google.com/rss/articles/CBMicEFVX3lxTE9ranF4ZFdEZzdIaVZ6UC1tQ2pKSXhqUE9hd2xRaFdpN2RtaVNzU3VwYlZ2VjBOeVRlT1ltcHZ4YnJyNlllZnhLUW9EUndBR21iUE1Yb2pTblBXUUpaR1Z3VG1ZUkxLOExZWnpHd2lmU1Y?oc=5)**  \\n   이재명은 유발 하라리와의 대담에서 AI 투자로 얻은 성과를 국민과 나누어야 한다고 강조했습니다.\\n\\n이 뉴스들은 AI 투자와 관련된 다양한 관점과 논의를 다루고 있습니다.', 'messages': [AIMessage(content='다음은 AI 투자와 관련된 최근 뉴스입니다:\\n\\n1. **[SKT, AI 스타트업 투자 통한 우군 확보…‘투게더 AI’ 협력 - 경향신문](https://news.google.com/rss/articles/CBMiWkFVX3lxTE1hSmg1YXE0Wl9tc0FDN0dvaG9Sd1JDRE9iY2l1ejhsQ19NNVZkUVRKUWlOamtCeTFjTHFRazJ4SFVuTm1GVkk5ekktWHhaczNfRE9CMG1PaWJRUdIBXEFVX3lxTE9MS2Q0NWZuYW95R3kwNWdrcC1BeC1JMG41R05BeVJGcmtxd3U3WWgzZUJHYzlKV0FZVDI4LXlyTmtKVXJyZGl6dWRtczd6OU00bzY2VlpmSE9QMXMz?oc=5)**  \\n   SKT가 AI 스타트업에 투자하여 협력 관계를 구축하고 있습니다.\\n\\n2. **[퓨리오사AI, 메타 인수 제안 거절…\\\\\"투자 유치해 독자적 AI 칩 개발\\\\\" - 네이트 뉴스](https://news.google.com/rss/articles/CBMiU0FVX3lxTE1TU29IbjUtZ1VBM3E3ZjEyODZYNm04R2I1aVJoOGsxZHktUElOYU1XWHJ5bVA0VWI0ZWVlVnRxMlVHOGNDaFJsSHFtX00takh6R1NN?oc=5)**  \\n   퓨리오사AI가 메타의 인수 제안을 거절하고 독자적인 AI 칩 개발을 위한 투자 유치를 계획하고 있습니다.\\n\\n3. **[유발 하라리 만난 이재명 “K엔비디아처럼... 국가가 AI투자, 이익 나눠야” - 조선일보](https://news.google.com/rss/articles/CBMihgFBVV95cUxPNWhPdm9OdDcyQ0cxNlJQLTY4SGNReEhpWmcwOXd2ME8wTV9qUVJMTTU0VHJSZ184Q0tQamR4eTZkZENQVGpzdHBiOEowRG15X0plUFE3ejFQU1dMMzdBOVZGV3l6Y0lTcmo2TFJBdHJVU0xhaTd1YkJEVm5SdFZsc3BRZUo1d9IBmgFBVV95cUxOUkozLWs4Y3JlWFloanhoZ1huanNDTnVOSm1pRTlvWF9sRlZnNG1qNlJfQUloU0JnLWczMUZWVGFCVjJLaFdDdFpZZnUwb3V4LVJPdU1mRHJoUExEWDZrSGZhaEU0VG9WRldNWWpTX19DTXFoNDFiTkxnTGhDcEY0dGVQRFhydWRHOUlpbTBjc0N5RjNVVmpiSUln?oc=5)**  \\n   이재명과 유발 하라리의 대담에서 국가가 AI에 투자하고 그 이익을 국민과 나누어야 한다는 주장이 제기되었습니다.\\n\\n4. **[이재명-유발 하라리 대담…\\\\\"국가가 AI 투자, 이익 나눠야\\\\\" - SBS 뉴스](https://news.google.com/rss/articles/CBMiakFVX3lxTE9BYnFneXhETW1OdHEwelk5dmJVWUROODZoQkFIanlzVUZsSVo2R0pvN3VYQU1QWUhNVklyc0lrTC1VVTVjdFdvRFVQdS1zSHRHRjlXVGZKSy1QMURJN1BIdDMwdS14THRYTWfSAWZBVV95cUxPTU4ySC1KV1Z3cWlSRU11WTk5WnNNazBLRlZzMFNrLW1VRlg5MHBXNjlzeFlLdkRoTDAyV2ZJNU5wSlZ0V3VFNG5mcUd2SHBkdDk0clU1X3dUNXNmcnNIQlk3OWpxbWc?oc=5)**  \\n   이재명과 유발 하라리의 대담에서 AI 투자와 관련된 국가의 역할에 대한 논의가 있었습니다.\\n\\n5. **[유발 하라리 만난 이재명 \\\\\"AI 투자, 국부펀드로 국민과 성과 나눠야\\\\\" - 연합인포맥스](https://news.google.com/rss/articles/CBMicEFVX3lxTE9ranF4ZFdEZzdIaVZ6UC1tQ2pKSXhqUE9hd2xRaFdpN2RtaVNzU3VwYlZ2VjBOeVRlT1ltcHZ4YnJyNlllZnhLUW9EUndBR21iUE1Yb2pTblBXUUpaR1Z3VG1ZUkxLOExZWnpHd2lmU1Y?oc=5)**  \\n   이재명은 유발 하라리와의 대담에서 AI 투자로 얻은 성과를 국민과 나누어야 한다고 강조했습니다.\\n\\n이 뉴스들은 AI 투자와 관련된 다양한 관점과 논의를 다루고 있습니다.', additional_kwargs={}, response_metadata={})]}\n",
      "============================================================\n"
     ]
    }
   ],
   "execution_count": 22
  },
  {
   "cell_type": "markdown",
   "metadata": {},
   "source": [
    "### 중간 단계 출력을 사용자 정의 함수로 출력\n",
    "\n",
    "다음의 3개 함수를 정의하고 이를 통해 중간 단계 출력을 사용자 정의합니다.\n",
    "\n",
    "- `tool_callback`: 도구 호출 출력을 처리하는 함수\n",
    "- `observation_callback`: 관찰(Observation) 출력을 처리하는 함수\n",
    "- `result_callback`: 최종 답변 출력을 처리하는 함수"
   ]
  },
  {
   "cell_type": "code",
   "metadata": {},
   "source": [
    "# 업데이트\n",
    "# !pip install -U langchain-teddynote"
   ],
   "outputs": [],
   "execution_count": null
  },
  {
   "cell_type": "markdown",
   "metadata": {},
   "source": [
    "아래는 Agent 의 중간 단계 과정을 깔끔하게 출력하기 위하여 사용되는 콜백 함수입니다.\n",
    "\n",
    "이 콜백 함수는 Streamlit 에서 중간 단계를 출력하여 사용자에게 제공할 때 유용할 수 있습니다."
   ]
  },
  {
   "cell_type": "code",
   "metadata": {},
   "source": [
    "from langchain_teddynote.messages import AgentStreamParser\n",
    "\n",
    "agent_stream_parser = AgentStreamParser()"
   ],
   "outputs": [],
   "execution_count": null
  },
  {
   "cell_type": "markdown",
   "metadata": {},
   "source": [
    "스트리밍 방식으로 Agent 의 응답 과정을 확인합니다."
   ]
  },
  {
   "cell_type": "code",
   "metadata": {},
   "source": [
    "# 질의에 대한 답변을 스트리밍으로 출력 요청\n",
    "result = agent_executor.stream(\n",
    "    {\"input\": \"matplotlib 을 사용하여 pie 차트를 그리는 코드를 작성하고 실행하세요.\"}\n",
    ")\n",
    "\n",
    "for step in result:\n",
    "    # 중간 단계를 parser 를 사용하여 단계별로 출력\n",
    "    # print(step)\n",
    "    agent_stream_parser.process_agent_steps(step)"
   ],
   "outputs": [],
   "execution_count": null
  },
  {
   "cell_type": "markdown",
   "metadata": {},
   "source": [
    "다음은 callback 을 수정하여 사용하는 방법입니다."
   ]
  },
  {
   "cell_type": "code",
   "metadata": {},
   "source": [
    "# AgentCallbacks와 AgentStreamParser를 langchain_teddynote.messages에서 가져옵니다.\n",
    "from langchain_teddynote.messages import AgentCallbacks, AgentStreamParser\n",
    "\n",
    "\n",
    "# 도구 호출 시 실행되는 콜백 함수입니다.\n",
    "def tool_callback(tool) -> None:\n",
    "    print(\"<<<<<<< 도구 호출 >>>>>>\")\n",
    "    print(f\"Tool: {tool.get('tool')}\")  # 사용된 도구의 이름을 출력합니다.\n",
    "    print(\"<<<<<<< 도구 호출 >>>>>>\")\n",
    "\n",
    "\n",
    "# 관찰 결과를 출력하는 콜백 함수입니다.\n",
    "def observation_callback(observation) -> None:\n",
    "    print(\"<<<<<<< 관찰 내용 >>>>>>\")\n",
    "    print(\n",
    "        f\"Observation: {observation.get('observation')[0]}\"\n",
    "    )  # 관찰 내용을 출력합니다.\n",
    "    print(\"<<<<<<< 관찰 내용 >>>>>>\")\n",
    "\n",
    "\n",
    "# 최종 결과를 출력하는 콜백 함수입니다.\n",
    "def result_callback(result: str) -> None:\n",
    "    print(\"<<<<<<< 최종 답변 >>>>>>\")\n",
    "    print(result)  # 최종 답변을 출력합니다.\n",
    "    print(\"<<<<<<< 최종 답변 >>>>>>\")\n",
    "\n",
    "\n",
    "# AgentCallbacks 객체를 생성하여 각 단계별 콜백 함수를 설정합니다.\n",
    "agent_callbacks = AgentCallbacks(\n",
    "    tool_callback=tool_callback,\n",
    "    observation_callback=observation_callback,\n",
    "    result_callback=result_callback,\n",
    ")\n",
    "\n",
    "# AgentStreamParser 객체를 생성하여 에이전트의 실행 과정을 파싱합니다.\n",
    "agent_stream_parser = AgentStreamParser(agent_callbacks)"
   ],
   "outputs": [],
   "execution_count": null
  },
  {
   "cell_type": "markdown",
   "metadata": {},
   "source": [
    "아래의 출력 내용을 확인해 보면 중간 내용의 출력 값이 내가 변경한 콜백 함수의 출력 값으로 변경된 것을 확인할 수 있습니다."
   ]
  },
  {
   "cell_type": "code",
   "metadata": {},
   "source": [
    "# 질의에 대한 답변을 스트리밍으로 출력 요청\n",
    "result = agent_executor.stream({\"input\": \"AI 투자관련 뉴스를 검색해 주세요.\"})\n",
    "\n",
    "for step in result:\n",
    "    # 중간 단계를 parser 를 사용하여 단계별로 출력\n",
    "    agent_stream_parser.process_agent_steps(step)"
   ],
   "outputs": [],
   "execution_count": null
  },
  {
   "cell_type": "markdown",
   "metadata": {},
   "source": [
    "## 이전 대화내용 기억하는 Agent\n",
    "\n",
    "이전의 대화내용을 기억하기 위해서는 `RunnableWithMessageHistory` 를 사용하여 `AgentExecutor` 를 감싸줍니다.\n",
    "\n",
    "`RunnableWithMessageHistory` 에 대한 자세한 내용은 아래 링크를 참고해 주세요.\n",
    "\n",
    "**참고**\n",
    "- [RunnableWithMessageHistory](https://wikidocs.net/254682)"
   ]
  },
  {
   "cell_type": "code",
   "metadata": {},
   "source": [
    "from langchain_community.chat_message_histories import ChatMessageHistory\n",
    "from langchain_core.runnables.history import RunnableWithMessageHistory\n",
    "\n",
    "# session_id 를 저장할 딕셔너리 생성\n",
    "store = {}\n",
    "\n",
    "\n",
    "# session_id 를 기반으로 세션 기록을 가져오는 함수\n",
    "def get_session_history(session_ids):\n",
    "    if session_ids not in store:  # session_id 가 store에 없는 경우\n",
    "        # 새로운 ChatMessageHistory 객체를 생성하여 store에 저장\n",
    "        store[session_ids] = ChatMessageHistory()\n",
    "    return store[session_ids]  # 해당 세션 ID에 대한 세션 기록 반환\n",
    "\n",
    "\n",
    "# 채팅 메시지 기록이 추가된 에이전트를 생성합니다.\n",
    "agent_with_chat_history = RunnableWithMessageHistory(\n",
    "    agent_executor,\n",
    "    # 대화 session_id\n",
    "    get_session_history,\n",
    "    # 프롬프트의 질문이 입력되는 key: \"input\"\n",
    "    input_messages_key=\"input\",\n",
    "    # 프롬프트의 메시지가 입력되는 key: \"chat_history\"\n",
    "    history_messages_key=\"chat_history\",\n",
    ")"
   ],
   "outputs": [],
   "execution_count": null
  },
  {
   "cell_type": "code",
   "metadata": {},
   "source": [
    "# 질의에 대한 답변을 스트리밍으로 출력 요청\n",
    "response = agent_with_chat_history.stream(\n",
    "    {\"input\": \"안녕? 내 이름은 홍길동이야\"},\n",
    "    # session_id 설정\n",
    "    config={\"configurable\": {\"session_id\": \"abc123\"}},\n",
    ")\n",
    "\n",
    "# 출력 확인\n",
    "for step in response:\n",
    "    agent_stream_parser.process_agent_steps(step)"
   ],
   "outputs": [],
   "execution_count": null
  },
  {
   "cell_type": "code",
   "metadata": {},
   "source": [
    "# 질의에 대한 답변을 스트리밍으로 출력 요청\n",
    "response = agent_with_chat_history.stream(\n",
    "    {\"input\": \"내 이름이 뭐라고?\"},\n",
    "    # session_id 설정\n",
    "    config={\"configurable\": {\"session_id\": \"abc123\"}},\n",
    ")\n",
    "\n",
    "# 출력 확인\n",
    "for step in response:\n",
    "    agent_stream_parser.process_agent_steps(step)"
   ],
   "outputs": [],
   "execution_count": null
  },
  {
   "cell_type": "code",
   "metadata": {},
   "source": [
    "# 질의에 대한 답변을 스트리밍으로 출력 요청\n",
    "response = agent_with_chat_history.stream(\n",
    "    {\n",
    "        \"input\": \"내 이메일 주소는 teddy@teddynote.com 이야. 회사 이름은 테디노트 주식회사야.\"\n",
    "    },\n",
    "    # session_id 설정\n",
    "    config={\"configurable\": {\"session_id\": \"abc123\"}},\n",
    ")\n",
    "\n",
    "# 출력 확인\n",
    "for step in response:\n",
    "    agent_stream_parser.process_agent_steps(step)"
   ],
   "outputs": [],
   "execution_count": null
  },
  {
   "cell_type": "code",
   "metadata": {},
   "source": [
    "# 질의에 대한 답변을 스트리밍으로 출력 요청\n",
    "response = agent_with_chat_history.stream(\n",
    "    {\n",
    "        \"input\": \"최신 뉴스 5개를 검색해서 이메일의 본문으로 작성해줘. \"\n",
    "        \"수신인에는 `셜리 상무님` 그리고, 발신인에는 내 인적정보를 적어줘.\"\n",
    "        \"정중한 어조로 작성하고, 메일의 시작과 끝에는 적절한 인사말과 맺음말을 적어줘.\"\n",
    "    },\n",
    "    # session_id 설정\n",
    "    config={\"configurable\": {\"session_id\": \"abc123\"}},\n",
    ")\n",
    "\n",
    "# 출력 확인\n",
    "for step in response:\n",
    "    agent_stream_parser.process_agent_steps(step)"
   ],
   "outputs": [],
   "execution_count": null
  },
  {
   "cell_type": "code",
   "metadata": {},
   "source": [
    "# 질의에 대한 답변을 스트리밍으로 출력 요청\n",
    "response = agent_with_chat_history.stream(\n",
    "    {\n",
    "        \"input\": \"내 이름이 뭐야?\"\n",
    "    },\n",
    "    # session_id 설정\n",
    "    config={\"configurable\": {\"session_id\": \"def456\"}},\n",
    ")\n",
    "\n",
    "# 출력 확인\n",
    "for step in response:\n",
    "    agent_stream_parser.process_agent_steps(step)"
   ],
   "outputs": [],
   "execution_count": null
  }
 ],
 "metadata": {
  "kernelspec": {
   "display_name": "langchain-kr-lwwSZlnu-py3.11",
   "language": "python",
   "name": "python3"
  },
  "language_info": {
   "codemirror_mode": {
    "name": "ipython",
    "version": 3
   },
   "file_extension": ".py",
   "mimetype": "text/x-python",
   "name": "python",
   "nbconvert_exporter": "python",
   "pygments_lexer": "ipython3",
   "version": "3.11.9"
  }
 },
 "nbformat": 4,
 "nbformat_minor": 2
}
