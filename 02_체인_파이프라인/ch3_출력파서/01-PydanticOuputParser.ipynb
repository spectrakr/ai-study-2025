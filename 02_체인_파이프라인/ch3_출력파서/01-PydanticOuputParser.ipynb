{
 "cells": [
  {
   "cell_type": "markdown",
   "metadata": {},
   "source": [
    "# PydanticOutputParser\n",
    "\n",
    "`PydanticOutputParser`는 언어 모델의 출력을 **구조화된 정보**로 변환하는 데 도움을 주는 클래스입니다. 이 클래스는 단순 텍스트 응답 대신 **명확하고 체계적인 형태로 필요한 정보를 제공**할 수 있습니다.\n",
    "\n",
    "이 클래스를 활용하면 언어 모델의 출력을 특정 데이터 모델에 맞게 변환하여 정보를 더 쉽게 처리하고 활용할 수 있습니다.\n",
    "\n",
    "## 주요 메서드\n",
    "\n",
    "`PydanticOutputParser` (대부분의 OutputParser에 해당)에는 주로 **두 가지 핵심 메서드**가 구현되어야 합니다.\n",
    "\n",
    "- **`get_format_instructions()`**: 언어 모델이 출력해야 할 정보의 형식을 정의하는 지침을 제공합니다. 예를 들어, 언어 모델이 출력해야 할 데이터의 필드와 그 형태를 설명하는 지침을 문자열로 반환할 수 있습니다. 이 지침은 언어 모델이 출력을 구조화하고 특정 데이터 모델에 맞게 변환하는 데 매우 중요합니다.\n",
    "- **`parse()`**: 언어 모델의 출력(문자열로 가정)을 받아 이를 특정 구조로 분석하고 변환합니다. Pydantic과 같은 도구를 사용하여 입력된 문자열을 사전 정의된 스키마에 따라 검증하고, 해당 스키마를 따르는 데이터 구조로 변환합니다.\n",
    "\n",
    "## 참고 자료\n",
    "\n",
    "- [Pydantic 공식 도큐먼트](https://docs.pydantic.dev/latest/)\n",
    "\n",
    "> "
   ]
  },
  {
   "cell_type": "code",
   "metadata": {},
   "source": [
    "from dotenv import load_dotenv\n",
    "from langchain.chains.summarize.refine_prompts import prompt_template\n",
    "\n",
    "load_dotenv()"
   ],
   "outputs": [],
   "execution_count": null
  },
  {
   "cell_type": "code",
   "metadata": {},
   "source": [
    "from langchain_openai import ChatOpenAI\n",
    "from langchain_core.output_parsers import PydanticOutputParser\n",
    "from pydantic import BaseModel, Field\n",
    "\n",
    "\n",
    "llm = ChatOpenAI(temperature=0, model_name=\"gpt-4o-mini\")"
   ],
   "outputs": [],
   "execution_count": null
  },
  {
   "cell_type": "markdown",
   "metadata": {},
   "source": [
    "다음은 이메일 본문 예시입니다.\n"
   ]
  },
  {
   "cell_type": "code",
   "metadata": {},
   "source": [
    "email_conversation = \"\"\"From: 이유진 (leeyu@spectra.co.kr) \n",
    "To: 한경만 (kmhan@spectra.co.kr)\n",
    "Date: 2024년 2월 22일 (목) 오후 3:27\n",
    "Subject: [협조] 2월 법인카드 영수증 제출 기한 안내_3월 5일(화)까지\n",
    "\n",
    "안녕하세요, 경영지원팀 이유진입니다.\n",
    "2월 비용 마감을 위해 비용(법인카드) 제출 기한을 안내 드립니다.\n",
    "\n",
    "  1. 제출 기한: ~2024년 3월 5일(화)까지\n",
    "  2. 안내 대상: 법인카드 소유자\n",
    "  3. 제출 방법: 플렉스 - 워크플로우 - 문서 작성하기 - 비용신청서 작성 및 영수증 제출\n",
    "  4. 기타 사항\n",
    "    a. 상주 PJ의 경우에는 비용 먼저 청구해 주시고 영수증은 추후 제출해주시기 바랍니다.\n",
    "    b. 법인카드 소유자와 실제 사용자가 다른 경우, 사용자가 비용 신청서 작성해주시고 비용신청서 상의 법인카드 소유자에 해당 카드 소유자명을 적어주시기 바랍니다.\n",
    "\n",
    "상기 내용 확인하시고 제출 기한 내 제출 부탁드립니다. :)\n",
    "\n",
    "감사합니다. :)\n",
    "이유진 드림\n",
    "\"\"\""
   ],
   "outputs": [],
   "execution_count": null
  },
  {
   "cell_type": "markdown",
   "metadata": {},
   "source": [
    "출력 파서를 사용하지 않는 경우 예시"
   ]
  },
  {
   "cell_type": "code",
   "metadata": {},
   "source": [
    "from share.messages import stream_response\n",
    "from langchain_core.prompts import PromptTemplate\n",
    "\n",
    "prompt = PromptTemplate.from_template(\n",
    "    \"다음의 이메일 내용 중 중요한 내용을 추출해 주세요.\\n\\n{email_conversation}\"\n",
    ")\n",
    "\n",
    "llm = ChatOpenAI(temperature=0, model_name=\"gpt-4o-mini\")\n",
    "\n",
    "chain = prompt | llm\n",
    "\n",
    "answer = chain.stream({\"email_conversation\": email_conversation})\n",
    "\n",
    "output = stream_response(answer, return_output=True)"
   ],
   "outputs": [],
   "execution_count": null
  },
  {
   "cell_type": "code",
   "metadata": {},
   "source": [
    "print(output)"
   ],
   "outputs": [],
   "execution_count": null
  },
  {
   "cell_type": "markdown",
   "metadata": {},
   "source": [
    "위와 같은 이메일 내용이 주어졌을 때 아래의 Pydantic 스타일로 정의된 클래스를 사용하여 이메일의 정보를 파싱해 보겠습니다.\n",
    "\n",
    "참고로, Field 안에 `description` 은 텍스트 형태의 답변에서 주요 정보를 추출하기 위한 설명입니다. LLM 이 바로 이 설명을 보고 필요한 정보를 추출하게 됩니다. 그러므로 이 설명은 정확하고 명확해야 합니다."
   ]
  },
  {
   "cell_type": "code",
   "metadata": {},
   "source": [
    "class EmailSummary(BaseModel):\n",
    "    person: str = Field(description=\"메일을 보낸 사람\")\n",
    "    email: str = Field(description=\"메일을 보낸 사람의 이메일 주소\")\n",
    "    subject: str = Field(description=\"메일 제목\")\n",
    "    summary: str = Field(description=\"메일 본문을 요약한 텍스트\")\n",
    "    date: str = Field(description=\"메일 본문에 언급된 미팅 날짜와 시간\")\n",
    "\n",
    "\n",
    "# PydanticOutputParser 생성\n",
    "parser = PydanticOutputParser(pydantic_object=EmailSummary)"
   ],
   "outputs": [],
   "execution_count": null
  },
  {
   "cell_type": "code",
   "metadata": {},
   "source": [
    "# instruction 을 출력합니다.\n",
    "print(parser.get_format_instructions())"
   ],
   "outputs": [],
   "execution_count": null
  },
  {
   "cell_type": "markdown",
   "metadata": {},
   "source": [
    "프롬프트를 정의합니다.\n",
    "\n",
    "1. `question`: 유저의 질문을 받습니다.\n",
    "2. `email_conversation`: 이메일 본문의 내용을 입력합니다.\n",
    "3. `format`: 형식을 지정합니다.\n"
   ]
  },
  {
   "cell_type": "code",
   "metadata": {},
   "source": [
    "prompt = PromptTemplate.from_template(\n",
    "    \"\"\"\n",
    "You are a helpful assistant. Please answer the following questions in KOREAN.\n",
    "\n",
    "QUESTION:\n",
    "{question}\n",
    "\n",
    "EMAIL CONVERSATION:\n",
    "{email_conversation}\n",
    "\n",
    "FORMAT:\n",
    "{format}\n",
    "\"\"\"\n",
    ")\n",
    "\n",
    "# format 에 PydanticOutputParser의 부분 포맷팅(partial) 추가\n",
    "prompt = prompt.partial(format=parser.get_format_instructions())"
   ],
   "outputs": [],
   "execution_count": null
  },
  {
   "cell_type": "markdown",
   "metadata": {},
   "source": [
    "다음으로는 Chain 을 생성합니다.\n"
   ]
  },
  {
   "cell_type": "code",
   "metadata": {},
   "source": [
    "# chain 을 생성합니다.\n",
    "chain = prompt | llm"
   ],
   "outputs": [],
   "execution_count": null
  },
  {
   "cell_type": "markdown",
   "metadata": {},
   "source": [
    "체인을 실행하고 결과를 확인합니다.\n"
   ]
  },
  {
   "cell_type": "code",
   "metadata": {
    "ExecuteTime": {
     "end_time": "2025-03-10T05:46:03.505560Z",
     "start_time": "2025-03-10T05:46:00.514433Z"
    }
   },
   "source": [
    "# chain 을 실행하고 결과를 출력합니다.\n",
    "response = chain.stream(\n",
    "    {\n",
    "        \"email_conversation\": email_conversation,\n",
    "        \"question\": \"이메일 내용 중 주요 내용을 추출해 주세요.\",\n",
    "    }\n",
    ")\n",
    "\n",
    "# 결과는 JSON 형태로 출력됩니다.\n",
    "output = stream_response(response, return_output=True)"
   ],
   "outputs": [],
   "execution_count": 21
  },
  {
   "cell_type": "markdown",
   "metadata": {},
   "source": [
    "마지막으로 `parser`를 사용하여 결과를 파싱하고 `EmailSummary` 객체로 변환합니다.\n"
   ]
  },
  {
   "cell_type": "code",
   "metadata": {
    "ExecuteTime": {
     "end_time": "2025-03-10T05:46:05.327429Z",
     "start_time": "2025-03-10T05:46:05.096005Z"
    }
   },
   "source": [
    "# PydanticOutputParser 를 사용하여 결과를 파싱합니다.\n",
    "structured_output = parser.parse(output)\n",
    "structured_output"
   ],
   "outputs": [
    {
     "ename": "OutputParserException",
     "evalue": "Invalid json output: \nFor troubleshooting, visit: https://python.langchain.com/docs/troubleshooting/errors/OUTPUT_PARSING_FAILURE ",
     "output_type": "error",
     "traceback": [
      "\u001B[31m---------------------------------------------------------------------------\u001B[39m",
      "\u001B[31mJSONDecodeError\u001B[39m                           Traceback (most recent call last)",
      "\u001B[36mFile \u001B[39m\u001B[32m~/Library/Caches/pypoetry/virtualenvs/langchain-kr-uLcZw9jp-py3.11/lib/python3.11/site-packages/langchain_core/output_parsers/json.py:83\u001B[39m, in \u001B[36mJsonOutputParser.parse_result\u001B[39m\u001B[34m(self, result, partial)\u001B[39m\n\u001B[32m     82\u001B[39m \u001B[38;5;28;01mtry\u001B[39;00m:\n\u001B[32m---> \u001B[39m\u001B[32m83\u001B[39m     \u001B[38;5;28;01mreturn\u001B[39;00m \u001B[43mparse_json_markdown\u001B[49m\u001B[43m(\u001B[49m\u001B[43mtext\u001B[49m\u001B[43m)\u001B[49m\n\u001B[32m     84\u001B[39m \u001B[38;5;28;01mexcept\u001B[39;00m JSONDecodeError \u001B[38;5;28;01mas\u001B[39;00m e:\n",
      "\u001B[36mFile \u001B[39m\u001B[32m~/Library/Caches/pypoetry/virtualenvs/langchain-kr-uLcZw9jp-py3.11/lib/python3.11/site-packages/langchain_core/utils/json.py:145\u001B[39m, in \u001B[36mparse_json_markdown\u001B[39m\u001B[34m(json_string, parser)\u001B[39m\n\u001B[32m    144\u001B[39m     json_str = json_string \u001B[38;5;28;01mif\u001B[39;00m match \u001B[38;5;129;01mis\u001B[39;00m \u001B[38;5;28;01mNone\u001B[39;00m \u001B[38;5;28;01melse\u001B[39;00m match.group(\u001B[32m2\u001B[39m)\n\u001B[32m--> \u001B[39m\u001B[32m145\u001B[39m \u001B[38;5;28;01mreturn\u001B[39;00m \u001B[43m_parse_json\u001B[49m\u001B[43m(\u001B[49m\u001B[43mjson_str\u001B[49m\u001B[43m,\u001B[49m\u001B[43m \u001B[49m\u001B[43mparser\u001B[49m\u001B[43m=\u001B[49m\u001B[43mparser\u001B[49m\u001B[43m)\u001B[49m\n",
      "\u001B[36mFile \u001B[39m\u001B[32m~/Library/Caches/pypoetry/virtualenvs/langchain-kr-uLcZw9jp-py3.11/lib/python3.11/site-packages/langchain_core/utils/json.py:161\u001B[39m, in \u001B[36m_parse_json\u001B[39m\u001B[34m(json_str, parser)\u001B[39m\n\u001B[32m    160\u001B[39m \u001B[38;5;66;03m# Parse the JSON string into a Python dictionary\u001B[39;00m\n\u001B[32m--> \u001B[39m\u001B[32m161\u001B[39m \u001B[38;5;28;01mreturn\u001B[39;00m \u001B[43mparser\u001B[49m\u001B[43m(\u001B[49m\u001B[43mjson_str\u001B[49m\u001B[43m)\u001B[49m\n",
      "\u001B[36mFile \u001B[39m\u001B[32m~/Library/Caches/pypoetry/virtualenvs/langchain-kr-uLcZw9jp-py3.11/lib/python3.11/site-packages/langchain_core/utils/json.py:119\u001B[39m, in \u001B[36mparse_partial_json\u001B[39m\u001B[34m(s, strict)\u001B[39m\n\u001B[32m    116\u001B[39m \u001B[38;5;66;03m# If we got here, we ran out of characters to remove\u001B[39;00m\n\u001B[32m    117\u001B[39m \u001B[38;5;66;03m# and still couldn't parse the string as JSON, so return the parse error\u001B[39;00m\n\u001B[32m    118\u001B[39m \u001B[38;5;66;03m# for the original string.\u001B[39;00m\n\u001B[32m--> \u001B[39m\u001B[32m119\u001B[39m \u001B[38;5;28;01mreturn\u001B[39;00m \u001B[43mjson\u001B[49m\u001B[43m.\u001B[49m\u001B[43mloads\u001B[49m\u001B[43m(\u001B[49m\u001B[43ms\u001B[49m\u001B[43m,\u001B[49m\u001B[43m \u001B[49m\u001B[43mstrict\u001B[49m\u001B[43m=\u001B[49m\u001B[43mstrict\u001B[49m\u001B[43m)\u001B[49m\n",
      "\u001B[36mFile \u001B[39m\u001B[32m~/.pyenv/versions/3.11.11/lib/python3.11/json/__init__.py:359\u001B[39m, in \u001B[36mloads\u001B[39m\u001B[34m(s, cls, object_hook, parse_float, parse_int, parse_constant, object_pairs_hook, **kw)\u001B[39m\n\u001B[32m    358\u001B[39m     kw[\u001B[33m'\u001B[39m\u001B[33mparse_constant\u001B[39m\u001B[33m'\u001B[39m] = parse_constant\n\u001B[32m--> \u001B[39m\u001B[32m359\u001B[39m \u001B[38;5;28;01mreturn\u001B[39;00m \u001B[38;5;28;43mcls\u001B[39;49m\u001B[43m(\u001B[49m\u001B[43m*\u001B[49m\u001B[43m*\u001B[49m\u001B[43mkw\u001B[49m\u001B[43m)\u001B[49m\u001B[43m.\u001B[49m\u001B[43mdecode\u001B[49m\u001B[43m(\u001B[49m\u001B[43ms\u001B[49m\u001B[43m)\u001B[49m\n",
      "\u001B[36mFile \u001B[39m\u001B[32m~/.pyenv/versions/3.11.11/lib/python3.11/json/decoder.py:337\u001B[39m, in \u001B[36mJSONDecoder.decode\u001B[39m\u001B[34m(self, s, _w)\u001B[39m\n\u001B[32m    333\u001B[39m \u001B[38;5;250m\u001B[39m\u001B[33;03m\"\"\"Return the Python representation of ``s`` (a ``str`` instance\u001B[39;00m\n\u001B[32m    334\u001B[39m \u001B[33;03mcontaining a JSON document).\u001B[39;00m\n\u001B[32m    335\u001B[39m \n\u001B[32m    336\u001B[39m \u001B[33;03m\"\"\"\u001B[39;00m\n\u001B[32m--> \u001B[39m\u001B[32m337\u001B[39m obj, end = \u001B[38;5;28;43mself\u001B[39;49m\u001B[43m.\u001B[49m\u001B[43mraw_decode\u001B[49m\u001B[43m(\u001B[49m\u001B[43ms\u001B[49m\u001B[43m,\u001B[49m\u001B[43m \u001B[49m\u001B[43midx\u001B[49m\u001B[43m=\u001B[49m\u001B[43m_w\u001B[49m\u001B[43m(\u001B[49m\u001B[43ms\u001B[49m\u001B[43m,\u001B[49m\u001B[43m \u001B[49m\u001B[32;43m0\u001B[39;49m\u001B[43m)\u001B[49m\u001B[43m.\u001B[49m\u001B[43mend\u001B[49m\u001B[43m(\u001B[49m\u001B[43m)\u001B[49m\u001B[43m)\u001B[49m\n\u001B[32m    338\u001B[39m end = _w(s, end).end()\n",
      "\u001B[36mFile \u001B[39m\u001B[32m~/.pyenv/versions/3.11.11/lib/python3.11/json/decoder.py:355\u001B[39m, in \u001B[36mJSONDecoder.raw_decode\u001B[39m\u001B[34m(self, s, idx)\u001B[39m\n\u001B[32m    354\u001B[39m \u001B[38;5;28;01mexcept\u001B[39;00m \u001B[38;5;167;01mStopIteration\u001B[39;00m \u001B[38;5;28;01mas\u001B[39;00m err:\n\u001B[32m--> \u001B[39m\u001B[32m355\u001B[39m     \u001B[38;5;28;01mraise\u001B[39;00m JSONDecodeError(\u001B[33m\"\u001B[39m\u001B[33mExpecting value\u001B[39m\u001B[33m\"\u001B[39m, s, err.value) \u001B[38;5;28;01mfrom\u001B[39;00m\u001B[38;5;250m \u001B[39m\u001B[38;5;28;01mNone\u001B[39;00m\n\u001B[32m    356\u001B[39m \u001B[38;5;28;01mreturn\u001B[39;00m obj, end\n",
      "\u001B[31mJSONDecodeError\u001B[39m: Expecting value: line 1 column 1 (char 0)",
      "\nThe above exception was the direct cause of the following exception:\n",
      "\u001B[31mOutputParserException\u001B[39m                     Traceback (most recent call last)",
      "\u001B[36mCell\u001B[39m\u001B[36m \u001B[39m\u001B[32mIn[22]\u001B[39m\u001B[32m, line 2\u001B[39m\n\u001B[32m      1\u001B[39m \u001B[38;5;66;03m# PydanticOutputParser 를 사용하여 결과를 파싱합니다.\u001B[39;00m\n\u001B[32m----> \u001B[39m\u001B[32m2\u001B[39m structured_output = \u001B[43mparser\u001B[49m\u001B[43m.\u001B[49m\u001B[43mparse\u001B[49m\u001B[43m(\u001B[49m\u001B[43moutput\u001B[49m\u001B[43m)\u001B[49m\n\u001B[32m      3\u001B[39m structured_output\n",
      "\u001B[36mFile \u001B[39m\u001B[32m~/Library/Caches/pypoetry/virtualenvs/langchain-kr-uLcZw9jp-py3.11/lib/python3.11/site-packages/langchain_core/output_parsers/pydantic.py:83\u001B[39m, in \u001B[36mPydanticOutputParser.parse\u001B[39m\u001B[34m(self, text)\u001B[39m\n\u001B[32m     74\u001B[39m \u001B[38;5;28;01mdef\u001B[39;00m\u001B[38;5;250m \u001B[39m\u001B[34mparse\u001B[39m(\u001B[38;5;28mself\u001B[39m, text: \u001B[38;5;28mstr\u001B[39m) -> TBaseModel:\n\u001B[32m     75\u001B[39m \u001B[38;5;250m    \u001B[39m\u001B[33;03m\"\"\"Parse the output of an LLM call to a pydantic object.\u001B[39;00m\n\u001B[32m     76\u001B[39m \n\u001B[32m     77\u001B[39m \u001B[33;03m    Args:\u001B[39;00m\n\u001B[32m   (...)\u001B[39m\u001B[32m     81\u001B[39m \u001B[33;03m        The parsed pydantic object.\u001B[39;00m\n\u001B[32m     82\u001B[39m \u001B[33;03m    \"\"\"\u001B[39;00m\n\u001B[32m---> \u001B[39m\u001B[32m83\u001B[39m     \u001B[38;5;28;01mreturn\u001B[39;00m \u001B[38;5;28;43msuper\u001B[39;49m\u001B[43m(\u001B[49m\u001B[43m)\u001B[49m\u001B[43m.\u001B[49m\u001B[43mparse\u001B[49m\u001B[43m(\u001B[49m\u001B[43mtext\u001B[49m\u001B[43m)\u001B[49m\n",
      "\u001B[36mFile \u001B[39m\u001B[32m~/Library/Caches/pypoetry/virtualenvs/langchain-kr-uLcZw9jp-py3.11/lib/python3.11/site-packages/langchain_core/output_parsers/json.py:97\u001B[39m, in \u001B[36mJsonOutputParser.parse\u001B[39m\u001B[34m(self, text)\u001B[39m\n\u001B[32m     88\u001B[39m \u001B[38;5;28;01mdef\u001B[39;00m\u001B[38;5;250m \u001B[39m\u001B[34mparse\u001B[39m(\u001B[38;5;28mself\u001B[39m, text: \u001B[38;5;28mstr\u001B[39m) -> Any:\n\u001B[32m     89\u001B[39m \u001B[38;5;250m    \u001B[39m\u001B[33;03m\"\"\"Parse the output of an LLM call to a JSON object.\u001B[39;00m\n\u001B[32m     90\u001B[39m \n\u001B[32m     91\u001B[39m \u001B[33;03m    Args:\u001B[39;00m\n\u001B[32m   (...)\u001B[39m\u001B[32m     95\u001B[39m \u001B[33;03m        The parsed JSON object.\u001B[39;00m\n\u001B[32m     96\u001B[39m \u001B[33;03m    \"\"\"\u001B[39;00m\n\u001B[32m---> \u001B[39m\u001B[32m97\u001B[39m     \u001B[38;5;28;01mreturn\u001B[39;00m \u001B[38;5;28;43mself\u001B[39;49m\u001B[43m.\u001B[49m\u001B[43mparse_result\u001B[49m\u001B[43m(\u001B[49m\u001B[43m[\u001B[49m\u001B[43mGeneration\u001B[49m\u001B[43m(\u001B[49m\u001B[43mtext\u001B[49m\u001B[43m=\u001B[49m\u001B[43mtext\u001B[49m\u001B[43m)\u001B[49m\u001B[43m]\u001B[49m\u001B[43m)\u001B[49m\n",
      "\u001B[36mFile \u001B[39m\u001B[32m~/Library/Caches/pypoetry/virtualenvs/langchain-kr-uLcZw9jp-py3.11/lib/python3.11/site-packages/langchain_core/output_parsers/pydantic.py:67\u001B[39m, in \u001B[36mPydanticOutputParser.parse_result\u001B[39m\u001B[34m(self, result, partial)\u001B[39m\n\u001B[32m     54\u001B[39m \u001B[38;5;250m\u001B[39m\u001B[33;03m\"\"\"Parse the result of an LLM call to a pydantic object.\u001B[39;00m\n\u001B[32m     55\u001B[39m \n\u001B[32m     56\u001B[39m \u001B[33;03mArgs:\u001B[39;00m\n\u001B[32m   (...)\u001B[39m\u001B[32m     64\u001B[39m \u001B[33;03m    The parsed pydantic object.\u001B[39;00m\n\u001B[32m     65\u001B[39m \u001B[33;03m\"\"\"\u001B[39;00m\n\u001B[32m     66\u001B[39m \u001B[38;5;28;01mtry\u001B[39;00m:\n\u001B[32m---> \u001B[39m\u001B[32m67\u001B[39m     json_object = \u001B[38;5;28;43msuper\u001B[39;49m\u001B[43m(\u001B[49m\u001B[43m)\u001B[49m\u001B[43m.\u001B[49m\u001B[43mparse_result\u001B[49m\u001B[43m(\u001B[49m\u001B[43mresult\u001B[49m\u001B[43m)\u001B[49m\n\u001B[32m     68\u001B[39m     \u001B[38;5;28;01mreturn\u001B[39;00m \u001B[38;5;28mself\u001B[39m._parse_obj(json_object)\n\u001B[32m     69\u001B[39m \u001B[38;5;28;01mexcept\u001B[39;00m OutputParserException:\n",
      "\u001B[36mFile \u001B[39m\u001B[32m~/Library/Caches/pypoetry/virtualenvs/langchain-kr-uLcZw9jp-py3.11/lib/python3.11/site-packages/langchain_core/output_parsers/json.py:86\u001B[39m, in \u001B[36mJsonOutputParser.parse_result\u001B[39m\u001B[34m(self, result, partial)\u001B[39m\n\u001B[32m     84\u001B[39m \u001B[38;5;28;01mexcept\u001B[39;00m JSONDecodeError \u001B[38;5;28;01mas\u001B[39;00m e:\n\u001B[32m     85\u001B[39m     msg = \u001B[33mf\u001B[39m\u001B[33m\"\u001B[39m\u001B[33mInvalid json output: \u001B[39m\u001B[38;5;132;01m{\u001B[39;00mtext\u001B[38;5;132;01m}\u001B[39;00m\u001B[33m\"\u001B[39m\n\u001B[32m---> \u001B[39m\u001B[32m86\u001B[39m     \u001B[38;5;28;01mraise\u001B[39;00m OutputParserException(msg, llm_output=text) \u001B[38;5;28;01mfrom\u001B[39;00m\u001B[38;5;250m \u001B[39m\u001B[34;01me\u001B[39;00m\n",
      "\u001B[31mOutputParserException\u001B[39m: Invalid json output: \nFor troubleshooting, visit: https://python.langchain.com/docs/troubleshooting/errors/OUTPUT_PARSING_FAILURE "
     ]
    }
   ],
   "execution_count": 22
  },
  {
   "cell_type": "markdown",
   "metadata": {},
   "source": [
    "## parser 가 추가된 체인 생성\n",
    "\n",
    "출력 결과를 정의한 Pydantic 객체로 생성할 수 있습니다."
   ]
  },
  {
   "cell_type": "code",
   "metadata": {},
   "source": [
    "# 출력 파서를 추가하여 전체 체인을 재구성합니다.\n",
    "chain = prompt | llm | parser"
   ],
   "outputs": [],
   "execution_count": null
  },
  {
   "cell_type": "code",
   "metadata": {},
   "source": [
    "# chain 을 실행하고 결과를 출력합니다.\n",
    "response = chain.invoke(\n",
    "    {\n",
    "        \"email_conversation\": email_conversation,\n",
    "        \"question\": \"이메일 내용중 주요 내용을 추출해 주세요.\",\n",
    "    }\n",
    ")\n",
    "\n",
    "# 결과는 EmailSummary 객체 형태로 출력됩니다.\n",
    "response"
   ],
   "outputs": [],
   "execution_count": null
  },
  {
   "cell_type": "markdown",
   "metadata": {},
   "source": [
    "## with_structured_output()"
   ]
  },
  {
   "cell_type": "markdown",
   "metadata": {},
   "source": [
    "`.with_structured_output(Pydantic)`을 사용하여 출력 파서를 추가하면, 출력을 Pydantic 객체로 변환할 수 있습니다."
   ]
  },
  {
   "cell_type": "code",
   "metadata": {},
   "source": [
    "llm_with_structured = ChatOpenAI(\n",
    "    temperature=0, model_name=\"gpt-4o-mini\"\n",
    ").with_structured_output(EmailSummary)"
   ],
   "outputs": [],
   "execution_count": null
  },
  {
   "cell_type": "code",
   "metadata": {},
   "source": [
    "# invoke() 함수를 호출하여 결과를 출력합니다.\n",
    "answer = llm_with_structured.invoke(email_conversation)\n",
    "answer"
   ],
   "outputs": [],
   "execution_count": null
  },
  {
   "cell_type": "markdown",
   "metadata": {},
   "source": [
    "**참고**\n",
    "\n",
    "한 가지 아쉬운 점은 `.with_structured_output()` 함수는 `stream()` 기능을 지원하지 않습니다."
   ]
  },
  {
   "cell_type": "markdown",
   "metadata": {},
   "source": [
    "------------------------\n",
    "이렇게 사용하면 streaming을 사용할 수 있다. (by kmhan)"
   ]
  },
  {
   "cell_type": "code",
   "metadata": {
    "ExecuteTime": {
     "end_time": "2025-03-10T05:44:49.560867Z",
     "start_time": "2025-03-10T05:44:49.552216Z"
    }
   },
   "source": [
    "# summary를 젤 아래로 이동한다. (Streaming 대상)\n",
    "class EmailSummary(BaseModel):\n",
    "    person: str = Field(description=\"메일을 보낸 사람\")\n",
    "    email: str = Field(description=\"메일을 보낸 사람의 이메일 주소\")\n",
    "    subject: str = Field(description=\"메일 제목\")\n",
    "    date: str = Field(description=\"메일 본문에 언급된 미팅 날짜와 시간\")\n",
    "    summary: str = Field(description=\"메일 본문을 요약한 텍스트\")"
   ],
   "outputs": [],
   "execution_count": 15
  },
  {
   "cell_type": "code",
   "metadata": {
    "ExecuteTime": {
     "end_time": "2025-03-10T05:44:53.393761Z",
     "start_time": "2025-03-10T05:44:53.386836Z"
    }
   },
   "source": [
    "prompt = PromptTemplate.from_template(\n",
    "    \"\"\"\n",
    "You are a helpful assistant. Please answer the following questions in KOREAN.\n",
    "\n",
    "QUESTION:\n",
    "{question}\n",
    "\n",
    "EMAIL CONVERSATION:\n",
    "{email_conversation}\n",
    "\"\"\"\n",
    ")"
   ],
   "outputs": [],
   "execution_count": 16
  },
  {
   "cell_type": "code",
   "metadata": {
    "ExecuteTime": {
     "end_time": "2025-03-10T05:44:56.954484Z",
     "start_time": "2025-03-10T05:44:56.932661Z"
    }
   },
   "source": [
    "llm = ChatOpenAI(\n",
    "    temperature=0, model_name=\"gpt-4o-mini\"\n",
    ")\n",
    "llm_with_structured = llm.with_structured_output(EmailSummary)"
   ],
   "outputs": [],
   "execution_count": 17
  },
  {
   "cell_type": "code",
   "metadata": {
    "ExecuteTime": {
     "end_time": "2025-03-10T05:44:59.401120Z",
     "start_time": "2025-03-10T05:44:59.394473Z"
    }
   },
   "source": "chain = prompt | llm_with_structured",
   "outputs": [],
   "execution_count": 18
  },
  {
   "cell_type": "code",
   "metadata": {
    "ExecuteTime": {
     "end_time": "2025-03-10T05:45:01.935187Z",
     "start_time": "2025-03-10T05:45:01.928045Z"
    }
   },
   "source": [
    "# invoke() 함수를 호출하여 결과를 출력합니다.\n",
    "answer = chain.stream({\n",
    "    \"email_conversation\": email_conversation,\n",
    "    \"question\": \"이메일 내용중 주요 내용을 추출해 주세요.\",\n",
    "})"
   ],
   "outputs": [],
   "execution_count": 19
  },
  {
   "cell_type": "code",
   "metadata": {
    "ExecuteTime": {
     "end_time": "2025-03-10T05:45:07.192534Z",
     "start_time": "2025-03-10T05:45:03.316286Z"
    }
   },
   "source": [
    "for token in answer:\n",
    "    print(\"\\n\")\n",
    "    print(token.model_dump_json(), flush=True)"
   ],
   "outputs": [
    {
     "name": "stdout",
     "output_type": "stream",
     "text": [
      "\n",
      "\n",
      "{\"person\":\"이유진\",\"email\":\"leeyu@spectra.co.kr\",\"subject\":\"[협조] 2월 법인카드 영수증 제출 기한 안내_3월 5일(화)까지\",\"date\":\"2024년 2월 22일 (목) 오후 3:27\",\"summary\":\"\"}\n",
      "\n",
      "\n",
      "{\"person\":\"이유진\",\"email\":\"leeyu@spectra.co.kr\",\"subject\":\"[협조] 2월 법인카드 영수증 제출 기한 안내_3월 5일(화)까지\",\"date\":\"2024년 2월 22일 (목) 오후 3:27\",\"summary\":\"2\"}\n",
      "\n",
      "\n",
      "{\"person\":\"이유진\",\"email\":\"leeyu@spectra.co.kr\",\"subject\":\"[협조] 2월 법인카드 영수증 제출 기한 안내_3월 5일(화)까지\",\"date\":\"2024년 2월 22일 (목) 오후 3:27\",\"summary\":\"2월\"}\n",
      "\n",
      "\n",
      "{\"person\":\"이유진\",\"email\":\"leeyu@spectra.co.kr\",\"subject\":\"[협조] 2월 법인카드 영수증 제출 기한 안내_3월 5일(화)까지\",\"date\":\"2024년 2월 22일 (목) 오후 3:27\",\"summary\":\"2월 법\"}\n",
      "\n",
      "\n",
      "{\"person\":\"이유진\",\"email\":\"leeyu@spectra.co.kr\",\"subject\":\"[협조] 2월 법인카드 영수증 제출 기한 안내_3월 5일(화)까지\",\"date\":\"2024년 2월 22일 (목) 오후 3:27\",\"summary\":\"2월 법인\"}\n",
      "\n",
      "\n",
      "{\"person\":\"이유진\",\"email\":\"leeyu@spectra.co.kr\",\"subject\":\"[협조] 2월 법인카드 영수증 제출 기한 안내_3월 5일(화)까지\",\"date\":\"2024년 2월 22일 (목) 오후 3:27\",\"summary\":\"2월 법인카\"}\n",
      "\n",
      "\n",
      "{\"person\":\"이유진\",\"email\":\"leeyu@spectra.co.kr\",\"subject\":\"[협조] 2월 법인카드 영수증 제출 기한 안내_3월 5일(화)까지\",\"date\":\"2024년 2월 22일 (목) 오후 3:27\",\"summary\":\"2월 법인카드\"}\n",
      "\n",
      "\n",
      "{\"person\":\"이유진\",\"email\":\"leeyu@spectra.co.kr\",\"subject\":\"[협조] 2월 법인카드 영수증 제출 기한 안내_3월 5일(화)까지\",\"date\":\"2024년 2월 22일 (목) 오후 3:27\",\"summary\":\"2월 법인카드 영\"}\n",
      "\n",
      "\n",
      "{\"person\":\"이유진\",\"email\":\"leeyu@spectra.co.kr\",\"subject\":\"[협조] 2월 법인카드 영수증 제출 기한 안내_3월 5일(화)까지\",\"date\":\"2024년 2월 22일 (목) 오후 3:27\",\"summary\":\"2월 법인카드 영수\"}\n",
      "\n",
      "\n",
      "{\"person\":\"이유진\",\"email\":\"leeyu@spectra.co.kr\",\"subject\":\"[협조] 2월 법인카드 영수증 제출 기한 안내_3월 5일(화)까지\",\"date\":\"2024년 2월 22일 (목) 오후 3:27\",\"summary\":\"2월 법인카드 영수증\"}\n",
      "\n",
      "\n",
      "{\"person\":\"이유진\",\"email\":\"leeyu@spectra.co.kr\",\"subject\":\"[협조] 2월 법인카드 영수증 제출 기한 안내_3월 5일(화)까지\",\"date\":\"2024년 2월 22일 (목) 오후 3:27\",\"summary\":\"2월 법인카드 영수증 제출\"}\n",
      "\n",
      "\n",
      "{\"person\":\"이유진\",\"email\":\"leeyu@spectra.co.kr\",\"subject\":\"[협조] 2월 법인카드 영수증 제출 기한 안내_3월 5일(화)까지\",\"date\":\"2024년 2월 22일 (목) 오후 3:27\",\"summary\":\"2월 법인카드 영수증 제출 기\"}\n",
      "\n",
      "\n",
      "{\"person\":\"이유진\",\"email\":\"leeyu@spectra.co.kr\",\"subject\":\"[협조] 2월 법인카드 영수증 제출 기한 안내_3월 5일(화)까지\",\"date\":\"2024년 2월 22일 (목) 오후 3:27\",\"summary\":\"2월 법인카드 영수증 제출 기한\"}\n",
      "\n",
      "\n",
      "{\"person\":\"이유진\",\"email\":\"leeyu@spectra.co.kr\",\"subject\":\"[협조] 2월 법인카드 영수증 제출 기한 안내_3월 5일(화)까지\",\"date\":\"2024년 2월 22일 (목) 오후 3:27\",\"summary\":\"2월 법인카드 영수증 제출 기한은\"}\n",
      "\n",
      "\n",
      "{\"person\":\"이유진\",\"email\":\"leeyu@spectra.co.kr\",\"subject\":\"[협조] 2월 법인카드 영수증 제출 기한 안내_3월 5일(화)까지\",\"date\":\"2024년 2월 22일 (목) 오후 3:27\",\"summary\":\"2월 법인카드 영수증 제출 기한은 \"}\n",
      "\n",
      "\n",
      "{\"person\":\"이유진\",\"email\":\"leeyu@spectra.co.kr\",\"subject\":\"[협조] 2월 법인카드 영수증 제출 기한 안내_3월 5일(화)까지\",\"date\":\"2024년 2월 22일 (목) 오후 3:27\",\"summary\":\"2월 법인카드 영수증 제출 기한은 202\"}\n",
      "\n",
      "\n",
      "{\"person\":\"이유진\",\"email\":\"leeyu@spectra.co.kr\",\"subject\":\"[협조] 2월 법인카드 영수증 제출 기한 안내_3월 5일(화)까지\",\"date\":\"2024년 2월 22일 (목) 오후 3:27\",\"summary\":\"2월 법인카드 영수증 제출 기한은 2024\"}\n",
      "\n",
      "\n",
      "{\"person\":\"이유진\",\"email\":\"leeyu@spectra.co.kr\",\"subject\":\"[협조] 2월 법인카드 영수증 제출 기한 안내_3월 5일(화)까지\",\"date\":\"2024년 2월 22일 (목) 오후 3:27\",\"summary\":\"2월 법인카드 영수증 제출 기한은 2024년\"}\n",
      "\n",
      "\n",
      "{\"person\":\"이유진\",\"email\":\"leeyu@spectra.co.kr\",\"subject\":\"[협조] 2월 법인카드 영수증 제출 기한 안내_3월 5일(화)까지\",\"date\":\"2024년 2월 22일 (목) 오후 3:27\",\"summary\":\"2월 법인카드 영수증 제출 기한은 2024년 \"}\n",
      "\n",
      "\n",
      "{\"person\":\"이유진\",\"email\":\"leeyu@spectra.co.kr\",\"subject\":\"[협조] 2월 법인카드 영수증 제출 기한 안내_3월 5일(화)까지\",\"date\":\"2024년 2월 22일 (목) 오후 3:27\",\"summary\":\"2월 법인카드 영수증 제출 기한은 2024년 3\"}\n",
      "\n",
      "\n",
      "{\"person\":\"이유진\",\"email\":\"leeyu@spectra.co.kr\",\"subject\":\"[협조] 2월 법인카드 영수증 제출 기한 안내_3월 5일(화)까지\",\"date\":\"2024년 2월 22일 (목) 오후 3:27\",\"summary\":\"2월 법인카드 영수증 제출 기한은 2024년 3월\"}\n",
      "\n",
      "\n",
      "{\"person\":\"이유진\",\"email\":\"leeyu@spectra.co.kr\",\"subject\":\"[협조] 2월 법인카드 영수증 제출 기한 안내_3월 5일(화)까지\",\"date\":\"2024년 2월 22일 (목) 오후 3:27\",\"summary\":\"2월 법인카드 영수증 제출 기한은 2024년 3월 \"}\n",
      "\n",
      "\n",
      "{\"person\":\"이유진\",\"email\":\"leeyu@spectra.co.kr\",\"subject\":\"[협조] 2월 법인카드 영수증 제출 기한 안내_3월 5일(화)까지\",\"date\":\"2024년 2월 22일 (목) 오후 3:27\",\"summary\":\"2월 법인카드 영수증 제출 기한은 2024년 3월 5\"}\n",
      "\n",
      "\n",
      "{\"person\":\"이유진\",\"email\":\"leeyu@spectra.co.kr\",\"subject\":\"[협조] 2월 법인카드 영수증 제출 기한 안내_3월 5일(화)까지\",\"date\":\"2024년 2월 22일 (목) 오후 3:27\",\"summary\":\"2월 법인카드 영수증 제출 기한은 2024년 3월 5일\"}\n",
      "\n",
      "\n",
      "{\"person\":\"이유진\",\"email\":\"leeyu@spectra.co.kr\",\"subject\":\"[협조] 2월 법인카드 영수증 제출 기한 안내_3월 5일(화)까지\",\"date\":\"2024년 2월 22일 (목) 오후 3:27\",\"summary\":\"2월 법인카드 영수증 제출 기한은 2024년 3월 5일(\"}\n",
      "\n",
      "\n",
      "{\"person\":\"이유진\",\"email\":\"leeyu@spectra.co.kr\",\"subject\":\"[협조] 2월 법인카드 영수증 제출 기한 안내_3월 5일(화)까지\",\"date\":\"2024년 2월 22일 (목) 오후 3:27\",\"summary\":\"2월 법인카드 영수증 제출 기한은 2024년 3월 5일(화\"}\n",
      "\n",
      "\n",
      "{\"person\":\"이유진\",\"email\":\"leeyu@spectra.co.kr\",\"subject\":\"[협조] 2월 법인카드 영수증 제출 기한 안내_3월 5일(화)까지\",\"date\":\"2024년 2월 22일 (목) 오후 3:27\",\"summary\":\"2월 법인카드 영수증 제출 기한은 2024년 3월 5일(화)\"}\n",
      "\n",
      "\n",
      "{\"person\":\"이유진\",\"email\":\"leeyu@spectra.co.kr\",\"subject\":\"[협조] 2월 법인카드 영수증 제출 기한 안내_3월 5일(화)까지\",\"date\":\"2024년 2월 22일 (목) 오후 3:27\",\"summary\":\"2월 법인카드 영수증 제출 기한은 2024년 3월 5일(화)까지\"}\n",
      "\n",
      "\n",
      "{\"person\":\"이유진\",\"email\":\"leeyu@spectra.co.kr\",\"subject\":\"[협조] 2월 법인카드 영수증 제출 기한 안내_3월 5일(화)까지\",\"date\":\"2024년 2월 22일 (목) 오후 3:27\",\"summary\":\"2월 법인카드 영수증 제출 기한은 2024년 3월 5일(화)까지입니다\"}\n",
      "\n",
      "\n",
      "{\"person\":\"이유진\",\"email\":\"leeyu@spectra.co.kr\",\"subject\":\"[협조] 2월 법인카드 영수증 제출 기한 안내_3월 5일(화)까지\",\"date\":\"2024년 2월 22일 (목) 오후 3:27\",\"summary\":\"2월 법인카드 영수증 제출 기한은 2024년 3월 5일(화)까지입니다.\"}\n",
      "\n",
      "\n",
      "{\"person\":\"이유진\",\"email\":\"leeyu@spectra.co.kr\",\"subject\":\"[협조] 2월 법인카드 영수증 제출 기한 안내_3월 5일(화)까지\",\"date\":\"2024년 2월 22일 (목) 오후 3:27\",\"summary\":\"2월 법인카드 영수증 제출 기한은 2024년 3월 5일(화)까지입니다. 제출\"}\n",
      "\n",
      "\n",
      "{\"person\":\"이유진\",\"email\":\"leeyu@spectra.co.kr\",\"subject\":\"[협조] 2월 법인카드 영수증 제출 기한 안내_3월 5일(화)까지\",\"date\":\"2024년 2월 22일 (목) 오후 3:27\",\"summary\":\"2월 법인카드 영수증 제출 기한은 2024년 3월 5일(화)까지입니다. 제출 대상\"}\n",
      "\n",
      "\n",
      "{\"person\":\"이유진\",\"email\":\"leeyu@spectra.co.kr\",\"subject\":\"[협조] 2월 법인카드 영수증 제출 기한 안내_3월 5일(화)까지\",\"date\":\"2024년 2월 22일 (목) 오후 3:27\",\"summary\":\"2월 법인카드 영수증 제출 기한은 2024년 3월 5일(화)까지입니다. 제출 대상은\"}\n",
      "\n",
      "\n",
      "{\"person\":\"이유진\",\"email\":\"leeyu@spectra.co.kr\",\"subject\":\"[협조] 2월 법인카드 영수증 제출 기한 안내_3월 5일(화)까지\",\"date\":\"2024년 2월 22일 (목) 오후 3:27\",\"summary\":\"2월 법인카드 영수증 제출 기한은 2024년 3월 5일(화)까지입니다. 제출 대상은 법\"}\n",
      "\n",
      "\n",
      "{\"person\":\"이유진\",\"email\":\"leeyu@spectra.co.kr\",\"subject\":\"[협조] 2월 법인카드 영수증 제출 기한 안내_3월 5일(화)까지\",\"date\":\"2024년 2월 22일 (목) 오후 3:27\",\"summary\":\"2월 법인카드 영수증 제출 기한은 2024년 3월 5일(화)까지입니다. 제출 대상은 법인\"}\n",
      "\n",
      "\n",
      "{\"person\":\"이유진\",\"email\":\"leeyu@spectra.co.kr\",\"subject\":\"[협조] 2월 법인카드 영수증 제출 기한 안내_3월 5일(화)까지\",\"date\":\"2024년 2월 22일 (목) 오후 3:27\",\"summary\":\"2월 법인카드 영수증 제출 기한은 2024년 3월 5일(화)까지입니다. 제출 대상은 법인카\"}\n",
      "\n",
      "\n",
      "{\"person\":\"이유진\",\"email\":\"leeyu@spectra.co.kr\",\"subject\":\"[협조] 2월 법인카드 영수증 제출 기한 안내_3월 5일(화)까지\",\"date\":\"2024년 2월 22일 (목) 오후 3:27\",\"summary\":\"2월 법인카드 영수증 제출 기한은 2024년 3월 5일(화)까지입니다. 제출 대상은 법인카드\"}\n",
      "\n",
      "\n",
      "{\"person\":\"이유진\",\"email\":\"leeyu@spectra.co.kr\",\"subject\":\"[협조] 2월 법인카드 영수증 제출 기한 안내_3월 5일(화)까지\",\"date\":\"2024년 2월 22일 (목) 오후 3:27\",\"summary\":\"2월 법인카드 영수증 제출 기한은 2024년 3월 5일(화)까지입니다. 제출 대상은 법인카드 소\"}\n",
      "\n",
      "\n",
      "{\"person\":\"이유진\",\"email\":\"leeyu@spectra.co.kr\",\"subject\":\"[협조] 2월 법인카드 영수증 제출 기한 안내_3월 5일(화)까지\",\"date\":\"2024년 2월 22일 (목) 오후 3:27\",\"summary\":\"2월 법인카드 영수증 제출 기한은 2024년 3월 5일(화)까지입니다. 제출 대상은 법인카드 소유\"}\n",
      "\n",
      "\n",
      "{\"person\":\"이유진\",\"email\":\"leeyu@spectra.co.kr\",\"subject\":\"[협조] 2월 법인카드 영수증 제출 기한 안내_3월 5일(화)까지\",\"date\":\"2024년 2월 22일 (목) 오후 3:27\",\"summary\":\"2월 법인카드 영수증 제출 기한은 2024년 3월 5일(화)까지입니다. 제출 대상은 법인카드 소유자\"}\n",
      "\n",
      "\n",
      "{\"person\":\"이유진\",\"email\":\"leeyu@spectra.co.kr\",\"subject\":\"[협조] 2월 법인카드 영수증 제출 기한 안내_3월 5일(화)까지\",\"date\":\"2024년 2월 22일 (목) 오후 3:27\",\"summary\":\"2월 법인카드 영수증 제출 기한은 2024년 3월 5일(화)까지입니다. 제출 대상은 법인카드 소유자이며\"}\n",
      "\n",
      "\n",
      "{\"person\":\"이유진\",\"email\":\"leeyu@spectra.co.kr\",\"subject\":\"[협조] 2월 법인카드 영수증 제출 기한 안내_3월 5일(화)까지\",\"date\":\"2024년 2월 22일 (목) 오후 3:27\",\"summary\":\"2월 법인카드 영수증 제출 기한은 2024년 3월 5일(화)까지입니다. 제출 대상은 법인카드 소유자이며,\"}\n",
      "\n",
      "\n",
      "{\"person\":\"이유진\",\"email\":\"leeyu@spectra.co.kr\",\"subject\":\"[협조] 2월 법인카드 영수증 제출 기한 안내_3월 5일(화)까지\",\"date\":\"2024년 2월 22일 (목) 오후 3:27\",\"summary\":\"2월 법인카드 영수증 제출 기한은 2024년 3월 5일(화)까지입니다. 제출 대상은 법인카드 소유자이며, 제출\"}\n",
      "\n",
      "\n",
      "{\"person\":\"이유진\",\"email\":\"leeyu@spectra.co.kr\",\"subject\":\"[협조] 2월 법인카드 영수증 제출 기한 안내_3월 5일(화)까지\",\"date\":\"2024년 2월 22일 (목) 오후 3:27\",\"summary\":\"2월 법인카드 영수증 제출 기한은 2024년 3월 5일(화)까지입니다. 제출 대상은 법인카드 소유자이며, 제출 방법\"}\n",
      "\n",
      "\n",
      "{\"person\":\"이유진\",\"email\":\"leeyu@spectra.co.kr\",\"subject\":\"[협조] 2월 법인카드 영수증 제출 기한 안내_3월 5일(화)까지\",\"date\":\"2024년 2월 22일 (목) 오후 3:27\",\"summary\":\"2월 법인카드 영수증 제출 기한은 2024년 3월 5일(화)까지입니다. 제출 대상은 법인카드 소유자이며, 제출 방법은\"}\n",
      "\n",
      "\n",
      "{\"person\":\"이유진\",\"email\":\"leeyu@spectra.co.kr\",\"subject\":\"[협조] 2월 법인카드 영수증 제출 기한 안내_3월 5일(화)까지\",\"date\":\"2024년 2월 22일 (목) 오후 3:27\",\"summary\":\"2월 법인카드 영수증 제출 기한은 2024년 3월 5일(화)까지입니다. 제출 대상은 법인카드 소유자이며, 제출 방법은 플\"}\n",
      "\n",
      "\n",
      "{\"person\":\"이유진\",\"email\":\"leeyu@spectra.co.kr\",\"subject\":\"[협조] 2월 법인카드 영수증 제출 기한 안내_3월 5일(화)까지\",\"date\":\"2024년 2월 22일 (목) 오후 3:27\",\"summary\":\"2월 법인카드 영수증 제출 기한은 2024년 3월 5일(화)까지입니다. 제출 대상은 법인카드 소유자이며, 제출 방법은 플렉\"}\n",
      "\n",
      "\n",
      "{\"person\":\"이유진\",\"email\":\"leeyu@spectra.co.kr\",\"subject\":\"[협조] 2월 법인카드 영수증 제출 기한 안내_3월 5일(화)까지\",\"date\":\"2024년 2월 22일 (목) 오후 3:27\",\"summary\":\"2월 법인카드 영수증 제출 기한은 2024년 3월 5일(화)까지입니다. 제출 대상은 법인카드 소유자이며, 제출 방법은 플렉스\"}\n",
      "\n",
      "\n",
      "{\"person\":\"이유진\",\"email\":\"leeyu@spectra.co.kr\",\"subject\":\"[협조] 2월 법인카드 영수증 제출 기한 안내_3월 5일(화)까지\",\"date\":\"2024년 2월 22일 (목) 오후 3:27\",\"summary\":\"2월 법인카드 영수증 제출 기한은 2024년 3월 5일(화)까지입니다. 제출 대상은 법인카드 소유자이며, 제출 방법은 플렉스 -\"}\n",
      "\n",
      "\n",
      "{\"person\":\"이유진\",\"email\":\"leeyu@spectra.co.kr\",\"subject\":\"[협조] 2월 법인카드 영수증 제출 기한 안내_3월 5일(화)까지\",\"date\":\"2024년 2월 22일 (목) 오후 3:27\",\"summary\":\"2월 법인카드 영수증 제출 기한은 2024년 3월 5일(화)까지입니다. 제출 대상은 법인카드 소유자이며, 제출 방법은 플렉스 - 워\"}\n",
      "\n",
      "\n",
      "{\"person\":\"이유진\",\"email\":\"leeyu@spectra.co.kr\",\"subject\":\"[협조] 2월 법인카드 영수증 제출 기한 안내_3월 5일(화)까지\",\"date\":\"2024년 2월 22일 (목) 오후 3:27\",\"summary\":\"2월 법인카드 영수증 제출 기한은 2024년 3월 5일(화)까지입니다. 제출 대상은 법인카드 소유자이며, 제출 방법은 플렉스 - 워크\"}\n",
      "\n",
      "\n",
      "{\"person\":\"이유진\",\"email\":\"leeyu@spectra.co.kr\",\"subject\":\"[협조] 2월 법인카드 영수증 제출 기한 안내_3월 5일(화)까지\",\"date\":\"2024년 2월 22일 (목) 오후 3:27\",\"summary\":\"2월 법인카드 영수증 제출 기한은 2024년 3월 5일(화)까지입니다. 제출 대상은 법인카드 소유자이며, 제출 방법은 플렉스 - 워크플\"}\n",
      "\n",
      "\n",
      "{\"person\":\"이유진\",\"email\":\"leeyu@spectra.co.kr\",\"subject\":\"[협조] 2월 법인카드 영수증 제출 기한 안내_3월 5일(화)까지\",\"date\":\"2024년 2월 22일 (목) 오후 3:27\",\"summary\":\"2월 법인카드 영수증 제출 기한은 2024년 3월 5일(화)까지입니다. 제출 대상은 법인카드 소유자이며, 제출 방법은 플렉스 - 워크플로\"}\n",
      "\n",
      "\n",
      "{\"person\":\"이유진\",\"email\":\"leeyu@spectra.co.kr\",\"subject\":\"[협조] 2월 법인카드 영수증 제출 기한 안내_3월 5일(화)까지\",\"date\":\"2024년 2월 22일 (목) 오후 3:27\",\"summary\":\"2월 법인카드 영수증 제출 기한은 2024년 3월 5일(화)까지입니다. 제출 대상은 법인카드 소유자이며, 제출 방법은 플렉스 - 워크플로우\"}\n",
      "\n",
      "\n",
      "{\"person\":\"이유진\",\"email\":\"leeyu@spectra.co.kr\",\"subject\":\"[협조] 2월 법인카드 영수증 제출 기한 안내_3월 5일(화)까지\",\"date\":\"2024년 2월 22일 (목) 오후 3:27\",\"summary\":\"2월 법인카드 영수증 제출 기한은 2024년 3월 5일(화)까지입니다. 제출 대상은 법인카드 소유자이며, 제출 방법은 플렉스 - 워크플로우 -\"}\n",
      "\n",
      "\n",
      "{\"person\":\"이유진\",\"email\":\"leeyu@spectra.co.kr\",\"subject\":\"[협조] 2월 법인카드 영수증 제출 기한 안내_3월 5일(화)까지\",\"date\":\"2024년 2월 22일 (목) 오후 3:27\",\"summary\":\"2월 법인카드 영수증 제출 기한은 2024년 3월 5일(화)까지입니다. 제출 대상은 법인카드 소유자이며, 제출 방법은 플렉스 - 워크플로우 - 문\"}\n",
      "\n",
      "\n",
      "{\"person\":\"이유진\",\"email\":\"leeyu@spectra.co.kr\",\"subject\":\"[협조] 2월 법인카드 영수증 제출 기한 안내_3월 5일(화)까지\",\"date\":\"2024년 2월 22일 (목) 오후 3:27\",\"summary\":\"2월 법인카드 영수증 제출 기한은 2024년 3월 5일(화)까지입니다. 제출 대상은 법인카드 소유자이며, 제출 방법은 플렉스 - 워크플로우 - 문서\"}\n",
      "\n",
      "\n",
      "{\"person\":\"이유진\",\"email\":\"leeyu@spectra.co.kr\",\"subject\":\"[협조] 2월 법인카드 영수증 제출 기한 안내_3월 5일(화)까지\",\"date\":\"2024년 2월 22일 (목) 오후 3:27\",\"summary\":\"2월 법인카드 영수증 제출 기한은 2024년 3월 5일(화)까지입니다. 제출 대상은 법인카드 소유자이며, 제출 방법은 플렉스 - 워크플로우 - 문서 작성\"}\n",
      "\n",
      "\n",
      "{\"person\":\"이유진\",\"email\":\"leeyu@spectra.co.kr\",\"subject\":\"[협조] 2월 법인카드 영수증 제출 기한 안내_3월 5일(화)까지\",\"date\":\"2024년 2월 22일 (목) 오후 3:27\",\"summary\":\"2월 법인카드 영수증 제출 기한은 2024년 3월 5일(화)까지입니다. 제출 대상은 법인카드 소유자이며, 제출 방법은 플렉스 - 워크플로우 - 문서 작성하기\"}\n",
      "\n",
      "\n",
      "{\"person\":\"이유진\",\"email\":\"leeyu@spectra.co.kr\",\"subject\":\"[협조] 2월 법인카드 영수증 제출 기한 안내_3월 5일(화)까지\",\"date\":\"2024년 2월 22일 (목) 오후 3:27\",\"summary\":\"2월 법인카드 영수증 제출 기한은 2024년 3월 5일(화)까지입니다. 제출 대상은 법인카드 소유자이며, 제출 방법은 플렉스 - 워크플로우 - 문서 작성하기 -\"}\n",
      "\n",
      "\n",
      "{\"person\":\"이유진\",\"email\":\"leeyu@spectra.co.kr\",\"subject\":\"[협조] 2월 법인카드 영수증 제출 기한 안내_3월 5일(화)까지\",\"date\":\"2024년 2월 22일 (목) 오후 3:27\",\"summary\":\"2월 법인카드 영수증 제출 기한은 2024년 3월 5일(화)까지입니다. 제출 대상은 법인카드 소유자이며, 제출 방법은 플렉스 - 워크플로우 - 문서 작성하기 - 비용\"}\n",
      "\n",
      "\n",
      "{\"person\":\"이유진\",\"email\":\"leeyu@spectra.co.kr\",\"subject\":\"[협조] 2월 법인카드 영수증 제출 기한 안내_3월 5일(화)까지\",\"date\":\"2024년 2월 22일 (목) 오후 3:27\",\"summary\":\"2월 법인카드 영수증 제출 기한은 2024년 3월 5일(화)까지입니다. 제출 대상은 법인카드 소유자이며, 제출 방법은 플렉스 - 워크플로우 - 문서 작성하기 - 비용신\"}\n",
      "\n",
      "\n",
      "{\"person\":\"이유진\",\"email\":\"leeyu@spectra.co.kr\",\"subject\":\"[협조] 2월 법인카드 영수증 제출 기한 안내_3월 5일(화)까지\",\"date\":\"2024년 2월 22일 (목) 오후 3:27\",\"summary\":\"2월 법인카드 영수증 제출 기한은 2024년 3월 5일(화)까지입니다. 제출 대상은 법인카드 소유자이며, 제출 방법은 플렉스 - 워크플로우 - 문서 작성하기 - 비용신청\"}\n",
      "\n",
      "\n",
      "{\"person\":\"이유진\",\"email\":\"leeyu@spectra.co.kr\",\"subject\":\"[협조] 2월 법인카드 영수증 제출 기한 안내_3월 5일(화)까지\",\"date\":\"2024년 2월 22일 (목) 오후 3:27\",\"summary\":\"2월 법인카드 영수증 제출 기한은 2024년 3월 5일(화)까지입니다. 제출 대상은 법인카드 소유자이며, 제출 방법은 플렉스 - 워크플로우 - 문서 작성하기 - 비용신청서\"}\n",
      "\n",
      "\n",
      "{\"person\":\"이유진\",\"email\":\"leeyu@spectra.co.kr\",\"subject\":\"[협조] 2월 법인카드 영수증 제출 기한 안내_3월 5일(화)까지\",\"date\":\"2024년 2월 22일 (목) 오후 3:27\",\"summary\":\"2월 법인카드 영수증 제출 기한은 2024년 3월 5일(화)까지입니다. 제출 대상은 법인카드 소유자이며, 제출 방법은 플렉스 - 워크플로우 - 문서 작성하기 - 비용신청서 작성\"}\n",
      "\n",
      "\n",
      "{\"person\":\"이유진\",\"email\":\"leeyu@spectra.co.kr\",\"subject\":\"[협조] 2월 법인카드 영수증 제출 기한 안내_3월 5일(화)까지\",\"date\":\"2024년 2월 22일 (목) 오후 3:27\",\"summary\":\"2월 법인카드 영수증 제출 기한은 2024년 3월 5일(화)까지입니다. 제출 대상은 법인카드 소유자이며, 제출 방법은 플렉스 - 워크플로우 - 문서 작성하기 - 비용신청서 작성 및\"}\n",
      "\n",
      "\n",
      "{\"person\":\"이유진\",\"email\":\"leeyu@spectra.co.kr\",\"subject\":\"[협조] 2월 법인카드 영수증 제출 기한 안내_3월 5일(화)까지\",\"date\":\"2024년 2월 22일 (목) 오후 3:27\",\"summary\":\"2월 법인카드 영수증 제출 기한은 2024년 3월 5일(화)까지입니다. 제출 대상은 법인카드 소유자이며, 제출 방법은 플렉스 - 워크플로우 - 문서 작성하기 - 비용신청서 작성 및 영\"}\n",
      "\n",
      "\n",
      "{\"person\":\"이유진\",\"email\":\"leeyu@spectra.co.kr\",\"subject\":\"[협조] 2월 법인카드 영수증 제출 기한 안내_3월 5일(화)까지\",\"date\":\"2024년 2월 22일 (목) 오후 3:27\",\"summary\":\"2월 법인카드 영수증 제출 기한은 2024년 3월 5일(화)까지입니다. 제출 대상은 법인카드 소유자이며, 제출 방법은 플렉스 - 워크플로우 - 문서 작성하기 - 비용신청서 작성 및 영수\"}\n",
      "\n",
      "\n",
      "{\"person\":\"이유진\",\"email\":\"leeyu@spectra.co.kr\",\"subject\":\"[협조] 2월 법인카드 영수증 제출 기한 안내_3월 5일(화)까지\",\"date\":\"2024년 2월 22일 (목) 오후 3:27\",\"summary\":\"2월 법인카드 영수증 제출 기한은 2024년 3월 5일(화)까지입니다. 제출 대상은 법인카드 소유자이며, 제출 방법은 플렉스 - 워크플로우 - 문서 작성하기 - 비용신청서 작성 및 영수증\"}\n",
      "\n",
      "\n",
      "{\"person\":\"이유진\",\"email\":\"leeyu@spectra.co.kr\",\"subject\":\"[협조] 2월 법인카드 영수증 제출 기한 안내_3월 5일(화)까지\",\"date\":\"2024년 2월 22일 (목) 오후 3:27\",\"summary\":\"2월 법인카드 영수증 제출 기한은 2024년 3월 5일(화)까지입니다. 제출 대상은 법인카드 소유자이며, 제출 방법은 플렉스 - 워크플로우 - 문서 작성하기 - 비용신청서 작성 및 영수증 제출\"}\n",
      "\n",
      "\n",
      "{\"person\":\"이유진\",\"email\":\"leeyu@spectra.co.kr\",\"subject\":\"[협조] 2월 법인카드 영수증 제출 기한 안내_3월 5일(화)까지\",\"date\":\"2024년 2월 22일 (목) 오후 3:27\",\"summary\":\"2월 법인카드 영수증 제출 기한은 2024년 3월 5일(화)까지입니다. 제출 대상은 법인카드 소유자이며, 제출 방법은 플렉스 - 워크플로우 - 문서 작성하기 - 비용신청서 작성 및 영수증 제출입니다\"}\n",
      "\n",
      "\n",
      "{\"person\":\"이유진\",\"email\":\"leeyu@spectra.co.kr\",\"subject\":\"[협조] 2월 법인카드 영수증 제출 기한 안내_3월 5일(화)까지\",\"date\":\"2024년 2월 22일 (목) 오후 3:27\",\"summary\":\"2월 법인카드 영수증 제출 기한은 2024년 3월 5일(화)까지입니다. 제출 대상은 법인카드 소유자이며, 제출 방법은 플렉스 - 워크플로우 - 문서 작성하기 - 비용신청서 작성 및 영수증 제출입니다.\"}\n",
      "\n",
      "\n",
      "{\"person\":\"이유진\",\"email\":\"leeyu@spectra.co.kr\",\"subject\":\"[협조] 2월 법인카드 영수증 제출 기한 안내_3월 5일(화)까지\",\"date\":\"2024년 2월 22일 (목) 오후 3:27\",\"summary\":\"2월 법인카드 영수증 제출 기한은 2024년 3월 5일(화)까지입니다. 제출 대상은 법인카드 소유자이며, 제출 방법은 플렉스 - 워크플로우 - 문서 작성하기 - 비용신청서 작성 및 영수증 제출입니다. 상\"}\n",
      "\n",
      "\n",
      "{\"person\":\"이유진\",\"email\":\"leeyu@spectra.co.kr\",\"subject\":\"[협조] 2월 법인카드 영수증 제출 기한 안내_3월 5일(화)까지\",\"date\":\"2024년 2월 22일 (목) 오후 3:27\",\"summary\":\"2월 법인카드 영수증 제출 기한은 2024년 3월 5일(화)까지입니다. 제출 대상은 법인카드 소유자이며, 제출 방법은 플렉스 - 워크플로우 - 문서 작성하기 - 비용신청서 작성 및 영수증 제출입니다. 상주\"}\n",
      "\n",
      "\n",
      "{\"person\":\"이유진\",\"email\":\"leeyu@spectra.co.kr\",\"subject\":\"[협조] 2월 법인카드 영수증 제출 기한 안내_3월 5일(화)까지\",\"date\":\"2024년 2월 22일 (목) 오후 3:27\",\"summary\":\"2월 법인카드 영수증 제출 기한은 2024년 3월 5일(화)까지입니다. 제출 대상은 법인카드 소유자이며, 제출 방법은 플렉스 - 워크플로우 - 문서 작성하기 - 비용신청서 작성 및 영수증 제출입니다. 상주 PJ\"}\n",
      "\n",
      "\n",
      "{\"person\":\"이유진\",\"email\":\"leeyu@spectra.co.kr\",\"subject\":\"[협조] 2월 법인카드 영수증 제출 기한 안내_3월 5일(화)까지\",\"date\":\"2024년 2월 22일 (목) 오후 3:27\",\"summary\":\"2월 법인카드 영수증 제출 기한은 2024년 3월 5일(화)까지입니다. 제출 대상은 법인카드 소유자이며, 제출 방법은 플렉스 - 워크플로우 - 문서 작성하기 - 비용신청서 작성 및 영수증 제출입니다. 상주 PJ의\"}\n",
      "\n",
      "\n",
      "{\"person\":\"이유진\",\"email\":\"leeyu@spectra.co.kr\",\"subject\":\"[협조] 2월 법인카드 영수증 제출 기한 안내_3월 5일(화)까지\",\"date\":\"2024년 2월 22일 (목) 오후 3:27\",\"summary\":\"2월 법인카드 영수증 제출 기한은 2024년 3월 5일(화)까지입니다. 제출 대상은 법인카드 소유자이며, 제출 방법은 플렉스 - 워크플로우 - 문서 작성하기 - 비용신청서 작성 및 영수증 제출입니다. 상주 PJ의 경우\"}\n",
      "\n",
      "\n",
      "{\"person\":\"이유진\",\"email\":\"leeyu@spectra.co.kr\",\"subject\":\"[협조] 2월 법인카드 영수증 제출 기한 안내_3월 5일(화)까지\",\"date\":\"2024년 2월 22일 (목) 오후 3:27\",\"summary\":\"2월 법인카드 영수증 제출 기한은 2024년 3월 5일(화)까지입니다. 제출 대상은 법인카드 소유자이며, 제출 방법은 플렉스 - 워크플로우 - 문서 작성하기 - 비용신청서 작성 및 영수증 제출입니다. 상주 PJ의 경우 비용\"}\n",
      "\n",
      "\n",
      "{\"person\":\"이유진\",\"email\":\"leeyu@spectra.co.kr\",\"subject\":\"[협조] 2월 법인카드 영수증 제출 기한 안내_3월 5일(화)까지\",\"date\":\"2024년 2월 22일 (목) 오후 3:27\",\"summary\":\"2월 법인카드 영수증 제출 기한은 2024년 3월 5일(화)까지입니다. 제출 대상은 법인카드 소유자이며, 제출 방법은 플렉스 - 워크플로우 - 문서 작성하기 - 비용신청서 작성 및 영수증 제출입니다. 상주 PJ의 경우 비용을\"}\n",
      "\n",
      "\n",
      "{\"person\":\"이유진\",\"email\":\"leeyu@spectra.co.kr\",\"subject\":\"[협조] 2월 법인카드 영수증 제출 기한 안내_3월 5일(화)까지\",\"date\":\"2024년 2월 22일 (목) 오후 3:27\",\"summary\":\"2월 법인카드 영수증 제출 기한은 2024년 3월 5일(화)까지입니다. 제출 대상은 법인카드 소유자이며, 제출 방법은 플렉스 - 워크플로우 - 문서 작성하기 - 비용신청서 작성 및 영수증 제출입니다. 상주 PJ의 경우 비용을 먼저\"}\n",
      "\n",
      "\n",
      "{\"person\":\"이유진\",\"email\":\"leeyu@spectra.co.kr\",\"subject\":\"[협조] 2월 법인카드 영수증 제출 기한 안내_3월 5일(화)까지\",\"date\":\"2024년 2월 22일 (목) 오후 3:27\",\"summary\":\"2월 법인카드 영수증 제출 기한은 2024년 3월 5일(화)까지입니다. 제출 대상은 법인카드 소유자이며, 제출 방법은 플렉스 - 워크플로우 - 문서 작성하기 - 비용신청서 작성 및 영수증 제출입니다. 상주 PJ의 경우 비용을 먼저 청\"}\n",
      "\n",
      "\n",
      "{\"person\":\"이유진\",\"email\":\"leeyu@spectra.co.kr\",\"subject\":\"[협조] 2월 법인카드 영수증 제출 기한 안내_3월 5일(화)까지\",\"date\":\"2024년 2월 22일 (목) 오후 3:27\",\"summary\":\"2월 법인카드 영수증 제출 기한은 2024년 3월 5일(화)까지입니다. 제출 대상은 법인카드 소유자이며, 제출 방법은 플렉스 - 워크플로우 - 문서 작성하기 - 비용신청서 작성 및 영수증 제출입니다. 상주 PJ의 경우 비용을 먼저 청구\"}\n",
      "\n",
      "\n",
      "{\"person\":\"이유진\",\"email\":\"leeyu@spectra.co.kr\",\"subject\":\"[협조] 2월 법인카드 영수증 제출 기한 안내_3월 5일(화)까지\",\"date\":\"2024년 2월 22일 (목) 오후 3:27\",\"summary\":\"2월 법인카드 영수증 제출 기한은 2024년 3월 5일(화)까지입니다. 제출 대상은 법인카드 소유자이며, 제출 방법은 플렉스 - 워크플로우 - 문서 작성하기 - 비용신청서 작성 및 영수증 제출입니다. 상주 PJ의 경우 비용을 먼저 청구하고\"}\n",
      "\n",
      "\n",
      "{\"person\":\"이유진\",\"email\":\"leeyu@spectra.co.kr\",\"subject\":\"[협조] 2월 법인카드 영수증 제출 기한 안내_3월 5일(화)까지\",\"date\":\"2024년 2월 22일 (목) 오후 3:27\",\"summary\":\"2월 법인카드 영수증 제출 기한은 2024년 3월 5일(화)까지입니다. 제출 대상은 법인카드 소유자이며, 제출 방법은 플렉스 - 워크플로우 - 문서 작성하기 - 비용신청서 작성 및 영수증 제출입니다. 상주 PJ의 경우 비용을 먼저 청구하고 영\"}\n",
      "\n",
      "\n",
      "{\"person\":\"이유진\",\"email\":\"leeyu@spectra.co.kr\",\"subject\":\"[협조] 2월 법인카드 영수증 제출 기한 안내_3월 5일(화)까지\",\"date\":\"2024년 2월 22일 (목) 오후 3:27\",\"summary\":\"2월 법인카드 영수증 제출 기한은 2024년 3월 5일(화)까지입니다. 제출 대상은 법인카드 소유자이며, 제출 방법은 플렉스 - 워크플로우 - 문서 작성하기 - 비용신청서 작성 및 영수증 제출입니다. 상주 PJ의 경우 비용을 먼저 청구하고 영수\"}\n",
      "\n",
      "\n",
      "{\"person\":\"이유진\",\"email\":\"leeyu@spectra.co.kr\",\"subject\":\"[협조] 2월 법인카드 영수증 제출 기한 안내_3월 5일(화)까지\",\"date\":\"2024년 2월 22일 (목) 오후 3:27\",\"summary\":\"2월 법인카드 영수증 제출 기한은 2024년 3월 5일(화)까지입니다. 제출 대상은 법인카드 소유자이며, 제출 방법은 플렉스 - 워크플로우 - 문서 작성하기 - 비용신청서 작성 및 영수증 제출입니다. 상주 PJ의 경우 비용을 먼저 청구하고 영수증\"}\n",
      "\n",
      "\n",
      "{\"person\":\"이유진\",\"email\":\"leeyu@spectra.co.kr\",\"subject\":\"[협조] 2월 법인카드 영수증 제출 기한 안내_3월 5일(화)까지\",\"date\":\"2024년 2월 22일 (목) 오후 3:27\",\"summary\":\"2월 법인카드 영수증 제출 기한은 2024년 3월 5일(화)까지입니다. 제출 대상은 법인카드 소유자이며, 제출 방법은 플렉스 - 워크플로우 - 문서 작성하기 - 비용신청서 작성 및 영수증 제출입니다. 상주 PJ의 경우 비용을 먼저 청구하고 영수증은\"}\n",
      "\n",
      "\n",
      "{\"person\":\"이유진\",\"email\":\"leeyu@spectra.co.kr\",\"subject\":\"[협조] 2월 법인카드 영수증 제출 기한 안내_3월 5일(화)까지\",\"date\":\"2024년 2월 22일 (목) 오후 3:27\",\"summary\":\"2월 법인카드 영수증 제출 기한은 2024년 3월 5일(화)까지입니다. 제출 대상은 법인카드 소유자이며, 제출 방법은 플렉스 - 워크플로우 - 문서 작성하기 - 비용신청서 작성 및 영수증 제출입니다. 상주 PJ의 경우 비용을 먼저 청구하고 영수증은 나\"}\n",
      "\n",
      "\n",
      "{\"person\":\"이유진\",\"email\":\"leeyu@spectra.co.kr\",\"subject\":\"[협조] 2월 법인카드 영수증 제출 기한 안내_3월 5일(화)까지\",\"date\":\"2024년 2월 22일 (목) 오후 3:27\",\"summary\":\"2월 법인카드 영수증 제출 기한은 2024년 3월 5일(화)까지입니다. 제출 대상은 법인카드 소유자이며, 제출 방법은 플렉스 - 워크플로우 - 문서 작성하기 - 비용신청서 작성 및 영수증 제출입니다. 상주 PJ의 경우 비용을 먼저 청구하고 영수증은 나중\"}\n",
      "\n",
      "\n",
      "{\"person\":\"이유진\",\"email\":\"leeyu@spectra.co.kr\",\"subject\":\"[협조] 2월 법인카드 영수증 제출 기한 안내_3월 5일(화)까지\",\"date\":\"2024년 2월 22일 (목) 오후 3:27\",\"summary\":\"2월 법인카드 영수증 제출 기한은 2024년 3월 5일(화)까지입니다. 제출 대상은 법인카드 소유자이며, 제출 방법은 플렉스 - 워크플로우 - 문서 작성하기 - 비용신청서 작성 및 영수증 제출입니다. 상주 PJ의 경우 비용을 먼저 청구하고 영수증은 나중에\"}\n",
      "\n",
      "\n",
      "{\"person\":\"이유진\",\"email\":\"leeyu@spectra.co.kr\",\"subject\":\"[협조] 2월 법인카드 영수증 제출 기한 안내_3월 5일(화)까지\",\"date\":\"2024년 2월 22일 (목) 오후 3:27\",\"summary\":\"2월 법인카드 영수증 제출 기한은 2024년 3월 5일(화)까지입니다. 제출 대상은 법인카드 소유자이며, 제출 방법은 플렉스 - 워크플로우 - 문서 작성하기 - 비용신청서 작성 및 영수증 제출입니다. 상주 PJ의 경우 비용을 먼저 청구하고 영수증은 나중에 제출\"}\n",
      "\n",
      "\n",
      "{\"person\":\"이유진\",\"email\":\"leeyu@spectra.co.kr\",\"subject\":\"[협조] 2월 법인카드 영수증 제출 기한 안내_3월 5일(화)까지\",\"date\":\"2024년 2월 22일 (목) 오후 3:27\",\"summary\":\"2월 법인카드 영수증 제출 기한은 2024년 3월 5일(화)까지입니다. 제출 대상은 법인카드 소유자이며, 제출 방법은 플렉스 - 워크플로우 - 문서 작성하기 - 비용신청서 작성 및 영수증 제출입니다. 상주 PJ의 경우 비용을 먼저 청구하고 영수증은 나중에 제출해야\"}\n",
      "\n",
      "\n",
      "{\"person\":\"이유진\",\"email\":\"leeyu@spectra.co.kr\",\"subject\":\"[협조] 2월 법인카드 영수증 제출 기한 안내_3월 5일(화)까지\",\"date\":\"2024년 2월 22일 (목) 오후 3:27\",\"summary\":\"2월 법인카드 영수증 제출 기한은 2024년 3월 5일(화)까지입니다. 제출 대상은 법인카드 소유자이며, 제출 방법은 플렉스 - 워크플로우 - 문서 작성하기 - 비용신청서 작성 및 영수증 제출입니다. 상주 PJ의 경우 비용을 먼저 청구하고 영수증은 나중에 제출해야 하\"}\n",
      "\n",
      "\n",
      "{\"person\":\"이유진\",\"email\":\"leeyu@spectra.co.kr\",\"subject\":\"[협조] 2월 법인카드 영수증 제출 기한 안내_3월 5일(화)까지\",\"date\":\"2024년 2월 22일 (목) 오후 3:27\",\"summary\":\"2월 법인카드 영수증 제출 기한은 2024년 3월 5일(화)까지입니다. 제출 대상은 법인카드 소유자이며, 제출 방법은 플렉스 - 워크플로우 - 문서 작성하기 - 비용신청서 작성 및 영수증 제출입니다. 상주 PJ의 경우 비용을 먼저 청구하고 영수증은 나중에 제출해야 하며\"}\n",
      "\n",
      "\n",
      "{\"person\":\"이유진\",\"email\":\"leeyu@spectra.co.kr\",\"subject\":\"[협조] 2월 법인카드 영수증 제출 기한 안내_3월 5일(화)까지\",\"date\":\"2024년 2월 22일 (목) 오후 3:27\",\"summary\":\"2월 법인카드 영수증 제출 기한은 2024년 3월 5일(화)까지입니다. 제출 대상은 법인카드 소유자이며, 제출 방법은 플렉스 - 워크플로우 - 문서 작성하기 - 비용신청서 작성 및 영수증 제출입니다. 상주 PJ의 경우 비용을 먼저 청구하고 영수증은 나중에 제출해야 하며,\"}\n",
      "\n",
      "\n",
      "{\"person\":\"이유진\",\"email\":\"leeyu@spectra.co.kr\",\"subject\":\"[협조] 2월 법인카드 영수증 제출 기한 안내_3월 5일(화)까지\",\"date\":\"2024년 2월 22일 (목) 오후 3:27\",\"summary\":\"2월 법인카드 영수증 제출 기한은 2024년 3월 5일(화)까지입니다. 제출 대상은 법인카드 소유자이며, 제출 방법은 플렉스 - 워크플로우 - 문서 작성하기 - 비용신청서 작성 및 영수증 제출입니다. 상주 PJ의 경우 비용을 먼저 청구하고 영수증은 나중에 제출해야 하며, 법\"}\n",
      "\n",
      "\n",
      "{\"person\":\"이유진\",\"email\":\"leeyu@spectra.co.kr\",\"subject\":\"[협조] 2월 법인카드 영수증 제출 기한 안내_3월 5일(화)까지\",\"date\":\"2024년 2월 22일 (목) 오후 3:27\",\"summary\":\"2월 법인카드 영수증 제출 기한은 2024년 3월 5일(화)까지입니다. 제출 대상은 법인카드 소유자이며, 제출 방법은 플렉스 - 워크플로우 - 문서 작성하기 - 비용신청서 작성 및 영수증 제출입니다. 상주 PJ의 경우 비용을 먼저 청구하고 영수증은 나중에 제출해야 하며, 법인\"}\n",
      "\n",
      "\n",
      "{\"person\":\"이유진\",\"email\":\"leeyu@spectra.co.kr\",\"subject\":\"[협조] 2월 법인카드 영수증 제출 기한 안내_3월 5일(화)까지\",\"date\":\"2024년 2월 22일 (목) 오후 3:27\",\"summary\":\"2월 법인카드 영수증 제출 기한은 2024년 3월 5일(화)까지입니다. 제출 대상은 법인카드 소유자이며, 제출 방법은 플렉스 - 워크플로우 - 문서 작성하기 - 비용신청서 작성 및 영수증 제출입니다. 상주 PJ의 경우 비용을 먼저 청구하고 영수증은 나중에 제출해야 하며, 법인카\"}\n",
      "\n",
      "\n",
      "{\"person\":\"이유진\",\"email\":\"leeyu@spectra.co.kr\",\"subject\":\"[협조] 2월 법인카드 영수증 제출 기한 안내_3월 5일(화)까지\",\"date\":\"2024년 2월 22일 (목) 오후 3:27\",\"summary\":\"2월 법인카드 영수증 제출 기한은 2024년 3월 5일(화)까지입니다. 제출 대상은 법인카드 소유자이며, 제출 방법은 플렉스 - 워크플로우 - 문서 작성하기 - 비용신청서 작성 및 영수증 제출입니다. 상주 PJ의 경우 비용을 먼저 청구하고 영수증은 나중에 제출해야 하며, 법인카드\"}\n",
      "\n",
      "\n",
      "{\"person\":\"이유진\",\"email\":\"leeyu@spectra.co.kr\",\"subject\":\"[협조] 2월 법인카드 영수증 제출 기한 안내_3월 5일(화)까지\",\"date\":\"2024년 2월 22일 (목) 오후 3:27\",\"summary\":\"2월 법인카드 영수증 제출 기한은 2024년 3월 5일(화)까지입니다. 제출 대상은 법인카드 소유자이며, 제출 방법은 플렉스 - 워크플로우 - 문서 작성하기 - 비용신청서 작성 및 영수증 제출입니다. 상주 PJ의 경우 비용을 먼저 청구하고 영수증은 나중에 제출해야 하며, 법인카드 소\"}\n",
      "\n",
      "\n",
      "{\"person\":\"이유진\",\"email\":\"leeyu@spectra.co.kr\",\"subject\":\"[협조] 2월 법인카드 영수증 제출 기한 안내_3월 5일(화)까지\",\"date\":\"2024년 2월 22일 (목) 오후 3:27\",\"summary\":\"2월 법인카드 영수증 제출 기한은 2024년 3월 5일(화)까지입니다. 제출 대상은 법인카드 소유자이며, 제출 방법은 플렉스 - 워크플로우 - 문서 작성하기 - 비용신청서 작성 및 영수증 제출입니다. 상주 PJ의 경우 비용을 먼저 청구하고 영수증은 나중에 제출해야 하며, 법인카드 소유\"}\n",
      "\n",
      "\n",
      "{\"person\":\"이유진\",\"email\":\"leeyu@spectra.co.kr\",\"subject\":\"[협조] 2월 법인카드 영수증 제출 기한 안내_3월 5일(화)까지\",\"date\":\"2024년 2월 22일 (목) 오후 3:27\",\"summary\":\"2월 법인카드 영수증 제출 기한은 2024년 3월 5일(화)까지입니다. 제출 대상은 법인카드 소유자이며, 제출 방법은 플렉스 - 워크플로우 - 문서 작성하기 - 비용신청서 작성 및 영수증 제출입니다. 상주 PJ의 경우 비용을 먼저 청구하고 영수증은 나중에 제출해야 하며, 법인카드 소유자\"}\n",
      "\n",
      "\n",
      "{\"person\":\"이유진\",\"email\":\"leeyu@spectra.co.kr\",\"subject\":\"[협조] 2월 법인카드 영수증 제출 기한 안내_3월 5일(화)까지\",\"date\":\"2024년 2월 22일 (목) 오후 3:27\",\"summary\":\"2월 법인카드 영수증 제출 기한은 2024년 3월 5일(화)까지입니다. 제출 대상은 법인카드 소유자이며, 제출 방법은 플렉스 - 워크플로우 - 문서 작성하기 - 비용신청서 작성 및 영수증 제출입니다. 상주 PJ의 경우 비용을 먼저 청구하고 영수증은 나중에 제출해야 하며, 법인카드 소유자와\"}\n",
      "\n",
      "\n",
      "{\"person\":\"이유진\",\"email\":\"leeyu@spectra.co.kr\",\"subject\":\"[협조] 2월 법인카드 영수증 제출 기한 안내_3월 5일(화)까지\",\"date\":\"2024년 2월 22일 (목) 오후 3:27\",\"summary\":\"2월 법인카드 영수증 제출 기한은 2024년 3월 5일(화)까지입니다. 제출 대상은 법인카드 소유자이며, 제출 방법은 플렉스 - 워크플로우 - 문서 작성하기 - 비용신청서 작성 및 영수증 제출입니다. 상주 PJ의 경우 비용을 먼저 청구하고 영수증은 나중에 제출해야 하며, 법인카드 소유자와 실제\"}\n",
      "\n",
      "\n",
      "{\"person\":\"이유진\",\"email\":\"leeyu@spectra.co.kr\",\"subject\":\"[협조] 2월 법인카드 영수증 제출 기한 안내_3월 5일(화)까지\",\"date\":\"2024년 2월 22일 (목) 오후 3:27\",\"summary\":\"2월 법인카드 영수증 제출 기한은 2024년 3월 5일(화)까지입니다. 제출 대상은 법인카드 소유자이며, 제출 방법은 플렉스 - 워크플로우 - 문서 작성하기 - 비용신청서 작성 및 영수증 제출입니다. 상주 PJ의 경우 비용을 먼저 청구하고 영수증은 나중에 제출해야 하며, 법인카드 소유자와 실제 사용\"}\n",
      "\n",
      "\n",
      "{\"person\":\"이유진\",\"email\":\"leeyu@spectra.co.kr\",\"subject\":\"[협조] 2월 법인카드 영수증 제출 기한 안내_3월 5일(화)까지\",\"date\":\"2024년 2월 22일 (목) 오후 3:27\",\"summary\":\"2월 법인카드 영수증 제출 기한은 2024년 3월 5일(화)까지입니다. 제출 대상은 법인카드 소유자이며, 제출 방법은 플렉스 - 워크플로우 - 문서 작성하기 - 비용신청서 작성 및 영수증 제출입니다. 상주 PJ의 경우 비용을 먼저 청구하고 영수증은 나중에 제출해야 하며, 법인카드 소유자와 실제 사용자가\"}\n",
      "\n",
      "\n",
      "{\"person\":\"이유진\",\"email\":\"leeyu@spectra.co.kr\",\"subject\":\"[협조] 2월 법인카드 영수증 제출 기한 안내_3월 5일(화)까지\",\"date\":\"2024년 2월 22일 (목) 오후 3:27\",\"summary\":\"2월 법인카드 영수증 제출 기한은 2024년 3월 5일(화)까지입니다. 제출 대상은 법인카드 소유자이며, 제출 방법은 플렉스 - 워크플로우 - 문서 작성하기 - 비용신청서 작성 및 영수증 제출입니다. 상주 PJ의 경우 비용을 먼저 청구하고 영수증은 나중에 제출해야 하며, 법인카드 소유자와 실제 사용자가 다\"}\n",
      "\n",
      "\n",
      "{\"person\":\"이유진\",\"email\":\"leeyu@spectra.co.kr\",\"subject\":\"[협조] 2월 법인카드 영수증 제출 기한 안내_3월 5일(화)까지\",\"date\":\"2024년 2월 22일 (목) 오후 3:27\",\"summary\":\"2월 법인카드 영수증 제출 기한은 2024년 3월 5일(화)까지입니다. 제출 대상은 법인카드 소유자이며, 제출 방법은 플렉스 - 워크플로우 - 문서 작성하기 - 비용신청서 작성 및 영수증 제출입니다. 상주 PJ의 경우 비용을 먼저 청구하고 영수증은 나중에 제출해야 하며, 법인카드 소유자와 실제 사용자가 다를\"}\n",
      "\n",
      "\n",
      "{\"person\":\"이유진\",\"email\":\"leeyu@spectra.co.kr\",\"subject\":\"[협조] 2월 법인카드 영수증 제출 기한 안내_3월 5일(화)까지\",\"date\":\"2024년 2월 22일 (목) 오후 3:27\",\"summary\":\"2월 법인카드 영수증 제출 기한은 2024년 3월 5일(화)까지입니다. 제출 대상은 법인카드 소유자이며, 제출 방법은 플렉스 - 워크플로우 - 문서 작성하기 - 비용신청서 작성 및 영수증 제출입니다. 상주 PJ의 경우 비용을 먼저 청구하고 영수증은 나중에 제출해야 하며, 법인카드 소유자와 실제 사용자가 다를 경우\"}\n",
      "\n",
      "\n",
      "{\"person\":\"이유진\",\"email\":\"leeyu@spectra.co.kr\",\"subject\":\"[협조] 2월 법인카드 영수증 제출 기한 안내_3월 5일(화)까지\",\"date\":\"2024년 2월 22일 (목) 오후 3:27\",\"summary\":\"2월 법인카드 영수증 제출 기한은 2024년 3월 5일(화)까지입니다. 제출 대상은 법인카드 소유자이며, 제출 방법은 플렉스 - 워크플로우 - 문서 작성하기 - 비용신청서 작성 및 영수증 제출입니다. 상주 PJ의 경우 비용을 먼저 청구하고 영수증은 나중에 제출해야 하며, 법인카드 소유자와 실제 사용자가 다를 경우 사용\"}\n",
      "\n",
      "\n",
      "{\"person\":\"이유진\",\"email\":\"leeyu@spectra.co.kr\",\"subject\":\"[협조] 2월 법인카드 영수증 제출 기한 안내_3월 5일(화)까지\",\"date\":\"2024년 2월 22일 (목) 오후 3:27\",\"summary\":\"2월 법인카드 영수증 제출 기한은 2024년 3월 5일(화)까지입니다. 제출 대상은 법인카드 소유자이며, 제출 방법은 플렉스 - 워크플로우 - 문서 작성하기 - 비용신청서 작성 및 영수증 제출입니다. 상주 PJ의 경우 비용을 먼저 청구하고 영수증은 나중에 제출해야 하며, 법인카드 소유자와 실제 사용자가 다를 경우 사용자가\"}\n",
      "\n",
      "\n",
      "{\"person\":\"이유진\",\"email\":\"leeyu@spectra.co.kr\",\"subject\":\"[협조] 2월 법인카드 영수증 제출 기한 안내_3월 5일(화)까지\",\"date\":\"2024년 2월 22일 (목) 오후 3:27\",\"summary\":\"2월 법인카드 영수증 제출 기한은 2024년 3월 5일(화)까지입니다. 제출 대상은 법인카드 소유자이며, 제출 방법은 플렉스 - 워크플로우 - 문서 작성하기 - 비용신청서 작성 및 영수증 제출입니다. 상주 PJ의 경우 비용을 먼저 청구하고 영수증은 나중에 제출해야 하며, 법인카드 소유자와 실제 사용자가 다를 경우 사용자가 비용\"}\n",
      "\n",
      "\n",
      "{\"person\":\"이유진\",\"email\":\"leeyu@spectra.co.kr\",\"subject\":\"[협조] 2월 법인카드 영수증 제출 기한 안내_3월 5일(화)까지\",\"date\":\"2024년 2월 22일 (목) 오후 3:27\",\"summary\":\"2월 법인카드 영수증 제출 기한은 2024년 3월 5일(화)까지입니다. 제출 대상은 법인카드 소유자이며, 제출 방법은 플렉스 - 워크플로우 - 문서 작성하기 - 비용신청서 작성 및 영수증 제출입니다. 상주 PJ의 경우 비용을 먼저 청구하고 영수증은 나중에 제출해야 하며, 법인카드 소유자와 실제 사용자가 다를 경우 사용자가 비용 신청\"}\n",
      "\n",
      "\n",
      "{\"person\":\"이유진\",\"email\":\"leeyu@spectra.co.kr\",\"subject\":\"[협조] 2월 법인카드 영수증 제출 기한 안내_3월 5일(화)까지\",\"date\":\"2024년 2월 22일 (목) 오후 3:27\",\"summary\":\"2월 법인카드 영수증 제출 기한은 2024년 3월 5일(화)까지입니다. 제출 대상은 법인카드 소유자이며, 제출 방법은 플렉스 - 워크플로우 - 문서 작성하기 - 비용신청서 작성 및 영수증 제출입니다. 상주 PJ의 경우 비용을 먼저 청구하고 영수증은 나중에 제출해야 하며, 법인카드 소유자와 실제 사용자가 다를 경우 사용자가 비용 신청서를\"}\n",
      "\n",
      "\n",
      "{\"person\":\"이유진\",\"email\":\"leeyu@spectra.co.kr\",\"subject\":\"[협조] 2월 법인카드 영수증 제출 기한 안내_3월 5일(화)까지\",\"date\":\"2024년 2월 22일 (목) 오후 3:27\",\"summary\":\"2월 법인카드 영수증 제출 기한은 2024년 3월 5일(화)까지입니다. 제출 대상은 법인카드 소유자이며, 제출 방법은 플렉스 - 워크플로우 - 문서 작성하기 - 비용신청서 작성 및 영수증 제출입니다. 상주 PJ의 경우 비용을 먼저 청구하고 영수증은 나중에 제출해야 하며, 법인카드 소유자와 실제 사용자가 다를 경우 사용자가 비용 신청서를 작성\"}\n",
      "\n",
      "\n",
      "{\"person\":\"이유진\",\"email\":\"leeyu@spectra.co.kr\",\"subject\":\"[협조] 2월 법인카드 영수증 제출 기한 안내_3월 5일(화)까지\",\"date\":\"2024년 2월 22일 (목) 오후 3:27\",\"summary\":\"2월 법인카드 영수증 제출 기한은 2024년 3월 5일(화)까지입니다. 제출 대상은 법인카드 소유자이며, 제출 방법은 플렉스 - 워크플로우 - 문서 작성하기 - 비용신청서 작성 및 영수증 제출입니다. 상주 PJ의 경우 비용을 먼저 청구하고 영수증은 나중에 제출해야 하며, 법인카드 소유자와 실제 사용자가 다를 경우 사용자가 비용 신청서를 작성해야\"}\n",
      "\n",
      "\n",
      "{\"person\":\"이유진\",\"email\":\"leeyu@spectra.co.kr\",\"subject\":\"[협조] 2월 법인카드 영수증 제출 기한 안내_3월 5일(화)까지\",\"date\":\"2024년 2월 22일 (목) 오후 3:27\",\"summary\":\"2월 법인카드 영수증 제출 기한은 2024년 3월 5일(화)까지입니다. 제출 대상은 법인카드 소유자이며, 제출 방법은 플렉스 - 워크플로우 - 문서 작성하기 - 비용신청서 작성 및 영수증 제출입니다. 상주 PJ의 경우 비용을 먼저 청구하고 영수증은 나중에 제출해야 하며, 법인카드 소유자와 실제 사용자가 다를 경우 사용자가 비용 신청서를 작성해야 합니다\"}\n",
      "\n",
      "\n",
      "{\"person\":\"이유진\",\"email\":\"leeyu@spectra.co.kr\",\"subject\":\"[협조] 2월 법인카드 영수증 제출 기한 안내_3월 5일(화)까지\",\"date\":\"2024년 2월 22일 (목) 오후 3:27\",\"summary\":\"2월 법인카드 영수증 제출 기한은 2024년 3월 5일(화)까지입니다. 제출 대상은 법인카드 소유자이며, 제출 방법은 플렉스 - 워크플로우 - 문서 작성하기 - 비용신청서 작성 및 영수증 제출입니다. 상주 PJ의 경우 비용을 먼저 청구하고 영수증은 나중에 제출해야 하며, 법인카드 소유자와 실제 사용자가 다를 경우 사용자가 비용 신청서를 작성해야 합니다.\"}\n"
     ]
    }
   ],
   "execution_count": 20
  },
  {
   "metadata": {},
   "cell_type": "code",
   "outputs": [],
   "execution_count": null,
   "source": ""
  }
 ],
 "metadata": {
  "kernelspec": {
   "display_name": "py-test",
   "language": "python",
   "name": "python3"
  },
  "language_info": {
   "codemirror_mode": {
    "name": "ipython",
    "version": 3
   },
   "file_extension": ".py",
   "mimetype": "text/x-python",
   "name": "python",
   "nbconvert_exporter": "python",
   "pygments_lexer": "ipython3",
   "version": "3.11.11"
  }
 },
 "nbformat": 4,
 "nbformat_minor": 2
}
