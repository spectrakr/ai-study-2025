{
 "cells": [
  {
   "cell_type": "markdown",
   "metadata": {},
   "source": [
    "# ConversationBufferMemory\n",
    "\n",
    "이 메모리는 메시지를 저장한 다음 변수에 메시지를 추출할 수 있게 해줍니다.\n",
    "\n",
    "먼저 문자열로 추출할 수 있습니다.\n",
    "\n",
    "> 이 기능은 1.0에서 deprecated될 예정이다.\n"
   ]
  },
  {
   "cell_type": "code",
   "metadata": {
    "ExecuteTime": {
     "end_time": "2025-03-14T00:29:13.157736Z",
     "start_time": "2025-03-14T00:29:12.664967Z"
    }
   },
   "source": [
    "from langchain.memory import ConversationBufferMemory"
   ],
   "outputs": [],
   "execution_count": 1
  },
  {
   "cell_type": "code",
   "metadata": {
    "ExecuteTime": {
     "end_time": "2025-03-14T00:29:14.277534Z",
     "start_time": "2025-03-14T00:29:14.272578Z"
    }
   },
   "source": [
    "memory = ConversationBufferMemory()\n",
    "memory"
   ],
   "outputs": [
    {
     "name": "stderr",
     "output_type": "stream",
     "text": [
      "/var/folders/b2/1sz1js5x6w7fsztplkn6q_tm0000gn/T/ipykernel_74192/1040912495.py:1: LangChainDeprecationWarning: Please see the migration guide at: https://python.langchain.com/docs/versions/migrating_memory/\n",
      "  memory = ConversationBufferMemory()\n"
     ]
    },
    {
     "data": {
      "text/plain": [
       "ConversationBufferMemory(chat_memory=InMemoryChatMessageHistory(messages=[]))"
      ]
     },
     "execution_count": 2,
     "metadata": {},
     "output_type": "execute_result"
    }
   ],
   "execution_count": 2
  },
  {
   "cell_type": "code",
   "metadata": {
    "ExecuteTime": {
     "end_time": "2025-03-14T00:29:21.727823Z",
     "start_time": "2025-03-14T00:29:21.720633Z"
    }
   },
   "source": [
    "memory.save_context(\n",
    "    inputs={\n",
    "        \"human\": \"1+1은?\"\n",
    "    },\n",
    "    outputs={\n",
    "        \"ai\": \"2입니다\"\n",
    "    },\n",
    ")"
   ],
   "outputs": [],
   "execution_count": 3
  },
  {
   "cell_type": "code",
   "metadata": {
    "ExecuteTime": {
     "end_time": "2025-03-14T00:29:23.344912Z",
     "start_time": "2025-03-14T00:29:23.337473Z"
    }
   },
   "source": [
    "memory"
   ],
   "outputs": [
    {
     "data": {
      "text/plain": [
       "ConversationBufferMemory(chat_memory=InMemoryChatMessageHistory(messages=[HumanMessage(content='1+1은?', additional_kwargs={}, response_metadata={}), AIMessage(content='2입니다', additional_kwargs={}, response_metadata={})]))"
      ]
     },
     "execution_count": 4,
     "metadata": {},
     "output_type": "execute_result"
    }
   ],
   "execution_count": 4
  },
  {
   "cell_type": "markdown",
   "metadata": {},
   "source": [
    "memory 의 `load_memory_variables({})` 함수는 메시지 히스토리를 반환합니다.\n"
   ]
  },
  {
   "cell_type": "code",
   "metadata": {
    "ExecuteTime": {
     "end_time": "2025-03-14T00:29:30.181545Z",
     "start_time": "2025-03-14T00:29:30.174608Z"
    }
   },
   "source": [
    "# 'history' 키에 저장된 대화 기록을 확인합니다.\n",
    "print(memory.load_memory_variables({})[\"history\"])"
   ],
   "outputs": [
    {
     "name": "stdout",
     "output_type": "stream",
     "text": [
      "Human: 1+1은?\n",
      "AI: 2입니다\n"
     ]
    }
   ],
   "execution_count": 5
  },
  {
   "cell_type": "markdown",
   "metadata": {},
   "source": [
    "`save_context(inputs, outputs)` 메서드를 사용하여 대화 기록을 저장할 수 있습니다.\n",
    "\n",
    "- 이 메서드는 `inputs`와 `outputs` 두 개의 인자를 받습니다.\n",
    "- `inputs`는 사용자의 입력을, `outputs`는 AI의 출력을 저장합니다.\n",
    "- 이 메서드를 사용하면 대화 기록이 `history` 키에 저장됩니다.\n",
    "- 이후 `load_memory_variables` 메서드를 사용하여 저장된 대화 기록을 확인할 수 있습니다.\n"
   ]
  },
  {
   "cell_type": "code",
   "metadata": {
    "ExecuteTime": {
     "end_time": "2025-03-14T00:29:41.692843Z",
     "start_time": "2025-03-14T00:29:41.686948Z"
    }
   },
   "source": [
    "# inputs: dictionary(key: \"human\" or \"ai\", value: 질문)\n",
    "# outputs: dictionary(key: \"ai\" or \"human\", value: 답변)\n",
    "memory.save_context(\n",
    "    inputs={\"human\": \"2+2는?\"},\n",
    "    outputs={\n",
    "        \"ai\": \"4입니다\"\n",
    "    },\n",
    ")"
   ],
   "outputs": [],
   "execution_count": 6
  },
  {
   "cell_type": "code",
   "metadata": {
    "ExecuteTime": {
     "end_time": "2025-03-14T00:29:45.845379Z",
     "start_time": "2025-03-14T00:29:45.838311Z"
    }
   },
   "source": [
    "# 2개의 대화를 저장합니다.\n",
    "memory.save_context(\n",
    "    inputs={\"human\": \"3+3은?\"},\n",
    "    outputs={\n",
    "        \"ai\": \"6입니다\"\n",
    "    },\n",
    ")\n",
    "memory.save_context(\n",
    "    inputs={\"human\": \"4+4는?\"},\n",
    "    outputs={\n",
    "        \"ai\": \"8입니다\"\n",
    "    },\n",
    ")"
   ],
   "outputs": [],
   "execution_count": 7
  },
  {
   "cell_type": "code",
   "metadata": {
    "ExecuteTime": {
     "end_time": "2025-03-14T00:29:48.998855Z",
     "start_time": "2025-03-14T00:29:48.991004Z"
    }
   },
   "source": [
    "# history에 저장된 대화 기록을 확인합니다.\n",
    "print(memory.load_memory_variables({})[\"history\"])"
   ],
   "outputs": [
    {
     "name": "stdout",
     "output_type": "stream",
     "text": [
      "Human: 1+1은?\n",
      "AI: 2입니다\n",
      "Human: 2+2는?\n",
      "AI: 4입니다\n",
      "Human: 3+3은?\n",
      "AI: 6입니다\n",
      "Human: 4+4는?\n",
      "AI: 8입니다\n"
     ]
    }
   ],
   "execution_count": 8
  },
  {
   "cell_type": "code",
   "metadata": {
    "ExecuteTime": {
     "end_time": "2025-03-14T00:29:56.447928Z",
     "start_time": "2025-03-14T00:29:56.441513Z"
    }
   },
   "source": [
    "# 추가로 2개의 대화를 저장합니다.\n",
    "memory.save_context(\n",
    "    inputs={\"human\": \"5+5는?\"},\n",
    "    outputs={\n",
    "        \"ai\": \"10입니다\"\n",
    "    },\n",
    ")\n",
    "memory.save_context(\n",
    "    inputs={\"human\": \"마지막으로 10+10은?\"},\n",
    "    outputs={\n",
    "        \"ai\": \"20입니다\"\n",
    "    },\n",
    ")"
   ],
   "outputs": [],
   "execution_count": 9
  },
  {
   "cell_type": "code",
   "metadata": {
    "ExecuteTime": {
     "end_time": "2025-03-14T00:29:57.841867Z",
     "start_time": "2025-03-14T00:29:57.836405Z"
    }
   },
   "source": [
    "# history에 저장된 대화 기록을 확인합니다.\n",
    "print(memory.load_memory_variables({})[\"history\"])"
   ],
   "outputs": [
    {
     "name": "stdout",
     "output_type": "stream",
     "text": [
      "Human: 1+1은?\n",
      "AI: 2입니다\n",
      "Human: 2+2는?\n",
      "AI: 4입니다\n",
      "Human: 3+3은?\n",
      "AI: 6입니다\n",
      "Human: 4+4는?\n",
      "AI: 8입니다\n",
      "Human: 5+5는?\n",
      "AI: 10입니다\n",
      "Human: 마지막으로 10+10은?\n",
      "AI: 20입니다\n"
     ]
    }
   ],
   "execution_count": 10
  },
  {
   "cell_type": "markdown",
   "metadata": {},
   "source": [
    "`return_messages=True` 로 설정하면 `HumanMessage` 와 `AIMessage` 객체를 반환합니다.\n"
   ]
  },
  {
   "cell_type": "code",
   "metadata": {
    "ExecuteTime": {
     "end_time": "2025-03-14T00:30:04.986827Z",
     "start_time": "2025-03-14T00:30:04.982930Z"
    }
   },
   "source": [
    "memory = ConversationBufferMemory(return_messages=True)\n",
    "\n",
    "memory.save_context(\n",
    "    inputs={\n",
    "        \"human\": \"1+1은?\"\n",
    "    },\n",
    "    outputs={\n",
    "        \"ai\": \"2입니다\"\n",
    "    },\n",
    ")\n",
    "\n",
    "memory.save_context(\n",
    "    inputs={\n",
    "        \"human\": \"2+2는?\"\n",
    "    },\n",
    "    outputs={\n",
    "        \"ai\": \"4입니다\"\n",
    "    },\n",
    ")\n",
    "\n",
    "memory.save_context(\n",
    "    inputs={\n",
    "        \"human\": \"3+3은?\"\n",
    "    },\n",
    "    outputs={\n",
    "        \"ai\": \"6입니다\"\n",
    "    },\n",
    ")"
   ],
   "outputs": [],
   "execution_count": 11
  },
  {
   "cell_type": "code",
   "metadata": {},
   "source": [
    "# history에 저장된 대화 기록을 확인합니다.\n",
    "memory.load_memory_variables({})[\"history\"]"
   ],
   "outputs": [],
   "execution_count": null
  },
  {
   "cell_type": "markdown",
   "metadata": {},
   "source": [
    "## Chain 에 적용\n"
   ]
  },
  {
   "cell_type": "code",
   "metadata": {
    "ExecuteTime": {
     "end_time": "2025-03-14T00:30:16.460747Z",
     "start_time": "2025-03-14T00:30:16.452260Z"
    }
   },
   "source": [
    "# API KEY를 환경변수로 관리하기 위한 설정 파일\n",
    "from dotenv import load_dotenv\n",
    "\n",
    "# API KEY 정보로드\n",
    "load_dotenv()"
   ],
   "outputs": [
    {
     "data": {
      "text/plain": [
       "True"
      ]
     },
     "execution_count": 13,
     "metadata": {},
     "output_type": "execute_result"
    }
   ],
   "execution_count": 13
  },
  {
   "cell_type": "code",
   "metadata": {
    "ExecuteTime": {
     "end_time": "2025-03-14T00:30:18.801561Z",
     "start_time": "2025-03-14T00:30:18.496476Z"
    }
   },
   "source": [
    "from langchain_openai import ChatOpenAI\n",
    "from langchain.chains import ConversationChain\n",
    "\n",
    "# LLM 모델을 생성합니다.\n",
    "llm = ChatOpenAI(temperature=0, model_name=\"gpt-4o-mini\")\n",
    "\n",
    "# ConversationChain을 생성합니다.\n",
    "conversation = ConversationChain(\n",
    "    # ConversationBufferMemory를 사용합니다.\n",
    "    llm=llm,\n",
    "    memory=ConversationBufferMemory(),\n",
    ")"
   ],
   "outputs": [
    {
     "name": "stderr",
     "output_type": "stream",
     "text": [
      "/var/folders/b2/1sz1js5x6w7fsztplkn6q_tm0000gn/T/ipykernel_74192/1524979152.py:8: LangChainDeprecationWarning: The class `ConversationChain` was deprecated in LangChain 0.2.7 and will be removed in 1.0. Use :meth:`~RunnableWithMessageHistory: https://python.langchain.com/v0.2/api_reference/core/runnables/langchain_core.runnables.history.RunnableWithMessageHistory.html` instead.\n",
      "  conversation = ConversationChain(\n"
     ]
    }
   ],
   "execution_count": 14
  },
  {
   "cell_type": "markdown",
   "metadata": {},
   "source": [
    "`ConversationChain`을 사용하여 대화를 진행합니다.\n"
   ]
  },
  {
   "cell_type": "code",
   "metadata": {
    "ExecuteTime": {
     "end_time": "2025-03-14T00:30:24.301968Z",
     "start_time": "2025-03-14T00:30:22.020859Z"
    }
   },
   "source": [
    "# 대화를 시작합니다.\n",
    "response = conversation.predict(\n",
    "    input=\"2+2는 뭐야?\"\n",
    ")\n",
    "print(response)"
   ],
   "outputs": [
    {
     "name": "stdout",
     "output_type": "stream",
     "text": [
      "2+2는 4입니다! 수학에서 기본적인 덧셈 문제 중 하나죠. 더 궁금한 수학 문제나 다른 질문이 있으면 언제든지 물어보세요!\n"
     ]
    }
   ],
   "execution_count": 15
  },
  {
   "cell_type": "markdown",
   "metadata": {},
   "source": [
    "이전의 대화 기록을 기억하고 있는지 확인합니다.\n"
   ]
  },
  {
   "cell_type": "code",
   "metadata": {
    "ExecuteTime": {
     "end_time": "2025-03-14T00:30:32.912619Z",
     "start_time": "2025-03-14T00:30:31.031190Z"
    }
   },
   "source": [
    "# 이전 답변결과에 4를 더하면\n",
    "response = conversation.predict(\n",
    "    input=\"거기에 4를 더하면?\"\n",
    ")\n",
    "print(response)"
   ],
   "outputs": [
    {
     "name": "stdout",
     "output_type": "stream",
     "text": [
      "4에 4를 더하면 8이 됩니다! 수학적으로는 4 + 4 = 8이죠. 더 복잡한 수학 문제나 다른 주제에 대해 궁금한 점이 있으면 언제든지 말씀해 주세요!\n"
     ]
    }
   ],
   "execution_count": 16
  }
 ],
 "metadata": {
  "kernelspec": {
   "display_name": "py-test",
   "language": "python",
   "name": "python3"
  },
  "language_info": {
   "codemirror_mode": {
    "name": "ipython",
    "version": 3
   },
   "file_extension": ".py",
   "mimetype": "text/x-python",
   "name": "python",
   "nbconvert_exporter": "python",
   "pygments_lexer": "ipython3",
   "version": "3.10.13"
  }
 },
 "nbformat": 4,
 "nbformat_minor": 2
}
