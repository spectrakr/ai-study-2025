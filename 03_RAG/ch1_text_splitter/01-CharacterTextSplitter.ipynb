{
 "cells": [
  {
   "cell_type": "markdown",
   "id": "378e6e4a",
   "metadata": {},
   "source": [
    "# CharacterTextSplitter\n",
    "\n",
    "이 방법은 가장 간단한 방식입니다.\n",
    "\n",
    "기본적으로 `\"\\n\\n\"` 을 기준으로 문자 단위로 텍스트를 분할하고, 청크의 크기를 문자 수로 측정합니다.\n",
    "\n",
    "1. 텍스트 분할 방식: 단일 문자 기준\n",
    "2. 청크 크기 측정 방식: 문자 수 기준\n"
   ]
  },
  {
   "cell_type": "markdown",
   "id": "0678f139",
   "metadata": {},
   "source": [
    "- `./data/2025_사우회선출.txt` 파일을 열어 내용을 읽어들입니다.\n",
    "- 읽어들인 내용을 `file` 변수에 저장합니다.\n"
   ]
  },
  {
   "cell_type": "code",
   "id": "60382db1",
   "metadata": {
    "ExecuteTime": {
     "end_time": "2025-03-17T05:35:26.642343Z",
     "start_time": "2025-03-17T05:35:26.638373Z"
    }
   },
   "source": [
    "with open(\"./data/2025_사우회선출.txt\") as f:\n",
    "    file = f.read()  # 파일의 내용을 읽어서 file 변수에 저장합니다."
   ],
   "outputs": [],
   "execution_count": 1
  },
  {
   "cell_type": "markdown",
   "id": "a94fa99e",
   "metadata": {},
   "source": [
    "파일로부터 읽은 파일의 일부 내용을 출력합니다.\n"
   ]
  },
  {
   "cell_type": "code",
   "id": "576b7827",
   "metadata": {
    "ExecuteTime": {
     "end_time": "2025-03-17T05:35:28.604284Z",
     "start_time": "2025-03-17T05:35:28.601516Z"
    }
   },
   "source": [
    "# 파일으로부터 읽은 내용을 일부 출력합니다.\n",
    "print(file[:100])"
   ],
   "outputs": [
    {
     "name": "stdout",
     "output_type": "stream",
     "text": [
      "안녕하세요, 2024년 사우회입니다.\n",
      "어느덧 2024년이 마무리되어 가는 이 시점에 2025년 사우회를 이끌어주실 분에 대한 투표를 진행하겠습니다.\n",
      "모두 한 분 한 분의 소중한 한\n"
     ]
    }
   ],
   "execution_count": 2
  },
  {
   "cell_type": "markdown",
   "id": "eb193890",
   "metadata": {},
   "source": [
    "# CharacterTextSplitter를 사용하여 분할\n",
    "\n",
    "CharacterTextSplitter를 사용하여 텍스트를 청크(chunk)로 분할하는 코드에 대해 설명합니다.\n",
    "\n",
    "- `separator`: 분할할 기준을 설정합니다. 기본값은 `\"\\n\\n\"`입니다.\n",
    "- `chunk_size`: 각 청크의 최대 크기를 설정합니다. 예: 250자\n",
    "- `chunk_overlap`: 인접한 청크 간 중복을 허용합니다. 예: 50자\n",
    "- `length_function`: 텍스트의 길이를 계산하는 함수를 지정합니다. 예: `len`"
   ]
  },
  {
   "cell_type": "code",
   "id": "4e7426ab",
   "metadata": {
    "ExecuteTime": {
     "end_time": "2025-03-17T05:35:41.780246Z",
     "start_time": "2025-03-17T05:35:41.590444Z"
    }
   },
   "source": [
    "from langchain_text_splitters import CharacterTextSplitter\n",
    "\n",
    "# CharacterTextSplitter를 사용하여 텍스트를 청크(chunk)로 분할하는 코드\n",
    "text_splitter = CharacterTextSplitter(\n",
    "    # 텍스트를 분할할 때 사용할 구분자를 지정합니다. 기본값은 \"\\n\\n\"입니다.\n",
    "    separator=\"\\n\\n\",\n",
    "    # 분할된 텍스트 청크의 최대 크기를 지정합니다 (문자 수).\n",
    "    chunk_size=100,\n",
    "    # 분할된 텍스트 청크 간의 중복되는 문자 수를 지정합니다.\n",
    "    chunk_overlap=0,\n",
    "    # 텍스트의 길이를 계산하는 함수를 지정합니다.\n",
    "    length_function=len,\n",
    ")"
   ],
   "outputs": [],
   "execution_count": 3
  },
  {
   "cell_type": "markdown",
   "id": "676ee781",
   "metadata": {},
   "source": [
    "- `text_splitter`를 사용하여 `file` 텍스트를 문서 단위로 분할합니다.\n",
    "- 분할된 문서 리스트 중 첫 번째 문서(`texts[0]`)를 출력합니다.\n"
   ]
  },
  {
   "cell_type": "code",
   "id": "9bc6795b",
   "metadata": {
    "ExecuteTime": {
     "end_time": "2025-03-17T05:35:43.798640Z",
     "start_time": "2025-03-17T05:35:43.788119Z"
    }
   },
   "source": [
    "# 텍스트를 청크로 분할합니다.\n",
    "texts = text_splitter.create_documents([file])\n",
    "\n",
    "for text in texts:\n",
    "    print(f\"----- len: {len(text.page_content)} -----\")\n",
    "    print(f\"{text.page_content}\")\n",
    "    \n",
    "# print(len(texts[0].page_content))  # 분할된 문서의 개수를 출력합니다.\n",
    "# print(texts[0])  # 분할된 문서 중 첫 번째 문서를 출력합니다."
   ],
   "outputs": [
    {
     "name": "stderr",
     "output_type": "stream",
     "text": [
      "Created a chunk of size 119, which is longer than the specified 100\n",
      "Created a chunk of size 201, which is longer than the specified 100\n",
      "Created a chunk of size 220, which is longer than the specified 100\n"
     ]
    },
    {
     "name": "stdout",
     "output_type": "stream",
     "text": [
      "----- len: 119 -----\n",
      "안녕하세요, 2024년 사우회입니다.\n",
      "어느덧 2024년이 마무리되어 가는 이 시점에 2025년 사우회를 이끌어주실 분에 대한 투표를 진행하겠습니다.\n",
      "모두 한 분 한 분의 소중한 한 표를 꼭 행사해 주시기 바랍니다!\n",
      "----- len: 100 -----\n",
      "투표 방식: 무기명 온라인 1인 1투표\n",
      "투표 기간: 2024년 12월 23일(월)까지 (1주일간 진행)\n",
      "투표 링크: https://forms.gle/ooDQvUP4SzJRaUoS6\n",
      "----- len: 201 -----\n",
      "[노사 협의회 구성원 및 선출 공고 사항]\n",
      "노사 협의회 구성원 중 근로자 대표는 노사 협의회장을 겸하며, 노사 간 중요 의사결정 과정에서 합의의 주체가 될 수 있습니다.\n",
      "다만, 제반 제도와 관련된 안내 및 직원 커뮤니케이션 등의 업무는 여전히 인사팀에서 진행할 예정이오니, 근로자 대표로 선출된 직원분께서는 큰 부담 없이 선출 결과를 받아주시면 감사하겠습니다.\n",
      "----- len: 99 -----\n",
      "2025년 근로자(대표) 위원\n",
      "사우회장 1명, 총무 1명\n",
      "사용자 위원과 근로자 위원이 원활한 의사소통을 통해 상호 간의 이해와 협조를 증진함으로써 노사 공동의 이익을 구현합니다.\n",
      "----- len: 220 -----\n",
      "근로자 대표 (회사발전위원회)\n",
      "근로기준법상 각종 제도에 대해 사측과 합의를 진행합니다.\n",
      "기존 사우회 및 회사발전위원회 위원장 선출 방식과 동일하게 근로자 투표 방식으로 진행됩니다.\n",
      "단, 근로자 대표는 직원 과반수 이상의 동의를 얻어야 하므로, 선출된 후보자는 최다 추천을 받은 1인에 대해 근로자대표선임서를 통해 과반수 이상의 직원 서명 날인을 받아야 합니다. (오프라인 서명)\n",
      "후보 선출 기준\n",
      "----- len: 65 -----\n",
      "근로자 대표 후보 (회사발전위원회)\n",
      "선출 기준: 역임자를 제외한 스펙트라 근속 10~15년 차 사우를 대상으로 선출.\n",
      "----- len: 85 -----\n",
      "사우회장 후보\n",
      "선출 기준: 역임자를 제외한 스펙트라 근속 5~9년 차 사우를 대상으로 선출.\n",
      "주요 업무: 연중행사 및 사우 경조사(인사팀과 협업) 담당.\n",
      "----- len: 56 -----\n",
      "총무 후보\n",
      "선출 기준: 역임자를 제외한 스펙트라 근속 1~4년 차 사우를 대상으로 선출.\n",
      "주요 업무:\n",
      "----- len: 57 -----\n",
      "사우 경조사비 송금, 생일 축하금, 입사 축하금, 동호회비 송금.\n",
      "지출 대장 작성 및 회장 업무 지원.\n"
     ]
    }
   ],
   "execution_count": 4
  },
  {
   "metadata": {},
   "cell_type": "markdown",
   "source": "![character.jpeg](./data/character.jpeg)",
   "id": "ffed4c1755a73b1a"
  },
  {
   "cell_type": "markdown",
   "id": "7f8ab954",
   "metadata": {},
   "source": [
    "다음은 문서와 함께 메타데이터를 전달하는 예시입니다.\n",
    "\n",
    "메타데이터가 문서와 함께 분할되는 점에 주목해 주세요.\n"
   ]
  },
  {
   "cell_type": "markdown",
   "id": "efc07efe",
   "metadata": {},
   "source": [
    "- `create_documents` 메서드는 텍스트 데이터와 메타데이터 리스트를 인자로 받습니다.\n"
   ]
  },
  {
   "cell_type": "code",
   "id": "dbf68aa3",
   "metadata": {},
   "source": [
    "metadatas = [\n",
    "    {\"document\": 1},\n",
    "    {\"document\": 2},\n",
    "]  # 문서에 대한 메타데이터 리스트를 정의합니다.\n",
    "documents = text_splitter.create_documents(\n",
    "    [\n",
    "        file,\n",
    "        file,\n",
    "    ],  # 분할할 텍스트 데이터를 리스트로 전달합니다.\n",
    "    metadatas=metadatas,  # 각 문서에 해당하는 메타데이터를 전달합니다.\n",
    ")\n",
    "print(len(documents))  # 분할된 문서 중 첫 번째 문서를 출력합니다.\n",
    "print(documents[0])  # 분할된 문서 중 첫 번째 문서를 출력합니다."
   ],
   "outputs": [],
   "execution_count": null
  },
  {
   "cell_type": "code",
   "id": "c2dc9415",
   "metadata": {},
   "source": [
    "len(documents)"
   ],
   "outputs": [],
   "execution_count": null
  },
  {
   "cell_type": "code",
   "id": "6a34727e",
   "metadata": {},
   "source": [
    "documents[1].metadata"
   ],
   "outputs": [],
   "execution_count": null
  },
  {
   "cell_type": "markdown",
   "id": "2f6ec599",
   "metadata": {},
   "source": [
    "`split_text()` 메서드를 사용하여 텍스트를 분할합니다.\n",
    "\n",
    "- `text_splitter.split_text(file)[0]`은 `file` 텍스트를 `text_splitter`를 사용하여 분할한 후, 분할된 텍스트 조각 중 첫 번째 요소를 반환합니다.\n"
   ]
  },
  {
   "cell_type": "code",
   "id": "5f72c6c5",
   "metadata": {},
   "source": [
    "# text_splitter를 사용하여 file 텍스트를 분할하고, 분할된 텍스트의 첫 번째 요소를 반환합니다.\n",
    "text_splitter.split_text(file)[0]"
   ],
   "outputs": [],
   "execution_count": null
  }
 ],
 "metadata": {
  "kernelspec": {
   "display_name": "py-test",
   "language": "python",
   "name": "python3"
  },
  "language_info": {
   "codemirror_mode": {
    "name": "ipython",
    "version": 3
   },
   "file_extension": ".py",
   "mimetype": "text/x-python",
   "name": "python",
   "nbconvert_exporter": "python",
   "pygments_lexer": "ipython3",
   "version": "3.11.11"
  }
 },
 "nbformat": 4,
 "nbformat_minor": 5
}
