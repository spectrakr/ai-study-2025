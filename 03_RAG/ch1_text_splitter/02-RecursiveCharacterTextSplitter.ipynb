{
 "cells": [
  {
   "cell_type": "markdown",
   "id": "1e457291",
   "metadata": {},
   "source": [
    "# RecursiveCharacterTextSplitter\n",
    "\n",
    "이 텍스트 분할기는 일반적인 텍스트에 권장되는 방식입니다.\n",
    "\n",
    "이 분할기는 문자 목록을 매개변수로 받아 동작합니다.\n",
    "\n",
    "분할기는 청크가 충분히 작아질 때까지 주어진 문자 목록의 순서대로 텍스트를 분할하려고 시도합니다.\n",
    "\n",
    "기본 문자 목록은 `[\"\\n\\n\", \"\\n\", \" \", \"\"]`입니다.\n",
    "\n",
    "- **단락** -> **문장** -> **단어** 순서로 재귀적으로 분할합니다.\n",
    "\n",
    "이는 단락(그 다음으로 문장, 단어) 단위가 의미적으로 가장 강하게 연관된 텍스트 조각으로 간주되므로, 가능한 한 함께 유지하려는 효과가 있습니다.\n",
    "\n",
    "1. 텍스트가 분할되는 방식: 문자 목록(`[\"\\n\\n\", \"\\n\", \" \", \"\"]`) 에 의해 분할됩니다.\n",
    "\n",
    "2. 청크 크기가 측정되는 방식: 문자 수에 의해 측정됩니다.\n"
   ]
  },
  {
   "cell_type": "markdown",
   "id": "ad713b32",
   "metadata": {},
   "source": [
    "- `2025_사우회선출.txt` 파일을 열어 내용을 읽어들입니다.\n",
    "- 읽어들인 내용을 `file` 변수에 저장합니다.\n"
   ]
  },
  {
   "cell_type": "code",
   "id": "91db2da0",
   "metadata": {
    "ExecuteTime": {
     "end_time": "2025-03-17T05:36:50.819131Z",
     "start_time": "2025-03-17T05:36:50.815443Z"
    }
   },
   "source": [
    "# appendix-keywords.txt 파일을 열어서 f라는 파일 객체를 생성합니다.\n",
    "with open(\"./data/2025_사우회선출.txt\") as f:\n",
    "    file = f.read()  # 파일의 내용을 읽어서 file 변수에 저장합니다."
   ],
   "outputs": [],
   "execution_count": 1
  },
  {
   "cell_type": "markdown",
   "id": "9ef18d9d",
   "metadata": {},
   "source": [
    "파일로부터 읽은 파일의 일부 내용을 출력합니다.\n"
   ]
  },
  {
   "cell_type": "code",
   "id": "1a7163a5",
   "metadata": {
    "ExecuteTime": {
     "end_time": "2025-03-17T05:36:52.640180Z",
     "start_time": "2025-03-17T05:36:52.637961Z"
    }
   },
   "source": [
    "# 파일으로부터 읽은 내용을 일부 출력합니다.\n",
    "print(file[:100])"
   ],
   "outputs": [
    {
     "name": "stdout",
     "output_type": "stream",
     "text": [
      "안녕하세요, 2024년 사우회입니다.\n",
      "어느덧 2024년이 마무리되어 가는 이 시점에 2025년 사우회를 이끌어주실 분에 대한 투표를 진행하겠습니다.\n",
      "모두 한 분 한 분의 소중한 한\n"
     ]
    }
   ],
   "execution_count": 2
  },
  {
   "cell_type": "code",
   "id": "cbeb96e7",
   "metadata": {
    "ExecuteTime": {
     "end_time": "2025-03-17T05:36:53.992390Z",
     "start_time": "2025-03-17T05:36:53.815480Z"
    }
   },
   "source": [
    "from langchain_text_splitters import RecursiveCharacterTextSplitter"
   ],
   "outputs": [],
   "execution_count": 3
  },
  {
   "cell_type": "markdown",
   "id": "e995282c",
   "metadata": {},
   "source": [
    "`RecursiveCharacterTextSplitter`를 사용하여 텍스트를 작은 청크로 분할하는 예제입니다.\n",
    "\n",
    "- `chunk_size`를 100 으로 설정하여 각 청크의 크기를 제한합니다.\n",
    "- `chunk_overlap`을 0 으로 설정하여 청크간의 중첩을 허용하지 않습니다.\n",
    "- `length_function`으로 `len` 함수를 사용하여 텍스트의 길이를 계산합니다.\n",
    "- `is_separator_regex`를 `False`로 설정하여 구분자로 정규식을 사용하지 않습니다.\n"
   ]
  },
  {
   "cell_type": "code",
   "id": "adb43146",
   "metadata": {
    "ExecuteTime": {
     "end_time": "2025-03-17T05:36:55.649864Z",
     "start_time": "2025-03-17T05:36:55.646557Z"
    }
   },
   "source": [
    "text_splitter = RecursiveCharacterTextSplitter(\n",
    "    # 청크 크기를 매우 작게 설정합니다. 예시를 위한 설정입니다.\n",
    "    chunk_size=100,\n",
    "    # 청크 간의 중복되는 문자 수를 설정합니다.\n",
    "    chunk_overlap=0,\n",
    "    # 문자열 길이를 계산하는 함수를 지정합니다.\n",
    "    length_function=len,\n",
    "    # 구분자로 정규식을 사용할지 여부를 설정합니다.\n",
    "    is_separator_regex=False,\n",
    ")"
   ],
   "outputs": [],
   "execution_count": 4
  },
  {
   "cell_type": "markdown",
   "id": "c5fd33f2",
   "metadata": {},
   "source": [
    "- `text_splitter`를 사용하여 `file` 텍스트를 문서 단위로 분할합니다.\n",
    "- 분할된 문서는 `texts` 리스트에 저장됩니다.\n",
    "- `print(texts[0])`과 `print(texts[1])`을 통해 분할된 문서의 첫 번째와 두 번째 문서를 출력합니다.\n"
   ]
  },
  {
   "cell_type": "code",
   "id": "20d62b15",
   "metadata": {
    "ExecuteTime": {
     "end_time": "2025-03-17T05:36:57.992359Z",
     "start_time": "2025-03-17T05:36:57.986853Z"
    }
   },
   "source": [
    "# 텍스트를 청크로 분할합니다.\n",
    "texts = text_splitter.create_documents([file])\n",
    "\n",
    "for text in texts:\n",
    "    print(f\"----- len: {len(text.page_content)} -----\")\n",
    "    print(f\"{text.page_content}\")\n",
    "\n",
    "# print(len(texts[0].page_content))  # 분할된 문서의 개수를 출력합니다.\n",
    "# print(texts[0])  # 분할된 문서 중 첫 번째 문서를 출력합니다."
   ],
   "outputs": [
    {
     "name": "stdout",
     "output_type": "stream",
     "text": [
      "----- len: 82 -----\n",
      "안녕하세요, 2024년 사우회입니다.\n",
      "어느덧 2024년이 마무리되어 가는 이 시점에 2025년 사우회를 이끌어주실 분에 대한 투표를 진행하겠습니다.\n",
      "----- len: 36 -----\n",
      "모두 한 분 한 분의 소중한 한 표를 꼭 행사해 주시기 바랍니다!\n",
      "----- len: 57 -----\n",
      "투표 방식: 무기명 온라인 1인 1투표\n",
      "투표 기간: 2024년 12월 23일(월)까지 (1주일간 진행)\n",
      "----- len: 42 -----\n",
      "투표 링크: https://forms.gle/ooDQvUP4SzJRaUoS6\n",
      "----- len: 94 -----\n",
      "[노사 협의회 구성원 및 선출 공고 사항]\n",
      "노사 협의회 구성원 중 근로자 대표는 노사 협의회장을 겸하며, 노사 간 중요 의사결정 과정에서 합의의 주체가 될 수 있습니다.\n",
      "----- len: 97 -----\n",
      "다만, 제반 제도와 관련된 안내 및 직원 커뮤니케이션 등의 업무는 여전히 인사팀에서 진행할 예정이오니, 근로자 대표로 선출된 직원분께서는 큰 부담 없이 선출 결과를 받아주시면\n",
      "----- len: 8 -----\n",
      "감사하겠습니다.\n",
      "----- len: 31 -----\n",
      "2025년 근로자(대표) 위원\n",
      "사우회장 1명, 총무 1명\n",
      "----- len: 67 -----\n",
      "사용자 위원과 근로자 위원이 원활한 의사소통을 통해 상호 간의 이해와 협조를 증진함으로써 노사 공동의 이익을 구현합니다.\n",
      "----- len: 48 -----\n",
      "근로자 대표 (회사발전위원회)\n",
      "근로기준법상 각종 제도에 대해 사측과 합의를 진행합니다.\n",
      "----- len: 51 -----\n",
      "기존 사우회 및 회사발전위원회 위원장 선출 방식과 동일하게 근로자 투표 방식으로 진행됩니다.\n",
      "----- len: 95 -----\n",
      "단, 근로자 대표는 직원 과반수 이상의 동의를 얻어야 하므로, 선출된 후보자는 최다 추천을 받은 1인에 대해 근로자대표선임서를 통해 과반수 이상의 직원 서명 날인을 받아야\n",
      "----- len: 14 -----\n",
      "합니다. (오프라인 서명)\n",
      "----- len: 8 -----\n",
      "후보 선출 기준\n",
      "----- len: 65 -----\n",
      "근로자 대표 후보 (회사발전위원회)\n",
      "선출 기준: 역임자를 제외한 스펙트라 근속 10~15년 차 사우를 대상으로 선출.\n",
      "----- len: 85 -----\n",
      "사우회장 후보\n",
      "선출 기준: 역임자를 제외한 스펙트라 근속 5~9년 차 사우를 대상으로 선출.\n",
      "주요 업무: 연중행사 및 사우 경조사(인사팀과 협업) 담당.\n",
      "----- len: 56 -----\n",
      "총무 후보\n",
      "선출 기준: 역임자를 제외한 스펙트라 근속 1~4년 차 사우를 대상으로 선출.\n",
      "주요 업무:\n",
      "----- len: 57 -----\n",
      "사우 경조사비 송금, 생일 축하금, 입사 축하금, 동호회비 송금.\n",
      "지출 대장 작성 및 회장 업무 지원.\n"
     ]
    }
   ],
   "execution_count": 5
  },
  {
   "metadata": {},
   "cell_type": "markdown",
   "source": "",
   "id": "cb28330effa21609"
  },
  {
   "metadata": {},
   "cell_type": "markdown",
   "source": "![recursive-character.jpeg](./data/recursive-character.jpeg)",
   "id": "2c0d56b270baec45"
  },
  {
   "cell_type": "markdown",
   "id": "22f4618a",
   "metadata": {},
   "source": [
    "`text_splitter.split_text()` 함수를 사용하여 `file` 텍스트를 분할합니다.\n"
   ]
  },
  {
   "cell_type": "code",
   "id": "e0097650",
   "metadata": {},
   "source": [
    "# 텍스트를 분할하고 분할된 텍스트의 처음 2개 요소를 반환합니다.\n",
    "text_splitter.split_text(file)[:2]"
   ],
   "outputs": [],
   "execution_count": null
  }
 ],
 "metadata": {
  "kernelspec": {
   "display_name": "py-test",
   "language": "python",
   "name": "python3"
  },
  "language_info": {
   "codemirror_mode": {
    "name": "ipython",
    "version": 3
   },
   "file_extension": ".py",
   "mimetype": "text/x-python",
   "name": "python",
   "nbconvert_exporter": "python",
   "pygments_lexer": "ipython3",
   "version": "3.10.13"
  }
 },
 "nbformat": 4,
 "nbformat_minor": 5
}
