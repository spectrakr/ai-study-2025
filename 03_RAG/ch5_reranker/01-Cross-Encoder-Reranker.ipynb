{
 "cells": [
  {
   "cell_type": "markdown",
   "id": "a0e0e30e",
   "metadata": {},
   "source": [
    "# Cross Encoder Reranker\n",
    "\n",
    "## 개요\n",
    "\n",
    "Cross encoder reranker는 검색 증강 생성(RAG) 시스템의 성능을 향상시키기 위해 사용되는 기술입니다. 이 문서는 Hugging Face의 cross encoder 모델을 사용하여 retriever에서 reranker를 구현하는 방법을 설명합니다.\n",
    "\n",
    "## 주요 특징 및 작동 방식\n",
    "\n",
    "1. **목적**: 검색된 문서들의 순위를 재조정하여 질문에 가장 관련성 높은 문서를 상위로 올림\n",
    "2. **구조**: 질문과 문서를 동시에 입력으로 받아 처리\n",
    "3. **작동 방식**:\n",
    "  - 질문과 문서를 하나의 입력으로 사용하여 유사도를 직접 출력\n",
    "  - Self-attention 메커니즘을 통해 질문과 문서를 동시에 분석\n",
    "4. **장점**:\n",
    "  - 더 정확한 유사도 측정 가능\n",
    "  - 질문과 문서 사이의 의미론적 유사성을 깊이 탐색\n",
    "5. **한계점**:\n",
    "  - 연산 비용이 높고 시간이 오래 걸림\n",
    "  - 대규모 문서 집합에 직접 적용하기 어려움\n",
    "\n",
    "## 실제 사용\n",
    "\n",
    "- 일반적으로 초기 검색에서 상위 k개의 문서에 대해서만 reranking 수행\n",
    "- Bi-encoder로 빠르게 후보를 추출한 후, Cross encoder로 정확도를 높이는 방식으로 활용\n",
    "\n",
    "## 구현\n",
    "\n",
    "- Hugging Face의 cross encoder 모델 또는 BAAI/bge-reranker와 같은 모델 사용\n",
    "- LangChain 등의 프레임워크에서 CrossEncoderReranker 컴포넌트를 통해 쉽게 통합 가능\n",
    "\n",
    "## Reranker의 주요 장점\n",
    "\n",
    "1. 더 정확한 유사도 측정\n",
    "2. 심층적인 의미론적 유사성 탐색\n",
    "3. 검색 결과 개선\n",
    "4. RAG 시스템 성능 향상\n",
    "5. 유연한 통합\n",
    "6. 다양한 사전 학습 모델 선택 가능\n",
    "\n",
    "## Reranker 사용 시 문서 수 설정\n",
    "\n",
    "- 일반적으로 상위 5~10개 문서에 대해 reranking 수행\n",
    "- 최적의 문서 수는 실험과 평가를 통해 결정 필요\n",
    "\n",
    "## Reranker 사용시 Trade-offs\n",
    "\n",
    "1. 정확도 vs 처리 시간\n",
    "2. 성능 향상 vs 계산 비용\n",
    "3. 검색 속도 vs 관련성 정확도\n",
    "4. 시스템 요구사항 충족\n",
    "5. 데이터셋 특성 고려"
   ]
  },
  {
   "cell_type": "markdown",
   "id": "62f6a69f",
   "metadata": {},
   "source": [
    "간단한 예시를 통해 Cross Encoder Reranker의 구현 방법을 설명하겠습니다."
   ]
  },
  {
   "metadata": {
    "ExecuteTime": {
     "end_time": "2025-03-21T04:16:32.138203Z",
     "start_time": "2025-03-21T04:16:31.654690Z"
    }
   },
   "cell_type": "code",
   "source": [
    "# API KEY를 환경변수로 관리하기 위한 설정 파일\n",
    "from dotenv import load_dotenv\n",
    "from langchain_chroma import Chroma\n",
    "\n",
    "# API KEY 정보로드\n",
    "load_dotenv()"
   ],
   "id": "76e187481d692822",
   "outputs": [
    {
     "data": {
      "text/plain": [
       "True"
      ]
     },
     "execution_count": 1,
     "metadata": {},
     "output_type": "execute_result"
    }
   ],
   "execution_count": 1
  },
  {
   "cell_type": "code",
   "id": "0e17956b",
   "metadata": {
    "ExecuteTime": {
     "end_time": "2025-03-21T04:16:33.436938Z",
     "start_time": "2025-03-21T04:16:33.428049Z"
    }
   },
   "source": [
    "# 문서 출력 도우미 함수\n",
    "def pretty_print_docs(docs):\n",
    "    print(\n",
    "        f\"\\n{'-' * 100}\\n\".join(\n",
    "            [f\"Document {i+1}:\\n\\n\" + d.page_content for i, d in enumerate(docs)]\n",
    "        )\n",
    "    )"
   ],
   "outputs": [],
   "execution_count": 2
  },
  {
   "metadata": {
    "ExecuteTime": {
     "end_time": "2025-03-21T04:16:35.260019Z",
     "start_time": "2025-03-21T04:16:35.030727Z"
    }
   },
   "cell_type": "code",
   "source": [
    "from langchain.schema import Document\n",
    "\n",
    "def get_sample_docs():\n",
    "    return [\n",
    "        Document(\n",
    "            page_content=\"미국의 수도는 워싱턴이고, 일본은 도쿄이며 북한은 평양이다.\"\n",
    "        ),\n",
    "        Document(\n",
    "            page_content=\"대한민국은 동아시아에 위치한 나라로, 수도는 부산이라고 잘못 알려진 경우도 있습니다.\"\n",
    "        ),\n",
    "        Document(\n",
    "            page_content=\"서울은 대한민국의 수도로, 정치, 경제, 문화의 중심지입니다.\"\n",
    "        ),\n",
    "        Document(\n",
    "            page_content=\"많은 사람들이 대구를 대한민국의 수도로 착각하지만, 실제 수도는 아닙니다.\"\n",
    "        ),\n",
    "        Document(page_content=\"한국의 수도는 서울이며, 세계적으로 유명한 도시입니다.\"),\n",
    "        Document(page_content=\"대한민국의 가장 큰 도시는 인천이지만, 수도는 아닙니다.\"),\n",
    "        Document(\n",
    "            page_content=\"서울은 대한민국의 수도로서, 1948년부터 공식적으로 지정되었습니다.\"\n",
    "        ),\n",
    "        Document(\n",
    "            page_content=\"한국의 수도는 평양이라는 오해가 있을 수 있지만, 이는 북한의 수도입니다.\"\n",
    "        ),\n",
    "        Document(\n",
    "            page_content=\"미국의 수도는 워싱턴이고, 재팬은 도교이며 코리아는 서울이다.\"\n",
    "        ),\n",
    "        Document(page_content=\"대한민국은 동아시에 위치한 나라이며, 분단국가이다.\"),\n",
    "    ]"
   ],
   "id": "852b7b2f7d050e26",
   "outputs": [],
   "execution_count": 3
  },
  {
   "metadata": {
    "ExecuteTime": {
     "end_time": "2025-03-21T04:16:15.484760Z",
     "start_time": "2025-03-21T04:16:14.842090Z"
    }
   },
   "cell_type": "code",
   "source": [
    "from langchain_openai import OpenAIEmbeddings\n",
    "\n",
    "\n",
    "vector_store = Chroma.from_documents(get_sample_docs(), OpenAIEmbeddings())\n",
    "retriever = vector_store.as_retriever(search_kwargs={\"k\": 10})"
   ],
   "id": "9caf1cf0ccbd0429",
   "outputs": [],
   "execution_count": 7
  },
  {
   "metadata": {
    "ExecuteTime": {
     "end_time": "2025-03-21T04:16:17.736966Z",
     "start_time": "2025-03-21T04:16:17.526834Z"
    }
   },
   "cell_type": "code",
   "source": [
    "query = \"대한민국의 수도는?\"\n",
    "\n",
    "docs = retriever.invoke(query)\n",
    "\n",
    "pretty_print_docs(docs)"
   ],
   "id": "c39546cc1804952f",
   "outputs": [
    {
     "name": "stdout",
     "output_type": "stream",
     "text": [
      "Document 1:\n",
      "\n",
      "많은 사람들이 대구를 대한민국의 수도로 착각하지만, 실제 수도는 아닙니다.\n",
      "----------------------------------------------------------------------------------------------------\n",
      "Document 2:\n",
      "\n",
      "대한민국은 동아시아에 위치한 나라로, 수도는 부산이라고 잘못 알려진 경우도 있습니다.\n",
      "----------------------------------------------------------------------------------------------------\n",
      "Document 3:\n",
      "\n",
      "한국의 수도는 서울이며, 세계적으로 유명한 도시입니다.\n",
      "----------------------------------------------------------------------------------------------------\n",
      "Document 4:\n",
      "\n",
      "한국의 수도는 평양이라는 오해가 있을 수 있지만, 이는 북한의 수도입니다.\n",
      "----------------------------------------------------------------------------------------------------\n",
      "Document 5:\n",
      "\n",
      "서울은 대한민국의 수도로, 정치, 경제, 문화의 중심지입니다.\n",
      "----------------------------------------------------------------------------------------------------\n",
      "Document 6:\n",
      "\n",
      "서울은 대한민국의 수도로서, 1948년부터 공식적으로 지정되었습니다.\n",
      "----------------------------------------------------------------------------------------------------\n",
      "Document 7:\n",
      "\n",
      "미국의 수도는 워싱턴이고, 일본은 도쿄이며 북한은 평양이다.\n",
      "----------------------------------------------------------------------------------------------------\n",
      "Document 8:\n",
      "\n",
      "대한민국의 가장 큰 도시는 인천이지만, 수도는 아닙니다.\n",
      "----------------------------------------------------------------------------------------------------\n",
      "Document 9:\n",
      "\n",
      "미국의 수도는 워싱턴이고, 재팬은 도교이며 코리아는 서울이다.\n",
      "----------------------------------------------------------------------------------------------------\n",
      "Document 10:\n",
      "\n",
      "대한민국은 동아시에 위치한 나라이며, 분단국가이다.\n"
     ]
    }
   ],
   "execution_count": 8
  },
  {
   "metadata": {},
   "cell_type": "markdown",
   "source": [
    "# bge-reranker\n",
    "- 다국어 지원 BGE Reranker: [bge-reranker-v2-m3](https://huggingface.co/BAAI/bge-reranker-v2-m3)"
   ],
   "id": "47017852a79644af"
  },
  {
   "metadata": {
    "ExecuteTime": {
     "end_time": "2025-03-17T02:22:04.613543Z",
     "start_time": "2025-03-17T02:21:58.456612Z"
    }
   },
   "cell_type": "code",
   "source": [
    "from langchain.retrievers import ContextualCompressionRetriever\n",
    "from langchain.retrievers.document_compressors import CrossEncoderReranker\n",
    "from langchain_community.cross_encoders import HuggingFaceCrossEncoder\n",
    "\n",
    "# 모델 초기화\n",
    "model = HuggingFaceCrossEncoder(model_name=\"BAAI/bge-reranker-v2-m3\")\n",
    "\n",
    "# 상위 3개의 문서 선택\n",
    "compressor = CrossEncoderReranker(model=model, top_n=5)\n",
    "\n",
    "# 문서 압축 검색기 초기화\n",
    "compression_retriever = ContextualCompressionRetriever(\n",
    "    base_compressor=compressor, base_retriever=retriever\n",
    ")\n",
    "\n",
    "# 압축된 문서 검색\n",
    "compressed_docs = compression_retriever.invoke(\"대한민국의 수도는?\")\n",
    "\n",
    "# 압축된 문서 출력\n",
    "pretty_print_docs(compressed_docs)"
   ],
   "id": "3aa9ccc748468140",
   "outputs": [
    {
     "name": "stdout",
     "output_type": "stream",
     "text": [
      "Document 1:\n",
      "\n",
      "한국의 수도는 서울이며, 세계적으로 유명한 도시입니다.\n",
      "----------------------------------------------------------------------------------------------------\n",
      "Document 2:\n",
      "\n",
      "한국의 수도는 서울이며, 세계적으로 유명한 도시입니다.\n",
      "----------------------------------------------------------------------------------------------------\n",
      "Document 3:\n",
      "\n",
      "대한민국은 동아시아에 위치한 나라로, 수도는 부산이라고 잘못 알려진 경우도 있습니다.\n",
      "----------------------------------------------------------------------------------------------------\n",
      "Document 4:\n",
      "\n",
      "대한민국은 동아시아에 위치한 나라로, 수도는 부산이라고 잘못 알려진 경우도 있습니다.\n",
      "----------------------------------------------------------------------------------------------------\n",
      "Document 5:\n",
      "\n",
      "한국의 수도는 평양이라는 오해가 있을 수 있지만, 이는 북한의 수도입니다.\n"
     ]
    }
   ],
   "execution_count": 13
  },
  {
   "cell_type": "markdown",
   "id": "74468bcf",
   "metadata": {},
   "source": [
    "이제 기본 `retriever`를 `ContextualCompressionRetriever`로 감싸보겠습니다. `CrossEncoderReranker`는 `HuggingFaceCrossEncoder`를 사용하여 반환된 결과를 재정렬합니다."
   ]
  }
 ],
 "metadata": {
  "kernelspec": {
   "display_name": "langchain-kr-lwwSZlnu-py3.11",
   "language": "python",
   "name": "python3"
  },
  "language_info": {
   "codemirror_mode": {
    "name": "ipython",
    "version": 3
   },
   "file_extension": ".py",
   "mimetype": "text/x-python",
   "name": "python",
   "nbconvert_exporter": "python",
   "pygments_lexer": "ipython3",
   "version": "3.11.9"
  }
 },
 "nbformat": 4,
 "nbformat_minor": 5
}
