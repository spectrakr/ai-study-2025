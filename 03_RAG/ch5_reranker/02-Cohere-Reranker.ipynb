{
 "cells": [
  {
   "cell_type": "markdown",
   "id": "6e8b2a6f",
   "metadata": {},
   "source": [
    "# Cohere reranker\n",
    "\n",
    ">[Cohere](https://cohere.ai/about)는 기업이 인간-기계 상호작용을 개선할 수 있도록 돕는 자연어 처리 모델을 제공하는 캐나다의 스타트업입니다.\n",
    "\n",
    "이 노트북은 `retriever`에서 [Cohere의 rerank endpoint](https://docs.cohere.com/docs/reranking)를 사용하는 방법을 보여줍니다. "
   ]
  },
  {
   "cell_type": "code",
   "id": "59e4104c",
   "metadata": {},
   "source": [
    "# 설치\n",
    "# !pip install -qU cohere"
   ],
   "outputs": [],
   "execution_count": null
  },
  {
   "cell_type": "markdown",
   "id": "68f6dcf4",
   "metadata": {},
   "source": [
    "## Cohere API 키 설정\n",
    "\n",
    "- [API 키 발급](https://dashboard.cohere.com/api-keys)\n",
    "- `.env` 파일에 `COHERE_API_KEY` 키 값에 API 키를 넣어주세요.\n",
    "\n",
    "**참고**\n",
    "- [공식 도큐먼트](https://docs.cohere.com/docs/the-cohere-platform?_gl=1*st323v*_gcl_au*MTA2ODUyNDMyNy4xNzE4MDMzMjY2*_ga*NTYzNTI5NDYyLjE3MTgwMzMyNjc.*_ga_CRGS116RZS*MTcyMTk4NzMxMi4xMS4xLjE3MjE5ODczNjIuMTAuMC4w)\n",
    "- [Reranker Model 리스트](https://docs.cohere.com/docs/rerank-2)"
   ]
  },
  {
   "cell_type": "code",
   "id": "b03e9b15",
   "metadata": {
    "ExecuteTime": {
     "end_time": "2025-04-16T23:04:40.279631Z",
     "start_time": "2025-04-16T23:04:39.661756Z"
    }
   },
   "source": [
    "# API KEY를 환경변수로 관리하기 위한 설정 파일\n",
    "from dotenv import load_dotenv\n",
    "from langchain_chroma import Chroma\n",
    "\n",
    "# API KEY 정보로드\n",
    "load_dotenv()"
   ],
   "outputs": [
    {
     "data": {
      "text/plain": [
       "True"
      ]
     },
     "execution_count": 1,
     "metadata": {},
     "output_type": "execute_result"
    }
   ],
   "execution_count": 1
  },
  {
   "cell_type": "markdown",
   "id": "b146db95",
   "metadata": {},
   "source": [
    "## 사용법"
   ]
  },
  {
   "cell_type": "code",
   "id": "efae0675",
   "metadata": {
    "ExecuteTime": {
     "end_time": "2025-04-16T23:04:42.250851Z",
     "start_time": "2025-04-16T23:04:42.248554Z"
    }
   },
   "source": [
    "def pretty_print_docs(docs):\n",
    "    print(\n",
    "        f\"\\n{'-' * 100}\\n\".join(\n",
    "            [f\"Document {i+1}:\\n\\n\" + d.page_content for i, d in enumerate(docs)]\n",
    "        )\n",
    "    )"
   ],
   "outputs": [],
   "execution_count": 2
  },
  {
   "cell_type": "markdown",
   "id": "ae7d50e3",
   "metadata": {},
   "source": [
    "**Cohere 다국어 지원 모델**\n",
    "\n",
    "- Embedding: `embed-multilingual-v3.0`, `embed-multilingual-light-v3.0`, `embed-multilingual-v2.0`\n",
    "- Reranker: `rerank-multilingual-v3.0`, `rerank-multilingual-v2.0`"
   ]
  },
  {
   "cell_type": "code",
   "id": "b7a56ef1",
   "metadata": {
    "ExecuteTime": {
     "end_time": "2025-04-16T23:04:47.419590Z",
     "start_time": "2025-04-16T23:04:44.987165Z"
    }
   },
   "source": [
    "from langchain_chroma import Chroma\n",
    "from langchain_community.document_loaders import TextLoader\n",
    "from langchain_openai import OpenAIEmbeddings\n",
    "from langchain_text_splitters import RecursiveCharacterTextSplitter\n",
    "\n",
    "# 문서 로드\n",
    "documents = TextLoader(\"./data/2025_사우회선출.txt\").load()\n",
    "\n",
    "# 텍스트 분할기 초기화\n",
    "text_splitter = RecursiveCharacterTextSplitter(chunk_size=100, chunk_overlap=0)\n",
    "\n",
    "# 문서 분할\n",
    "texts = text_splitter.split_documents(documents)\n",
    "\n",
    "# 검색기 초기화\n",
    "retriever = Chroma.from_documents(\n",
    "    texts, OpenAIEmbeddings(model=\"text-embedding-3-small\")\n",
    ").as_retriever(search_kwargs={\"k\": 10})\n",
    "\n",
    "# 질의문\n",
    "query = \"사우회장과 같이 활동하는 총무의 후보 기준은 무엇인가요?\"\n",
    "\n",
    "# 문서 검색\n",
    "docs = retriever.invoke(query)\n",
    "\n",
    "# 문서 출력\n",
    "pretty_print_docs(docs)"
   ],
   "outputs": [
    {
     "name": "stdout",
     "output_type": "stream",
     "text": [
      "Document 1:\n",
      "\n",
      "사우회장 후보\n",
      "선출 기준: 역임자를 제외한 스펙트라 근속 5~9년 차 사우를 대상으로 선출.\n",
      "주요 업무: 연중행사 및 사우 경조사(인사팀과 협업) 담당.\n",
      "----------------------------------------------------------------------------------------------------\n",
      "Document 2:\n",
      "\n",
      "2025년 근로자(대표) 위원\n",
      "사우회장 1명, 총무 1명\n",
      "----------------------------------------------------------------------------------------------------\n",
      "Document 3:\n",
      "\n",
      "총무 후보\n",
      "선출 기준: 역임자를 제외한 스펙트라 근속 1~4년 차 사우를 대상으로 선출.\n",
      "주요 업무:\n",
      "----------------------------------------------------------------------------------------------------\n",
      "Document 4:\n",
      "\n",
      "기존 사우회 및 회사발전위원회 위원장 선출 방식과 동일하게 근로자 투표 방식으로 진행됩니다.\n",
      "----------------------------------------------------------------------------------------------------\n",
      "Document 5:\n",
      "\n",
      "근로자 대표 (회사발전위원회)\n",
      "근로기준법상 각종 제도에 대해 사측과 합의를 진행합니다.\n",
      "----------------------------------------------------------------------------------------------------\n",
      "Document 6:\n",
      "\n",
      "사우 경조사비 송금, 생일 축하금, 입사 축하금, 동호회비 송금.\n",
      "지출 대장 작성 및 회장 업무 지원.\n",
      "----------------------------------------------------------------------------------------------------\n",
      "Document 7:\n",
      "\n",
      "사용자 위원과 근로자 위원이 원활한 의사소통을 통해 상호 간의 이해와 협조를 증진함으로써 노사 공동의 이익을 구현합니다.\n",
      "----------------------------------------------------------------------------------------------------\n",
      "Document 8:\n",
      "\n",
      "단, 근로자 대표는 직원 과반수 이상의 동의를 얻어야 하므로, 선출된 후보자는 최다 추천을 받은 1인에 대해 근로자대표선임서를 통해 과반수 이상의 직원 서명 날인을 받아야\n",
      "----------------------------------------------------------------------------------------------------\n",
      "Document 9:\n",
      "\n",
      "후보 선출 기준\n",
      "----------------------------------------------------------------------------------------------------\n",
      "Document 10:\n",
      "\n",
      "근로자 대표 후보 (회사발전위원회)\n",
      "선출 기준: 역임자를 제외한 스펙트라 근속 10~15년 차 사우를 대상으로 선출.\n"
     ]
    }
   ],
   "execution_count": 3
  },
  {
   "cell_type": "markdown",
   "id": "82084994",
   "metadata": {},
   "source": [
    "## CohereRerank을 사용한 재정렬\n",
    "이제 기본 `retriever`를 `ContextualCompressionRetriever`로 감싸보겠습니다. Cohere 재정렬 엔드포인트를 사용하여 반환된 결과를 재정렬하는 `CohereRerank`를 추가할 것입니다.\n",
    "CohereRerank에서 모델 이름을 지정하는 것이 필수임을 유의하십시오!"
   ]
  },
  {
   "cell_type": "code",
   "id": "3b6d3d95",
   "metadata": {
    "ExecuteTime": {
     "end_time": "2025-04-16T23:04:52.363928Z",
     "start_time": "2025-04-16T23:04:50.463078Z"
    }
   },
   "source": [
    "from langchain.retrievers.contextual_compression import ContextualCompressionRetriever\n",
    "from langchain_cohere import CohereRerank\n",
    "\n",
    "# 문서 재정렬 모델 설정\n",
    "compressor = CohereRerank(model=\"rerank-multilingual-v3.0\")\n",
    "\n",
    "# 문맥 압축 검색기 설정\n",
    "compression_retriever = ContextualCompressionRetriever(\n",
    "    base_compressor=compressor, base_retriever=retriever\n",
    ")\n",
    "\n",
    "# 압축된 문서 검색\n",
    "compressed_docs = compression_retriever.invoke(\"사우회장과 같이 활동하는 총무의 후보 기준은 무엇인가요?\")\n",
    "\n",
    "# 압축된 문서 출력\n",
    "pretty_print_docs(compressed_docs)"
   ],
   "outputs": [
    {
     "name": "stdout",
     "output_type": "stream",
     "text": [
      "Document 1:\n",
      "\n",
      "총무 후보\n",
      "선출 기준: 역임자를 제외한 스펙트라 근속 1~4년 차 사우를 대상으로 선출.\n",
      "주요 업무:\n",
      "----------------------------------------------------------------------------------------------------\n",
      "Document 2:\n",
      "\n",
      "사우회장 후보\n",
      "선출 기준: 역임자를 제외한 스펙트라 근속 5~9년 차 사우를 대상으로 선출.\n",
      "주요 업무: 연중행사 및 사우 경조사(인사팀과 협업) 담당.\n",
      "----------------------------------------------------------------------------------------------------\n",
      "Document 3:\n",
      "\n",
      "근로자 대표 후보 (회사발전위원회)\n",
      "선출 기준: 역임자를 제외한 스펙트라 근속 10~15년 차 사우를 대상으로 선출.\n"
     ]
    }
   ],
   "execution_count": 4
  },
  {
   "cell_type": "markdown",
   "id": "4a5457ba",
   "metadata": {},
   "source": [
    "## 또 다른 예제\n",
    "\n",
    "\"대한민국의 수도는?\"라는 질문을 물어보기 위한 복잡한 문서를 모아둔 것이다."
   ]
  },
  {
   "cell_type": "code",
   "id": "90e6b5b0",
   "metadata": {
    "ExecuteTime": {
     "end_time": "2025-03-22T11:31:30.086849Z",
     "start_time": "2025-03-22T11:31:30.081523Z"
    }
   },
   "source": [
    "from langchain.schema import Document\n",
    "\n",
    "def get_sample_docs():\n",
    "    return [\n",
    "        Document(\n",
    "            page_content=\"미국의 수도는 워싱턴이고, 일본은 도쿄이며 북한은 평양이다.\"\n",
    "        ),\n",
    "        Document(\n",
    "            page_content=\"대한민국은 동아시아에 위치한 나라로, 수도는 부산이라고 잘못 알려진 경우도 있습니다.\"\n",
    "        ),\n",
    "        Document(\n",
    "            page_content=\"서울은 대한민국의 수도로, 정치, 경제, 문화의 중심지입니다.\"\n",
    "        ),\n",
    "        Document(\n",
    "            page_content=\"많은 사람들이 대구를 대한민국의 수도로 착각하지만, 실제 수도는 아닙니다.\"\n",
    "        ),\n",
    "        Document(page_content=\"한국은 세계적으로 유명한 도시인 서울이 수도이다.\"),\n",
    "        Document(page_content=\"대한민국의 가장 큰 도시는 인천이지만, 수도는 아닙니다.\"),\n",
    "        Document(\n",
    "            page_content=\"서울은 대한민국의 수도로서, 1948년부터 공식적으로 지정되었습니다.\"\n",
    "        ),\n",
    "        Document(\n",
    "            page_content=\"한국의 수도는 평양이라는 오해가 있을 수 있지만, 이는 북한의 수도입니다.\"\n",
    "        ),\n",
    "        Document(\n",
    "            page_content=\"미국의 수도는 워싱턴이고, 재팬은 도교이며 코리아는 서울이다.\"\n",
    "        ),\n",
    "        Document(page_content=\"대한민국은 동아시아에 위치한 나라이며, 분단국가이다.\"),\n",
    "    ]"
   ],
   "outputs": [],
   "execution_count": 5
  },
  {
   "cell_type": "code",
   "id": "16d91284",
   "metadata": {
    "ExecuteTime": {
     "end_time": "2025-03-22T11:31:31.220214Z",
     "start_time": "2025-03-22T11:31:30.402139Z"
    }
   },
   "source": [
    "from langchain_openai import OpenAIEmbeddings\n",
    "\n",
    "\n",
    "vector_store = Chroma.from_documents(get_sample_docs(), OpenAIEmbeddings(model=\"text-embedding-3-small\"))\n",
    "retriever = vector_store.as_retriever(search_kwargs={\"k\": 10})"
   ],
   "outputs": [],
   "execution_count": 6
  },
  {
   "cell_type": "code",
   "id": "7d12d055",
   "metadata": {
    "ExecuteTime": {
     "end_time": "2025-03-22T11:31:32.559919Z",
     "start_time": "2025-03-22T11:31:32.186687Z"
    }
   },
   "source": [
    "query = \"대한민국의 수도는?\"\n",
    "\n",
    "docs = retriever.invoke(query)\n",
    "\n",
    "pretty_print_docs(docs)"
   ],
   "outputs": [
    {
     "name": "stdout",
     "output_type": "stream",
     "text": [
      "Document 1:\n",
      "\n",
      "많은 사람들이 대구를 대한민국의 수도로 착각하지만, 실제 수도는 아닙니다.\n",
      "----------------------------------------------------------------------------------------------------\n",
      "Document 2:\n",
      "\n",
      "대한민국은 동아시아에 위치한 나라로, 수도는 부산이라고 잘못 알려진 경우도 있습니다.\n",
      "----------------------------------------------------------------------------------------------------\n",
      "Document 3:\n",
      "\n",
      "한국의 수도는 평양이라는 오해가 있을 수 있지만, 이는 북한의 수도입니다.\n",
      "----------------------------------------------------------------------------------------------------\n",
      "Document 4:\n",
      "\n",
      "서울은 대한민국의 수도로, 정치, 경제, 문화의 중심지입니다.\n",
      "----------------------------------------------------------------------------------------------------\n",
      "Document 5:\n",
      "\n",
      "서울은 대한민국의 수도로서, 1948년부터 공식적으로 지정되었습니다.\n",
      "----------------------------------------------------------------------------------------------------\n",
      "Document 6:\n",
      "\n",
      "미국의 수도는 워싱턴이고, 일본은 도쿄이며 북한은 평양이다.\n",
      "----------------------------------------------------------------------------------------------------\n",
      "Document 7:\n",
      "\n",
      "대한민국의 가장 큰 도시는 인천이지만, 수도는 아닙니다.\n",
      "----------------------------------------------------------------------------------------------------\n",
      "Document 8:\n",
      "\n",
      "미국의 수도는 워싱턴이고, 재팬은 도교이며 코리아는 서울이다.\n",
      "----------------------------------------------------------------------------------------------------\n",
      "Document 9:\n",
      "\n",
      "한국은 세계적으로 유명한 도시인 서울이 수도이다.\n",
      "----------------------------------------------------------------------------------------------------\n",
      "Document 10:\n",
      "\n",
      "대한민국은 동아시아에 위치한 나라이며, 분단국가이다.\n"
     ]
    }
   ],
   "execution_count": 7
  },
  {
   "cell_type": "markdown",
   "id": "df3d5357",
   "metadata": {},
   "source": [
    "## Reranker를 통해 재정렬"
   ]
  },
  {
   "cell_type": "code",
   "id": "3c031a8e",
   "metadata": {
    "ExecuteTime": {
     "end_time": "2025-03-22T11:32:54.211900Z",
     "start_time": "2025-03-22T11:32:53.493802Z"
    }
   },
   "source": [
    "from langchain.retrievers.contextual_compression import ContextualCompressionRetriever\n",
    "from langchain_cohere import CohereRerank\n",
    "\n",
    "# 문서 재정렬 모델 설정\n",
    "compressor = CohereRerank(model=\"rerank-multilingual-v3.0\", top_n=4)\n",
    "\n",
    "# 문맥 압축 검색기 설정\n",
    "compression_retriever = ContextualCompressionRetriever(\n",
    "    base_compressor=compressor, base_retriever=retriever\n",
    ")\n",
    "\n",
    "# 압축된 문서 검색\n",
    "compressed_docs = compression_retriever.invoke(\"대한민국의 수도는?\")\n",
    "\n",
    "# 압축된 문서 출력\n",
    "pretty_print_docs(compressed_docs)"
   ],
   "outputs": [
    {
     "name": "stdout",
     "output_type": "stream",
     "text": [
      "Document 1:\n",
      "\n",
      "서울은 대한민국의 수도로서, 1948년부터 공식적으로 지정되었습니다.\n",
      "----------------------------------------------------------------------------------------------------\n",
      "Document 2:\n",
      "\n",
      "서울은 대한민국의 수도로, 정치, 경제, 문화의 중심지입니다.\n",
      "----------------------------------------------------------------------------------------------------\n",
      "Document 3:\n",
      "\n",
      "대한민국은 동아시아에 위치한 나라로, 수도는 부산이라고 잘못 알려진 경우도 있습니다.\n",
      "----------------------------------------------------------------------------------------------------\n",
      "Document 4:\n",
      "\n",
      "한국은 세계적으로 유명한 도시인 서울이 수도이다.\n",
      "----------------------------------------------------------------------------------------------------\n",
      "Document 5:\n",
      "\n",
      "한국의 수도는 평양이라는 오해가 있을 수 있지만, 이는 북한의 수도입니다.\n",
      "----------------------------------------------------------------------------------------------------\n",
      "Document 6:\n",
      "\n",
      "많은 사람들이 대구를 대한민국의 수도로 착각하지만, 실제 수도는 아닙니다.\n"
     ]
    }
   ],
   "execution_count": 9
  },
  {
   "metadata": {},
   "cell_type": "code",
   "outputs": [],
   "execution_count": null,
   "source": "",
   "id": "c5167462f05fa975"
  }
 ],
 "metadata": {
  "kernelspec": {
   "display_name": "langchain-kr-lwwSZlnu-py3.11",
   "language": "python",
   "name": "python3"
  },
  "language_info": {
   "codemirror_mode": {
    "name": "ipython",
    "version": 3
   },
   "file_extension": ".py",
   "mimetype": "text/x-python",
   "name": "python",
   "nbconvert_exporter": "python",
   "pygments_lexer": "ipython3",
   "version": "3.11.11"
  }
 },
 "nbformat": 4,
 "nbformat_minor": 5
}
