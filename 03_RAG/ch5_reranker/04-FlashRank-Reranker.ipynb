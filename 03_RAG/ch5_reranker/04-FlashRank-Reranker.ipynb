{
 "cells": [
  {
   "cell_type": "markdown",
   "id": "32a780c1",
   "metadata": {},
   "source": [
    "# FlashRank reranker\n",
    "\n",
    ">[FlashRank](https://github.com/PrithivirajDamodaran/FlashRank)는 기존 검색 및 `retrieval` 파이프라인에 재순위를 추가하기 위한 초경량 및 초고속 Python 라이브러리입니다. 이는 SoTA `cross-encoders`를 기반으로 합니다.\n",
    "\n",
    "이 노트북은 문서 압축 및 `retrieval`을 위해 [flashrank](https://github.com/PrithivirajDamodaran/FlashRank)를 사용하는 방법을 보여줍니다.\n"
   ]
  },
  {
   "cell_type": "markdown",
   "id": "2d8a0f0d",
   "metadata": {},
   "source": [
    "## 환경설정"
   ]
  },
  {
   "metadata": {},
   "cell_type": "code",
   "source": [
    "from dotenv import load_dotenv\n",
    "\n",
    "load_dotenv()"
   ],
   "id": "4cda51536b008531",
   "outputs": [],
   "execution_count": null
  },
  {
   "cell_type": "code",
   "id": "6c27423f",
   "metadata": {},
   "source": [
    "# 설치\n",
    "# !pip install -qU flashrank"
   ],
   "outputs": [],
   "execution_count": null
  },
  {
   "cell_type": "code",
   "id": "2f7c15f1",
   "metadata": {},
   "source": [
    "def pretty_print_docs(docs):\n",
    "    print(\n",
    "        f\"\\n{'-' * 100}\\n\".join(\n",
    "            [\n",
    "                f\"Document {i+1}:\\n\\n{d.page_content}\\nMetadata: {d.metadata}\"\n",
    "                for i, d in enumerate(docs)\n",
    "            ]\n",
    "        )\n",
    "    )"
   ],
   "outputs": [],
   "execution_count": null
  },
  {
   "cell_type": "markdown",
   "id": "f855d244",
   "metadata": {},
   "source": [
    "## FlashrankRerank"
   ]
  },
  {
   "cell_type": "markdown",
   "id": "aab8fde6",
   "metadata": {},
   "source": [
    "간단한 예시를 위한 데이터를 로드하고 retriever 를 생성합니다."
   ]
  },
  {
   "metadata": {},
   "cell_type": "code",
   "source": [
    "from langchain.schema import Document\n",
    "\n",
    "def get_sample_docs():\n",
    "    return [\n",
    "        Document(\n",
    "            page_content=\"미국의 수도는 워싱턴이고, 일본은 도쿄이며 북한은 평양이다.\"\n",
    "        ),\n",
    "        Document(\n",
    "            page_content=\"대한민국은 동아시아에 위치한 나라로, 수도는 부산이라고 잘못 알려진 경우도 있습니다.\"\n",
    "        ),\n",
    "        Document(\n",
    "            page_content=\"서울은 대한민국의 수도로, 정치, 경제, 문화의 중심지입니다.\"\n",
    "        ),\n",
    "        Document(\n",
    "            page_content=\"많은 사람들이 대구를 대한민국의 수도로 착각하지만, 실제 수도는 아닙니다.\"\n",
    "        ),\n",
    "        Document(page_content=\"한국의 수도는 서울이며, 세계적으로 유명한 도시입니다.\"),\n",
    "        Document(page_content=\"대한민국의 가장 큰 도시는 인천이지만, 수도는 아닙니다.\"),\n",
    "        Document(\n",
    "            page_content=\"서울은 대한민국의 수도로서, 1948년부터 공식적으로 지정되었습니다.\"\n",
    "        ),\n",
    "        Document(\n",
    "            page_content=\"한국의 수도는 평양이라는 오해가 있을 수 있지만, 이는 북한의 수도입니다.\"\n",
    "        ),\n",
    "        Document(\n",
    "            page_content=\"미국의 수도는 워싱턴이고, 재팬은 도교이며 코리아는 서울이다.\"\n",
    "        ),\n",
    "        Document(page_content=\"대한민국은 동아시에 위치한 나라이며, 분단국가이다.\"),\n",
    "    ]"
   ],
   "id": "cf90f47f6588e48d",
   "outputs": [],
   "execution_count": null
  },
  {
   "metadata": {},
   "cell_type": "code",
   "source": [
    "from langchain_chroma import Chroma\n",
    "from langchain_openai import OpenAIEmbeddings\n",
    "\n",
    "\n",
    "vector_store = Chroma.from_documents(get_sample_docs(), OpenAIEmbeddings())\n",
    "retriever = vector_store.as_retriever(search_kwargs={\"k\": 10})"
   ],
   "id": "e630d0ab82fc9a02",
   "outputs": [],
   "execution_count": null
  },
  {
   "metadata": {},
   "cell_type": "code",
   "source": [
    "query = \"대한민국의 수도는?\"\n",
    "\n",
    "docs = retriever.invoke(query)\n",
    "\n",
    "pretty_print_docs(docs)"
   ],
   "id": "416899d19785c4f3",
   "outputs": [],
   "execution_count": null
  },
  {
   "cell_type": "markdown",
   "id": "b418f3c1",
   "metadata": {},
   "source": [
    "이제 기본 `retriever`를 `ContextualCompressionRetriever`로 감싸고, `FlashrankRerank`를 압축기로 사용해 봅시다."
   ]
  },
  {
   "cell_type": "code",
   "id": "0c954ed6",
   "metadata": {
    "ExecuteTime": {
     "end_time": "2025-03-10T03:26:36.452310Z",
     "start_time": "2025-03-10T03:26:34.971818Z"
    }
   },
   "source": [
    "from langchain.retrievers import ContextualCompressionRetriever\n",
    "from langchain.retrievers.document_compressors import FlashrankRerank\n",
    "from langchain_openai import ChatOpenAI\n",
    "\n",
    "# LLM 초기화\n",
    "llm = ChatOpenAI(temperature=0)\n",
    "\n",
    "# 문서 압축기 초기화\n",
    "compressor = FlashrankRerank(model=\"ms-marco-MultiBERT-L-12\")\n",
    "\n",
    "# 문맥 압축 검색기 초기화\n",
    "compression_retriever = ContextualCompressionRetriever(\n",
    "    base_compressor=compressor, base_retriever=retriever\n",
    ")\n",
    "\n",
    "# 압축된 문서 검색\n",
    "compressed_docs = compression_retriever.invoke(\"대한민국의 수도는?\")\n",
    "\n",
    "# 문서 ID 출력\n",
    "pretty_print_docs(compressed_docs)"
   ],
   "outputs": [
    {
     "name": "stderr",
     "output_type": "stream",
     "text": [
      "INFO:httpx:HTTP Request: POST https://api.openai.com/v1/embeddings \"HTTP/1.1 200 OK\"\n"
     ]
    },
    {
     "name": "stdout",
     "output_type": "stream",
     "text": [
      "Document 1:\n",
      "\n",
      "미국의 수도는 워싱턴이고, 재팬은 도교이며 코리아는 서울이다.\n",
      "Metadata: {'id': 6, 'relevance_score': 0.9997258}\n",
      "----------------------------------------------------------------------------------------------------\n",
      "Document 2:\n",
      "\n",
      "미국의 수도는 워싱턴이고, 일본은 도쿄이며 북한은 평양이다.\n",
      "Metadata: {'id': 5, 'relevance_score': 0.9996192}\n",
      "----------------------------------------------------------------------------------------------------\n",
      "Document 3:\n",
      "\n",
      "한국의 수도는 평양이라는 오해가 있을 수 있지만, 이는 북한의 수도입니다.\n",
      "Metadata: {'id': 0, 'relevance_score': 0.9995623}\n"
     ]
    }
   ],
   "execution_count": 10
  },
  {
   "cell_type": "markdown",
   "id": "ffa1cd05",
   "metadata": {},
   "source": [
    "reranker 가 적용된 후 결과를 비교합니다."
   ]
  }
 ],
 "metadata": {
  "kernelspec": {
   "display_name": "langchain-kr-lwwSZlnu-py3.11",
   "language": "python",
   "name": "python3"
  },
  "language_info": {
   "codemirror_mode": {
    "name": "ipython",
    "version": 3
   },
   "file_extension": ".py",
   "mimetype": "text/x-python",
   "name": "python",
   "nbconvert_exporter": "python",
   "pygments_lexer": "ipython3",
   "version": "3.11.9"
  }
 },
 "nbformat": 4,
 "nbformat_minor": 5
}
