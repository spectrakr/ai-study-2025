{
 "cells": [
  {
   "cell_type": "markdown",
   "metadata": {},
   "source": [
    "# Document & Document Loaders"
   ]
  },
  {
   "cell_type": "markdown",
   "metadata": {},
   "source": [
    "**참고**\n",
    "\n",
    "- [LangChain 에서 사용되는 주요 로더](https://python.langchain.com/v0.1/docs/modules/data_connection/document_loaders/)\n",
    "- [LangChain 에서 사용되는 로더 목록](https://python.langchain.com/v0.1/docs/integrations/document_loaders/)"
   ]
  },
  {
   "cell_type": "markdown",
   "metadata": {},
   "source": [
    "## Document\n",
    "\n",
    "LangChain 의 기본 문서 객체입니다.\n",
    "\n",
    "**속성**\n",
    "- `page_content`: 문서의 내용을 나타내는 문열입니다.\n",
    "- `metadata`: 문서의 메타데이터를 나타내는 딕셔너리입니다.\n"
   ]
  },
  {
   "cell_type": "code",
   "metadata": {},
   "source": [
    "from langchain_core.documents import Document\n",
    "\n",
    "document = Document(page_content=\"DWorks 를 처음 접하는 구성원이 DWorks를 이해하기 위한 기반 지식 습득 및 구성원간의 원활한 소통이 가능하도록 합니다.\")"
   ],
   "outputs": [],
   "execution_count": null
  },
  {
   "cell_type": "code",
   "metadata": {},
   "source": [
    "# 도큐먼트의 속성 확인\n",
    "document.__dict__"
   ],
   "outputs": [],
   "execution_count": null
  },
  {
   "cell_type": "markdown",
   "metadata": {},
   "source": [
    "metadata 에 속성 추가"
   ]
  },
  {
   "cell_type": "code",
   "metadata": {},
   "source": [
    "# 메타데이터 추가\n",
    "document.metadata[\"source\"] = \"01. 온보딩 프로세스 - 기반기술.pdf\"\n",
    "document.metadata[\"page\"] = 1\n",
    "document.metadata[\"author\"] = \"서정현\"\n",
    "document.metadata[\"owner\"] = \"노용주\""
   ],
   "outputs": [],
   "execution_count": null
  },
  {
   "cell_type": "code",
   "metadata": {},
   "source": [
    "# 도큐먼트의 속성 확인\n",
    "document.metadata"
   ],
   "outputs": [],
   "execution_count": null
  },
  {
   "cell_type": "markdown",
   "metadata": {},
   "source": [
    "## Document Loader\n",
    "\n",
    "다양한 파일의 형식으로부터 불러온 내용을 문서(Document) 객체로 변환하는 역할을 합니다.\n",
    "\n",
    "### 주요 Loader \n",
    "- PyPDFLoader: PDF 파일을 로드하는 로더입니다.\n",
    "- CSVLoader: CSV 파일을 로드하는 로더입니다.\n",
    "- UnstructuredHTMLLoader: HTML 파일을 로드하는 로더입니다.\n",
    "- JSONLoader: JSON 파일을 로드하는 로더입니다.\n",
    "- TextLoader: 텍스트 파일을 로드하는 로더입니다.\n",
    "- DirectoryLoader: 디렉토리를 로드하는 로더입니다."
   ]
  },
  {
   "cell_type": "code",
   "metadata": {},
   "source": [
    "# 예제 파일 경로\n",
    "FILE_PATH = \"./data/01. 온보딩 프로세스 - 기반기술.pdf\""
   ],
   "outputs": [],
   "execution_count": null
  },
  {
   "cell_type": "code",
   "metadata": {},
   "source": [
    "from langchain_community.document_loaders import PyPDFLoader\n",
    "\n",
    "# 로더 설정\n",
    "loader = PyPDFLoader(FILE_PATH)"
   ],
   "outputs": [],
   "execution_count": null
  },
  {
   "cell_type": "markdown",
   "metadata": {},
   "source": [
    "### load()\n",
    "\n",
    "- 문서를 로드하여 반환합니다.\n",
    "- 반환된 결과는 `List[Document]` 형태입니다."
   ]
  },
  {
   "cell_type": "code",
   "metadata": {},
   "source": [
    "# PDF 로더\n",
    "docs = loader.load()\n",
    "\n",
    "# 로드된 문서의 수 확인\n",
    "len(docs)"
   ],
   "outputs": [],
   "execution_count": null
  },
  {
   "cell_type": "code",
   "metadata": {},
   "source": [
    "# 첫번째 문서 확인\n",
    "docs[0]"
   ],
   "outputs": [],
   "execution_count": null
  },
  {
   "cell_type": "markdown",
   "metadata": {},
   "source": [
    "### load_and_split()\n",
    "\n",
    "- splitter 를 사용하여 문서를 분할하고 반환합니다.\n",
    "- 반환된 결과는 `List[Document]` 형태입니다."
   ]
  },
  {
   "cell_type": "code",
   "metadata": {},
   "source": [
    "from langchain_text_splitters import RecursiveCharacterTextSplitter\n",
    "\n",
    "# 문열 분할기 설정\n",
    "text_splitter = RecursiveCharacterTextSplitter(chunk_size=200, chunk_overlap=0)\n",
    "\n",
    "# 예제 파일 경로\n",
    "FILE_PATH = \"./data/01. 온보딩 프로세스 - 기반기술.pdf\"\n",
    "\n",
    "# 로더 설정\n",
    "loader = PyPDFLoader(FILE_PATH)\n",
    "\n",
    "# 문서 분할\n",
    "split_docs = loader.load_and_split(text_splitter=text_splitter)\n",
    "\n",
    "# 로드된 문서의 수 확인\n",
    "print(f\"문서의 길이: {len(split_docs)}\")\n",
    "\n",
    "# 첫번째 문서 확인\n",
    "split_docs[0]"
   ],
   "outputs": [],
   "execution_count": null
  },
  {
   "cell_type": "markdown",
   "metadata": {},
   "source": [
    "### lazy_load()\n",
    "\n",
    "- generator 방식으로 문서를 로드합니다."
   ]
  },
  {
   "cell_type": "code",
   "metadata": {},
   "source": [
    "loader.lazy_load()"
   ],
   "outputs": [],
   "execution_count": null
  },
  {
   "cell_type": "code",
   "metadata": {},
   "source": [
    "# generator 방식으로 문서 로드\n",
    "for doc in loader.lazy_load():\n",
    "    print(doc.metadata)"
   ],
   "outputs": [],
   "execution_count": null
  },
  {
   "cell_type": "markdown",
   "metadata": {},
   "source": [
    "### aload()\n",
    "\n",
    "- 비동기(Async) 방식의 문서 로드"
   ]
  },
  {
   "cell_type": "code",
   "metadata": {},
   "source": [
    "# 문서를 async 방식으로 로드\n",
    "adocs = loader.aload()"
   ],
   "outputs": [],
   "execution_count": null
  },
  {
   "cell_type": "code",
   "metadata": {},
   "source": [
    "# 문서 로드\n",
    "await adocs"
   ],
   "outputs": [],
   "execution_count": null
  }
 ],
 "metadata": {
  "kernelspec": {
   "display_name": "base",
   "language": "python",
   "name": "python3"
  },
  "language_info": {
   "codemirror_mode": {
    "name": "ipython",
    "version": 3
   },
   "file_extension": ".py",
   "mimetype": "text/x-python",
   "name": "python",
   "nbconvert_exporter": "python",
   "pygments_lexer": "ipython3",
   "version": "3.11.11"
  }
 },
 "nbformat": 4,
 "nbformat_minor": 2
}
