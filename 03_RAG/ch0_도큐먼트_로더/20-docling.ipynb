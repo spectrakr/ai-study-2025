{
 "cells": [
  {
   "cell_type": "markdown",
   "id": "8382978f",
   "metadata": {
    "vscode": {
     "languageId": "plaintext"
    }
   },
   "source": [
    "# Docling\n",
    " \n",
    "https://github.com/DS4SD/docling"
   ]
  },
  {
   "cell_type": "code",
   "id": "6de92eeb",
   "metadata": {},
   "source": [
    "# 설치\n",
    "# !pip install langchain-docling"
   ],
   "outputs": [],
   "execution_count": null
  },
  {
   "cell_type": "code",
   "id": "850910e5",
   "metadata": {},
   "source": [
    "import os\n",
    "import nest_asyncio\n",
    "from dotenv import load_dotenv\n",
    "\n",
    "load_dotenv()"
   ],
   "outputs": [],
   "execution_count": null
  },
  {
   "metadata": {},
   "cell_type": "code",
   "source": "from langchain_docling import DoclingLoader",
   "id": "9eb2e381afcd602b",
   "outputs": [],
   "execution_count": null
  },
  {
   "cell_type": "markdown",
   "id": "b5ff3b85",
   "metadata": {},
   "source": [
    "최초 실행 시 모델 다운로드\n",
    "- Downloading detection model, please wait. This may take several minutes depending upon your network connection.\n",
    "- Downloading recognition model, please wait. This may take several minutes depending upon your network connection."
   ]
  },
  {
   "metadata": {},
   "cell_type": "code",
   "source": [
    "FILE_PATH = [\"https://arxiv.org/pdf/2408.09869\"]  # Docling Technical Report\n",
    "\n",
    "loader = DoclingLoader(file_path=FILE_PATH)\n",
    "docs = loader.load()"
   ],
   "id": "da6dde87752c3579",
   "outputs": [],
   "execution_count": null
  },
  {
   "metadata": {},
   "cell_type": "code",
   "source": [
    "from langchain_docling.loader import ExportType\n",
    "\n",
    "FILE_PATH = [\"./data/01. 온보딩 프로세스 - 기반기술.pdf\"]  # Docling Technical Report\n",
    "\n",
    "loader = DoclingLoader(file_path=FILE_PATH, export_type=ExportType.MARKDOWN)\n",
    "docs = loader.load()"
   ],
   "id": "6b63c399f756c04d",
   "outputs": [],
   "execution_count": null
  },
  {
   "metadata": {},
   "cell_type": "code",
   "source": [
    "for i, doc in enumerate(docs):\n",
    "    \n",
    "    print(f\"====== {i} ======\")\n",
    "    print(doc.page_content)\n",
    "    "
   ],
   "id": "391fc4ae45466a3",
   "outputs": [],
   "execution_count": null
  },
  {
   "metadata": {},
   "cell_type": "code",
   "source": [
    "from langchain_docling.loader import ExportType\n",
    "\n",
    "FILE_PATH = [\"./data/가로문서.pdf\"]  # Docling Technical Report\n",
    "\n",
    "loader = DoclingLoader(file_path=FILE_PATH, export_type=ExportType.MARKDOWN)\n",
    "docs = loader.load()"
   ],
   "id": "7d147ab288666ab5",
   "outputs": [],
   "execution_count": null
  },
  {
   "metadata": {},
   "cell_type": "code",
   "source": [
    "for i, doc in enumerate(docs):\n",
    "\n",
    "    print(f\"====== {i} ======\")\n",
    "    print(doc.page_content)"
   ],
   "id": "bd02523680835161",
   "outputs": [],
   "execution_count": null
  },
  {
   "metadata": {},
   "cell_type": "code",
   "source": "",
   "id": "3aa75fbc2feee87d",
   "outputs": [],
   "execution_count": null
  }
 ],
 "metadata": {
  "kernelspec": {
   "display_name": "py-test",
   "language": "python",
   "name": "python3"
  },
  "language_info": {
   "codemirror_mode": {
    "name": "ipython",
    "version": 3
   },
   "file_extension": ".py",
   "mimetype": "text/x-python",
   "name": "python",
   "nbconvert_exporter": "python",
   "pygments_lexer": "ipython3",
   "version": "3.11.11"
  }
 },
 "nbformat": 4,
 "nbformat_minor": 5
}
