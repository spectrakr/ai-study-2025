{
 "cells": [
  {
   "cell_type": "markdown",
   "metadata": {},
   "source": [
    "# Chroma"
   ]
  },
  {
   "cell_type": "markdown",
   "metadata": {},
   "source": [
    "이 노트북에서는 Chroma 벡터스토어를 시작하는 방법을 다룹니다.\n",
    "\n",
    "Chroma는 개발자의 생산성과 행복에 초점을 맞춘 AI 네이티브 오픈 소스 벡터 데이터베이스입니다. Chroma는 Apache 2.0에 따라 라이선스가 부여됩니다. \n",
    "\n",
    "\n",
    "**참고링크**\n",
    "\n",
    "- [Chroma LangChain 문서](https://python.langchain.com/v0.2/docs/integrations/vectorstores/chroma/)\n",
    "- [Chroma 공식문서](https://docs.trychroma.com/getting-started)\n",
    "- [LangChain 지원 VectorStore 리스트](https://python.langchain.com/v0.2/docs/integrations/vectorstores/)"
   ]
  },
  {
   "cell_type": "code",
   "metadata": {},
   "source": [
    "# API 키를 환경변수로 관리하기 위한 설정 파일\n",
    "from dotenv import load_dotenv\n",
    "\n",
    "# API 키 정보 로드\n",
    "load_dotenv()"
   ],
   "outputs": [],
   "execution_count": null
  },
  {
   "cell_type": "markdown",
   "metadata": {},
   "source": [
    "샘플 데이터셋을 로드합니다."
   ]
  },
  {
   "cell_type": "code",
   "metadata": {},
   "source": [
    "from langchain_community.document_loaders import TextLoader\n",
    "from langchain_openai.embeddings import OpenAIEmbeddings\n",
    "from langchain.text_splitter import RecursiveCharacterTextSplitter\n",
    "from langchain_chroma import Chroma\n",
    "\n",
    "\n",
    "# 텍스트 분할\n",
    "text_splitter = RecursiveCharacterTextSplitter(chunk_size=100, chunk_overlap=0)\n",
    "\n",
    "# 텍스트 파일을 load -> List[Document] 형태로 변환\n",
    "loader1 = TextLoader(\"data/2025_사우회선출.txt\")\n",
    "loader2 = TextLoader(\"data/2025_사우회선출결과.txt\")\n",
    "\n",
    "# 문서 분할\n",
    "split_doc1 = loader1.load_and_split(text_splitter)\n",
    "split_doc2 = loader2.load_and_split(text_splitter)\n",
    "\n",
    "# 문서 개수 확인\n",
    "len(split_doc1), len(split_doc2)"
   ],
   "outputs": [],
   "execution_count": null
  },
  {
   "cell_type": "markdown",
   "metadata": {},
   "source": [
    "## VectorStore 생성"
   ]
  },
  {
   "cell_type": "markdown",
   "metadata": {},
   "source": [
    "### 벡터 저장소 생성 (from_documents)\n",
    "\n",
    "`from_documents` 클래스 메서드는 문서 리스트로부터 벡터 저장소를 생성합니다. \n",
    "\n",
    "**매개변수**\n",
    "\n",
    "- `documents` (List[Document]): 벡터 저장소에 추가할 문서 리스트\n",
    "- `embedding` (Optional[Embeddings]): 임베딩 함수. 기본값은 None\n",
    "- `ids` (Optional[List[str]]): 문서 ID 리스트. 기본값은 None\n",
    "- `collection_name` (str): 생성할 컬렉션 이름.\n",
    "- `persist_directory` (Optional[str]): 컬렉션을 저장할 디렉토리. 기본값은 None\n",
    "- `client_settings` (Optional[chromadb.config.Settings]): Chroma 클라이언트 설정\n",
    "- `client` (Optional[chromadb.Client]): Chroma 클라이언트 인스턴스\n",
    "- `collection_metadata` (Optional[Dict]): 컬렉션 구성 정보. 기본값은 None\n",
    "\n",
    "**참고**\n",
    "\n",
    "- `persist_directory`가 지정되면 컬렉션이 해당 디렉토리에 저장됩니다. 지정되지 않으면 데이터는 메모리에 임시로 저장됩니다.\n",
    "- 이 메서드는 내부적으로 `from_texts` 메서드를 호출하여 벡터 저장소를 생성합니다.\n",
    "- 문서의 `page_content`는 텍스트로, `metadata`는 메타데이터로 사용됩니다.\n",
    "\n",
    "**반환값**\n",
    "\n",
    "- `Chroma`: 생성된 Chroma 벡터 저장소 인스턴스"
   ]
  },
  {
   "cell_type": "markdown",
   "metadata": {},
   "source": [
    "생성시 `documents` 매개변수로 `Document` 리스트를 전달합니다. embedding 에 활용할 임베딩 모델을 지정하며, `namespace` 의 역할을 하는 `collection_name` 을 지정할 수 있습니다.\n"
   ]
  },
  {
   "cell_type": "code",
   "metadata": {},
   "source": [
    "# DB 생성\n",
    "db = Chroma.from_documents(\n",
    "    documents=split_doc1, embedding=OpenAIEmbeddings(), collection_name=\"my_db\",\n",
    ")"
   ],
   "outputs": [],
   "execution_count": null
  },
  {
   "cell_type": "markdown",
   "metadata": {},
   "source": [
    "`persist_directory` 지정시 disk 에 파일 형태로 저장합니다."
   ]
  },
  {
   "cell_type": "code",
   "metadata": {},
   "source": [
    "# 저장할 경로 지정\n",
    "DB_PATH = \"./chroma_db\"\n",
    "\n",
    "# 문서를 디스크에 저장합니다. 저장시 persist_directory에 저장할 경로를 지정합니다.\n",
    "persist_db = Chroma.from_documents(\n",
    "    split_doc1, OpenAIEmbeddings(), persist_directory=DB_PATH, collection_name=\"my_db\"\n",
    ")"
   ],
   "outputs": [],
   "execution_count": null
  },
  {
   "cell_type": "markdown",
   "metadata": {},
   "source": [
    "아래의 코드를 실행하여 `DB_PATH` 에 저장된 데이터를 로드합니다."
   ]
  },
  {
   "cell_type": "code",
   "metadata": {},
   "source": [
    "# 디스크에서 문서를 로드합니다.\n",
    "persist_db = Chroma(\n",
    "    persist_directory=DB_PATH,\n",
    "    embedding_function=OpenAIEmbeddings(),\n",
    "    collection_name=\"my_db\",\n",
    ")"
   ],
   "outputs": [],
   "execution_count": null
  },
  {
   "cell_type": "markdown",
   "metadata": {},
   "source": [
    "불러온 VectorStore 에서 저장된 데이터를 확인합니다."
   ]
  },
  {
   "cell_type": "code",
   "metadata": {},
   "source": [
    "# 저장된 데이터 확인\n",
    "persist_db.get()"
   ],
   "outputs": [],
   "execution_count": null
  },
  {
   "cell_type": "markdown",
   "metadata": {},
   "source": [
    "만약 `collection_name` 을 다르게 지정하면 저장된 데이터가 없기 때문에 아무런 결과도 얻지 못합니다."
   ]
  },
  {
   "cell_type": "code",
   "metadata": {},
   "source": [
    "# 디스크에서 문서를 로드합니다.\n",
    "persist_db2 = Chroma(\n",
    "    persist_directory=DB_PATH,\n",
    "    embedding_function=OpenAIEmbeddings(),\n",
    "    collection_name=\"my_db2\",\n",
    ")\n",
    "\n",
    "# 저장된 데이터 확인\n",
    "persist_db2.get()"
   ],
   "outputs": [],
   "execution_count": null
  },
  {
   "cell_type": "markdown",
   "metadata": {},
   "source": [
    "### 벡터 저장소 생성 (from_texts)\n",
    "\n",
    "`from_texts` 클래스 메서드는 텍스트 리스트로부터 벡터 저장소를 생성합니다.\n",
    "\n",
    "**매개변수**\n",
    "\n",
    "- `texts` (List[str]): 컬렉션에 추가할 텍스트 리스트\n",
    "- `embedding` (Optional[Embeddings]): 임베딩 함수. 기본값은 None\n",
    "- `metadatas` (Optional[List[dict]]): 메타데이터 리스트. 기본값은 None\n",
    "- `ids` (Optional[List[str]]): 문서 ID 리스트. 기본값은 None\n",
    "- `collection_name` (str): 생성할 컬렉션 이름. 기본값은 '_LANGCHAIN_DEFAULT_COLLECTION_NAME'\n",
    "- `persist_directory` (Optional[str]): 컬렉션을 저장할 디렉토리. 기본값은 None\n",
    "- `client_settings` (Optional[chromadb.config.Settings]): Chroma 클라이언트 설정\n",
    "- `client` (Optional[chromadb.Client]): Chroma 클라이언트 인스턴스\n",
    "- `collection_metadata` (Optional[Dict]): 컬렉션 구성 정보. 기본값은 None\n",
    "\n",
    "**참고**\n",
    "\n",
    "- `persist_directory`가 지정되면 컬렉션이 해당 디렉토리에 저장됩니다. 지정되지 않으면 데이터는 메모리에 임시로 저장됩니다.\n",
    "- `ids`가 제공되지 않으면 UUID를 사용하여 자동으로 생성됩니다.\n",
    "\n",
    "**반환값**\n",
    "\n",
    "- 생성된 벡터 저장소 인스턴스"
   ]
  },
  {
   "cell_type": "code",
   "metadata": {},
   "source": [
    "# 문자열 리스트로 생성\n",
    "db2 = Chroma.from_texts(\n",
    "    [\"안녕하세요. 정말 반갑습니다.\", \"제 이름은 테디입니다.\"],\n",
    "    embedding=OpenAIEmbeddings(),\n",
    ")"
   ],
   "outputs": [],
   "execution_count": null
  },
  {
   "cell_type": "code",
   "metadata": {},
   "source": [
    "# 데이터를 조회합니다.\n",
    "db2.get()"
   ],
   "outputs": [],
   "execution_count": null
  },
  {
   "cell_type": "markdown",
   "metadata": {},
   "source": [
    "### 유사도 검색\n",
    "\n",
    "`similarity_search` 메서드는 Chroma 데이터베이스에서 유사도 검색을 수행합니다. 이 메서드는 주어진 쿼리와 가장 유사한 문서들을 반환합니다.\n",
    "\n",
    "**매개변수**\n",
    "\n",
    "- `query` (str): 검색할 쿼리 텍스트\n",
    "- `k` (int, 선택적): 반환할 결과의 수. 기본값은 4입니다.\n",
    "- `filter` (Dict[str, str], 선택적): 메타데이터로 필터링. 기본값은 None입니다.\n",
    "\n",
    "**참고**\n",
    "\n",
    "- `k` 값을 조절하여 원하는 수의 결과를 얻을 수 있습니다.\n",
    "- `filter` 매개변수를 사용하여 특정 메타데이터 조건에 맞는 문서만 검색할 수 있습니다.\n",
    "- 이 메서드는 점수 정보 없이 문서만 반환합니다. 점수 정보도 필요한 경우 `similarity_search_with_score` 메서드를 직접 사용하세요.\n",
    "\n",
    "**반환값**\n",
    "\n",
    "- `List[Document]`: 쿼리 텍스트와 가장 유사한 문서들의 리스트"
   ]
  },
  {
   "cell_type": "code",
   "metadata": {},
   "source": "db.similarity_search(\"사우회장 선출기준 알려줘\")",
   "outputs": [],
   "execution_count": null
  },
  {
   "cell_type": "markdown",
   "metadata": {},
   "source": [
    "`k` 값에 검색 결과의 개수를 지정할 수 있습니다."
   ]
  },
  {
   "cell_type": "code",
   "metadata": {},
   "source": "db.similarity_search(\"사우회장 선출기준 알려줘\", k=2)",
   "outputs": [],
   "execution_count": null
  },
  {
   "cell_type": "markdown",
   "metadata": {},
   "source": [
    "`filter` 에 `metadata` 정보를 활용하여 검색 결과를 필터링 할 수 있습니다."
   ]
  },
  {
   "cell_type": "code",
   "metadata": {},
   "source": [
    "# filter 사용\n",
    "db.similarity_search(\n",
    "    \"사우회장 선출기준 알려줘\", filter={\"source\": \"data/2025_사우회선출.txt\"}, k=2\n",
    ")"
   ],
   "outputs": [],
   "execution_count": null
  },
  {
   "cell_type": "markdown",
   "metadata": {},
   "source": [
    "다음은 `filter` 에서 다른 `source` 를 사용하여 검색한 결과를 확인합니다."
   ]
  },
  {
   "cell_type": "code",
   "metadata": {},
   "source": [
    "# filter 사용\n",
    "db.similarity_search(\n",
    "    \"TF IDF 에 대하여 알려줘\", filter={\"source\": \"data/없는 데이터소스.txt\"}, k=2\n",
    ")"
   ],
   "outputs": [],
   "execution_count": null
  },
  {
   "cell_type": "markdown",
   "metadata": {},
   "source": [
    "### 벡터 저장소에 문서 추가\n",
    "\n",
    "`add_documents` 메서드는 벡터 저장소에 문서를 추가하거나 업데이트합니다.\n",
    "\n",
    "**매개변수**\n",
    "\n",
    "- `documents` (List[Document]): 벡터 저장소에 추가할 문서 리스트\n",
    "- `**kwargs`: 추가 키워드 인자\n",
    "  - `ids`: 문서 ID 리스트 (제공 시 문서의 ID보다 우선함)\n",
    "\n",
    "**참고**\n",
    "\n",
    "- `add_texts` 메서드가 구현되어 있어야 합니다.\n",
    "- 문서의 `page_content`는 텍스트로, `metadata`는 메타데이터로 사용됩니다.\n",
    "- 문서에 ID가 있고 `kwargs`에 ID가 제공되지 않으면 문서의 ID가 사용됩니다.\n",
    "- `kwargs`의 ID와 문서 수가 일치하지 않으면 ValueError가 발생합니다.\n",
    "\n",
    "**반환값**\n",
    "\n",
    "- `List[str]`: 추가된 텍스트의 ID 리스트\n",
    "\n",
    "**예외**\n",
    "\n",
    "- `NotImplementedError`: `add_texts` 메서드가 구현되지 않은 경우 발생"
   ]
  },
  {
   "cell_type": "code",
   "metadata": {},
   "source": [
    "from langchain_core.documents import Document\n",
    "\n",
    "# page_content, metadata, id 지정\n",
    "db.add_documents(\n",
    "    [\n",
    "        Document(\n",
    "            page_content=\"사우회장으로 상현님을 추천합니다\",\n",
    "            metadata={\"source\": \"mydata.txt\"},\n",
    "            id=\"1\",\n",
    "        )\n",
    "    ]\n",
    ")"
   ],
   "outputs": [],
   "execution_count": null
  },
  {
   "cell_type": "code",
   "metadata": {},
   "source": [
    "# id=1 로 문서 조회\n",
    "db.get(\"1\")"
   ],
   "outputs": [],
   "execution_count": null
  },
  {
   "cell_type": "markdown",
   "metadata": {},
   "source": [
    "`add_texts` 메서드는 텍스트를 임베딩하고 벡터 저장소에 추가합니다.\n",
    "\n",
    "**매개변수**\n",
    "\n",
    "- `texts` (Iterable[str]): 벡터 저장소에 추가할 텍스트 리스트\n",
    "- `metadatas` (Optional[List[dict]]): 메타데이터 리스트. 기본값은 None\n",
    "- `ids` (Optional[List[str]]): 문서 ID 리스트. 기본값은 None\n",
    "\n",
    "**참고**\n",
    "\n",
    "- `ids`가 제공되지 않으면 UUID를 사용하여 자동으로 생성됩니다.\n",
    "- 임베딩 함수가 설정되어 있으면 텍스트를 임베딩합니다.\n",
    "- 메타데이터가 제공된 경우:\n",
    "  - 메타데이터가 있는 텍스트와 없는 텍스트를 분리하여 처리합니다.\n",
    "  - 메타데이터가 없는 텍스트의 경우 빈 딕셔너리로 채웁니다.\n",
    "- 컬렉션에 upsert 작업을 수행하여 텍스트, 임베딩, 메타데이터를 추가합니다.\n",
    "\n",
    "**반환값**\n",
    "\n",
    "- `List[str]`: 추가된 텍스트의 ID 리스트\n",
    "\n",
    "**예외**\n",
    "\n",
    "- `ValueError`: 복잡한 메타데이터로 인한 오류 발생 시, 필터링 방법 안내 메시지와 함께 발생"
   ]
  },
  {
   "cell_type": "markdown",
   "metadata": {},
   "source": [
    "기존의 아이디에 추가하는 경우 `upsert` 가 수행되며, 기존의 문서는 대체됩니다."
   ]
  },
  {
   "cell_type": "code",
   "metadata": {},
   "source": [
    "# 신규 데이터를 추가합니다. 이때 기존의 id=1 의 데이터는 덮어쓰게 됩니다.\n",
    "db.add_texts(\n",
    "    [\"사우회장을 없앱시다.\"],\n",
    "    metadatas=[{\"source\": \"mydata.txt\"}],\n",
    "    ids=[\"1\"],\n",
    ")"
   ],
   "outputs": [],
   "execution_count": null
  },
  {
   "cell_type": "code",
   "metadata": {},
   "source": [
    "# id=1 조회\n",
    "db.get([\"1\"])"
   ],
   "outputs": [],
   "execution_count": null
  },
  {
   "cell_type": "markdown",
   "metadata": {},
   "source": [
    "### 벡터 저장소에서 문서 삭제\n",
    "\n",
    "`delete` 메서드는 벡터 저장소에서 지정된 ID의 문서를 삭제합니다.\n",
    "\n",
    "**매개변수**\n",
    "\n",
    "- `ids` (Optional[List[str]]): 삭제할 문서의 ID 리스트. 기본값은 None\n",
    "\n",
    "**참고**\n",
    "\n",
    "- 이 메서드는 내부적으로 컬렉션의 `delete` 메서드를 호출합니다.\n",
    "- `ids`가 None이면 아무 작업도 수행하지 않습니다.\n",
    "\n",
    "**반환값**\n",
    "\n",
    "- None"
   ]
  },
  {
   "cell_type": "code",
   "metadata": {},
   "source": [
    "# id 1 삭제\n",
    "db.delete(ids=[\"1\"])"
   ],
   "outputs": [],
   "execution_count": null
  },
  {
   "cell_type": "code",
   "metadata": {},
   "source": [
    "# 문서 조회\n",
    "db.get([\"1\"])"
   ],
   "outputs": [],
   "execution_count": null
  },
  {
   "cell_type": "code",
   "metadata": {},
   "source": [
    "# where 조건으로 metadata 조회\n",
    "db.get(where={\"source\": \"mydata.txt\"})"
   ],
   "outputs": [],
   "execution_count": null
  },
  {
   "cell_type": "markdown",
   "metadata": {},
   "source": [
    "### 초기화(reset_collection)\n",
    "\n",
    "`reset_collection` 메서드는 벡터 저장소의 컬렉션을 초기화합니다.\n"
   ]
  },
  {
   "cell_type": "code",
   "metadata": {},
   "source": [
    "# 컬렉션 초기화\n",
    "db.reset_collection()"
   ],
   "outputs": [],
   "execution_count": null
  },
  {
   "cell_type": "code",
   "metadata": {},
   "source": [
    "# 초기화 후 문서 조회\n",
    "db.get()"
   ],
   "outputs": [],
   "execution_count": null
  },
  {
   "cell_type": "markdown",
   "metadata": {},
   "source": [
    "### 벡터 저장소를 검색기(Retriever)로 변환\n",
    "\n",
    "`as_retriever` 메서드는 벡터 저장소를 기반으로 VectorStoreRetriever를 생성합니다.\n",
    "\n",
    "**매개변수**\n",
    "\n",
    "- `**kwargs`: 검색 함수에 전달할 키워드 인자\n",
    "  - `search_type` (Optional[str]): 검색 유형 (`\"similarity\"`, `\"mmr\"`, `\"similarity_score_threshold\"`)\n",
    "  - `search_kwargs` (Optional[Dict]): 검색 함수에 전달할 추가 인자\n",
    "    - `k`: 반환할 문서 수 (기본값: 4)\n",
    "    - `score_threshold`: 최소 유사도 임계값\n",
    "    - `fetch_k`: MMR 알고리즘에 전달할 문서 수 (기본값: 20)\n",
    "    - `lambda_mult`: MMR 결과의 다양성 조절 (0~1, 기본값: 0.5)\n",
    "    - `filter`: 문서 메타데이터 필터링\n",
    "\n",
    "**반환값**\n",
    "\n",
    "- `VectorStoreRetriever`: 벡터 저장소 기반 검색기 인스턴스"
   ]
  },
  {
   "cell_type": "markdown",
   "metadata": {},
   "source": [
    "`DB` 를 생성합니다."
   ]
  },
  {
   "cell_type": "code",
   "metadata": {},
   "source": [
    "# DB 생성\n",
    "db = Chroma.from_documents(\n",
    "    documents=split_doc1 + split_doc2,\n",
    "    embedding=OpenAIEmbeddings(),\n",
    "    collection_name=\"social_gathering\",\n",
    ")"
   ],
   "outputs": [],
   "execution_count": null
  },
  {
   "cell_type": "markdown",
   "metadata": {},
   "source": [
    "기본 값으로 설정된 4개 문서를 유사도 검색을 수행하여 조회합니다."
   ]
  },
  {
   "cell_type": "code",
   "metadata": {},
   "source": [
    "retriever = db.as_retriever()\n",
    "retriever.invoke(\"사우회 회장이 누구야?\")"
   ],
   "outputs": [],
   "execution_count": null
  },
  {
   "cell_type": "markdown",
   "metadata": {},
   "source": [
    "다양성이 높은 더 많은 문서 검색\n",
    "\n",
    "- `k`: 반환할 문서 수 (기본값: 4)\n",
    "- `fetch_k`: MMR 알고리즘에 전달할 문서 수 (기본값: 20)\n",
    "- `lambda_mult`: MMR 결과의 다양성 조절 (0~1, 기본값: 0.5, 0: 유사도 점수만 고려, 1: 다양성만 고려)"
   ]
  },
  {
   "cell_type": "code",
   "metadata": {},
   "source": [
    "retriever = db.as_retriever(\n",
    "    search_type=\"mmr\", search_kwargs={\"k\": 6, \"lambda_mult\": 0.25, \"fetch_k\": 10}\n",
    ")\n",
    "retriever.invoke(\"사우회 회장이 누구야?\")"
   ],
   "outputs": [],
   "execution_count": null
  },
  {
   "cell_type": "markdown",
   "metadata": {},
   "source": [
    "MMR 알고리즘을 위해 더 많은 문서를 가져오되 상위 2개만 반환"
   ]
  },
  {
   "cell_type": "code",
   "metadata": {},
   "source": [
    "retriever = db.as_retriever(search_type=\"mmr\", search_kwargs={\"k\": 2, \"fetch_k\": 10})\n",
    "retriever.invoke(\"사우회 회장이 누구야?\")"
   ],
   "outputs": [],
   "execution_count": null
  },
  {
   "cell_type": "markdown",
   "metadata": {},
   "source": [
    "특정 임계값 이상의 유사도를 가진 문서만 검색"
   ]
  },
  {
   "cell_type": "code",
   "metadata": {},
   "source": [
    "retriever = db.as_retriever(\n",
    "    search_type=\"similarity_score_threshold\", search_kwargs={\"score_threshold\": 0.8}\n",
    ")\n",
    "\n",
    "retriever.invoke(\"사우회 회장이 누구야?\")"
   ],
   "outputs": [],
   "execution_count": null
  },
  {
   "cell_type": "markdown",
   "metadata": {},
   "source": [
    "가장 유사한 단일 문서만 검색"
   ]
  },
  {
   "cell_type": "code",
   "metadata": {},
   "source": [
    "retriever = db.as_retriever(search_kwargs={\"k\": 1})\n",
    "\n",
    "retriever.invoke(\"사우회 회장이 누구야?\")"
   ],
   "outputs": [],
   "execution_count": null
  },
  {
   "cell_type": "markdown",
   "metadata": {},
   "source": [
    "특정 메타데이터 필터 적용"
   ]
  },
  {
   "cell_type": "code",
   "metadata": {},
   "source": [
    "retriever = db.as_retriever(\n",
    "    search_kwargs={\"filter\": {\"source\": \"data/2025_사우회선출결과.txt\"}, \"k\": 2}\n",
    ")\n",
    "retriever.invoke(\"사우회 회장이 누구야?\")"
   ],
   "outputs": [],
   "execution_count": null
  },
  {
   "metadata": {},
   "cell_type": "code",
   "source": "",
   "outputs": [],
   "execution_count": null
  }
 ],
 "metadata": {
  "kernelspec": {
   "display_name": "py-test",
   "language": "python",
   "name": "python3"
  },
  "language_info": {
   "codemirror_mode": {
    "name": "ipython",
    "version": 3
   },
   "file_extension": ".py",
   "mimetype": "text/x-python",
   "name": "python",
   "nbconvert_exporter": "python",
   "pygments_lexer": "ipython3",
   "version": "3.11.9"
  }
 },
 "nbformat": 4,
 "nbformat_minor": 2
}
