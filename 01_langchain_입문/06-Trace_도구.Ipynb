{
 "cells": [
  {
   "cell_type": "markdown",
   "metadata": {},
   "source": [
    "## LangSmith 사용"
   ]
  },
  {
   "cell_type": "markdown",
   "metadata": {},
   "source": [
    "LangSmith의 기본 사용법은 아래 링크를 참고하자.\n",
    "\n",
    "[https://docs.smith.langchain.com/observability](https://docs.smith.langchain.com/observability)\n",
    "\n",
    "\n",
    "## 사용방법\n",
    "\n",
    "### 1.env 파일에 아래 내용을 추가한다.\n",
    "\n",
    "```\n",
    "LANGCHAIN_TRACING_V2=true\n",
    "LANGCHAIN_API_KEY=lsv2_xxx\n",
    "LANGCHAIN_ENDPOINT=https://api.smith.langchain.com\n",
    "```\n",
    "\n",
    "\n",
    "### 2. chain에서 사용\n",
    "\n",
    "```python\n",
    "chain.invoke({\"question\": \"질문\"})\n",
    "```\n"
   ]
  },
  {
   "cell_type": "code",
   "metadata": {},
   "source": [
    "import os\n",
    "\n",
    "os.environ[\"LANGCHAIN_PROJECT\"] = \"AI 스터디 테스트\" "
   ],
   "outputs": [],
   "execution_count": null
  },
  {
   "cell_type": "code",
   "metadata": {},
   "source": [
    "from dotenv import load_dotenv\n",
    "\n",
    "load_dotenv()"
   ],
   "outputs": [],
   "execution_count": null
  },
  {
   "cell_type": "code",
   "metadata": {},
   "source": [
    "from langchain_core.prompts import PromptTemplate\n",
    "from langchain_openai import ChatOpenAI\n",
    "from langchain_core.output_parsers import StrOutputParser\n",
    "\n",
    "template = \"\"\"\n",
    "당신은 아키텍처 설계서 시험을 준비하고 있는 10년차 고급 개발자입니다.\n",
    "아래 문제에 대한 정답을 풀어주세요.\n",
    "\n",
    "#문제:\n",
    "{question}\n",
    "\"\"\"\n",
    "\n",
    "prompt = PromptTemplate.from_template(template)\n",
    "model = ChatOpenAI(model_name=\"gpt-4o-mini\")\n",
    "output_parser = StrOutputParser()\n",
    "\n",
    "chain = prompt | model | output_parser\n",
    "\n",
    "question = \"\"\"\n",
    "다음 중 아키텍처 설계서에 포함될 내용으로 가장 적절하지 않은 것은 무엇입니까?\n",
    "\n",
    "1. 시스템의 주요 구성 요소와 그 관계를 설명하는 아키텍처 다이어그램\n",
    "2. 시스템이 구현될 프로그래밍 언어 및 프레임워크의 상세 코드\n",
    "3. 성능, 확장성, 보안 등을 포함한 비기능적 요구사항\n",
    "4. 시스템이 배포될 환경과 관련된 배포 아키텍처\n",
    "\"\"\"\n",
    "chain.invoke({\"question\": question})"
   ],
   "outputs": [],
   "execution_count": null
  },
  {
   "metadata": {},
   "cell_type": "markdown",
   "source": [
    "### 3. LangSmith 확인\n",
    "\n",
    "https://smith.langchain.com/"
   ]
  },
  {
   "cell_type": "markdown",
   "metadata": {},
   "source": [
    "## Langfuse 사용\n"
   ]
  },
  {
   "cell_type": "markdown",
   "metadata": {},
   "source": [
    "langfuse의 기본 사용법은 아래 링크를 참고하자.\n",
    "\n",
    "[https://langfuse.com/docs/integrations/langchain/example-python](https://langfuse.com/docs/integrations/langchain/example-python)\n",
    "\n",
    "\n",
    "## 사용방법\n",
    "\n",
    "### 1.env 파일에 아래 내용을 추가한다.\n",
    "\n",
    "```\n",
    "LANGFUSE_HOST=http://172.16.120.181:8182\n",
    "LANGFUSE_PUBLIC_KEY=pk-xxx\n",
    "LANGFUSE_SECRET_KEY=sk-xxx\n",
    "```\n",
    "\n",
    "### 2. CallbackHandler 사용\n",
    "\n",
    "```python\n",
    "from langfuse.callback import CallbackHandler\n",
    "\n",
    "langfuse_handler = CallbackHandler()\n",
    "```\n",
    "\n",
    "### 3. chain에서 CallbackHandler 사용\n",
    "\n",
    "```python\n",
    "chain.invoke({\"question\": \"질문\"}, config={\"callbacks\":[langfuse_handler]})\n",
    "```\n"
   ]
  },
  {
   "cell_type": "code",
   "metadata": {},
   "source": [
    "from dotenv import load_dotenv\n",
    "\n",
    "load_dotenv()"
   ],
   "outputs": [],
   "execution_count": null
  },
  {
   "cell_type": "code",
   "metadata": {},
   "source": [
    "from langfuse.callback import CallbackHandler\n",
    "\n",
    "langfuse_handler = CallbackHandler()"
   ],
   "outputs": [],
   "execution_count": null
  },
  {
   "cell_type": "code",
   "metadata": {},
   "source": [
    "from langchain_core.prompts import PromptTemplate\n",
    "from langchain_openai import ChatOpenAI\n",
    "from langchain_core.output_parsers import StrOutputParser\n",
    "\n",
    "template = \"\"\"\n",
    "당신은 아키텍처 설계서 시험을 준비하고 있는 10년차 고급 개발자입니다.\n",
    "아래 문제에 대한 정답을 풀어주세요.\n",
    "\n",
    "#문제:\n",
    "{question}\n",
    "\"\"\"\n",
    "\n",
    "prompt = PromptTemplate.from_template(template)\n",
    "model = ChatOpenAI(model_name=\"gpt-4o-mini\")\n",
    "output_parser = StrOutputParser()\n",
    "chain = prompt | model | output_parser\n",
    "\n",
    "question = \"\"\"\n",
    "다음 중 아키텍처 설계서에 포함될 내용으로 가장 적절하지 않은 것은 무엇입니까?\n",
    "\n",
    "1. 시스템의 주요 구성 요소와 그 관계를 설명하는 아키텍처 다이어그램\n",
    "2. 시스템이 구현될 프로그래밍 언어 및 프레임워크의 상세 코드\n",
    "3. 성능, 확장성, 보안 등을 포함한 비기능적 요구사항\n",
    "4. 시스템이 배포될 환경과 관련된 배포 아키텍처\n",
    "\"\"\"\n",
    "chain.invoke({\"question\": question}, config={\"callbacks\":[langfuse_handler]})"
   ],
   "outputs": [],
   "execution_count": null
  },
  {
   "metadata": {},
   "cell_type": "code",
   "source": "",
   "outputs": [],
   "execution_count": null
  }
 ],
 "metadata": {
  "kernelspec": {
   "display_name": "py-test",
   "language": "python",
   "name": "python3"
  },
  "language_info": {
   "codemirror_mode": {
    "name": "ipython",
    "version": 3
   },
   "file_extension": ".py",
   "mimetype": "text/x-python",
   "name": "python",
   "nbconvert_exporter": "python",
   "pygments_lexer": "ipython3",
   "version": "3.11.11"
  }
 },
 "nbformat": 4,
 "nbformat_minor": 2
}
