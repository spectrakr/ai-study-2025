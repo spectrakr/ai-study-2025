{
 "cells": [
  {
   "cell_type": "markdown",
   "id": "6fa6fb7f",
   "metadata": {},
   "source": [
    "# Naive RAG\n",
    "\n",
    "**절차**\n",
    "\n",
    "1. Naive RAG 수행\n",
    "\n",
    "![langgraph-naive-rag](assets/langgraph-naive-rag.png)"
   ]
  },
  {
   "cell_type": "markdown",
   "id": "f21c872b",
   "metadata": {},
   "source": [
    "## 환경 설정"
   ]
  },
  {
   "cell_type": "code",
   "execution_count": null,
   "id": "6c9b2e9a",
   "metadata": {},
   "outputs": [],
   "source": [
    "# !pip install -U langchain-teddynote"
   ]
  },
  {
   "cell_type": "code",
   "execution_count": 7,
   "id": "064d5c8c",
   "metadata": {
    "ExecuteTime": {
     "end_time": "2025-04-15T11:29:22.990562Z",
     "start_time": "2025-04-15T11:29:22.972662Z"
    }
   },
   "outputs": [
    {
     "data": {
      "text/plain": [
       "True"
      ]
     },
     "execution_count": 7,
     "metadata": {},
     "output_type": "execute_result"
    }
   ],
   "source": [
    "# API 키를 환경변수로 관리하기 위한 설정 파일\n",
    "from dotenv import load_dotenv\n",
    "\n",
    "# API 키 정보 로드\n",
    "load_dotenv()"
   ]
  },
  {
   "cell_type": "markdown",
   "id": "06468c1c",
   "metadata": {},
   "source": [
    "## 기본 PDF 기반 Retrieval Chain 생성\n",
    "\n",
    "여기서는 PDF 문서를 기반으로 Retrieval Chain 을 생성합니다. 가장 단순한 구조의 Retrieval Chain 입니다.\n",
    "\n",
    "단, LangGraph 에서는 Retirever 와 Chain 을 따로 생성합니다. 그래야 각 노드별로 세부 처리를 할 수 있습니다."
   ]
  },
  {
   "cell_type": "code",
   "execution_count": 8,
   "id": "f905df18",
   "metadata": {
    "ExecuteTime": {
     "end_time": "2025-04-15T11:29:34.378552Z",
     "start_time": "2025-04-15T11:29:25.190344Z"
    }
   },
   "outputs": [],
   "source": [
    "from rag.pdf import PDFRetrievalChain\n",
    "\n",
    "# PDF 문서를 로드합니다.\n",
    "pdf = PDFRetrievalChain([\"data/2024_프로야구_리그규정_요약.pdf\"]).create_chain()\n",
    "\n",
    "# retriever와 chain을 생성합니다.\n",
    "pdf_retriever = pdf.retriever\n",
    "pdf_chain = pdf.chain"
   ]
  },
  {
   "cell_type": "markdown",
   "id": "fa6f7524",
   "metadata": {},
   "source": [
    "먼저, pdf_retriever 를 사용하여 검색 결과를 가져옵니다."
   ]
  },
  {
   "cell_type": "code",
   "execution_count": 9,
   "id": "0d532337",
   "metadata": {
    "ExecuteTime": {
     "end_time": "2025-04-15T11:29:37.689088Z",
     "start_time": "2025-04-15T11:29:37.079963Z"
    }
   },
   "outputs": [
    {
     "data": {
      "text/plain": [
       "[Document(id='deb46e5b-9121-4b40-84b1-18855f58db3e', metadata={'source': 'data/2024_프로야구_리그규정_요약.pdf', 'file_path': 'data/2024_프로야구_리그규정_요약.pdf', 'page': 14, 'total_pages': 18, 'CreationDate': \"D:20240403201030-09'00'\", 'Creator': 'nPDF (pdftk 1.41)', 'ModDate': 'D:20241228092714Z', 'Producer': '3-Heightsâ—¢ PDF Optimization Shell 6.3.1.5 (http://www.pdf-tools.com)'}, page_content='양 구단의 선수를 심판위원으로 충당하여 경기를 개시한다. 이\\n경우 심판위원이 경기 도중에 도착하면 즉시 심판위원으로 교\\n체하여 경기를 속행하여야 한다.\\n(주)양 구단의 선수를 심판위원으로 충당할 경우 양 구단의 감독들은 상호 상\\n대편 선수 중에서 경기에 참가하지 않은 선수를 동수로 선정한다. 그리고 루심\\n의 배정은 홈구단에서 주심과 2루심, 원정구단에서 1,3루심을 담당케 하며, 제\\n복은 선수와 구별하기 위하여 상의는 점퍼를 착용하여야 한다.\\n5. 기록위원이 사고로 부재인 경우에는 경기관리인이 구단 기록'),\n",
       " Document(id='4e36da84-e28f-43ea-b91d-76cb2d0118e7', metadata={'source': 'data/2024_프로야구_리그규정_요약.pdf', 'file_path': 'data/2024_프로야구_리그규정_요약.pdf', 'page': 12, 'total_pages': 18, 'CreationDate': \"D:20240403201030-09'00'\", 'Creator': 'nPDF (pdftk 1.41)', 'ModDate': 'D:20241228092714Z', 'Producer': '3-Heightsâ—¢ PDF Optimization Shell 6.3.1.5 (http://www.pdf-tools.com)'}, page_content='3. 봉인해제 후 경기 중 사용하지 않은 경기사용구는 경기종료 후\\n심판위원이 별도로 봉인하여 다음 경기에 사용할 수 있도록 한다.\\n제17조 구단기 게양\\n홈구단은 전 구단기를 상비하여 경기가 행하여지는 당일 양 구단\\n기를 게양하여야 한다.\\n전년도 우승구단은 구단기와 소정의 우승기를 함께 게양하여야\\n한다.\\n제18조 입장요금\\n입장요금은 각 구단이 자율적으로 결정하여 시행한다.\\n제19조 응원시 금지사항\\n구장 내의 관객석에서 앰프(AMP)를 사용하는 등 과도한 응원 행\\n위로 관객에게 불쾌감을 주거나 경기에 지장을 줄 경우 주심은 경'),\n",
       " Document(id='1752bb8a-3d0b-47ce-a076-235585cb2803', metadata={'source': 'data/2024_프로야구_리그규정_요약.pdf', 'file_path': 'data/2024_프로야구_리그규정_요약.pdf', 'page': 2, 'total_pages': 18, 'CreationDate': \"D:20240403201030-09'00'\", 'Creator': 'nPDF (pdftk 1.41)', 'ModDate': 'D:20241228092714Z', 'Producer': '3-Heightsâ—¢ PDF Optimization Shell 6.3.1.5 (http://www.pdf-tools.com)'}, page_content='제1장 KBO 정규시즌\\n제1조 경기방식\\n1. 단일 리그제로 각 구단은 144경기(구단간 16차전)씩\\n총 720경기를 거행한다.\\n2. 연장전은 12회(KBO 포스트시즌 15회)까지로 하고 승패를\\n가리지 못할 경우에는 무승부로 한다.\\n제2조 승률계산법\\n승률은 승수/(승수＋패수)로 한다.\\n제3조 연도 구단순위 및 기록\\n1. 연도 구단순위는 KBO 한국시리즈 우승구단이 제1위, 준우승\\n구단이 제2위, 그 이하는 KBO 정규시즌 승률순으로 한다.\\n2. KBO 한국시리즈, KBO 플레이오프, KBO 준플레이오프, KBO'),\n",
       " Document(id='ca383540-3fa4-4579-a1c3-5b538d009b6c', metadata={'source': 'data/2024_프로야구_리그규정_요약.pdf', 'file_path': 'data/2024_프로야구_리그규정_요약.pdf', 'page': 3, 'total_pages': 18, 'CreationDate': \"D:20240403201030-09'00'\", 'Creator': 'nPDF (pdftk 1.41)', 'ModDate': 'D:20241228092714Z', 'Producer': '3-Heightsâ—¢ PDF Optimization Shell 6.3.1.5 (http://www.pdf-tools.com)'}, page_content='는 경우 월 2회는 반드시 승인해야 한다.\\n(2022.12.13 개정)\\n3. 경기장소를 변경할 경우에는 시즌 개막전까지 홈구단이 결정\\n하여 KBO에 통보하고 발표 이후에는 이를 변경할 수 없다.\\n단, 총재가 천재지변, 경기장 사정 등으로 경기가 불가능하다\\n고 판단할 경우에는 예외로 한다.\\n제6조 홈구단의 경기일정 이행의 책임\\n1. 홈구단이 공식발표된 경기일정을 이행하지 못하였을 경우 총\\n2'),\n",
       " Document(id='cfc5aa63-2f11-4c68-935c-acd2b29eda33', metadata={'source': 'data/2024_프로야구_리그규정_요약.pdf', 'file_path': 'data/2024_프로야구_리그규정_요약.pdf', 'page': 11, 'total_pages': 18, 'CreationDate': \"D:20240403201030-09'00'\", 'Creator': 'nPDF (pdftk 1.41)', 'ModDate': 'D:20241228092714Z', 'Producer': '3-Heightsâ—¢ PDF Optimization Shell 6.3.1.5 (http://www.pdf-tools.com)'}, page_content='제16조 경기사용구와 관리\\n1. 경기사용구는 KBO가 선정한 경기사용구를 사용한다.\\n2. KBO는 경기사용구를 월 1회 구입하여 각 구단에 공급한다. 각\\n구단 경기사용구 담당자는 경기개시 1시간 전에 심판위원에게\\n이를 전달하고 심판위원은 봉인해제 및 공 상태를 점검한 이후\\n에 경기에 사용한다. 구단에 경기사용구가 전달된 이후에는 구\\n단 담당자가 경기사용구의 관리 책임을 맡는다.\\n10'),\n",
       " Document(id='6d382f78-44af-4d8f-ab78-b7add11ffaa3', metadata={'source': 'data/2024_프로야구_리그규정_요약.pdf', 'file_path': 'data/2024_프로야구_리그규정_요약.pdf', 'page': 3, 'total_pages': 18, 'CreationDate': \"D:20240403201030-09'00'\", 'Creator': 'nPDF (pdftk 1.41)', 'ModDate': 'D:20241228092714Z', 'Producer': '3-Heightsâ—¢ PDF Optimization Shell 6.3.1.5 (http://www.pdf-tools.com)'}, page_content='서 전체 전적 다승, 해당 구단간 경기에서 전체 다득점, 전년도\\n성적순으로 순위를 결정한다.\\n단, KBO 정규시즌 제6, 7, 8, 9, 10위가 2개 구단 이상일 경우\\n에는 승률로 순위를 결정하되, 승률이 동일할 경우 공동 순위\\n로 한다. 문서상 표기, 개막전 편성, KBO 신인 드래프트 등\\n순서를 필요로 하는 경우에는 해당 구단간 전체 전적 다승, 해\\n당 구단간 전체 다득점, 전년도 성적 순위로 순서를 정한다.\\n(2020.1.10 ➜ 2022.3.29 개정)\\n제4조 경기규칙\\nKBO가 주최하는 모든 경기는 공식야구규칙에 따른다.'),\n",
       " Document(id='9a5bc024-6c60-44ec-8800-0a19197b0045', metadata={'source': 'data/2024_프로야구_리그규정_요약.pdf', 'file_path': 'data/2024_프로야구_리그규정_요약.pdf', 'page': 2, 'total_pages': 18, 'CreationDate': \"D:20240403201030-09'00'\", 'Creator': 'nPDF (pdftk 1.41)', 'ModDate': 'D:20241228092714Z', 'Producer': '3-Heightsâ—¢ PDF Optimization Shell 6.3.1.5 (http://www.pdf-tools.com)'}, page_content='전날 별도의 1위 또는 5위 결정전을 거행한다. 이때 홈구단은\\n양 구단간 경기에서 전적 다승, 다득점, 전년도 성적순으로 우\\n위에 있는 구단으로 하며, 입장수입은 정규시즌과 동일한 방식\\n으로 분배한다. 정규시즌 제1, 5위가 3개 구단 이상일 경우에\\n는 1위 또는 5위 결정전을 거행하지 않고 해당 구단간 경기에\\n1'),\n",
       " Document(id='518dd78b-e20c-405e-a935-b2b5a022ace6', metadata={'source': 'data/2024_프로야구_리그규정_요약.pdf', 'file_path': 'data/2024_프로야구_리그규정_요약.pdf', 'page': 4, 'total_pages': 18, 'CreationDate': \"D:20240403201030-09'00'\", 'Creator': 'nPDF (pdftk 1.41)', 'ModDate': 'D:20241228092714Z', 'Producer': '3-Heightsâ—¢ PDF Optimization Shell 6.3.1.5 (http://www.pdf-tools.com)'}, page_content='2. 교통기관 운휴 등으로 경기에 지장을 초래하였을 경우에도 홈\\n구단은 당일 경기일정의 취소를 총재에게 요청할 수 있다. 이\\n경우에는 우천에 의한 중지와 같이 취급한다.\\n제9조 경기관리인\\n1. 홈구단의 임원이 그 경기의 관리인이 되며, 총재의 경기관리에\\n관한 모든 직능을 대행한다.\\n2. 지정된 경기관리인의 부재시에는 등록된 경기관리 대리인이\\n3'),\n",
       " Document(id='c34308fe-42bd-4ebc-b959-a80159be44d3', metadata={'source': 'data/2024_프로야구_리그규정_요약.pdf', 'file_path': 'data/2024_프로야구_리그규정_요약.pdf', 'page': 11, 'total_pages': 18, 'CreationDate': \"D:20240403201030-09'00'\", 'Creator': 'nPDF (pdftk 1.41)', 'ModDate': 'D:20241228092714Z', 'Producer': '3-Heightsâ—¢ PDF Optimization Shell 6.3.1.5 (http://www.pdf-tools.com)'}, page_content='4. 타순표의 발표\\n주심은 경기시간 30분 전(더블헤더 제2경기는 타순표 교환 직\\n후)에 기록위원에게 양 구단의 타순을 알려주고 방송원은 이를\\n관객에게 알려야 한다.\\n5. 선발투수 예고\\n구단 담당자(매니저)는 이동일일 경우 낮 12시까지 KBO로 선\\n발투수 예고를 통보하고, 주중⋅주말연전(화~토)의 경우 경기\\n종료 직후 KBO 기록위원에게 통보한다.\\n전일 예고된 선발투수가 당일 경기에 불출장할 경우 당일\\n경기출장을 금지한다.\\n제16조 경기사용구와 관리\\n1. 경기사용구는 KBO가 선정한 경기사용구를 사용한다.'),\n",
       " Document(id='52a91ade-8560-43ff-952b-576f19917859', metadata={'source': 'data/2024_프로야구_리그규정_요약.pdf', 'file_path': 'data/2024_프로야구_리그규정_요약.pdf', 'page': 5, 'total_pages': 18, 'CreationDate': \"D:20240403201030-09'00'\", 'Creator': 'nPDF (pdftk 1.41)', 'ModDate': 'D:20241228092714Z', 'Producer': '3-Heightsâ—¢ PDF Optimization Shell 6.3.1.5 (http://www.pdf-tools.com)'}, page_content='개시 전에 상황이 바뀌었을 때는 다시 경기운영위원이 거행 여\\n부를 결정하는 것으로 한다.\\n3. 경기실시의 결정 권한이 주심에게 이관되는 시점은 경기개시\\n예정 시간으로 한다.\\n경기개시 예정 시간부터는 주심이 경기개시, 일시정지, 재개\\n또는 중지의 결정자가 된다.\\n(2019.3.13 개정)\\n제12조 심판위원수\\n경기는 4심제로 한다.\\n단, 심판위원 유고시에는 3심제 또는 2심제의 경기진행도 할 수\\n4')]"
      ]
     },
     "execution_count": 9,
     "metadata": {},
     "output_type": "execute_result"
    }
   ],
   "source": [
    "search_result = pdf_retriever.invoke(\"각 구단은 몇 경기씩 해?\")\n",
    "search_result"
   ]
  },
  {
   "cell_type": "markdown",
   "id": "f6f95f50",
   "metadata": {},
   "source": [
    "이전에 검색한 결과를 chain 의 context 로 전달합니다."
   ]
  },
  {
   "cell_type": "code",
   "execution_count": 10,
   "id": "d957188f",
   "metadata": {
    "ExecuteTime": {
     "end_time": "2025-04-15T11:29:50.757980Z",
     "start_time": "2025-04-15T11:29:46.943447Z"
    }
   },
   "outputs": [
    {
     "name": "stdout",
     "output_type": "stream",
     "text": [
      "각 구단은 144경기씩 진행합니다. 총 720경기가 거행됩니다.\n",
      "\n",
      "**Source**\n",
      "- data/2024_프로야구_리그규정_요약.pdf (page 2)\n"
     ]
    }
   ],
   "source": [
    "# 검색 결과를 기반으로 답변을 생성합니다.\n",
    "answer = pdf_chain.invoke(\n",
    "    {\n",
    "        \"question\": \"각 구단은 몇 경기씩 해?\",\n",
    "        \"context\": search_result,\n",
    "        \"chat_history\": [],\n",
    "    }\n",
    ")\n",
    "print(answer)"
   ]
  },
  {
   "cell_type": "markdown",
   "id": "d047f938",
   "metadata": {},
   "source": [
    "## State 정의\n",
    "\n",
    "`State`: Graph 의 노드와 노드 간 공유하는 상태를 정의합니다.\n",
    "\n",
    "일반적으로 `TypedDict` 형식을 사용합니다."
   ]
  },
  {
   "cell_type": "code",
   "execution_count": 11,
   "id": "f19a3df5",
   "metadata": {},
   "outputs": [],
   "source": [
    "from typing import Annotated, TypedDict\n",
    "from langgraph.graph.message import add_messages\n",
    "\n",
    "\n",
    "# GraphState 상태 정의\n",
    "class GraphState(TypedDict):\n",
    "    question: Annotated[str, \"Question\"]  # 질문\n",
    "    context: Annotated[str, \"Context\"]  # 문서의 검색 결과\n",
    "    answer: Annotated[str, \"Answer\"]  # 답변\n",
    "    messages: Annotated[list, add_messages]  # 메시지(누적되는 list)"
   ]
  },
  {
   "cell_type": "markdown",
   "id": "c56d4095",
   "metadata": {},
   "source": [
    "## 노드(Node) 정의\n",
    "\n",
    "- `Nodes`: 각 단계를 처리하는 노드입니다. 보통은 Python 함수로 구현합니다. 입력과 출력이 상태(State) 값입니다.\n",
    "  \n",
    "**참고**  \n",
    "\n",
    "- `State`를 입력으로 받아 정의된 로직을 수행한 후 업데이트된 `State`를 반환합니다."
   ]
  },
  {
   "cell_type": "code",
   "execution_count": 14,
   "id": "9ef0c055",
   "metadata": {},
   "outputs": [],
   "source": [
    "from share.messages import messages_to_history\n",
    "from rag.utils import format_docs\n",
    "\n",
    "\n",
    "# 문서 검색 노드\n",
    "def retrieve_document(state: GraphState) -> GraphState:\n",
    "    # 질문을 상태에서 가져옵니다.\n",
    "    latest_question = state[\"question\"]\n",
    "\n",
    "    # 문서에서 검색하여 관련성 있는 문서를 찾습니다.\n",
    "    retrieved_docs = pdf_retriever.invoke(latest_question)\n",
    "\n",
    "    # 검색된 문서를 형식화합니다.(프롬프트 입력으로 넣어주기 위함)\n",
    "    retrieved_docs = format_docs(retrieved_docs)\n",
    "\n",
    "    # 검색된 문서를 context 키에 저장합니다.\n",
    "    return {\"context\": retrieved_docs}\n",
    "    # return GraphState(context=retrieved_docs)\n",
    "\n",
    "\n",
    "# 답변 생성 노드\n",
    "def llm_answer(state: GraphState) -> GraphState:\n",
    "    # 질문을 상태에서 가져옵니다.\n",
    "    latest_question = state[\"question\"]\n",
    "\n",
    "    # 검색된 문서를 상태에서 가져옵니다.\n",
    "    context = state[\"context\"]\n",
    "\n",
    "    # 체인을 호출하여 답변을 생성합니다.\n",
    "    response = pdf_chain.invoke(\n",
    "        {\n",
    "            \"question\": latest_question,\n",
    "            \"context\": context,\n",
    "            \"chat_history\": messages_to_history(state[\"messages\"]),\n",
    "        }\n",
    "    )\n",
    "    # 생성된 답변, (유저의 질문, 답변) 메시지를 상태에 저장합니다.\n",
    "    return {\n",
    "        \"answer\": response,\n",
    "        \"messages\": [(\"user\", latest_question), (\"assistant\", response)],\n",
    "    }"
   ]
  },
  {
   "cell_type": "markdown",
   "id": "a3f7785d",
   "metadata": {},
   "source": [
    "## 그래프 생성\n",
    "\n",
    "- `Edges`: 현재 `State`를 기반으로 다음에 실행할 `Node`를 결정하는 Python 함수.\n",
    "\n",
    "일반 엣지, 조건부 엣지 등이 있습니다."
   ]
  },
  {
   "cell_type": "code",
   "execution_count": 15,
   "id": "a6015807",
   "metadata": {},
   "outputs": [],
   "source": [
    "from langgraph.graph import END, StateGraph\n",
    "from langgraph.checkpoint.memory import MemorySaver\n",
    "\n",
    "# 그래프 생성\n",
    "workflow = StateGraph(GraphState)\n",
    "\n",
    "# 노드 정의\n",
    "workflow.add_node(\"retrieve\", retrieve_document)\n",
    "workflow.add_node(\"llm_answer\", llm_answer)\n",
    "\n",
    "# 엣지 정의\n",
    "workflow.add_edge(\"retrieve\", \"llm_answer\")  # 검색 -> 답변\n",
    "workflow.add_edge(\"llm_answer\", END)  # 답변 -> 종료\n",
    "\n",
    "# 그래프 진입점 설정\n",
    "workflow.set_entry_point(\"retrieve\")\n",
    "\n",
    "# 체크포인터 설정\n",
    "memory = MemorySaver()\n",
    "\n",
    "# 컴파일\n",
    "app = workflow.compile(checkpointer=memory)"
   ]
  },
  {
   "cell_type": "markdown",
   "id": "d9a15c32",
   "metadata": {},
   "source": [
    "컴파일한 그래프를 시각화 합니다."
   ]
  },
  {
   "cell_type": "code",
   "execution_count": 16,
   "id": "2e09251d",
   "metadata": {},
   "outputs": [
    {
     "data": {
      "image/png": "[encoded data removed]",
      "text/plain": [
       "<IPython.core.display.Image object>"
      ]
     },
     "metadata": {},
     "output_type": "display_data"
    }
   ],
   "source": [
    "from langchain_teddynote.graphs import visualize_graph\n",
    "\n",
    "visualize_graph(app)"
   ]
  },
  {
   "cell_type": "markdown",
   "id": "110daa16",
   "metadata": {},
   "source": [
    "## 그래프 실행\n",
    "\n",
    "- `config` 파라미터는 그래프 실행 시 필요한 설정 정보를 전달합니다.\n",
    "- `recursion_limit`: 그래프 실행 시 재귀 최대 횟수를 설정합니다.\n",
    "- `inputs`: 그래프 실행 시 필요한 입력 정보를 전달합니다.\n",
    "\n",
    "**참고**\n",
    "\n",
    "- 메시지 출력 스트리밍은 [LangGraph 스트리밍 모드의 모든 것](https://wikidocs.net/265770) 을 참고해주세요.\n",
    "\n",
    "아래의 `stream_graph` 함수는 특정 노드만 스트리밍 출력하는 함수입니다.\n",
    "\n",
    "손쉽게 특정 노드의 스트리밍 출력을 확인할 수 있습니다."
   ]
  },
  {
   "cell_type": "code",
   "execution_count": 17,
   "id": "d2698eaa",
   "metadata": {},
   "outputs": [
    {
     "name": "stdout",
     "output_type": "stream",
     "text": [
      "\n",
      "==================================================\n",
      "🔄 Node: \u001b[1;36mretrieve\u001b[0m 🔄\n",
      "- - - - - - - - - - - - - - - - - - - - - - - - - \n",
      "\u001b[1;32mcontext\u001b[0m:\n",
      "<document><content>양 구단의 선수를 심판위원으로 충당하여 경기를 개시한다. 이\n",
      "경우 심판위원이 경기 도중에 도착하면 즉시 심판위원으로 교\n",
      "체하여 경기를 속행하여야 한다.\n",
      "(주)양 구단의 선수를 심판위원으로 충당할 경우 양 구단의 감독들은 상호 상\n",
      "대편 선수 중에서 경기에 참가하지 않은 선수를 동수로 선정한다. 그리고 루심\n",
      "의 배정은 홈구단에서 주심과 2루심, 원정구단에서 1,3루심을 담당케 하며, 제\n",
      "복은 선수와 구별하기 위하여 상의는 점퍼를 착용하여야 한다.\n",
      "5. 기록위원이 사고로 부재인 경우에는 경기관리인이 구단 기록</content><source>data/2024_프로야구_리그규정_요약.pdf</source><page>15</page></document>\n",
      "<document><content>3. 봉인해제 후 경기 중 사용하지 않은 경기사용구는 경기종료 후\n",
      "심판위원이 별도로 봉인하여 다음 경기에 사용할 수 있도록 한다.\n",
      "제17조 구단기 게양\n",
      "홈구단은 전 구단기를 상비하여 경기가 행하여지는 당일 양 구단\n",
      "기를 게양하여야 한다.\n",
      "전년도 우승구단은 구단기와 소정의 우승기를 함께 게양하여야\n",
      "한다.\n",
      "제18조 입장요금\n",
      "입장요금은 각 구단이 자율적으로 결정하여 시행한다.\n",
      "제19조 응원시 금지사항\n",
      "구장 내의 관객석에서 앰프(AMP)를 사용하는 등 과도한 응원 행\n",
      "위로 관객에게 불쾌감을 주거나 경기에 지장을 줄 경우 주심은 경</content><source>data/2024_프로야구_리그규정_요약.pdf</source><page>13</page></document>\n",
      "<document><content>제1장 KBO 정규시즌\n",
      "제1조 경기방식\n",
      "1. 단일 리그제로 각 구단은 144경기(구단간 16차전)씩\n",
      "총 720경기를 거행한다.\n",
      "2. 연장전은 12회(KBO 포스트시즌 15회)까지로 하고 승패를\n",
      "가리지 못할 경우에는 무승부로 한다.\n",
      "제2조 승률계산법\n",
      "승률은 승수/(승수＋패수)로 한다.\n",
      "제3조 연도 구단순위 및 기록\n",
      "1. 연도 구단순위는 KBO 한국시리즈 우승구단이 제1위, 준우승\n",
      "구단이 제2위, 그 이하는 KBO 정규시즌 승률순으로 한다.\n",
      "2. KBO 한국시리즈, KBO 플레이오프, KBO 준플레이오프, KBO</content><source>data/2024_프로야구_리그규정_요약.pdf</source><page>3</page></document>\n",
      "<document><content>는 경우 월 2회는 반드시 승인해야 한다.\n",
      "(2022.12.13 개정)\n",
      "3. 경기장소를 변경할 경우에는 시즌 개막전까지 홈구단이 결정\n",
      "하여 KBO에 통보하고 발표 이후에는 이를 변경할 수 없다.\n",
      "단, 총재가 천재지변, 경기장 사정 등으로 경기가 불가능하다\n",
      "고 판단할 경우에는 예외로 한다.\n",
      "제6조 홈구단의 경기일정 이행의 책임\n",
      "1. 홈구단이 공식발표된 경기일정을 이행하지 못하였을 경우 총\n",
      "2</content><source>data/2024_프로야구_리그규정_요약.pdf</source><page>4</page></document>\n",
      "<document><content>제16조 경기사용구와 관리\n",
      "1. 경기사용구는 KBO가 선정한 경기사용구를 사용한다.\n",
      "2. KBO는 경기사용구를 월 1회 구입하여 각 구단에 공급한다. 각\n",
      "구단 경기사용구 담당자는 경기개시 1시간 전에 심판위원에게\n",
      "이를 전달하고 심판위원은 봉인해제 및 공 상태를 점검한 이후\n",
      "에 경기에 사용한다. 구단에 경기사용구가 전달된 이후에는 구\n",
      "단 담당자가 경기사용구의 관리 책임을 맡는다.\n",
      "10</content><source>data/2024_프로야구_리그규정_요약.pdf</source><page>12</page></document>\n",
      "<document><content>서 전체 전적 다승, 해당 구단간 경기에서 전체 다득점, 전년도\n",
      "성적순으로 순위를 결정한다.\n",
      "단, KBO 정규시즌 제6, 7, 8, 9, 10위가 2개 구단 이상일 경우\n",
      "에는 승률로 순위를 결정하되, 승률이 동일할 경우 공동 순위\n",
      "로 한다. 문서상 표기, 개막전 편성, KBO 신인 드래프트 등\n",
      "순서를 필요로 하는 경우에는 해당 구단간 전체 전적 다승, 해\n",
      "당 구단간 전체 다득점, 전년도 성적 순위로 순서를 정한다.\n",
      "(2020.1.10 ➜ 2022.3.29 개정)\n",
      "제4조 경기규칙\n",
      "KBO가 주최하는 모든 경기는 공식야구규칙에 따른다.</content><source>data/2024_프로야구_리그규정_요약.pdf</source><page>4</page></document>\n",
      "<document><content>전날 별도의 1위 또는 5위 결정전을 거행한다. 이때 홈구단은\n",
      "양 구단간 경기에서 전적 다승, 다득점, 전년도 성적순으로 우\n",
      "위에 있는 구단으로 하며, 입장수입은 정규시즌과 동일한 방식\n",
      "으로 분배한다. 정규시즌 제1, 5위가 3개 구단 이상일 경우에\n",
      "는 1위 또는 5위 결정전을 거행하지 않고 해당 구단간 경기에\n",
      "1</content><source>data/2024_프로야구_리그규정_요약.pdf</source><page>3</page></document>\n",
      "<document><content>2. 교통기관 운휴 등으로 경기에 지장을 초래하였을 경우에도 홈\n",
      "구단은 당일 경기일정의 취소를 총재에게 요청할 수 있다. 이\n",
      "경우에는 우천에 의한 중지와 같이 취급한다.\n",
      "제9조 경기관리인\n",
      "1. 홈구단의 임원이 그 경기의 관리인이 되며, 총재의 경기관리에\n",
      "관한 모든 직능을 대행한다.\n",
      "2. 지정된 경기관리인의 부재시에는 등록된 경기관리 대리인이\n",
      "3</content><source>data/2024_프로야구_리그규정_요약.pdf</source><page>5</page></document>\n",
      "<document><content>4. 타순표의 발표\n",
      "주심은 경기시간 30분 전(더블헤더 제2경기는 타순표 교환 직\n",
      "후)에 기록위원에게 양 구단의 타순을 알려주고 방송원은 이를\n",
      "관객에게 알려야 한다.\n",
      "5. 선발투수 예고\n",
      "구단 담당자(매니저)는 이동일일 경우 낮 12시까지 KBO로 선\n",
      "발투수 예고를 통보하고, 주중⋅주말연전(화~토)의 경우 경기\n",
      "종료 직후 KBO 기록위원에게 통보한다.\n",
      "전일 예고된 선발투수가 당일 경기에 불출장할 경우 당일\n",
      "경기출장을 금지한다.\n",
      "제16조 경기사용구와 관리\n",
      "1. 경기사용구는 KBO가 선정한 경기사용구를 사용한다.</content><source>data/2024_프로야구_리그규정_요약.pdf</source><page>12</page></document>\n",
      "<document><content>개시 전에 상황이 바뀌었을 때는 다시 경기운영위원이 거행 여\n",
      "부를 결정하는 것으로 한다.\n",
      "3. 경기실시의 결정 권한이 주심에게 이관되는 시점은 경기개시\n",
      "예정 시간으로 한다.\n",
      "경기개시 예정 시간부터는 주심이 경기개시, 일시정지, 재개\n",
      "또는 중지의 결정자가 된다.\n",
      "(2019.3.13 개정)\n",
      "제12조 심판위원수\n",
      "경기는 4심제로 한다.\n",
      "단, 심판위원 유고시에는 3심제 또는 2심제의 경기진행도 할 수\n",
      "4</content><source>data/2024_프로야구_리그규정_요약.pdf</source><page>6</page></document>\n",
      "==================================================\n",
      "\n",
      "==================================================\n",
      "🔄 Node: \u001b[1;36mllm_answer\u001b[0m 🔄\n",
      "- - - - - - - - - - - - - - - - - - - - - - - - - \n",
      "\u001b[1;32manswer\u001b[0m:\n",
      "각 구단은 144경기를 치릅니다. 총 720경기가 진행됩니다.\n",
      "\n",
      "**Source**\n",
      "- data/2024_프로야구_리그규정_요약.pdf (page 3)\n",
      "('user', '각 구단은 몇 경기씩 해?')\n",
      "('assistant', '각 구단은 144경기를 치릅니다. 총 720경기가 진행됩니다.\\n\\n**Source**\\n- data/2024_프로야구_리그규정_요약.pdf (page 3)')\n",
      "==================================================\n"
     ]
    }
   ],
   "source": [
    "from langchain_core.runnables import RunnableConfig\n",
    "from langchain_teddynote.messages import invoke_graph, stream_graph, random_uuid\n",
    "\n",
    "# config 설정(재귀 최대 횟수, thread_id)\n",
    "config = RunnableConfig(recursion_limit=20, configurable={\"thread_id\": random_uuid()})\n",
    "\n",
    "# 질문 입력\n",
    "inputs = GraphState(question=\"각 구단은 몇 경기씩 해?\")\n",
    "\n",
    "# 그래프 실행\n",
    "invoke_graph(app, inputs, config)"
   ]
  },
  {
   "cell_type": "code",
   "execution_count": 18,
   "id": "d6a15fa0",
   "metadata": {},
   "outputs": [
    {
     "name": "stdout",
     "output_type": "stream",
     "text": [
      "\n",
      "==================================================\n",
      "🔄 Node: \u001b[1;36mllm_answer\u001b[0m 🔄\n",
      "- - - - - - - - - - - - - - - - - - - - - - - - - \n",
      "각 구단은 144경기를 치릅니다. 총 720경기가 진행됩니다.\n",
      "\n",
      "**Source**\n",
      "- data/2024_프로야구_리그규정_요약.pdf (page 3)"
     ]
    }
   ],
   "source": [
    "# 그래프를 스트리밍 출력\n",
    "stream_graph(app, inputs, config)"
   ]
  },
  {
   "cell_type": "code",
   "execution_count": 19,
   "id": "a16ba031",
   "metadata": {},
   "outputs": [
    {
     "name": "stdout",
     "output_type": "stream",
     "text": [
      "Question: 각 구단은 몇 경기씩 해?\n",
      "============================================================\n",
      "Answer:\n",
      "각 구단은 144경기를 치릅니다. 총 720경기가 진행됩니다.\n",
      "\n",
      "**Source**\n",
      "- data/2024_프로야구_리그규정_요약.pdf (page 3)\n"
     ]
    }
   ],
   "source": [
    "outputs = app.get_state(config).values\n",
    "\n",
    "print(f'Question: {outputs[\"question\"]}')\n",
    "print(\"===\" * 20)\n",
    "print(f'Answer:\\n{outputs[\"answer\"]}')"
   ]
  },
  {
   "cell_type": "code",
   "execution_count": null,
   "id": "8737ecfbe594143c",
   "metadata": {},
   "outputs": [],
   "source": []
  }
 ],
 "metadata": {
  "kernelspec": {
   "display_name": "py-test",
   "language": "python",
   "name": "python3"
  },
  "language_info": {
   "codemirror_mode": {
    "name": "ipython",
    "version": 3
   },
   "file_extension": ".py",
   "mimetype": "text/x-python",
   "name": "python",
   "nbconvert_exporter": "python",
   "pygments_lexer": "ipython3",
   "version": "3.11.11"
  }
 },
 "nbformat": 4,
 "nbformat_minor": 5
}
