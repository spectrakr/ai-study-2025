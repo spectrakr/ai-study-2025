{
 "cells": [
  {
   "cell_type": "code",
   "id": "de9d9d8d",
   "metadata": {
    "ExecuteTime": {
     "end_time": "2025-04-14T08:43:25.472829Z",
     "start_time": "2025-04-14T08:43:25.447957Z"
    }
   },
   "source": [
    "from dotenv import load_dotenv\n",
    "\n",
    "load_dotenv()"
   ],
   "outputs": [
    {
     "data": {
      "text/plain": [
       "True"
      ]
     },
     "execution_count": 1,
     "metadata": {},
     "output_type": "execute_result"
    }
   ],
   "execution_count": 1
  },
  {
   "metadata": {
    "ExecuteTime": {
     "end_time": "2025-04-14T08:43:27.651562Z",
     "start_time": "2025-04-14T08:43:26.218040Z"
    }
   },
   "cell_type": "code",
   "source": [
    "from datetime import datetime\n",
    "from langchain_core.tools import tool\n",
    "\n",
    "\n",
    "@tool\n",
    "def get_current_time():\n",
    "    \"\"\"Use this to get current date or time\"\"\"\n",
    "    return datetime.now()"
   ],
   "id": "b04c5d65512d5a62",
   "outputs": [],
   "execution_count": 2
  },
  {
   "cell_type": "code",
   "id": "2230e22c",
   "metadata": {
    "ExecuteTime": {
     "end_time": "2025-04-14T08:43:28.777561Z",
     "start_time": "2025-04-14T08:43:28.629248Z"
    }
   },
   "source": [
    "from typing import Annotated, TypedDict\n",
    "from langgraph.graph import StateGraph, START, END\n",
    "from langgraph.graph.message import add_messages\n",
    "\n",
    "class State(TypedDict):\n",
    "    messages: Annotated[list, add_messages]"
   ],
   "outputs": [],
   "execution_count": 3
  },
  {
   "metadata": {
    "ExecuteTime": {
     "end_time": "2025-04-14T08:47:14.442042Z",
     "start_time": "2025-04-14T08:47:14.434632Z"
    }
   },
   "cell_type": "code",
   "source": [
    "from langgraph.checkpoint.memory import MemorySaver\n",
    "\n",
    "# 메모리 저장소 생성\n",
    "memory = MemorySaver()"
   ],
   "id": "bf4a2902371f65a2",
   "outputs": [],
   "execution_count": 7
  },
  {
   "metadata": {
    "ExecuteTime": {
     "end_time": "2025-04-14T08:47:57.906457Z",
     "start_time": "2025-04-14T08:47:57.845532Z"
    }
   },
   "cell_type": "code",
   "source": [
    "\n",
    "from langchain_openai import ChatOpenAI\n",
    "from langchain_core.prompts import PromptTemplate, ChatPromptTemplate\n",
    "from langgraph.prebuilt import create_react_agent\n",
    "\n",
    "tools = [get_current_time]\n",
    "llm = ChatOpenAI(model=\"gpt-4o-mini\", temperature=0)\n",
    "llm = llm.bind_tools(tools)\n",
    "\n",
    "prompt = ChatPromptTemplate.from_messages(\n",
    "    [\n",
    "        (\n",
    "            \"system\",\n",
    "            \"You are a helpful assistant. Answer in Korean.\",\n",
    "        ),\n",
    "        (\"human\", \"{messages}\"),\n",
    "    ]\n",
    ")\n",
    "\n",
    "\n",
    "graph = create_react_agent(llm, tools, state_modifier=prompt, checkpointer=memory)"
   ],
   "id": "da2665b609e953a7",
   "outputs": [],
   "execution_count": 8
  },
  {
   "metadata": {
    "ExecuteTime": {
     "end_time": "2025-04-14T08:43:32.199533Z",
     "start_time": "2025-04-14T08:43:32.005462Z"
    }
   },
   "cell_type": "code",
   "source": [
    "from langchain_teddynote.graphs import visualize_graph\n",
    "\n",
    "visualize_graph(graph, xray=True)"
   ],
   "id": "195a00ccecb8e2af",
   "outputs": [
    {
     "data": {
      "image/png": "[encoded data removed]",
      "text/plain": [
       "<IPython.core.display.Image object>"
      ]
     },
     "metadata": {},
     "output_type": "display_data"
    }
   ],
   "execution_count": 5
  },
  {
   "metadata": {
    "ExecuteTime": {
     "end_time": "2025-04-14T08:48:53.993211Z",
     "start_time": "2025-04-14T08:48:52.955752Z"
    }
   },
   "cell_type": "code",
   "source": [
    "from langchain_core.messages import HumanMessage\n",
    "\n",
    "question = \"한국의 수도는?\"\n",
    "inputs = {\"messages\": [(\"user\", question)], }\n",
    "from langchain_core.runnables import RunnableConfig\n",
    "\n",
    "config = RunnableConfig(\n",
    "    recursion_limit=10,  # 최대 10개의 노드까지 방문. 그 이상은 RecursionError 발생\n",
    "    configurable={\"thread_id\": \"1\"},  # 스레드 ID 설정\n",
    ")\n",
    "\n",
    "for chunk_msg, metadata  in graph.stream(inputs, stream_mode=\"messages\", config=config):\n",
    "    if (\n",
    "            chunk_msg.content\n",
    "            and not isinstance(chunk_msg, HumanMessage)\n",
    "            and metadata[\"langgraph_node\"] == \"agent\"\n",
    "    ):\n",
    "        print(chunk_msg.content, end=\"\", flush=True)"
   ],
   "id": "a126b48acd3759fc",
   "outputs": [
    {
     "name": "stdout",
     "output_type": "stream",
     "text": [
      "한국의 수도는 서울입니다."
     ]
    }
   ],
   "execution_count": 10
  },
  {
   "metadata": {
    "ExecuteTime": {
     "end_time": "2025-04-14T08:49:19.703531Z",
     "start_time": "2025-04-14T08:49:18.825359Z"
    }
   },
   "cell_type": "code",
   "source": [
    "question = \"그럼 일본은?\"\n",
    "inputs = {\"messages\": [(\"user\", question)], }\n",
    "from langchain_core.runnables import RunnableConfig\n",
    "\n",
    "config = RunnableConfig(\n",
    "    recursion_limit=10,  # 최대 10개의 노드까지 방문. 그 이상은 RecursionError 발생\n",
    "    configurable={\"thread_id\": \"1\"},  # 스레드 ID 설정\n",
    ")\n",
    "\n",
    "for chunk_msg, metadata  in graph.stream(inputs, stream_mode=\"messages\", config=config):\n",
    "    if (\n",
    "            chunk_msg.content\n",
    "            and not isinstance(chunk_msg, HumanMessage)\n",
    "            and metadata[\"langgraph_node\"] == \"agent\"\n",
    "    ):\n",
    "        print(chunk_msg.content, end=\"\", flush=True)"
   ],
   "id": "b0cf96bc4f113703",
   "outputs": [
    {
     "name": "stdout",
     "output_type": "stream",
     "text": [
      "일본의 수도는 도쿄입니다."
     ]
    }
   ],
   "execution_count": 11
  },
  {
   "metadata": {
    "ExecuteTime": {
     "end_time": "2025-04-14T08:49:39.589904Z",
     "start_time": "2025-04-14T08:49:39.583503Z"
    }
   },
   "cell_type": "code",
   "source": [
    "from langchain_core.runnables import RunnableConfig\n",
    "\n",
    "config = RunnableConfig(\n",
    "    configurable={\"thread_id\": \"1\"},  # 스레드 ID 설정\n",
    ")\n",
    "# 그래프 상태 스냅샷 생성\n",
    "snapshot = graph.get_state(config)\n",
    "snapshot.values[\"messages\"]"
   ],
   "id": "63a35ec95aa8f655",
   "outputs": [
    {
     "data": {
      "text/plain": [
       "[HumanMessage(content='한국의 수도는?', additional_kwargs={}, response_metadata={}, id='2b16ce1a-242d-428b-9a12-883248fdf198'),\n",
       " AIMessage(content='한국의 수도는 서울입니다.', additional_kwargs={}, response_metadata={'finish_reason': 'stop', 'model_name': 'gpt-4o-mini-2024-07-18', 'system_fingerprint': 'fp_44added55e'}, id='run-b1930cf6-58b2-4ed9-9913-ab9447977f95'),\n",
       " HumanMessage(content='그럼 일본은?', additional_kwargs={}, response_metadata={}, id='7b6ee1c9-5d14-42f6-be16-ff00edcb845a'),\n",
       " AIMessage(content='일본의 수도는 도쿄입니다.', additional_kwargs={}, response_metadata={'finish_reason': 'stop', 'model_name': 'gpt-4o-mini-2024-07-18', 'system_fingerprint': 'fp_44added55e'}, id='run-6c19b70d-d467-48d6-97b3-0db90220e1d6')]"
      ]
     },
     "execution_count": 12,
     "metadata": {},
     "output_type": "execute_result"
    }
   ],
   "execution_count": 12
  },
  {
   "metadata": {
    "ExecuteTime": {
     "end_time": "2025-04-14T08:50:43.203289Z",
     "start_time": "2025-04-14T08:50:41.535475Z"
    }
   },
   "cell_type": "code",
   "source": [
    "from langchain_core.messages import HumanMessage\n",
    "\n",
    "question = \"현재 날짜는?\"\n",
    "inputs = {\"messages\": [(\"user\", question)], }\n",
    "from langchain_core.runnables import RunnableConfig\n",
    "\n",
    "config = RunnableConfig(\n",
    "    recursion_limit=10,  # 최대 10개의 노드까지 방문. 그 이상은 RecursionError 발생\n",
    "    configurable={\"thread_id\": \"2\"},  # 스레드 ID 설정\n",
    ")\n",
    "\n",
    "for chunk_msg, metadata  in graph.stream(inputs, stream_mode=\"messages\", config=config):\n",
    "    if (\n",
    "            chunk_msg.content\n",
    "            and not isinstance(chunk_msg, HumanMessage)\n",
    "            and metadata[\"langgraph_node\"] == \"agent\"\n",
    "    ):\n",
    "        print(chunk_msg.content, end=\"\", flush=True)"
   ],
   "id": "3f8396c8ee934563",
   "outputs": [
    {
     "name": "stdout",
     "output_type": "stream",
     "text": [
      "현재 날짜는 2025년 4월 14일입니다."
     ]
    }
   ],
   "execution_count": 13
  },
  {
   "metadata": {
    "ExecuteTime": {
     "end_time": "2025-04-14T08:50:59.997091Z",
     "start_time": "2025-04-14T08:50:59.027285Z"
    }
   },
   "cell_type": "code",
   "source": [
    "from langchain_core.messages import HumanMessage\n",
    "\n",
    "question = \"그럼 어제는?\"\n",
    "inputs = {\"messages\": [(\"user\", question)], }\n",
    "from langchain_core.runnables import RunnableConfig\n",
    "\n",
    "config = RunnableConfig(\n",
    "    recursion_limit=10,  # 최대 10개의 노드까지 방문. 그 이상은 RecursionError 발생\n",
    "    configurable={\"thread_id\": \"2\"},  # 스레드 ID 설정\n",
    ")\n",
    "\n",
    "for chunk_msg, metadata  in graph.stream(inputs, stream_mode=\"messages\", config=config):\n",
    "    if (\n",
    "            chunk_msg.content\n",
    "            and not isinstance(chunk_msg, HumanMessage)\n",
    "            and metadata[\"langgraph_node\"] == \"agent\"\n",
    "    ):\n",
    "        print(chunk_msg.content, end=\"\", flush=True)"
   ],
   "id": "9c8bb6a7d3f922e4",
   "outputs": [
    {
     "name": "stdout",
     "output_type": "stream",
     "text": [
      "어제는 2025년 4월 13일입니다."
     ]
    }
   ],
   "execution_count": 14
  },
  {
   "metadata": {
    "ExecuteTime": {
     "end_time": "2025-04-14T08:51:21.956722Z",
     "start_time": "2025-04-14T08:51:21.951148Z"
    }
   },
   "cell_type": "code",
   "source": [
    "config = RunnableConfig(\n",
    "    configurable={\"thread_id\": \"2\"},  # 스레드 ID 설정\n",
    ")\n",
    "# 그래프 상태 스냅샷 생성\n",
    "snapshot = graph.get_state(config)\n",
    "snapshot.values[\"messages\"]"
   ],
   "id": "498a74a577d5509c",
   "outputs": [
    {
     "data": {
      "text/plain": [
       "[HumanMessage(content='현재 날짜는?', additional_kwargs={}, response_metadata={}, id='ce307f00-7abe-4f8e-8b71-3fd554425b4b'),\n",
       " AIMessage(content='', additional_kwargs={'tool_calls': [{'index': 0, 'id': 'call_SCJac6G1o9TZz4e9dz1KVPyA', 'function': {'arguments': '{}', 'name': 'get_current_time'}, 'type': 'function'}]}, response_metadata={'finish_reason': 'tool_calls', 'model_name': 'gpt-4o-mini-2024-07-18', 'system_fingerprint': 'fp_44added55e'}, id='run-018f4efe-f67e-4f2c-8ac9-9873831f8c01', tool_calls=[{'name': 'get_current_time', 'args': {}, 'id': 'call_SCJac6G1o9TZz4e9dz1KVPyA', 'type': 'tool_call'}]),\n",
       " ToolMessage(content='2025-04-14 17:50:42.272348', name='get_current_time', id='23446526-e6db-4cbf-9dc0-6c755eec0329', tool_call_id='call_SCJac6G1o9TZz4e9dz1KVPyA'),\n",
       " AIMessage(content='현재 날짜는 2025년 4월 14일입니다.', additional_kwargs={}, response_metadata={'finish_reason': 'stop', 'model_name': 'gpt-4o-mini-2024-07-18', 'system_fingerprint': 'fp_44added55e'}, id='run-1e598dc7-8ed3-49e9-b896-3d4b6291c7b7'),\n",
       " HumanMessage(content='그럼 어제는?', additional_kwargs={}, response_metadata={}, id='64ea4c50-d3ca-45dc-8275-a8227f482609'),\n",
       " AIMessage(content='어제는 2025년 4월 13일입니다.', additional_kwargs={}, response_metadata={'finish_reason': 'stop', 'model_name': 'gpt-4o-mini-2024-07-18', 'system_fingerprint': 'fp_44added55e'}, id='run-cef05f87-4b99-4f86-979c-47a993d18ce2')]"
      ]
     },
     "execution_count": 15,
     "metadata": {},
     "output_type": "execute_result"
    }
   ],
   "execution_count": 15
  },
  {
   "metadata": {
    "ExecuteTime": {
     "end_time": "2025-04-13T07:57:59.954504Z",
     "start_time": "2025-04-13T07:57:57.992720Z"
    }
   },
   "cell_type": "code",
   "source": [
    "from langchain_core.messages import HumanMessage\n",
    "\n",
    "question = \"지금 몇일이야?\"\n",
    "inputs = {\"messages\": [(\"user\", question)]}\n",
    "for chunk_msg, metadata  in graph.stream(inputs, stream_mode=\"messages\"):\n",
    "    if (\n",
    "            chunk_msg.content\n",
    "            and not isinstance(chunk_msg, HumanMessage)\n",
    "            and metadata[\"langgraph_node\"] == \"agent\"\n",
    "    ):\n",
    "        print(chunk_msg.content, end=\"\", flush=True)"
   ],
   "id": "a9ace53b43be782f",
   "outputs": [
    {
     "name": "stdout",
     "output_type": "stream",
     "text": [
      "오늘은 2025년 4월 13일입니다."
     ]
    }
   ],
   "execution_count": 30
  },
  {
   "metadata": {},
   "cell_type": "code",
   "outputs": [],
   "execution_count": null,
   "source": "",
   "id": "78b7c72bc98ab672"
  }
 ],
 "metadata": {
  "kernelspec": {
   "display_name": "langchain-kr-lwwSZlnu-py3.11",
   "language": "python",
   "name": "python3"
  },
  "language_info": {
   "codemirror_mode": {
    "name": "ipython",
    "version": 3
   },
   "file_extension": ".py",
   "mimetype": "text/x-python",
   "name": "python",
   "nbconvert_exporter": "python",
   "pygments_lexer": "ipython3",
   "version": "3.11.9"
  }
 },
 "nbformat": 4,
 "nbformat_minor": 5
}
