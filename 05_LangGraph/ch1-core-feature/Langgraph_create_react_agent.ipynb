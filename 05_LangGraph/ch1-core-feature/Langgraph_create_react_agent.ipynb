{
 "cells": [
  {
   "cell_type": "code",
   "id": "de9d9d8d",
   "metadata": {
    "ExecuteTime": {
     "end_time": "2025-04-13T07:52:41.382319Z",
     "start_time": "2025-04-13T07:52:41.374167Z"
    }
   },
   "source": [
    "from dotenv import load_dotenv\n",
    "\n",
    "load_dotenv()"
   ],
   "outputs": [
    {
     "data": {
      "text/plain": [
       "True"
      ]
     },
     "execution_count": 12,
     "metadata": {},
     "output_type": "execute_result"
    }
   ],
   "execution_count": 12
  },
  {
   "metadata": {
    "ExecuteTime": {
     "end_time": "2025-04-13T07:52:42.371561Z",
     "start_time": "2025-04-13T07:52:42.361189Z"
    }
   },
   "cell_type": "code",
   "source": [
    "from datetime import datetime\n",
    "from langchain_core.tools import tool\n",
    "\n",
    "\n",
    "@tool\n",
    "def get_current_time():\n",
    "    \"\"\"Use this to get current date or time\"\"\"\n",
    "    return datetime.now()"
   ],
   "id": "b04c5d65512d5a62",
   "outputs": [],
   "execution_count": 13
  },
  {
   "cell_type": "code",
   "id": "2230e22c",
   "metadata": {
    "ExecuteTime": {
     "end_time": "2025-04-13T07:52:43.320856Z",
     "start_time": "2025-04-13T07:52:43.312396Z"
    }
   },
   "source": [
    "from typing import Annotated, TypedDict\n",
    "from langgraph.graph import StateGraph, START, END\n",
    "from langgraph.graph.message import add_messages\n",
    "\n",
    "class State(TypedDict):\n",
    "    messages: Annotated[list, add_messages]"
   ],
   "outputs": [],
   "execution_count": 14
  },
  {
   "metadata": {
    "ExecuteTime": {
     "end_time": "2025-04-13T07:55:16.912181Z",
     "start_time": "2025-04-13T07:55:16.871167Z"
    }
   },
   "cell_type": "code",
   "source": [
    "\n",
    "from langchain_openai import ChatOpenAI\n",
    "from langchain_core.prompts import PromptTemplate, ChatPromptTemplate\n",
    "from langgraph.prebuilt import create_react_agent\n",
    "\n",
    "tools = [get_current_time]\n",
    "llm = ChatOpenAI(model=\"gpt-4o-mini\", temperature=0)\n",
    "llm = llm.bind_tools(tools)\n",
    "\n",
    "prompt = ChatPromptTemplate.from_messages(\n",
    "    [\n",
    "        (\n",
    "            \"system\",\n",
    "            \"You are a helpful assistant. Answer in Korean.\",\n",
    "        ),\n",
    "        (\"human\", \"{messages}\"),\n",
    "    ]\n",
    ")\n",
    "\n",
    "\n",
    "graph = create_react_agent(llm, tools, state_modifier=prompt)"
   ],
   "id": "da2665b609e953a7",
   "outputs": [],
   "execution_count": 24
  },
  {
   "metadata": {
    "ExecuteTime": {
     "end_time": "2025-04-13T07:55:22.130198Z",
     "start_time": "2025-04-13T07:55:21.791223Z"
    }
   },
   "cell_type": "code",
   "source": [
    "from langchain_teddynote.graphs import visualize_graph\n",
    "\n",
    "visualize_graph(graph, xray=True)"
   ],
   "id": "195a00ccecb8e2af",
   "outputs": [
    {
     "data": {
      "image/png": "[encoded data removed]",
      "text/plain": [
       "<IPython.core.display.Image object>"
      ]
     },
     "metadata": {},
     "output_type": "display_data"
    }
   ],
   "execution_count": 25
  },
  {
   "metadata": {
    "ExecuteTime": {
     "end_time": "2025-04-13T07:57:40.115131Z",
     "start_time": "2025-04-13T07:57:37.935206Z"
    }
   },
   "cell_type": "code",
   "outputs": [
    {
     "name": "stdout",
     "output_type": "stream",
     "text": [
      "한국은 동아시아에 위치한 나라로, 한반도의 남쪽에 있습니다. 서울이 수도이며, 고유의 문화와 역사를 가지고 있습니다. K-팝, 한식, 전통 예술 등으로 세계적으로 알려져 있습니다. 경제는 기술과 제조업 중심으로 발전하였고, 교육 수준이 높습니다. 자연 경관도 아름다워 관광지로 인기가 많습니다."
     ]
    }
   ],
   "execution_count": 29,
   "source": [
    "from langchain_core.messages import HumanMessage\n",
    "\n",
    "question = \"한국에 대해 100글자로 요약해줘\"\n",
    "inputs = {\"messages\": [(\"user\", question)], }\n",
    "for chunk_msg, metadata  in graph.stream(inputs, stream_mode=\"messages\"):\n",
    "    if (\n",
    "            chunk_msg.content\n",
    "            and not isinstance(chunk_msg, HumanMessage)\n",
    "            and metadata[\"langgraph_node\"] == \"agent\"\n",
    "    ):\n",
    "        print(chunk_msg.content, end=\"\", flush=True)"
   ],
   "id": "a126b48acd3759fc"
  },
  {
   "metadata": {
    "ExecuteTime": {
     "end_time": "2025-04-13T07:57:59.954504Z",
     "start_time": "2025-04-13T07:57:57.992720Z"
    }
   },
   "cell_type": "code",
   "source": [
    "from langchain_core.messages import HumanMessage\n",
    "\n",
    "question = \"지금 몇일이야?\"\n",
    "inputs = {\"messages\": [(\"user\", question)]}\n",
    "for chunk_msg, metadata  in graph.stream(inputs, stream_mode=\"messages\"):\n",
    "    if (\n",
    "            chunk_msg.content\n",
    "            and not isinstance(chunk_msg, HumanMessage)\n",
    "            and metadata[\"langgraph_node\"] == \"agent\"\n",
    "    ):\n",
    "        print(chunk_msg.content, end=\"\", flush=True)"
   ],
   "id": "a9ace53b43be782f",
   "outputs": [
    {
     "name": "stdout",
     "output_type": "stream",
     "text": [
      "오늘은 2025년 4월 13일입니다."
     ]
    }
   ],
   "execution_count": 30
  },
  {
   "metadata": {},
   "cell_type": "code",
   "outputs": [],
   "execution_count": null,
   "source": "",
   "id": "78b7c72bc98ab672"
  }
 ],
 "metadata": {
  "kernelspec": {
   "display_name": "langchain-kr-lwwSZlnu-py3.11",
   "language": "python",
   "name": "python3"
  },
  "language_info": {
   "codemirror_mode": {
    "name": "ipython",
    "version": 3
   },
   "file_extension": ".py",
   "mimetype": "text/x-python",
   "name": "python",
   "nbconvert_exporter": "python",
   "pygments_lexer": "ipython3",
   "version": "3.11.9"
  }
 },
 "nbformat": 4,
 "nbformat_minor": 5
}
