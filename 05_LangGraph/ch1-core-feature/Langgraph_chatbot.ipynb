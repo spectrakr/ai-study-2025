{
 "cells": [
  {
   "cell_type": "code",
   "id": "de9d9d8d",
   "metadata": {
    "ExecuteTime": {
     "end_time": "2025-04-13T07:33:06.542303Z",
     "start_time": "2025-04-13T07:33:06.523860Z"
    }
   },
   "source": [
    "from dotenv import load_dotenv\n",
    "\n",
    "load_dotenv()"
   ],
   "outputs": [
    {
     "data": {
      "text/plain": [
       "True"
      ]
     },
     "execution_count": 1,
     "metadata": {},
     "output_type": "execute_result"
    }
   ],
   "execution_count": 1
  },
  {
   "metadata": {
    "ExecuteTime": {
     "end_time": "2025-04-13T07:33:07.835647Z",
     "start_time": "2025-04-13T07:33:06.595740Z"
    }
   },
   "cell_type": "code",
   "source": [
    "from datetime import datetime\n",
    "from langchain_core.tools import tool\n",
    "\n",
    "\n",
    "@tool\n",
    "def get_current_time():\n",
    "    \"\"\"Use this to get current date or time\"\"\"\n",
    "    return datetime.now()"
   ],
   "id": "b04c5d65512d5a62",
   "outputs": [],
   "execution_count": 2
  },
  {
   "cell_type": "code",
   "id": "2230e22c",
   "metadata": {
    "ExecuteTime": {
     "end_time": "2025-04-13T07:33:08.421449Z",
     "start_time": "2025-04-13T07:33:08.306884Z"
    }
   },
   "source": [
    "from typing import Annotated, TypedDict\n",
    "from langgraph.graph import StateGraph, START, END\n",
    "from langgraph.graph.message import add_messages\n",
    "\n",
    "class State(TypedDict):\n",
    "    messages: Annotated[list, add_messages]"
   ],
   "outputs": [],
   "execution_count": 3
  },
  {
   "cell_type": "code",
   "id": "f4db3a07",
   "metadata": {
    "ExecuteTime": {
     "end_time": "2025-04-13T07:39:07.788673Z",
     "start_time": "2025-04-13T07:39:07.752952Z"
    }
   },
   "source": [
    "from langchain.agents import AgentExecutor, create_tool_calling_agent\n",
    "from langchain_openai import ChatOpenAI\n",
    "from langchain_core.prompts import PromptTemplate\n",
    "\n",
    "tools = [get_current_time]\n",
    "llm = ChatOpenAI(model=\"gpt-4o-mini\", temperature=0)\n",
    "llm = llm.bind_tools(tools)\n",
    "prompt = PromptTemplate.from_template(\"\"\"\n",
    "You are an AI Assistant\n",
    "\n",
    "question: {question}\n",
    "\n",
    "{agent_scratchpad}\n",
    "\"\"\")\n",
    "\n",
    "def chatbot(state: State):\n",
    "    agent = create_tool_calling_agent(llm, tools, prompt)\n",
    "\n",
    "    agent_executor = AgentExecutor(\n",
    "        agent=agent,\n",
    "        tools=tools,\n",
    "        verbose=False,\n",
    "        max_iterations=10,\n",
    "        max_execution_time=10,\n",
    "        handle_parsing_errors=True,\n",
    "    )\n",
    "    user_question = state[\"messages\"][-1]\n",
    "    result = agent_executor.invoke({\"question\": user_question})\n",
    "\n",
    "    return {\"messages\": [result[\"output\"]]}\n",
    "    # return {\"messages\": [llm.invoke(state[\"messages\"])]}"
   ],
   "outputs": [],
   "execution_count": 17
  },
  {
   "metadata": {
    "ExecuteTime": {
     "end_time": "2025-04-13T07:39:08.740081Z",
     "start_time": "2025-04-13T07:39:08.701100Z"
    }
   },
   "cell_type": "code",
   "source": [
    "from langgraph.prebuilt import ToolNode, tools_condition\n",
    "\n",
    "graph_builder = StateGraph(State)\n",
    "\n",
    "tool_node = ToolNode(tools=[tool])\n",
    "graph_builder.add_node(\"chatbot\", chatbot)\n",
    "graph_builder.add_node(\"tools\", tool_node)\n",
    "graph_builder.add_edge(START, \"chatbot\")\n",
    "graph_builder.add_conditional_edges(\n",
    "    \"chatbot\",\n",
    "    tools_condition,\n",
    ")\n",
    "graph_builder.add_edge(\"tools\", \"chatbot\")\n",
    "graph_builder.add_edge(\"chatbot\", END)\n",
    "# tool_node = BasicToolNode(tools=[tool])\n",
    "graph = graph_builder.compile()"
   ],
   "id": "09d1d2f1",
   "outputs": [],
   "execution_count": 18
  },
  {
   "cell_type": "code",
   "id": "8235a6d2",
   "metadata": {
    "ExecuteTime": {
     "end_time": "2025-04-13T07:39:10.927252Z",
     "start_time": "2025-04-13T07:39:09.833484Z"
    }
   },
   "source": [
    "from share.langgraph.graphs import visualize_graph\n",
    "visualize_graph(graph)"
   ],
   "outputs": [
    {
     "data": {
      "image/png": "[encoded data removed]",
      "text/plain": [
       "<IPython.core.display.Image object>"
      ]
     },
     "metadata": {},
     "output_type": "display_data"
    }
   ],
   "execution_count": 19
  },
  {
   "cell_type": "code",
   "id": "049fc976",
   "metadata": {
    "ExecuteTime": {
     "end_time": "2025-04-13T07:39:13.041432Z",
     "start_time": "2025-04-13T07:39:11.074019Z"
    }
   },
   "source": [
    "from langchain_core.messages import HumanMessage\n",
    "\n",
    "question = \"한국에 대해 100글자로 요약해줘\"\n",
    "inputs = {\"messages\": [(\"user\", question)], }\n",
    "for chunk_msg, metadata  in graph.stream(inputs, stream_mode=\"messages\"):\n",
    "    if (\n",
    "        chunk_msg.content\n",
    "        and not isinstance(chunk_msg, HumanMessage)\n",
    "        and metadata[\"langgraph_node\"] == \"chatbot\"\n",
    "    ):\n",
    "        print(chunk_msg.content, end=\"\", flush=True)\n",
    "    # for value in event.values():\n",
    "    #     print(\"Assistant:\", value[\"messages\"][-1].content)"
   ],
   "outputs": [
    {
     "name": "stdout",
     "output_type": "stream",
     "text": [
      "한국은 동아시아에 위치한 한반도의 국가로, 서울이 수도이다. 고유의 문화와 전통을 가진 한국은 K-팝, 한식, 한복 등으로 세계적으로 알려져 있다. 경제는 기술과 제조업 중심으로 발전하였으며, 교육 수준이 높다. 자연경관이 아름답고 사계절이 뚜렷하다."
     ]
    }
   ],
   "execution_count": 20
  },
  {
   "metadata": {},
   "cell_type": "code",
   "outputs": [],
   "execution_count": null,
   "source": "",
   "id": "78b7c72bc98ab672"
  }
 ],
 "metadata": {
  "kernelspec": {
   "display_name": "langchain-kr-lwwSZlnu-py3.11",
   "language": "python",
   "name": "python3"
  },
  "language_info": {
   "codemirror_mode": {
    "name": "ipython",
    "version": 3
   },
   "file_extension": ".py",
   "mimetype": "text/x-python",
   "name": "python",
   "nbconvert_exporter": "python",
   "pygments_lexer": "ipython3",
   "version": "3.11.9"
  }
 },
 "nbformat": 4,
 "nbformat_minor": 5
}
