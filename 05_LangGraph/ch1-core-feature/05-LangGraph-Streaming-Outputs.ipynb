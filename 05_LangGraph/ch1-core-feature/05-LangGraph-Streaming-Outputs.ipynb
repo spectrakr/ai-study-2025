{
 "cells": [
  {
   "cell_type": "markdown",
   "id": "eec680f5",
   "metadata": {},
   "source": [
    "# LangGraph 단계별 스트리밍 출력\n",
    "\n",
    "이번에는 LangGrpah 의 `stream()` 출력 함수에 대한 조금 더 자세한 설명을 진행합니다.\n",
    "\n",
    "LangGraph 의 스트리밍 출력 함수는 그래프의 각 단계를 스트리밍하는 기능을 제공합니다.\n",
    "\n"
   ]
  },
  {
   "cell_type": "markdown",
   "id": "1b2184f4",
   "metadata": {},
   "source": [
    "참고: 아래의 LangGraph 예제는 이전 섹션의 예제와 동일합니다."
   ]
  },
  {
   "cell_type": "code",
   "id": "de9d9d8d",
   "metadata": {
    "ExecuteTime": {
     "end_time": "2025-04-07T08:59:59.493309Z",
     "start_time": "2025-04-07T08:59:59.477042Z"
    }
   },
   "source": [
    "# API 키를 환경변수로 관리하기 위한 설정 파일\n",
    "from dotenv import load_dotenv\n",
    "\n",
    "# API 키 정보 로드\n",
    "load_dotenv()"
   ],
   "outputs": [
    {
     "data": {
      "text/plain": [
       "True"
      ]
     },
     "execution_count": 1,
     "metadata": {},
     "output_type": "execute_result"
    }
   ],
   "execution_count": 1
  },
  {
   "cell_type": "code",
   "id": "51549b1d",
   "metadata": {
    "ExecuteTime": {
     "end_time": "2025-04-07T09:00:07.076450Z",
     "start_time": "2025-04-07T09:00:03.909875Z"
    }
   },
   "source": [
    "from typing import Annotated, List, Dict\n",
    "from typing_extensions import TypedDict\n",
    "\n",
    "from langchain_core.tools import tool\n",
    "from langchain_openai import ChatOpenAI\n",
    "from langgraph.graph import StateGraph, START, END\n",
    "from langgraph.graph.message import add_messages\n",
    "from langgraph.prebuilt import ToolNode, tools_condition\n",
    "from langchain_teddynote.graphs import visualize_graph\n",
    "from langchain_teddynote.tools import GoogleNews\n",
    "\n",
    "\n",
    "########## 1. 상태 정의 ##########\n",
    "# 상태 정의\n",
    "class State(TypedDict):\n",
    "    # 메시지 목록 주석 추가\n",
    "    messages: Annotated[list, add_messages]\n",
    "    dummy_data: Annotated[str, \"dummy\"]\n",
    "\n",
    "\n",
    "########## 2. 도구 정의 및 바인딩 ##########\n",
    "# 도구 초기화\n",
    "# 키워드로 뉴스 검색하는 도구 생성\n",
    "news_tool = GoogleNews()\n",
    "\n",
    "\n",
    "@tool\n",
    "def search_keyword(query: str) -> List[Dict[str, str]]:\n",
    "    \"\"\"Look up news by keyword\"\"\"\n",
    "    news_tool = GoogleNews()\n",
    "    return news_tool.search_by_keyword(query, k=5)\n",
    "\n",
    "\n",
    "tools = [search_keyword]\n",
    "\n",
    "# LLM 초기화\n",
    "llm = ChatOpenAI(model=\"gpt-4o-mini\")\n",
    "\n",
    "# 도구와 LLM 결합\n",
    "llm_with_tools = llm.bind_tools(tools)\n",
    "\n",
    "\n",
    "########## 3. 노드 추가 ##########\n",
    "# 챗봇 함수 정의\n",
    "def chatbot(state: State):\n",
    "    # 메시지 호출 및 반환\n",
    "    return {\n",
    "        \"messages\": [llm_with_tools.invoke(state[\"messages\"])],\n",
    "        \"dummy_data\": \"[chatbot] 호출, dummy data\",  # 테스트를 위하여 더미 데이터를 추가합니다.\n",
    "    }\n",
    "\n",
    "\n",
    "# 상태 그래프 생성\n",
    "graph_builder = StateGraph(State)\n",
    "\n",
    "# 챗봇 노드 추가\n",
    "graph_builder.add_node(\"chatbot\", chatbot)\n",
    "\n",
    "\n",
    "# 도구 노드 생성 및 추가\n",
    "tool_node = ToolNode(tools=tools)\n",
    "\n",
    "# 도구 노드 추가\n",
    "graph_builder.add_node(\"tools\", tool_node)\n",
    "\n",
    "# 조건부 엣지\n",
    "graph_builder.add_conditional_edges(\n",
    "    \"chatbot\",\n",
    "    tools_condition,\n",
    ")\n",
    "\n",
    "########## 4. 엣지 추가 ##########\n",
    "\n",
    "# tools > chatbot\n",
    "graph_builder.add_edge(\"tools\", \"chatbot\")\n",
    "\n",
    "# START > chatbot\n",
    "graph_builder.add_edge(START, \"chatbot\")\n",
    "\n",
    "# chatbot > END\n",
    "graph_builder.add_edge(\"chatbot\", END)\n",
    "\n",
    "########## 5. 그래프 컴파일 ##########\n",
    "\n",
    "# 그래프 빌더 컴파일\n",
    "graph = graph_builder.compile()\n",
    "\n",
    "########## 6. 그래프 시각화 ##########\n",
    "# 그래프 시각화\n",
    "visualize_graph(graph)"
   ],
   "outputs": [
    {
     "data": {
      "image/png": "[encoded data removed]",
      "text/plain": [
       "<IPython.core.display.Image object>"
      ]
     },
     "metadata": {},
     "output_type": "display_data"
    }
   ],
   "execution_count": 2
  },
  {
   "cell_type": "markdown",
   "id": "bea7dc51",
   "metadata": {},
   "source": [
    "## StateGraph의 `stream` 메서드\n",
    "\n",
    "`stream` 메서드는 단일 입력에 대한 그래프 단계를 스트리밍하는 기능을 제공합니다.\n",
    "\n",
    "**매개변수**\n",
    "- `input` (Union[dict[str, Any], Any]): 그래프에 대한 입력\n",
    "- `config` (Optional[RunnableConfig]): 실행 구성\n",
    "- `stream_mode` (Optional[Union[StreamMode, list[StreamMode]]]): 출력 스트리밍 모드\n",
    "- `output_keys` (Optional[Union[str, Sequence[str]]]): 스트리밍할 키\n",
    "- `interrupt_before` (Optional[Union[All, Sequence[str]]]): 실행 전에 중단할 노드\n",
    "- `interrupt_after` (Optional[Union[All, Sequence[str]]]): 실행 후에 중단할 노드\n",
    "- `debug` (Optional[bool]): 디버그 정보 출력 여부\n",
    "- `subgraphs` (bool): 하위 그래프 스트리밍 여부\n",
    "\n",
    "**반환값**\n",
    "- Iterator[Union[dict[str, Any], Any]]: 그래프의 각 단계 출력. 출력 형태는 `stream_mode`에 따라 다름\n",
    "\n",
    "**주요 기능**\n",
    "1. 입력된 설정에 따라 그래프 실행을 스트리밍 방식으로 처리\n",
    "2. 다양한 스트리밍 모드 지원 (`values`, `updates`, `debug`)\n",
    "3. 콜백 관리 및 오류 처리\n",
    "4. 재귀 제한 및 중단 조건 처리\n",
    "\n",
    "**스트리밍 모드**\n",
    "- `values`: 각 단계의 현재 상태 값 출력\n",
    "- `updates`: 각 단계의 상태 업데이트만 출력\n",
    "- `debug`: 각 단계의 디버그 이벤트 출력"
   ]
  },
  {
   "cell_type": "code",
   "id": "3ae917b7",
   "metadata": {
    "ExecuteTime": {
     "end_time": "2025-04-07T09:01:01.560031Z",
     "start_time": "2025-04-07T09:01:01.555643Z"
    }
   },
   "source": [
    "from langchain_core.runnables import RunnableConfig\n",
    "\n",
    "# 질문\n",
    "question = \"2024년 노벨 문학상 관련 뉴스를 알려주세요.\"\n",
    "\n",
    "# 초기 입력 상태를 정의\n",
    "input = State(dummy_data=\"테스트 문자열\", messages=[(\"user\", question)])\n",
    "\n",
    "# config 설정\n",
    "config = RunnableConfig(\n",
    "    recursion_limit=10,  # 최대 10개의 노드까지 방문. 그 이상은 RecursionError 발생\n",
    "    configurable={\"thread_id\": \"1\"},  # 스레드 ID 설정\n",
    "    tags=[\"my-tag\"],  # Tag\n",
    ")"
   ],
   "outputs": [],
   "execution_count": 3
  },
  {
   "cell_type": "markdown",
   "id": "e931823b",
   "metadata": {},
   "source": [
    "`config` 를 설정하고 스트리밍 출력을 진행합니다."
   ]
  },
  {
   "cell_type": "code",
   "id": "ab5c0bad",
   "metadata": {
    "ExecuteTime": {
     "end_time": "2025-04-07T09:01:36.386120Z",
     "start_time": "2025-04-07T09:01:10.537752Z"
    }
   },
   "source": [
    "for event in graph.stream(input=input, config=config):\n",
    "    print(\"========== event =========\")\n",
    "    print(event)\n",
    "    print(\"===================\")\n",
    "    for key, value in event.items():\n",
    "        print(f\"\\n[ {key} ]\\n\")\n",
    "        # value 에 messages 가 존재하는 경우\n",
    "        if \"messages\" in value:\n",
    "            messages = value[\"messages\"]\n",
    "            # 가장 최근 메시지 1개만 출력합니다.\n",
    "            value[\"messages\"][-1].pretty_print()"
   ],
   "outputs": [
    {
     "name": "stdout",
     "output_type": "stream",
     "text": [
      "========== event =========\n",
      "{'chatbot': {'messages': [AIMessage(content='', additional_kwargs={'tool_calls': [{'id': 'call_dxzoSphudnPPjzZppVlcpY35', 'function': {'arguments': '{\"query\":\"2024 노벨 문학상\"}', 'name': 'search_keyword'}, 'type': 'function'}], 'refusal': None}, response_metadata={'token_usage': {'completion_tokens': 21, 'prompt_tokens': 57, 'total_tokens': 78, 'completion_tokens_details': {'accepted_prediction_tokens': 0, 'audio_tokens': 0, 'reasoning_tokens': 0, 'rejected_prediction_tokens': 0}, 'prompt_tokens_details': {'audio_tokens': 0, 'cached_tokens': 0}}, 'model_name': 'gpt-4o-mini-2024-07-18', 'system_fingerprint': 'fp_b376dfbbd5', 'finish_reason': 'tool_calls', 'logprobs': None}, id='run-5ad70eb8-1f36-4ee3-874f-2b73abedaead-0', tool_calls=[{'name': 'search_keyword', 'args': {'query': '2024 노벨 문학상'}, 'id': 'call_dxzoSphudnPPjzZppVlcpY35', 'type': 'tool_call'}], usage_metadata={'input_tokens': 57, 'output_tokens': 21, 'total_tokens': 78, 'input_token_details': {'audio': 0, 'cache_read': 0}, 'output_token_details': {'audio': 0, 'reasoning': 0}})], 'dummy_data': '[chatbot] 호출, dummy data'}}\n",
      "===================\n",
      "\n",
      "[ chatbot ]\n",
      "\n",
      "==================================\u001B[1m Ai Message \u001B[0m==================================\n",
      "Tool Calls:\n",
      "  search_keyword (call_dxzoSphudnPPjzZppVlcpY35)\n",
      " Call ID: call_dxzoSphudnPPjzZppVlcpY35\n",
      "  Args:\n",
      "    query: 2024 노벨 문학상\n",
      "========== event =========\n",
      "{'tools': {'messages': [ToolMessage(content='[{\"url\": \"https://news.google.com/rss/articles/CBMiW0FVX3lxTE5CbDJEWU1nZUxVTkZmS3lHTTRycEVPZ2lpRUFPYVlwVVYwbGNKaTdnbWpkS25wY2tZU1pEa0JkZFltQnNRX05teHp5WWd4VXpWbFl3TTNNQVpqZzjSAWBBVV95cUxPTU01d0ZUbWtnX1p6S2FZOFJiZGQwcGYzZWRvZFFIOTlxOUR2SGdaejFqdEI3enVCLXRDc2o5YTVnUUdic1lrNVg5SS1adlBhUUx0MHRZaXVlMk43cGF5WXI?oc=5\", \"content\": \"한강, 한국 첫 노벨문학상…\\\\\"어두운 밤에도 우릴 잇는 건 언어\\\\\"(종합2보) - 연합뉴스\"}, {\"url\": \"https://news.google.com/rss/articles/CBMiVEFVX3lxTE0xbU9hR2Z1SlRSYXVSX1RxTHJIWFhCT01tcVRFRFY2UDJlVzJVaVF6NU5ZWUZJemVNR2dOVWFfd25lcGg0QldWMlBuUE1MeV9FbFRiNQ?oc=5\", \"content\": \"[전문] 작가 한강 ‘2024 노벨문학상’ 수상 연설 - 이투데이\"}, {\"url\": \"https://news.google.com/rss/articles/CBMifEFVX3lxTE9EQU9HMm5wdVdvRmtBb25EOW9SQWpFMV8zRU9qR0Y3MHVDT0VTdmE5M3FUckh1WDdhU2gyTTlheG8taTk5clRSMDcwb2ZjaGRVZ1JDa2NqNk5uY1pHUGNISFY5WG9fa1JxSWhPbmxZUWZieEtzMmpxSkU3UUg?oc=5\", \"content\": \"한강의 노벨문학상 수상에 대하여 - United Methodist News Service\"}, {\"url\": \"https://news.google.com/rss/articles/CBMiREFVX3lxTFBncjFONzNpeGgtVWlBanlPcTFsT2dmM2Zuc3VvdjRpN3NCaUJJLTFlaWd4bnYtN2lGcWJ1UWV3bVBYMVNF?oc=5\", \"content\": \"2024 노벨문학상 수상자 한강 작가 \\'언어의 실\\' - 브런치스토리\"}, {\"url\": \"https://news.google.com/rss/articles/CBMi6AFBVV95cUxPOTJDcW15YnVXQ1BmZFl0OGhWaURDUlo5UU54bEpRZVNtWXhFX3AzX2tZOHA3S1d2N2ljWUNFeDhVOFhDMGRFM2diaGhfUER4XzFRdVZpYVNJQjAzaEV3V2x4RjAzWEFGUnhQcm0zQkhUeVIzeGVRN0JkZlEyU192UFdjdEVrckdxdVBZWHdxV05LTU9hckw4RHl1NDI5TG5Qc0RzOV9iSVR5ZE5DR1V2cE85LVI5eEtMelBJWkM1TWg4U242N3QtUjIxRndNWXpPVTl4NGJEQjNXekFpYnN0T0lVWGpiRG5C?oc=5\", \"content\": \"한강, 2024 노벨 문학상 수상의 순간 - Vogue korea\"}]', name='search_keyword', id='ecb25127-c2a9-48b7-a5c8-e6dc14fafeb6', tool_call_id='call_dxzoSphudnPPjzZppVlcpY35')]}}\n",
      "===================\n",
      "\n",
      "[ tools ]\n",
      "\n",
      "=================================\u001B[1m Tool Message \u001B[0m=================================\n",
      "Name: search_keyword\n",
      "\n",
      "[{\"url\": \"https://news.google.com/rss/articles/CBMiW0FVX3lxTE5CbDJEWU1nZUxVTkZmS3lHTTRycEVPZ2lpRUFPYVlwVVYwbGNKaTdnbWpkS25wY2tZU1pEa0JkZFltQnNRX05teHp5WWd4VXpWbFl3TTNNQVpqZzjSAWBBVV95cUxPTU01d0ZUbWtnX1p6S2FZOFJiZGQwcGYzZWRvZFFIOTlxOUR2SGdaejFqdEI3enVCLXRDc2o5YTVnUUdic1lrNVg5SS1adlBhUUx0MHRZaXVlMk43cGF5WXI?oc=5\", \"content\": \"한강, 한국 첫 노벨문학상…\\\"어두운 밤에도 우릴 잇는 건 언어\\\"(종합2보) - 연합뉴스\"}, {\"url\": \"https://news.google.com/rss/articles/CBMiVEFVX3lxTE0xbU9hR2Z1SlRSYXVSX1RxTHJIWFhCT01tcVRFRFY2UDJlVzJVaVF6NU5ZWUZJemVNR2dOVWFfd25lcGg0QldWMlBuUE1MeV9FbFRiNQ?oc=5\", \"content\": \"[전문] 작가 한강 ‘2024 노벨문학상’ 수상 연설 - 이투데이\"}, {\"url\": \"https://news.google.com/rss/articles/CBMifEFVX3lxTE9EQU9HMm5wdVdvRmtBb25EOW9SQWpFMV8zRU9qR0Y3MHVDT0VTdmE5M3FUckh1WDdhU2gyTTlheG8taTk5clRSMDcwb2ZjaGRVZ1JDa2NqNk5uY1pHUGNISFY5WG9fa1JxSWhPbmxZUWZieEtzMmpxSkU3UUg?oc=5\", \"content\": \"한강의 노벨문학상 수상에 대하여 - United Methodist News Service\"}, {\"url\": \"https://news.google.com/rss/articles/CBMiREFVX3lxTFBncjFONzNpeGgtVWlBanlPcTFsT2dmM2Zuc3VvdjRpN3NCaUJJLTFlaWd4bnYtN2lGcWJ1UWV3bVBYMVNF?oc=5\", \"content\": \"2024 노벨문학상 수상자 한강 작가 '언어의 실' - 브런치스토리\"}, {\"url\": \"https://news.google.com/rss/articles/CBMi6AFBVV95cUxPOTJDcW15YnVXQ1BmZFl0OGhWaURDUlo5UU54bEpRZVNtWXhFX3AzX2tZOHA3S1d2N2ljWUNFeDhVOFhDMGRFM2diaGhfUER4XzFRdVZpYVNJQjAzaEV3V2x4RjAzWEFGUnhQcm0zQkhUeVIzeGVRN0JkZlEyU192UFdjdEVrckdxdVBZWHdxV05LTU9hckw4RHl1NDI5TG5Qc0RzOV9iSVR5ZE5DR1V2cE85LVI5eEtMelBJWkM1TWg4U242N3QtUjIxRndNWXpPVTl4NGJEQjNXekFpYnN0T0lVWGpiRG5C?oc=5\", \"content\": \"한강, 2024 노벨 문학상 수상의 순간 - Vogue korea\"}]\n",
      "========== event =========\n",
      "{'chatbot': {'messages': [AIMessage(content='2024년 노벨 문학상과 관련된 주요 뉴스는 다음과 같습니다:\\n\\n1. [한강, 한국 첫 노벨문학상…\\\\\"어두운 밤에도 우릴 잇는 건 언어\\\\\"(종합2보) - 연합뉴스](https://news.google.com/rss/articles/CBMiW0FVX3lxTE5CbDJEWU1nZUxVTkZmS3lHTTRycEVPZ2lpRUFPYVlwVVYwbGNKaTdnbWpkS25wY2tZU1pEa0JkZFltQnNRX05teHp5WWd4VXpWbFl3TTNNQVpqZzjSAWBBVV95cUxPTU01d0ZUbWtnX1p6S2FZOFJiZGQwcGYzZWRvZFFIOTlxOUR2SGdaejFqdEI3enVCLXRDc2o5YTVnUUdic1lrNVg5SS1adlBhUUx0MHRZaXVlMk43cGF5WXI?oc=5)\\n\\n2. [[전문] 작가 한강 ‘2024 노벨문학상’ 수상 연설 - 이투데이](https://news.google.com/rss/articles/CBMiVEFVX3lxTE0xbU9hR2Z1SlRSYXVSX1RxTHJIWFhCT01tcVRFRFY2UDJlVzJVaVF6NU5ZWUZJemVNR2dOVWFfd25lcGg0QldWMlBuUE1MeV9FbFRiNQ?oc=5)\\n\\n3. [한강의 노벨문학상 수상에 대하여 - United Methodist News Service](https://news.google.com/rss/articles/CBMifEFVX3lxTE9EQU9HMm5wdVdvRmtBb25EOW9SQWpFMV8zRU9qR0Y3MHVDT0VTdmE5M3FUckh1WDdhU2gyTTlheG8taTk5clRSMDcwb2ZjaGRVZ1JDa2NqNk5uY1pHUGNISFY5WG9fa1JxSWhPbmxZUWZieEtzMmpxSkU3UUg?oc=5)\\n\\n4. [2024 노벨문학상 수상자 한강 작가 \\'언어의 실\\' - 브런치스토리](https://news.google.com/rss/articles/CBMiREFVX3lxTFBncjFJONzNpeGgtVWlBanlPcTFsT2dmM2Zuc3VvdjRpN3NCaUJJLTFlaWd4bnYtN2lGcWJ1UWV3bVBYMVNF?oc=5)\\n\\n5. [한강, 2024 노벨 문학상 수상의 순간 - Vogue korea](https://news.google.com/rss/articles/CBMi6AFBVV95cUxPOTJDcW15YnVXQ1BmZFl0OGhWaURDUlo5UU54bEpRZVNtWXhFX3AzX2tZOHA3S1d2N2ljWUNFeDhVOFhDMGRFM2diaGhfUER4XzFRdVZpYVNJQjAzaEV3V2x4RjAzWEFGUnhQcm0zQkhUeVIzeGVRN0JkZlEyU192UFdjdEVrckdxdVBZWHdxV05LTU9hckw4RHl1NDI5TG5Qc0RzOV9iSVR5ZE5DR1V2cE85LVI5eEtMelBJWkM1TWg4U242N3QtUjIxRndNWXpPVTl4NGJEQjNXekFpYnN0T0lVWGpiRG5C?oc=5)\\n\\n한강 작가는 2024년 노벨 문학상을 수상한 첫 한국 작가로서, 언어의 중요성에 대한 메시지를 전달했습니다. 각 링크를 통해 자세한 내용을 확인하실 수 있습니다.', additional_kwargs={'refusal': None}, response_metadata={'token_usage': {'completion_tokens': 918, 'prompt_tokens': 961, 'total_tokens': 1879, 'completion_tokens_details': {'accepted_prediction_tokens': 0, 'audio_tokens': 0, 'reasoning_tokens': 0, 'rejected_prediction_tokens': 0}, 'prompt_tokens_details': {'audio_tokens': 0, 'cached_tokens': 0}}, 'model_name': 'gpt-4o-mini-2024-07-18', 'system_fingerprint': 'fp_b376dfbbd5', 'finish_reason': 'stop', 'logprobs': None}, id='run-72a59169-1d67-40c0-aa63-2130a4d5719a-0', usage_metadata={'input_tokens': 961, 'output_tokens': 918, 'total_tokens': 1879, 'input_token_details': {'audio': 0, 'cache_read': 0}, 'output_token_details': {'audio': 0, 'reasoning': 0}})], 'dummy_data': '[chatbot] 호출, dummy data'}}\n",
      "===================\n",
      "\n",
      "[ chatbot ]\n",
      "\n",
      "==================================\u001B[1m Ai Message \u001B[0m==================================\n",
      "\n",
      "2024년 노벨 문학상과 관련된 주요 뉴스는 다음과 같습니다:\n",
      "\n",
      "1. [한강, 한국 첫 노벨문학상…\\\"어두운 밤에도 우릴 잇는 건 언어\\\"(종합2보) - 연합뉴스](https://news.google.com/rss/articles/CBMiW0FVX3lxTE5CbDJEWU1nZUxVTkZmS3lHTTRycEVPZ2lpRUFPYVlwVVYwbGNKaTdnbWpkS25wY2tZU1pEa0JkZFltQnNRX05teHp5WWd4VXpWbFl3TTNNQVpqZzjSAWBBVV95cUxPTU01d0ZUbWtnX1p6S2FZOFJiZGQwcGYzZWRvZFFIOTlxOUR2SGdaejFqdEI3enVCLXRDc2o5YTVnUUdic1lrNVg5SS1adlBhUUx0MHRZaXVlMk43cGF5WXI?oc=5)\n",
      "\n",
      "2. [[전문] 작가 한강 ‘2024 노벨문학상’ 수상 연설 - 이투데이](https://news.google.com/rss/articles/CBMiVEFVX3lxTE0xbU9hR2Z1SlRSYXVSX1RxTHJIWFhCT01tcVRFRFY2UDJlVzJVaVF6NU5ZWUZJemVNR2dOVWFfd25lcGg0QldWMlBuUE1MeV9FbFRiNQ?oc=5)\n",
      "\n",
      "3. [한강의 노벨문학상 수상에 대하여 - United Methodist News Service](https://news.google.com/rss/articles/CBMifEFVX3lxTE9EQU9HMm5wdVdvRmtBb25EOW9SQWpFMV8zRU9qR0Y3MHVDT0VTdmE5M3FUckh1WDdhU2gyTTlheG8taTk5clRSMDcwb2ZjaGRVZ1JDa2NqNk5uY1pHUGNISFY5WG9fa1JxSWhPbmxZUWZieEtzMmpxSkU3UUg?oc=5)\n",
      "\n",
      "4. [2024 노벨문학상 수상자 한강 작가 '언어의 실' - 브런치스토리](https://news.google.com/rss/articles/CBMiREFVX3lxTFBncjFJONzNpeGgtVWlBanlPcTFsT2dmM2Zuc3VvdjRpN3NCaUJJLTFlaWd4bnYtN2lGcWJ1UWV3bVBYMVNF?oc=5)\n",
      "\n",
      "5. [한강, 2024 노벨 문학상 수상의 순간 - Vogue korea](https://news.google.com/rss/articles/CBMi6AFBVV95cUxPOTJDcW15YnVXQ1BmZFl0OGhWaURDUlo5UU54bEpRZVNtWXhFX3AzX2tZOHA3S1d2N2ljWUNFeDhVOFhDMGRFM2diaGhfUER4XzFRdVZpYVNJQjAzaEV3V2x4RjAzWEFGUnhQcm0zQkhUeVIzeGVRN0JkZlEyU192UFdjdEVrckdxdVBZWHdxV05LTU9hckw4RHl1NDI5TG5Qc0RzOV9iSVR5ZE5DR1V2cE85LVI5eEtMelBJWkM1TWg4U242N3QtUjIxRndNWXpPVTl4NGJEQjNXekFpYnN0T0lVWGpiRG5C?oc=5)\n",
      "\n",
      "한강 작가는 2024년 노벨 문학상을 수상한 첫 한국 작가로서, 언어의 중요성에 대한 메시지를 전달했습니다. 각 링크를 통해 자세한 내용을 확인하실 수 있습니다.\n"
     ]
    }
   ],
   "execution_count": 4
  },
  {
   "metadata": {},
   "cell_type": "markdown",
   "source": [
    "```bash\n",
    "{\n",
    "  \"chatbot\": {\n",
    "    \"messages\": [\n",
    "      AIMessage(content=\"\",\n",
    "      additional_kwargs={\n",
    "        \"tool_calls\": [\n",
    "          {\n",
    "            \"id\": \"call_KTYF4fcRrRW8ANqRhBHi0HNz\",\n",
    "            \"function\": {\n",
    "              \"arguments\": \"{\"query\":\"2024 Nobel Prize in Literature\"}\",\n",
    "              \"name\": \"search_keyword\"\n",
    "            },\n",
    "            \"type\": \"function\"\n",
    "          }\n",
    "        ]\n",
    "      }\n",
    "    ],\n",
    "    \"dummy_data\": \"[chatbot] 호출, dummy data\"\n",
    "  }\n",
    "}\n",
    "-------------------\n",
    "{\n",
    "  \"tools\": {\n",
    "    \"messages\": [\n",
    "      ToolMessage(content=\"[\n",
    "        {\"url\": \"https://news.google.com/rss/articles/...\", \"content\": \"Nobel Prize in Literature 2024 - NobelPrize.org\"}, \n",
    "        {\"url\": \"https://news.google.com/rss/articles/...\", \"content\": \"한강 \\\\\"문학, 생명을 파괴하는 모든 행위에 반대하는 일\\\\\" - Korea.net\"},\n",
    "        {\"url\": \"https://news.google.com/rss/articles/....\", \"content\": \"Han Kang’s poetic prose embraces wounds of martial law - 경향신문\"}, \n",
    "        {\"url\": \"https://news.google.com/rss/articles/...\", \"content\": \"한강 \\'소년이 온다\\' 영문판 \\'Human Acts\\' 출간 - CulBooks - NYCultureBeat\"}, \n",
    "        {\"url\": \"https://news.google.com/rss/articles/....\", \"content\": \"Han Kang Smiles After Receiving Nobel Prize in Literature Medal and a Significant Cash Prize - 위키트리\"}]\",\n",
    "      name=\"search_keyword\",\n",
    "      id=\"408f6b1a-bfa6-4676-8f53-e00128a4dc52\",\n",
    "      tool_call_id=\"call_JanIyFCYOTziMgpd4UAiPtQ5\"\n",
    "      )\n",
    "    ]\n",
    "  }\n",
    "}\n",
    "```"
   ],
   "id": "d5bce560c24fd785"
  },
  {
   "cell_type": "markdown",
   "id": "b0d00b51",
   "metadata": {},
   "source": [
    "### `output_keys` 옵션\n",
    "\n",
    "`output_keys` 옵션은 스트리밍할 키를 지정하는 데 사용됩니다.\n",
    "\n",
    "list 형식으로 지정할 수 있으며, **channels 에 정의된 키 중 하나** 여야 합니다.\n",
    "\n",
    "**팁(tip)**\n",
    "\n",
    "- 매 단계마다 출력되는 State key 가 많은 경우, 일부만 스트리밍하고 싶은 경우에 유용합니다."
   ]
  },
  {
   "cell_type": "code",
   "id": "efe63155",
   "metadata": {
    "ExecuteTime": {
     "end_time": "2025-03-04T02:05:20.840917Z",
     "start_time": "2025-03-04T02:05:20.838280Z"
    }
   },
   "source": [
    "# channels 에 정의된 키 목록을 출력합니다.\n",
    "print(list(graph.channels.keys()))"
   ],
   "outputs": [
    {
     "name": "stdout",
     "output_type": "stream",
     "text": [
      "['messages', 'dummy_data', '__start__', 'chatbot', 'tools', 'branch:__start__:__self__:chatbot', 'branch:__start__:__self__:tools', 'branch:chatbot:__self__:chatbot', 'branch:chatbot:__self__:tools', 'branch:tools:__self__:chatbot', 'branch:tools:__self__:tools', 'start:chatbot', 'branch:chatbot:tools_condition:tools']\n"
     ]
    }
   ],
   "execution_count": 8
  },
  {
   "cell_type": "code",
   "id": "87efc73e",
   "metadata": {
    "ExecuteTime": {
     "end_time": "2025-04-07T09:03:52.069555Z",
     "start_time": "2025-04-07T09:03:31.472603Z"
    }
   },
   "source": [
    "# 질문\n",
    "question = \"2024년 노벨 문학상 관련 뉴스를 알려주세요.\"\n",
    "\n",
    "# 초기 입력 State 를 정의\n",
    "input = State(dummy_data=\"테스트 문자열\", messages=[(\"user\", question)])\n",
    "\n",
    "# config 설정\n",
    "config = RunnableConfig(\n",
    "    recursion_limit=10,  # 최대 10개의 노드까지 방문. 그 이상은 RecursionError 발생\n",
    "    configurable={\"thread_id\": \"1\"},  # 스레드 ID 설정\n",
    "    tags=[\"my-rag\"],  # Tag\n",
    ")\n",
    "\n",
    "for event in graph.stream(\n",
    "    input=input,\n",
    "    config=config,\n",
    "    output_keys=[\"dummy_data\"],  # messages 를 추가해 보세요!\n",
    "):\n",
    "    for key, value in event.items():\n",
    "        # key 는 노드 이름\n",
    "        print(f\"\\n[ {key} ]\\n\")\n",
    "\n",
    "        # dummy_data 가 존재하는 경우\n",
    "        if value:\n",
    "            # value 는 노드의 출력값\n",
    "            print(value.keys())\n",
    "            # dummy_data key 가 존재하는 경우\n",
    "            if \"dummy_data\" in value:\n",
    "                print(value[\"dummy_data\"])"
   ],
   "outputs": [
    {
     "name": "stdout",
     "output_type": "stream",
     "text": [
      "\n",
      "[ chatbot ]\n",
      "\n",
      "dict_keys(['messages'])\n",
      "\n",
      "[ tools ]\n",
      "\n",
      "dict_keys(['messages'])\n",
      "\n",
      "[ chatbot ]\n",
      "\n",
      "dict_keys(['messages'])\n"
     ]
    }
   ],
   "execution_count": 6
  },
  {
   "cell_type": "code",
   "execution_count": null,
   "id": "9cecf357",
   "metadata": {},
   "outputs": [],
   "source": [
    "# 질문\n",
    "question = \"2024년 노벨 문학상 관련 뉴스를 알려주세요.\"\n",
    "\n",
    "# 초기 입력 State 를 정의\n",
    "input = State(dummy_data=\"테스트 문자열\", messages=[(\"user\", question)])\n",
    "\n",
    "# config 설정\n",
    "config = RunnableConfig(\n",
    "    recursion_limit=10,  # 최대 10개의 노드까지 방문. 그 이상은 RecursionError 발생\n",
    "    configurable={\"thread_id\": \"1\"},  # 스레드 ID 설정\n",
    "    tags=[\"my-rag\"],  # Tag\n",
    ")\n",
    "\n",
    "for event in graph.stream(\n",
    "    input=input,\n",
    "    config=config,\n",
    "    output_keys=[\"messages\"],  # messages 만 출력\n",
    "):\n",
    "    for key, value in event.items():\n",
    "        # messages 가 존재하는 경우\n",
    "        if value and \"messages\" in value:\n",
    "            # key 는 노드 이름\n",
    "            print(f\"\\n[ {key} ]\\n\")\n",
    "            # messages 의 마지막 요소의 content 를 출력합니다.\n",
    "            print(value[\"messages\"][-1].content)"
   ]
  },
  {
   "cell_type": "markdown",
   "id": "6f6be39d",
   "metadata": {},
   "source": [
    "### `stream_mode` 옵션\n",
    "\n",
    "`stream_mode` 옵션은 스트리밍 출력 모드를 지정하는 데 사용됩니다.\n",
    "\n",
    "- `values`: 각 단계의 현재 상태 값 출력 \n",
    "- `updates`: 각 단계의 상태 업데이트만 출력 (기본값)"
   ]
  },
  {
   "cell_type": "markdown",
   "id": "86f700fc",
   "metadata": {},
   "source": [
    "#### `stream_mode = \"values\"`\n",
    "\n",
    "`values` 모드는 각 단계의 현재 상태 값을 출력합니다.\n",
    "\n",
    "**참고**\n",
    "\n",
    "`event.items()`\n",
    "\n",
    "- `key`: State 의 key 값\n",
    "- `value`: State 의 key 에 대한하는 value"
   ]
  },
  {
   "cell_type": "code",
   "execution_count": null,
   "id": "89eff21c",
   "metadata": {},
   "outputs": [],
   "source": [
    "# 질문\n",
    "question = \"2024년 노벨 문학상 관련 뉴스를 알려주세요.\"\n",
    "\n",
    "# 초기 입력 State 를 정의\n",
    "input = State(dummy_data=\"테스트 문자열\", messages=[(\"user\", question)])\n",
    "\n",
    "# config 설정\n",
    "config = RunnableConfig(\n",
    "    recursion_limit=10,  # 최대 10개의 노드까지 방문. 그 이상은 RecursionError 발생\n",
    "    configurable={\"thread_id\": \"1\"},  # 스레드 ID 설정\n",
    "    tags=[\"my-rag\"],  # Tag\n",
    ")\n",
    "\n",
    "# values 모드로 스트리밍 출력\n",
    "for event in graph.stream(\n",
    "    input=input,\n",
    "    stream_mode=\"values\",  # 기본값\n",
    "):\n",
    "    for key, value in event.items():\n",
    "        # key 는 state 의 key 값\n",
    "        print(f\"\\n[ {key} ]\\n\")\n",
    "        if key == \"messages\":\n",
    "            print(f\"메시지 개수: {len(value)}\")\n",
    "            # print(value)\n",
    "    print(\"===\" * 10, \" 단계 \", \"===\" * 10)"
   ]
  },
  {
   "cell_type": "markdown",
   "id": "ef295683",
   "metadata": {},
   "source": [
    "#### `stream_mode = \"updates\"`\n",
    "\n",
    "`updates` 모드는 각 단계에 대한 업데이트된 State 만 내보냅니다. \n",
    "\n",
    "- 출력은 노드 이름을 key 로, 업데이트된 값을 values 으로 하는 `dictionary` 입니다.\n",
    "\n",
    "**참고**\n",
    "\n",
    "`event.items()`\n",
    "\n",
    "- `key`: 노드(Node) 의 이름\n",
    "- `value`: 해당 노드(Node) 단계에서의 출력 값(dictionary). 즉, 여러 개의 key-value 쌍을 가진 dictionary 입니다."
   ]
  },
  {
   "cell_type": "code",
   "execution_count": null,
   "id": "2124b916",
   "metadata": {},
   "outputs": [],
   "source": [
    "# 질문\n",
    "question = \"2024년 노벨 문학상 관련 뉴스를 알려주세요.\"\n",
    "\n",
    "# 초기 입력 State 를 정의\n",
    "input = State(dummy_data=\"테스트 문자열\", messages=[(\"user\", question)])\n",
    "\n",
    "# config 설정\n",
    "config = RunnableConfig(\n",
    "    recursion_limit=10,  # 최대 10개의 노드까지 방문. 그 이상은 RecursionError 발생\n",
    "    configurable={\"thread_id\": \"1\"},  # 스레드 ID 설정\n",
    "    tags=[\"my-rag\"],  # Tag\n",
    ")\n",
    "\n",
    "# updates 모드로 스트리밍 출력\n",
    "for event in graph.stream(\n",
    "    input=input,\n",
    "    stream_mode=\"updates\",  # 기본값\n",
    "):\n",
    "    for key, value in event.items():\n",
    "        # key 는 노드 이름\n",
    "        print(f\"\\n[ {key} ]\\n\")\n",
    "\n",
    "        # value 는 노드의 출력값\n",
    "        print(value.keys())\n",
    "\n",
    "        # value 에는 state 가 dict 형태로 저장(values 의 key 값)\n",
    "        if \"messages\" in value:\n",
    "            print(f\"메시지 개수: {len(value['messages'])}\")\n",
    "            # print(value[\"messages\"])\n",
    "    print(\"===\" * 10, \" 단계 \", \"===\" * 10)"
   ]
  },
  {
   "metadata": {},
   "cell_type": "markdown",
   "source": "",
   "id": "c2e9ac3148966c0f"
  },
  {
   "cell_type": "markdown",
   "id": "d98b21a8",
   "metadata": {},
   "source": [
    "### `interrupt_before` 와 `interrupt_after` 옵션\n",
    "\n",
    "`interrupt_before` 와 `interrupt_after` 옵션은 스트리밍 중단 시점을 지정하는 데 사용됩니다.\n",
    "\n",
    "- `interrupt_before`: 지정된 노드 이전에 스트리밍 중단\n",
    "- `interrupt_after`: 지정된 노드 이후에 스트리밍 중단\n"
   ]
  },
  {
   "cell_type": "code",
   "execution_count": null,
   "id": "6f583a38",
   "metadata": {},
   "outputs": [],
   "source": [
    "# 질문\n",
    "question = \"2024년 노벨 문학상 관련 뉴스를 알려주세요.\"\n",
    "\n",
    "# 초기 입력 State 를 정의\n",
    "input = State(dummy_data=\"테스트 문자열\", messages=[(\"user\", question)])\n",
    "\n",
    "# config 설정\n",
    "config = RunnableConfig(\n",
    "    recursion_limit=10,  # 최대 10개의 노드까지 방문. 그 이상은 RecursionError 발생\n",
    "    configurable={\"thread_id\": \"1\"},  # 스레드 ID 설정\n",
    "    tags=[\"my-rag\"],  # Tag\n",
    ")\n",
    "\n",
    "for event in graph.stream(\n",
    "    input=input,\n",
    "    config=config,\n",
    "    stream_mode=\"updates\",  # 기본값\n",
    "    interrupt_before=[\"tools\"],  # tools 노드 이전에 스트리밍 중단\n",
    "):\n",
    "    for key, value in event.items():\n",
    "        # key 는 노드 이름\n",
    "        print(f\"\\n[{key}]\\n\")\n",
    "\n",
    "        # value 는 노드의 출력값\n",
    "        if isinstance(value, dict):\n",
    "            print(value.keys())\n",
    "            if \"messages\" in value:\n",
    "                print(value[\"messages\"])\n",
    "\n",
    "        # value 에는 state 가 dict 형태로 저장(values 의 key 값)\n",
    "        if \"messages\" in value:\n",
    "            print(f\"메시지 개수: {len(value['messages'])}\")\n",
    "    print(\"===\" * 10, \" 단계 \", \"===\" * 10)"
   ]
  },
  {
   "cell_type": "code",
   "execution_count": null,
   "id": "33dc67a2",
   "metadata": {},
   "outputs": [],
   "source": [
    "# 질문\n",
    "question = \"2024년 노벨 문학상 관련 뉴스를 알려주세요.\"\n",
    "\n",
    "# 초기 입력 State 를 정의\n",
    "input = State(dummy_data=\"테스트 문자열\", messages=[(\"user\", question)])\n",
    "\n",
    "# config 설정\n",
    "config = RunnableConfig(\n",
    "    recursion_limit=10,  # 최대 10개의 노드까지 방문. 그 이상은 RecursionError 발생\n",
    "    configurable={\"thread_id\": \"1\"},  # 스레드 ID 설정\n",
    "    tags=[\"my-rag\"],  # Tag\n",
    ")\n",
    "\n",
    "for event in graph.stream(\n",
    "    input=input,\n",
    "    config=config,\n",
    "    stream_mode=\"updates\",\n",
    "    interrupt_after=[\"tools\"],  # tools 실행 후 interrupt\n",
    "):\n",
    "    for value in event.values():\n",
    "        # key 는 노드 이름\n",
    "        print(f\"\\n[{key}]\\n\")\n",
    "\n",
    "        if isinstance(value, dict):\n",
    "            # value 는 노드의 출력값\n",
    "            print(value.keys())\n",
    "            if \"messages\" in value:\n",
    "                print(value[\"messages\"])\n",
    "\n",
    "        # value 에는 state 가 dict 형태로 저장(values 의 key 값)\n",
    "        if \"messages\" in value:\n",
    "            print(f\"메시지 개수: {len(value['messages'])}\")"
   ]
  }
 ],
 "metadata": {
  "kernelspec": {
   "display_name": "langchain-kr-lwwSZlnu-py3.11",
   "language": "python",
   "name": "python3"
  },
  "language_info": {
   "codemirror_mode": {
    "name": "ipython",
    "version": 3
   },
   "file_extension": ".py",
   "mimetype": "text/x-python",
   "name": "python",
   "nbconvert_exporter": "python",
   "pygments_lexer": "ipython3",
   "version": "3.11.9"
  }
 },
 "nbformat": 4,
 "nbformat_minor": 5
}
