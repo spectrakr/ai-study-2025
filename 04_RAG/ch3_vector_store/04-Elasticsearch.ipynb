{
 "cells": [
  {
   "cell_type": "markdown",
   "metadata": {},
   "source": [
    "# Elasticsearch"
   ]
  },
  {
   "cell_type": "markdown",
   "metadata": {},
   "source": [
    "이 노트북에서는 Elasticsearch 벡터스토어를 시작하는 방법을 다룹니다.\n",
    " \n",
    "\n",
    "\n",
    "**참고링크**\n",
    "\n",
    "- [Elasticsearch LangChain 문서](https://python.langchain.com/docs/integrations/vectorstores/elasticsearch/)\n",
    "- [LangChain 지원 VectorStore 리스트](https://python.langchain.com/v0.2/docs/integrations/vectorstores/)"
   ]
  },
  {
   "cell_type": "code",
   "metadata": {},
   "source": [
    "# API 키를 환경변수로 관리하기 위한 설정 파일\n",
    "from dotenv import load_dotenv\n",
    "\n",
    "# API 키 정보 로드\n",
    "load_dotenv()"
   ],
   "outputs": [],
   "execution_count": null
  },
  {
   "cell_type": "markdown",
   "metadata": {},
   "source": [
    "## Elasticsearch v8.x 버전 사용"
   ]
  },
  {
   "cell_type": "code",
   "metadata": {},
   "source": [
    "from langchain_elasticsearch import ElasticsearchStore\n",
    "from langchain_openai import OpenAIEmbeddings\n",
    "\n",
    "vector_store = ElasticsearchStore(\n",
    "    es_url=\"http://172.16.120.203:9201\",\n",
    "    index_name=\"langchain_index\",\n",
    "    embedding=OpenAIEmbeddings(),\n",
    "    es_user=\"elastic\",\n",
    "    es_password=\"changeme\",\n",
    ")"
   ],
   "outputs": [],
   "execution_count": null
  },
  {
   "cell_type": "markdown",
   "metadata": {},
   "source": [
    "## Elasticsearch v7.x 버전 사용\n"
   ]
  },
  {
   "cell_type": "code",
   "metadata": {},
   "source": [
    "from langchain_elasticsearch import ElasticsearchStore\n",
    "from langchain_openai import OpenAIEmbeddings\n",
    "\n",
    "vector_store = ElasticsearchStore(\n",
    "    es_url=\"http://172.16.120.203:9200\",\n",
    "    index_name=\"langchain_index\",\n",
    "    embedding=OpenAIEmbeddings(),\n",
    "    es_user=\"elastic\",\n",
    "    es_password=\"changeme\",\n",
    "    strategy=ElasticsearchStore.ExactRetrievalStrategy(),\n",
    "    distance_strategy=\"COSINE\",\n",
    ")"
   ],
   "outputs": [],
   "execution_count": null
  },
  {
   "cell_type": "code",
   "metadata": {},
   "source": [
    "from langchain_core.documents import Document\n",
    "\n",
    "document_1 = Document(\n",
    "    page_content=\"오늘 아침 김치에 밥을 먹었다.\",\n",
    "    metadata={\"source\": \"tweet\"},\n",
    ")"
   ],
   "outputs": [],
   "execution_count": null
  },
  {
   "cell_type": "code",
   "metadata": {},
   "source": [
    "vector_store.add_documents(documents=[document_1])"
   ],
   "outputs": [],
   "execution_count": null
  },
  {
   "cell_type": "code",
   "metadata": {},
   "source": [
    "docs = vector_store.similarity_search(\"아침에 뭐먹었어?\")\n",
    "\n",
    "for doc in docs:\n",
    "    print(doc.page_content)"
   ],
   "outputs": [],
   "execution_count": null
  },
  {
   "cell_type": "code",
   "metadata": {},
   "source": [
    "from langchain_community.document_loaders import TextLoader\n",
    "from langchain.text_splitter import RecursiveCharacterTextSplitter\n",
    "\n",
    "# 텍스트 분할\n",
    "text_splitter = RecursiveCharacterTextSplitter(chunk_size=100, chunk_overlap=0)\n",
    "\n",
    "# 텍스트 파일을 load -> List[Document] 형태로 변환\n",
    "loader1 = TextLoader(\"data/2025_사우회선출.txt\")\n",
    "\n",
    "# 문서 분할\n",
    "split_doc1 = loader1.load_and_split(text_splitter)\n",
    "\n",
    "# 문서 개수 확인\n",
    "len(split_doc1)"
   ],
   "outputs": [],
   "execution_count": null
  },
  {
   "cell_type": "code",
   "metadata": {},
   "source": [
    "retriever = vector_store.as_retriever()\n",
    "retriever.invoke(\"사우회 회장이 누구야?\")"
   ],
   "outputs": [],
   "execution_count": null
  }
 ],
 "metadata": {
  "kernelspec": {
   "display_name": "py-test",
   "language": "python",
   "name": "python3"
  },
  "language_info": {
   "codemirror_mode": {
    "name": "ipython",
    "version": 3
   },
   "file_extension": ".py",
   "mimetype": "text/x-python",
   "name": "python",
   "nbconvert_exporter": "python",
   "pygments_lexer": "ipython3",
   "version": "3.11.11"
  }
 },
 "nbformat": 4,
 "nbformat_minor": 2
}
